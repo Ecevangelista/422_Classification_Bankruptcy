{
  "nbformat": 4,
  "nbformat_minor": 0,
  "metadata": {
    "colab": {
      "name": "Assignment 5_Bankruptcy_2.6.ipynb",
      "provenance": [],
      "authorship_tag": "ABX9TyNfCF+ZMIwrln67a17RszZJ",
      "include_colab_link": true
    },
    "kernelspec": {
      "name": "python3",
      "display_name": "Python 3"
    },
    "language_info": {
      "name": "python"
    }
  },
  "cells": [
    {
      "cell_type": "markdown",
      "metadata": {
        "id": "view-in-github",
        "colab_type": "text"
      },
      "source": [
        "<a href=\"https://colab.research.google.com/github/Ecevangelista/422_Classification_Bankruptcy/blob/main/Assignment_5_Bankruptcy_2_6.ipynb\" target=\"_parent\"><img src=\"https://colab.research.google.com/assets/colab-badge.svg\" alt=\"Open In Colab\"/></a>"
      ]
    },
    {
      "cell_type": "code",
      "execution_count": 23,
      "metadata": {
        "id": "qyk-PiHAY7xm"
      },
      "outputs": [],
      "source": [
        "import pandas as pd\n",
        "import matplotlib\n",
        "from matplotlib import pyplot as plt\n",
        "import seaborn as sns\n",
        "import statistics\n",
        "import numpy as np\n",
        "from numpy import arange, random\n",
        "import statsmodels\n",
        "import statsmodels.api as sm\n",
        "from statsmodels.stats.outliers_influence import variance_inflation_factor\n",
        "from scipy.stats import norm,uniform, reciprocal\n",
        "from sklearn.metrics import accuracy_score, confusion_matrix, PrecisionRecallDisplay, f1_score, precision_score, recall_score, classification_report\n",
        "from sklearn.model_selection import train_test_split, KFold, cross_val_score, GridSearchCV, RandomizedSearchCV\n",
        "from sklearn.pipeline import Pipeline\n",
        "from sklearn.compose import ColumnTransformer\n",
        "from sklearn.dummy import DummyClassifier\n",
        "from sklearn.ensemble import RandomForestClassifier, GradientBoostingClassifier, ExtraTreesClassifier\n",
        "from yellowbrick.model_selection import FeatureImportances \n",
        "import plotly.express as px\n",
        "from imblearn.over_sampling import SMOTE\n",
        "from collections import Counter"
      ]
    },
    {
      "cell_type": "code",
      "source": [
        ""
      ],
      "metadata": {
        "id": "8sZzsqTOZMCR"
      },
      "execution_count": null,
      "outputs": []
    },
    {
      "cell_type": "markdown",
      "source": [
        "# Ingest"
      ],
      "metadata": {
        "id": "O5T7iL6Yfa-x"
      }
    },
    {
      "cell_type": "code",
      "source": [
        "from google.colab import drive\n",
        "drive.mount('/content/drive')"
      ],
      "metadata": {
        "colab": {
          "base_uri": "https://localhost:8080/"
        },
        "id": "ZqQIWbvwfdiZ",
        "outputId": "ef523552-db69-449d-b0a2-c09ea793161c"
      },
      "execution_count": 2,
      "outputs": [
        {
          "output_type": "stream",
          "name": "stdout",
          "text": [
            "Mounted at /content/drive\n"
          ]
        }
      ]
    },
    {
      "cell_type": "code",
      "source": [
        "path = \"drive/MyDrive/422NU/bankruptcy_data.csv\"\n",
        "df = pd.read_csv(path)"
      ],
      "metadata": {
        "id": "r5EodxbzffPa"
      },
      "execution_count": 3,
      "outputs": []
    },
    {
      "cell_type": "code",
      "source": [
        "df.shape"
      ],
      "metadata": {
        "colab": {
          "base_uri": "https://localhost:8080/"
        },
        "id": "hmOaUoy1ffSQ",
        "outputId": "a73f2607-73a9-4f0f-de88-9c4694fb7222"
      },
      "execution_count": 4,
      "outputs": [
        {
          "output_type": "execute_result",
          "data": {
            "text/plain": [
              "(6819, 96)"
            ]
          },
          "metadata": {},
          "execution_count": 4
        }
      ]
    },
    {
      "cell_type": "code",
      "source": [
        "df1 = df.copy(deep = True)"
      ],
      "metadata": {
        "id": "mbpoRzfiffV4"
      },
      "execution_count": 5,
      "outputs": []
    },
    {
      "cell_type": "code",
      "source": [
        ""
      ],
      "metadata": {
        "id": "J7bu3V6wmtPt"
      },
      "execution_count": null,
      "outputs": []
    },
    {
      "cell_type": "markdown",
      "source": [
        "# EDA"
      ],
      "metadata": {
        "id": "N79oItH5mwJL"
      }
    },
    {
      "cell_type": "code",
      "source": [
        "#split df1 into test and train\n",
        "Xran = df1.drop(columns = ['Bankrupt?'])\n",
        "yran = df1['Bankrupt?']\n",
        "\n",
        "\n",
        "X_trainran, X_testran, y_trainran, y_testran = train_test_split(Xran,yran, test_size = 0.2, random_state = 10)"
      ],
      "metadata": {
        "id": "86fzUZtBmyj9"
      },
      "execution_count": 6,
      "outputs": []
    },
    {
      "cell_type": "markdown",
      "source": [
        "Rebalanced Sample with SMOTE to increase sample availability of Bankrupt occurrences since previous EDA showed a distribution of 97% not bankrupt to 3% bankrupt in the dataset."
      ],
      "metadata": {
        "id": "BC37Y43EmzI9"
      }
    },
    {
      "cell_type": "code",
      "source": [
        "oversample = SMOTE()\n",
        "X, y = oversample.fit_resample(X_trainran, y_trainran)"
      ],
      "metadata": {
        "id": "lVSxYEoEm7d7"
      },
      "execution_count": 7,
      "outputs": []
    },
    {
      "cell_type": "code",
      "source": [
        "counter = Counter(y)\n",
        "print(counter)"
      ],
      "metadata": {
        "colab": {
          "base_uri": "https://localhost:8080/"
        },
        "id": "XyD5uSyrnEGV",
        "outputId": "0c04d112-c813-4a90-fb06-3aec7d24b10e"
      },
      "execution_count": 8,
      "outputs": [
        {
          "output_type": "stream",
          "name": "stdout",
          "text": [
            "Counter({0: 5286, 1: 5286})\n"
          ]
        }
      ]
    },
    {
      "cell_type": "markdown",
      "source": [
        "# Random Forrest Classifier with Tuning Hyperparameters"
      ],
      "metadata": {
        "id": "itx782fqnO5m"
      }
    },
    {
      "cell_type": "code",
      "source": [
        "#Baseline Random Forest\n",
        "\n",
        "random.seed(1234)\n",
        "clfran2=RandomForestClassifier(n_estimators=100, random_state = random.seed(1234))\n",
        "\n",
        "clfran2.fit(X,y)"
      ],
      "metadata": {
        "id": "YL9kGH1ynMOC",
        "colab": {
          "base_uri": "https://localhost:8080/"
        },
        "outputId": "7ea50219-0374-43f1-8908-fa900a820658"
      },
      "execution_count": 24,
      "outputs": [
        {
          "output_type": "execute_result",
          "data": {
            "text/plain": [
              "RandomForestClassifier()"
            ]
          },
          "metadata": {},
          "execution_count": 24
        }
      ]
    },
    {
      "cell_type": "code",
      "source": [
        "y_predran2=clfran2.predict(X_testran)"
      ],
      "metadata": {
        "id": "0dRhX3QgnMSz"
      },
      "execution_count": 25,
      "outputs": []
    },
    {
      "cell_type": "code",
      "source": [
        "#Classification Report\n",
        "\n",
        "print(classification_report(y_testran, y_predran2))"
      ],
      "metadata": {
        "id": "k2nrSrdInb2f",
        "colab": {
          "base_uri": "https://localhost:8080/"
        },
        "outputId": "e8f6ece5-73f0-4d71-c0ee-7261fb57ee75"
      },
      "execution_count": 26,
      "outputs": [
        {
          "output_type": "stream",
          "name": "stdout",
          "text": [
            "              precision    recall  f1-score   support\n",
            "\n",
            "           0       0.99      0.97      0.98      1313\n",
            "           1       0.47      0.65      0.55        51\n",
            "\n",
            "    accuracy                           0.96      1364\n",
            "   macro avg       0.73      0.81      0.76      1364\n",
            "weighted avg       0.97      0.96      0.96      1364\n",
            "\n"
          ]
        }
      ]
    },
    {
      "cell_type": "code",
      "source": [
        "#Create grid of parameters to try during tuning\n",
        "\n",
        "# Number of trees in random forest\n",
        "n_estimators = [int(x) for x in np.linspace(start = 100, stop = 1000, num = 10)]\n",
        "# Number of features to consider at every split\n",
        "max_features = ['auto', 'sqrt']\n",
        "# Maximum number of levels in tree\n",
        "max_depth = [int(x) for x in np.linspace(10, 110, num = 11)]\n",
        "max_depth.append(None)\n",
        "\n",
        "\n",
        "# Create the random grid\n",
        "random_grid = {'n_estimators': n_estimators,\n",
        "               'max_features': max_features,\n",
        "               'max_depth': max_depth\n",
        "               }"
      ],
      "metadata": {
        "id": "wnjk0G5roXPU"
      },
      "execution_count": 12,
      "outputs": []
    },
    {
      "cell_type": "code",
      "source": [
        "#New RandomSearchCV with rebalanced sample\n",
        "\n",
        "random.seed(1234)\n",
        "\n",
        "clfrantun4=RandomForestClassifier()\n",
        "\n",
        "rf_random4 = RandomizedSearchCV(estimator = clfrantun4, param_distributions = random_grid, n_iter = 10, cv = 3, verbose=3, random_state=random.seed(1234), n_jobs = -1)\n",
        "\n",
        "searchran = rf_random4.fit(X,y)"
      ],
      "metadata": {
        "colab": {
          "base_uri": "https://localhost:8080/"
        },
        "id": "6FB3GO7tgFd9",
        "outputId": "970db4e5-6612-4d4f-ecbe-f993fc6d9121"
      },
      "execution_count": 30,
      "outputs": [
        {
          "output_type": "stream",
          "name": "stdout",
          "text": [
            "Fitting 3 folds for each of 10 candidates, totalling 30 fits\n"
          ]
        }
      ]
    },
    {
      "cell_type": "code",
      "source": [
        "searchran.best_params_"
      ],
      "metadata": {
        "colab": {
          "base_uri": "https://localhost:8080/"
        },
        "id": "mzDKYV_mgVus",
        "outputId": "a5ee904a-4848-4e45-9717-200d0d577995"
      },
      "execution_count": 31,
      "outputs": [
        {
          "output_type": "execute_result",
          "data": {
            "text/plain": [
              "{'max_depth': 30, 'max_features': 'sqrt', 'n_estimators': 300}"
            ]
          },
          "metadata": {},
          "execution_count": 31
        }
      ]
    },
    {
      "cell_type": "code",
      "source": [
        "#Classifier Tuned with max_features = sqrt\n",
        "\n",
        "random.seed(1234)\n",
        "clfrantun4=RandomForestClassifier(max_depth = 30, n_estimators=300, max_features = 'sqrt', random_state = random.seed(1234) )\n",
        "\n",
        "clfrantun4.fit(X,y)"
      ],
      "metadata": {
        "colab": {
          "base_uri": "https://localhost:8080/"
        },
        "id": "WllHjfvpjBvS",
        "outputId": "352c4fbf-3685-4fd4-ce77-820b2c2ce808"
      },
      "execution_count": 32,
      "outputs": [
        {
          "output_type": "execute_result",
          "data": {
            "text/plain": [
              "RandomForestClassifier(max_depth=30, max_features='sqrt', n_estimators=300)"
            ]
          },
          "metadata": {},
          "execution_count": 32
        }
      ]
    },
    {
      "cell_type": "code",
      "source": [
        "y_predrantun4=clfrantun4.predict(X_testran)"
      ],
      "metadata": {
        "id": "AtFW_gXRjEDp"
      },
      "execution_count": 33,
      "outputs": []
    },
    {
      "cell_type": "code",
      "source": [
        "#Classification Report\n",
        "\n",
        "print(classification_report(y_testran, y_predrantun4))"
      ],
      "metadata": {
        "colab": {
          "base_uri": "https://localhost:8080/"
        },
        "id": "QKZ7pwZ2jbdS",
        "outputId": "d363f91d-4643-481d-e101-8ef7d5449db4"
      },
      "execution_count": 34,
      "outputs": [
        {
          "output_type": "stream",
          "name": "stdout",
          "text": [
            "              precision    recall  f1-score   support\n",
            "\n",
            "           0       0.99      0.97      0.98      1313\n",
            "           1       0.48      0.65      0.55        51\n",
            "\n",
            "    accuracy                           0.96      1364\n",
            "   macro avg       0.73      0.81      0.76      1364\n",
            "weighted avg       0.97      0.96      0.96      1364\n",
            "\n"
          ]
        }
      ]
    },
    {
      "cell_type": "code",
      "source": [
        "#After a bit more tuning, I was able to increase the F1 Score and Precision\n",
        "\n",
        "#Optimal Random Trees Classifier Tuned with n_estimators = 400\n",
        "\n",
        "random.seed(1234)\n",
        "clfrantun5=RandomForestClassifier(n_estimators=400, max_features = 'sqrt', random_state = random.seed(1234) )\n",
        "\n",
        "clfrantun5.fit(X,y)"
      ],
      "metadata": {
        "colab": {
          "base_uri": "https://localhost:8080/"
        },
        "id": "bo4Qno3-nz5E",
        "outputId": "f61e1e6d-29bb-4058-81b3-78e3f57d6e15"
      },
      "execution_count": 27,
      "outputs": [
        {
          "output_type": "execute_result",
          "data": {
            "text/plain": [
              "RandomForestClassifier(max_features='sqrt', n_estimators=400)"
            ]
          },
          "metadata": {},
          "execution_count": 27
        }
      ]
    },
    {
      "cell_type": "code",
      "source": [
        "y_predrantun5=clfrantun5.predict(X_testran)"
      ],
      "metadata": {
        "id": "4ogi5QjhpB4V"
      },
      "execution_count": 28,
      "outputs": []
    },
    {
      "cell_type": "code",
      "source": [
        "#Classification Report\n",
        "\n",
        "print(classification_report(y_testran, y_predrantun5))"
      ],
      "metadata": {
        "colab": {
          "base_uri": "https://localhost:8080/"
        },
        "id": "luaDgE4mpI0z",
        "outputId": "e2bc6a13-79b1-4270-cdce-44306137b588"
      },
      "execution_count": 29,
      "outputs": [
        {
          "output_type": "stream",
          "name": "stdout",
          "text": [
            "              precision    recall  f1-score   support\n",
            "\n",
            "           0       0.99      0.97      0.98      1313\n",
            "           1       0.49      0.65      0.55        51\n",
            "\n",
            "    accuracy                           0.96      1364\n",
            "   macro avg       0.74      0.81      0.77      1364\n",
            "weighted avg       0.97      0.96      0.96      1364\n",
            "\n"
          ]
        }
      ]
    },
    {
      "cell_type": "code",
      "source": [
        "#Looking at Feature Importances RANDOM FOREST TUNED 5\n",
        "\n",
        "vizrantun5 = FeatureImportances(clfrantun5, topn = 20)\n",
        "vizrantun5.fit(X, y)\n",
        "vizrantun5.show()"
      ],
      "metadata": {
        "colab": {
          "base_uri": "https://localhost:8080/",
          "height": 352
        },
        "id": "83plVBnPp7dR",
        "outputId": "9235b66e-f4f1-4ebd-8933-527141713fd1"
      },
      "execution_count": 21,
      "outputs": [
        {
          "output_type": "stream",
          "name": "stderr",
          "text": [
            "/usr/local/lib/python3.7/dist-packages/sklearn/base.py:451: UserWarning: X does not have valid feature names, but RandomForestClassifier was fitted with feature names\n",
            "  \"X does not have valid feature names, but\"\n"
          ]
        },
        {
          "output_type": "display_data",
          "data": {
            "image/png": "[encoded data removed]",
            "text/plain": [
              "<Figure size 432x288 with 1 Axes>"
            ]
          },
          "metadata": {
            "needs_background": "light"
          }
        },
        {
          "output_type": "execute_result",
          "data": {
            "text/plain": [
              "<matplotlib.axes._subplots.AxesSubplot at 0x7f0c54e8d390>"
            ]
          },
          "metadata": {},
          "execution_count": 21
        }
      ]
    },
    {
      "cell_type": "code",
      "source": [
        ""
      ],
      "metadata": {
        "id": "pHIFi6nnr-0x"
      },
      "execution_count": null,
      "outputs": []
    },
    {
      "cell_type": "markdown",
      "source": [
        "# Gradient Boosted Trees"
      ],
      "metadata": {
        "id": "Jn27XgD5r_Tw"
      }
    },
    {
      "cell_type": "code",
      "source": [
        "#Baseline Gradient Boosting Classifier model\n",
        "\n",
        "gb1 = GradientBoostingClassifier(n_iter_no_change = 10, random_state = 1)\n",
        "\n",
        "gb1.fit(X,y)"
      ],
      "metadata": {
        "id": "D8Rz5saPsCqq",
        "colab": {
          "base_uri": "https://localhost:8080/"
        },
        "outputId": "f7357f5d-5c83-40a0-e421-056d265a2979"
      },
      "execution_count": 35,
      "outputs": [
        {
          "output_type": "execute_result",
          "data": {
            "text/plain": [
              "GradientBoostingClassifier(n_iter_no_change=10, random_state=1)"
            ]
          },
          "metadata": {},
          "execution_count": 35
        }
      ]
    },
    {
      "cell_type": "code",
      "source": [
        "y_predgb1=gb1.predict(X_testran)"
      ],
      "metadata": {
        "id": "AMg3U08esKXx"
      },
      "execution_count": 36,
      "outputs": []
    },
    {
      "cell_type": "code",
      "source": [
        "#Classification Report\n",
        "\n",
        "print(classification_report(y_testran, y_predgb1))"
      ],
      "metadata": {
        "id": "KqfmJ_9qsMZT",
        "colab": {
          "base_uri": "https://localhost:8080/"
        },
        "outputId": "76303e26-ef67-4059-e95c-13a25b2afd45"
      },
      "execution_count": 37,
      "outputs": [
        {
          "output_type": "stream",
          "name": "stdout",
          "text": [
            "              precision    recall  f1-score   support\n",
            "\n",
            "           0       0.99      0.95      0.97      1313\n",
            "           1       0.33      0.71      0.45        51\n",
            "\n",
            "    accuracy                           0.94      1364\n",
            "   macro avg       0.66      0.83      0.71      1364\n",
            "weighted avg       0.96      0.94      0.95      1364\n",
            "\n"
          ]
        }
      ]
    },
    {
      "cell_type": "markdown",
      "source": [
        "The baseline Gradient Gradient Boosted Classifier did not achieve a higher F1 score than the Random Forest Classifier."
      ],
      "metadata": {
        "id": "6K62Pt19tQhB"
      }
    },
    {
      "cell_type": "code",
      "source": [
        "#Randomized Search CV Grid\n",
        "\n",
        "# Number of trees in random forest\n",
        "n_estimators = [int(x) for x in np.linspace(start = 100, stop = 500, num = 5)]\n",
        "# Number of features to consider at every split\n",
        "max_features = ['auto', 'sqrt']\n",
        "# Maximum number of levels in tree\n",
        "max_depth = [int(x) for x in np.linspace(2, 8, num = 7)]\n",
        "max_depth.append(None)\n",
        "learning_rate = [x for x in np.linspace(start = 0.05, stop = .2, num = 4)]\n",
        "\n",
        "\n",
        "# Create the random grid\n",
        "random_gridgb3 = {'n_estimators': n_estimators,\n",
        "               'max_features': max_features,\n",
        "               'max_depth': max_depth,\n",
        "               'learning_rate': learning_rate\n",
        "               }\n",
        "\n",
        "print(random_gridgb3)"
      ],
      "metadata": {
        "id": "jdERcPm3sOSx",
        "colab": {
          "base_uri": "https://localhost:8080/"
        },
        "outputId": "c27baf75-2e68-46bb-8bf0-ca996272309c"
      },
      "execution_count": 38,
      "outputs": [
        {
          "output_type": "stream",
          "name": "stdout",
          "text": [
            "{'n_estimators': [100, 200, 300, 400, 500], 'max_features': ['auto', 'sqrt'], 'max_depth': [2, 3, 4, 5, 6, 7, 8, None], 'learning_rate': [0.05, 0.1, 0.15000000000000002, 0.2]}\n"
          ]
        }
      ]
    },
    {
      "cell_type": "code",
      "source": [
        "#Randomized Search CV to tune Gradient Boosting hyperparameters\n",
        "\n",
        "\n",
        "gbtun3=GradientBoostingClassifier(n_iter_no_change = 10)\n",
        "\n",
        "gb_random3 = RandomizedSearchCV(estimator = gbtun3, param_distributions = random_gridgb3, n_iter = 20, cv = 3, verbose=3, random_state=1, n_jobs = -1)\n",
        "\n",
        "searchrangb = gb_random3.fit(X,y)"
      ],
      "metadata": {
        "id": "F4lkUuXWskeI"
      },
      "execution_count": null,
      "outputs": []
    },
    {
      "cell_type": "code",
      "source": [
        "searchrangb.best_params_"
      ],
      "metadata": {
        "id": "dMbqPqy6soqh"
      },
      "execution_count": null,
      "outputs": []
    },
    {
      "cell_type": "code",
      "source": [
        "#After a bit more tuning, I was able to increase the F1 Score and Precision\n",
        "\n",
        "#Optimal Gradient Boosted Trees Classifier Tuned with n_estimators = 200\n",
        "\n",
        "#GB5 with Tuned Params\n",
        "\n",
        "gb5 = GradientBoostingClassifier(learning_rate = 0.2, max_depth = 6, max_features = 'sqrt', n_estimators = 200, random_state = 1)\n",
        "\n",
        "gb5.fit(X,y)"
      ],
      "metadata": {
        "id": "ipbm20umsrFh",
        "colab": {
          "base_uri": "https://localhost:8080/"
        },
        "outputId": "8add8afc-01a8-4acb-e461-2e60e249f425"
      },
      "execution_count": 39,
      "outputs": [
        {
          "output_type": "execute_result",
          "data": {
            "text/plain": [
              "GradientBoostingClassifier(learning_rate=0.2, max_depth=6, max_features='sqrt',\n",
              "                           n_estimators=200, random_state=1)"
            ]
          },
          "metadata": {},
          "execution_count": 39
        }
      ]
    },
    {
      "cell_type": "code",
      "source": [
        "y_predgb5=gb5.predict(X_testran)"
      ],
      "metadata": {
        "id": "5imZgopysvA6"
      },
      "execution_count": 40,
      "outputs": []
    },
    {
      "cell_type": "code",
      "source": [
        "#Classification Report GB5\n",
        "\n",
        "print(classification_report(y_testran, y_predgb5))"
      ],
      "metadata": {
        "id": "Nh6_o6hiswyS",
        "colab": {
          "base_uri": "https://localhost:8080/"
        },
        "outputId": "9c4416d6-f0b4-4a6a-b202-a9c74d1dda8a"
      },
      "execution_count": 41,
      "outputs": [
        {
          "output_type": "stream",
          "name": "stdout",
          "text": [
            "              precision    recall  f1-score   support\n",
            "\n",
            "           0       0.99      0.99      0.99      1313\n",
            "           1       0.65      0.63      0.64        51\n",
            "\n",
            "    accuracy                           0.97      1364\n",
            "   macro avg       0.82      0.81      0.81      1364\n",
            "weighted avg       0.97      0.97      0.97      1364\n",
            "\n"
          ]
        }
      ]
    },
    {
      "cell_type": "code",
      "source": [
        "#Looking at Feature Importances GB5\n",
        "\n",
        "vizrantunGB = FeatureImportances(gb5, topn = 10)\n",
        "vizrantunGB.fit(X, y)\n",
        "vizrantunGB.show()"
      ],
      "metadata": {
        "id": "wUXQqI6Ms0Ns",
        "colab": {
          "base_uri": "https://localhost:8080/",
          "height": 352
        },
        "outputId": "2afd3b30-bd1f-4012-acee-fa4ee9888277"
      },
      "execution_count": 42,
      "outputs": [
        {
          "output_type": "stream",
          "name": "stderr",
          "text": [
            "/usr/local/lib/python3.7/dist-packages/sklearn/base.py:451: UserWarning: X does not have valid feature names, but GradientBoostingClassifier was fitted with feature names\n",
            "  \"X does not have valid feature names, but\"\n"
          ]
        },
        {
          "output_type": "display_data",
          "data": {
            "image/png": "[encoded data removed]",
            "text/plain": [
              "<Figure size 432x288 with 1 Axes>"
            ]
          },
          "metadata": {
            "needs_background": "light"
          }
        },
        {
          "output_type": "execute_result",
          "data": {
            "text/plain": [
              "<matplotlib.axes._subplots.AxesSubplot at 0x7f0c54f30d10>"
            ]
          },
          "metadata": {},
          "execution_count": 42
        }
      ]
    },
    {
      "cell_type": "code",
      "source": [
        ""
      ],
      "metadata": {
        "id": "NYVb7OSSs3yo"
      },
      "execution_count": null,
      "outputs": []
    },
    {
      "cell_type": "markdown",
      "source": [
        "# Extra Trees Classifier"
      ],
      "metadata": {
        "id": "uXYbSEMUs4QB"
      }
    },
    {
      "cell_type": "code",
      "source": [
        "#Baseline Extra Trees Classifier\n",
        "\n",
        "random.seed(1234)\n",
        "etree = ExtraTreesClassifier(n_estimators = 100, random_state = random.seed(1234))\n",
        "\n",
        "etree.fit(X,y)"
      ],
      "metadata": {
        "id": "sEXg3ygTtGzQ",
        "colab": {
          "base_uri": "https://localhost:8080/"
        },
        "outputId": "2b7e6476-475d-4c21-8d49-f68a9d72415a"
      },
      "execution_count": 47,
      "outputs": [
        {
          "output_type": "execute_result",
          "data": {
            "text/plain": [
              "ExtraTreesClassifier()"
            ]
          },
          "metadata": {},
          "execution_count": 47
        }
      ]
    },
    {
      "cell_type": "code",
      "source": [
        "y_predet1=etree.predict(X_testran)"
      ],
      "metadata": {
        "id": "FyFRZh5ltKKv"
      },
      "execution_count": 48,
      "outputs": []
    },
    {
      "cell_type": "code",
      "source": [
        "#Classification Report Extra Trees1\n",
        "\n",
        "print(classification_report(y_testran, y_predet1))"
      ],
      "metadata": {
        "id": "XnvydavXtdmS",
        "colab": {
          "base_uri": "https://localhost:8080/"
        },
        "outputId": "bcca727e-cb03-4343-9c21-59f1a6ef8a41"
      },
      "execution_count": 49,
      "outputs": [
        {
          "output_type": "stream",
          "name": "stdout",
          "text": [
            "              precision    recall  f1-score   support\n",
            "\n",
            "           0       0.98      0.97      0.98      1313\n",
            "           1       0.48      0.61      0.54        51\n",
            "\n",
            "    accuracy                           0.96      1364\n",
            "   macro avg       0.73      0.79      0.76      1364\n",
            "weighted avg       0.97      0.96      0.96      1364\n",
            "\n"
          ]
        }
      ]
    },
    {
      "cell_type": "code",
      "source": [
        "#Randomized Search CV with Extra Trees to tune Hyperparameters\n",
        "\n",
        "# Number of trees in random forest\n",
        "n_estimators = [int(x) for x in np.linspace(start = 50, stop = 200, num = 4)]\n",
        "#Criterion\n",
        "criterion = ['gini', 'entropy']\n",
        "# Number of features to consider at every split\n",
        "max_features = ['auto', 'sqrt']\n",
        "# Maximum number of levels in tree\n",
        "max_depth = [int(x) for x in np.linspace(2, 8, num = 7)]\n",
        "max_depth.append(None)\n",
        "min_samples_split = [int(x) for x in np.linspace(start = 2, stop = 10, num = 5)]\n",
        "\n",
        "\n",
        "\n",
        "# Create the random grid\n",
        "random_gridet1 = {'n_estimators': n_estimators,\n",
        "                  'criterion': criterion,\n",
        "               'max_features': max_features,\n",
        "               'max_depth': max_depth,\n",
        "               'min_samples_split': min_samples_split\n",
        "               }\n",
        "\n",
        "print(random_gridet1)"
      ],
      "metadata": {
        "id": "agNX_FM3twQ4"
      },
      "execution_count": null,
      "outputs": []
    },
    {
      "cell_type": "code",
      "source": [
        "#Randomized Search CV to tune Extra Trees hyperparameters\n",
        "\n",
        "\n",
        "ettun1=ExtraTreesClassifier()\n",
        "\n",
        "et_random = RandomizedSearchCV(estimator = ettun1, param_distributions = random_gridet1, n_iter = 20, cv = 3, verbose=3, random_state=1, n_jobs = -1)\n",
        "\n",
        "searchranet = et_random.fit(X,y)"
      ],
      "metadata": {
        "id": "PVGqy7C3t9MI"
      },
      "execution_count": null,
      "outputs": []
    },
    {
      "cell_type": "code",
      "source": [
        "searchranet.best_params_"
      ],
      "metadata": {
        "id": "B4pfuZD3uBhH"
      },
      "execution_count": null,
      "outputs": []
    },
    {
      "cell_type": "code",
      "source": [
        "#Extra Trees Tuned 2\n",
        "\n",
        "etree2 = ExtraTreesClassifier(n_estimators = 150, criterion = 'entropy', max_depth = None, min_samples_split = 2, max_features = 'sqrt', random_state = 1)\n",
        "\n",
        "etree2.fit(X,y)"
      ],
      "metadata": {
        "id": "cXahnc9auDyq",
        "colab": {
          "base_uri": "https://localhost:8080/"
        },
        "outputId": "74e5d5bb-1965-49a1-f414-02a3eaf059c7"
      },
      "execution_count": 50,
      "outputs": [
        {
          "output_type": "execute_result",
          "data": {
            "text/plain": [
              "ExtraTreesClassifier(criterion='entropy', max_features='sqrt', n_estimators=150,\n",
              "                     random_state=1)"
            ]
          },
          "metadata": {},
          "execution_count": 50
        }
      ]
    },
    {
      "cell_type": "code",
      "source": [
        "y_predet2=etree2.predict(X_testran)"
      ],
      "metadata": {
        "id": "2j1aupBduGVv"
      },
      "execution_count": 51,
      "outputs": []
    },
    {
      "cell_type": "code",
      "source": [
        "#Classification Report Extra Trees2\n",
        "\n",
        "print(classification_report(y_testran, y_predet2))"
      ],
      "metadata": {
        "id": "J6CV4IDPuIGY",
        "colab": {
          "base_uri": "https://localhost:8080/"
        },
        "outputId": "205e03bb-1a0b-4e95-81f9-01aa0354ff31"
      },
      "execution_count": 52,
      "outputs": [
        {
          "output_type": "stream",
          "name": "stdout",
          "text": [
            "              precision    recall  f1-score   support\n",
            "\n",
            "           0       0.99      0.98      0.98      1313\n",
            "           1       0.51      0.65      0.57        51\n",
            "\n",
            "    accuracy                           0.96      1364\n",
            "   macro avg       0.75      0.81      0.77      1364\n",
            "weighted avg       0.97      0.96      0.97      1364\n",
            "\n"
          ]
        }
      ]
    },
    {
      "cell_type": "code",
      "source": [
        "#Looking at Feature Importances Extra Trees 2\n",
        "\n",
        "vizrantunET = FeatureImportances(etree2, topn = 25)\n",
        "vizrantunET.fit(X, y)\n",
        "\n",
        "#vizrantunET.ax.set_yticks(y,fontsize=9)\n",
        "\n",
        "vizrantunET.show()"
      ],
      "metadata": {
        "id": "VcRgfck0uL9g",
        "colab": {
          "base_uri": "https://localhost:8080/",
          "height": 352
        },
        "outputId": "168fe065-2788-407d-ea38-e0844c649551"
      },
      "execution_count": 53,
      "outputs": [
        {
          "output_type": "stream",
          "name": "stderr",
          "text": [
            "/usr/local/lib/python3.7/dist-packages/sklearn/base.py:451: UserWarning: X does not have valid feature names, but ExtraTreesClassifier was fitted with feature names\n",
            "  \"X does not have valid feature names, but\"\n"
          ]
        },
        {
          "output_type": "display_data",
          "data": {
            "image/png": "[encoded data removed]",
            "text/plain": [
              "<Figure size 432x288 with 1 Axes>"
            ]
          },
          "metadata": {
            "needs_background": "light"
          }
        },
        {
          "output_type": "execute_result",
          "data": {
            "text/plain": [
              "<matplotlib.axes._subplots.AxesSubplot at 0x7f0c53d57b50>"
            ]
          },
          "metadata": {},
          "execution_count": 53
        }
      ]
    }
  ]
}