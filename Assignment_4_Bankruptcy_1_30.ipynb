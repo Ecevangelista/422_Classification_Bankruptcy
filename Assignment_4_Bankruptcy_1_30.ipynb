{
  "nbformat": 4,
  "nbformat_minor": 0,
  "metadata": {
    "colab": {
      "name": "Assignment 4_Bankruptcy_1_30.ipynb",
      "provenance": [],
      "toc_visible": true,
      "authorship_tag": "ABX9TyPrH7XsOZiljpWfV8uxV3TK",
      "include_colab_link": true
    },
    "kernelspec": {
      "name": "python3",
      "display_name": "Python 3"
    },
    "language_info": {
      "name": "python"
    }
  },
  "cells": [
    {
      "cell_type": "markdown",
      "metadata": {
        "id": "view-in-github",
        "colab_type": "text"
      },
      "source": [
        "<a href=\"https://colab.research.google.com/github/Ecevangelista/422_Classification_Bankruptcy/blob/main/Assignment_4_Bankruptcy_1_30.ipynb\" target=\"_parent\"><img src=\"https://colab.research.google.com/assets/colab-badge.svg\" alt=\"Open In Colab\"/></a>"
      ]
    },
    {
      "cell_type": "code",
      "execution_count": 25,
      "metadata": {
        "id": "z8ciQXygFXEh"
      },
      "outputs": [],
      "source": [
        "import pandas as pd\n",
        "import matplotlib\n",
        "from matplotlib import pyplot as plt\n",
        "import seaborn as sns\n",
        "import statistics\n",
        "import numpy as np\n",
        "from numpy import arange\n",
        "import statsmodels\n",
        "import statsmodels.api as sm\n",
        "from statsmodels.graphics.gofplots import qqplot\n",
        "from statsmodels.stats.outliers_influence import variance_inflation_factor\n",
        "from scipy.stats import norm,uniform, reciprocal\n",
        "from sklearn.preprocessing import MinMaxScaler, PolynomialFeatures, StandardScaler, OrdinalEncoder, OneHotEncoder\n",
        "from sklearn.metrics import mean_squared_error, r2_score, accuracy_score, confusion_matrix, roc_curve, PrecisionRecallDisplay, f1_score, precision_score, recall_score\n",
        "from sklearn.model_selection import train_test_split, KFold, cross_val_score, GridSearchCV, RandomizedSearchCV\n",
        "from sklearn.pipeline import Pipeline\n",
        "from sklearn.impute import SimpleImputer\n",
        "from sklearn.compose import ColumnTransformer\n",
        "from sklearn.naive_bayes import GaussianNB\n",
        "from sklearn.linear_model import LogisticRegression, LogisticRegressionCV\n",
        "from sklearn.svm import SVC\n",
        "from sklearn.dummy import DummyClassifier\n",
        "import plotly.express as px"
      ]
    },
    {
      "cell_type": "markdown",
      "source": [
        "# Ingest"
      ],
      "metadata": {
        "id": "HuULOTsmFj9y"
      }
    },
    {
      "cell_type": "code",
      "source": [
        "from google.colab import drive\n",
        "drive.mount('/content/drive')"
      ],
      "metadata": {
        "colab": {
          "base_uri": "https://localhost:8080/"
        },
        "id": "bV9ZQl1EFm9h",
        "outputId": "49c69440-8bfc-4498-9912-a37907266a51"
      },
      "execution_count": 2,
      "outputs": [
        {
          "output_type": "stream",
          "name": "stdout",
          "text": [
            "Mounted at /content/drive\n"
          ]
        }
      ]
    },
    {
      "cell_type": "code",
      "source": [
        "path = \"drive/MyDrive/422NU/bankruptcy_data.csv\"\n",
        "df = pd.read_csv(path)"
      ],
      "metadata": {
        "id": "6pA5lRYyFpe6"
      },
      "execution_count": 3,
      "outputs": []
    },
    {
      "cell_type": "code",
      "source": [
        "df.shape"
      ],
      "metadata": {
        "colab": {
          "base_uri": "https://localhost:8080/"
        },
        "id": "m2LYgdYJFr6T",
        "outputId": "84bb7533-cf72-4031-beea-b3e9cbc9632e"
      },
      "execution_count": 4,
      "outputs": [
        {
          "output_type": "execute_result",
          "data": {
            "text/plain": [
              "(6819, 96)"
            ]
          },
          "metadata": {},
          "execution_count": 4
        }
      ]
    },
    {
      "cell_type": "code",
      "source": [
        ""
      ],
      "metadata": {
        "id": "rA1-_hzzFuwi"
      },
      "execution_count": null,
      "outputs": []
    },
    {
      "cell_type": "markdown",
      "source": [
        "# EDA"
      ],
      "metadata": {
        "id": "BxttJHceGHKS"
      }
    },
    {
      "cell_type": "code",
      "source": [
        "df.head()"
      ],
      "metadata": {
        "colab": {
          "base_uri": "https://localhost:8080/",
          "height": 421
        },
        "id": "2lctiJYkFwnr",
        "outputId": "3b22f062-7dc6-463c-a54a-44aaaf671f9b"
      },
      "execution_count": 26,
      "outputs": [
        {
          "output_type": "execute_result",
          "data": {
            "text/html": [
              "\n",
              "  <div id=\"df-9c70a0ca-af12-4965-be62-e3b3b76d829a\">\n",
              "    <div class=\"colab-df-container\">\n",
              "      <div>\n",
              "<style scoped>\n",
              "    .dataframe tbody tr th:only-of-type {\n",
              "        vertical-align: middle;\n",
              "    }\n",
              "\n",
              "    .dataframe tbody tr th {\n",
              "        vertical-align: top;\n",
              "    }\n",
              "\n",
              "    .dataframe thead th {\n",
              "        text-align: right;\n",
              "    }\n",
              "</style>\n",
              "<table border=\"1\" class=\"dataframe\">\n",
              "  <thead>\n",
              "    <tr style=\"text-align: right;\">\n",
              "      <th></th>\n",
              "      <th>Bankrupt?</th>\n",
              "      <th>ROA(C) before interest and depreciation before interest</th>\n",
              "      <th>ROA(A) before interest and % after tax</th>\n",
              "      <th>ROA(B) before interest and depreciation after tax</th>\n",
              "      <th>Operating Gross Margin</th>\n",
              "      <th>Realized Sales Gross Margin</th>\n",
              "      <th>Operating Profit Rate</th>\n",
              "      <th>Pre-tax net Interest Rate</th>\n",
              "      <th>After-tax net Interest Rate</th>\n",
              "      <th>Non-industry income and expenditure/revenue</th>\n",
              "      <th>Continuous interest rate (after tax)</th>\n",
              "      <th>Operating Expense Rate</th>\n",
              "      <th>Research and development expense rate</th>\n",
              "      <th>Cash flow rate</th>\n",
              "      <th>Interest-bearing debt interest rate</th>\n",
              "      <th>Tax rate (A)</th>\n",
              "      <th>Net Value Per Share (B)</th>\n",
              "      <th>Net Value Per Share (A)</th>\n",
              "      <th>Net Value Per Share (C)</th>\n",
              "      <th>Persistent EPS in the Last Four Seasons</th>\n",
              "      <th>Cash Flow Per Share</th>\n",
              "      <th>Revenue Per Share (Yuan ¥)</th>\n",
              "      <th>Operating Profit Per Share (Yuan ¥)</th>\n",
              "      <th>Per Share Net profit before tax (Yuan ¥)</th>\n",
              "      <th>Realized Sales Gross Profit Growth Rate</th>\n",
              "      <th>Operating Profit Growth Rate</th>\n",
              "      <th>After-tax Net Profit Growth Rate</th>\n",
              "      <th>Regular Net Profit Growth Rate</th>\n",
              "      <th>Continuous Net Profit Growth Rate</th>\n",
              "      <th>Total Asset Growth Rate</th>\n",
              "      <th>Net Value Growth Rate</th>\n",
              "      <th>Total Asset Return Growth Rate Ratio</th>\n",
              "      <th>Cash Reinvestment %</th>\n",
              "      <th>Current Ratio</th>\n",
              "      <th>Quick Ratio</th>\n",
              "      <th>Interest Expense Ratio</th>\n",
              "      <th>Total debt/Total net worth</th>\n",
              "      <th>Debt ratio %</th>\n",
              "      <th>Net worth/Assets</th>\n",
              "      <th>Long-term fund suitability ratio (A)</th>\n",
              "      <th>...</th>\n",
              "      <th>Current Assets/Total Assets</th>\n",
              "      <th>Cash/Total Assets</th>\n",
              "      <th>Quick Assets/Current Liability</th>\n",
              "      <th>Cash/Current Liability</th>\n",
              "      <th>Current Liability to Assets</th>\n",
              "      <th>Operating Funds to Liability</th>\n",
              "      <th>Inventory/Working Capital</th>\n",
              "      <th>Inventory/Current Liability</th>\n",
              "      <th>Current Liabilities/Liability</th>\n",
              "      <th>Working Capital/Equity</th>\n",
              "      <th>Current Liabilities/Equity</th>\n",
              "      <th>Long-term Liability to Current Assets</th>\n",
              "      <th>Retained Earnings to Total Assets</th>\n",
              "      <th>Total income/Total expense</th>\n",
              "      <th>Total expense/Assets</th>\n",
              "      <th>Current Asset Turnover Rate</th>\n",
              "      <th>Quick Asset Turnover Rate</th>\n",
              "      <th>Working capitcal Turnover Rate</th>\n",
              "      <th>Cash Turnover Rate</th>\n",
              "      <th>Cash Flow to Sales</th>\n",
              "      <th>Fixed Assets to Assets</th>\n",
              "      <th>Current Liability to Liability</th>\n",
              "      <th>Current Liability to Equity</th>\n",
              "      <th>Equity to Long-term Liability</th>\n",
              "      <th>Cash Flow to Total Assets</th>\n",
              "      <th>Cash Flow to Liability</th>\n",
              "      <th>CFO to Assets</th>\n",
              "      <th>Cash Flow to Equity</th>\n",
              "      <th>Current Liability to Current Assets</th>\n",
              "      <th>Liability-Assets Flag</th>\n",
              "      <th>Net Income to Total Assets</th>\n",
              "      <th>Total assets to GNP price</th>\n",
              "      <th>No-credit Interval</th>\n",
              "      <th>Gross Profit to Sales</th>\n",
              "      <th>Net Income to Stockholder's Equity</th>\n",
              "      <th>Liability to Equity</th>\n",
              "      <th>Degree of Financial Leverage (DFL)</th>\n",
              "      <th>Interest Coverage Ratio (Interest expense to EBIT)</th>\n",
              "      <th>Net Income Flag</th>\n",
              "      <th>Equity to Liability</th>\n",
              "    </tr>\n",
              "  </thead>\n",
              "  <tbody>\n",
              "    <tr>\n",
              "      <th>0</th>\n",
              "      <td>1</td>\n",
              "      <td>0.370594</td>\n",
              "      <td>0.424389</td>\n",
              "      <td>0.405750</td>\n",
              "      <td>0.601457</td>\n",
              "      <td>0.601457</td>\n",
              "      <td>0.998969</td>\n",
              "      <td>0.796887</td>\n",
              "      <td>0.808809</td>\n",
              "      <td>0.302646</td>\n",
              "      <td>0.780985</td>\n",
              "      <td>1.256969e-04</td>\n",
              "      <td>0.0</td>\n",
              "      <td>0.458143</td>\n",
              "      <td>0.000725</td>\n",
              "      <td>0.0</td>\n",
              "      <td>0.147950</td>\n",
              "      <td>0.147950</td>\n",
              "      <td>0.147950</td>\n",
              "      <td>0.169141</td>\n",
              "      <td>0.311664</td>\n",
              "      <td>0.017560</td>\n",
              "      <td>0.095921</td>\n",
              "      <td>0.138736</td>\n",
              "      <td>0.022102</td>\n",
              "      <td>0.848195</td>\n",
              "      <td>0.688979</td>\n",
              "      <td>0.688979</td>\n",
              "      <td>0.217535</td>\n",
              "      <td>4.980000e+09</td>\n",
              "      <td>0.000327</td>\n",
              "      <td>0.263100</td>\n",
              "      <td>0.363725</td>\n",
              "      <td>0.002259</td>\n",
              "      <td>0.001208</td>\n",
              "      <td>0.629951</td>\n",
              "      <td>0.021266</td>\n",
              "      <td>0.207576</td>\n",
              "      <td>0.792424</td>\n",
              "      <td>0.005024</td>\n",
              "      <td>...</td>\n",
              "      <td>0.190643</td>\n",
              "      <td>0.004094</td>\n",
              "      <td>0.001997</td>\n",
              "      <td>1.473360e-04</td>\n",
              "      <td>0.147308</td>\n",
              "      <td>0.334015</td>\n",
              "      <td>0.276920</td>\n",
              "      <td>0.001036</td>\n",
              "      <td>0.676269</td>\n",
              "      <td>0.721275</td>\n",
              "      <td>0.339077</td>\n",
              "      <td>0.025592</td>\n",
              "      <td>0.903225</td>\n",
              "      <td>0.002022</td>\n",
              "      <td>0.064856</td>\n",
              "      <td>7.010000e+08</td>\n",
              "      <td>6.550000e+09</td>\n",
              "      <td>0.593831</td>\n",
              "      <td>4.580000e+08</td>\n",
              "      <td>0.671568</td>\n",
              "      <td>0.424206</td>\n",
              "      <td>0.676269</td>\n",
              "      <td>0.339077</td>\n",
              "      <td>0.126549</td>\n",
              "      <td>0.637555</td>\n",
              "      <td>0.458609</td>\n",
              "      <td>0.520382</td>\n",
              "      <td>0.312905</td>\n",
              "      <td>0.118250</td>\n",
              "      <td>0</td>\n",
              "      <td>0.716845</td>\n",
              "      <td>0.009219</td>\n",
              "      <td>0.622879</td>\n",
              "      <td>0.601453</td>\n",
              "      <td>0.827890</td>\n",
              "      <td>0.290202</td>\n",
              "      <td>0.026601</td>\n",
              "      <td>0.564050</td>\n",
              "      <td>1</td>\n",
              "      <td>0.016469</td>\n",
              "    </tr>\n",
              "    <tr>\n",
              "      <th>1</th>\n",
              "      <td>1</td>\n",
              "      <td>0.464291</td>\n",
              "      <td>0.538214</td>\n",
              "      <td>0.516730</td>\n",
              "      <td>0.610235</td>\n",
              "      <td>0.610235</td>\n",
              "      <td>0.998946</td>\n",
              "      <td>0.797380</td>\n",
              "      <td>0.809301</td>\n",
              "      <td>0.303556</td>\n",
              "      <td>0.781506</td>\n",
              "      <td>2.897851e-04</td>\n",
              "      <td>0.0</td>\n",
              "      <td>0.461867</td>\n",
              "      <td>0.000647</td>\n",
              "      <td>0.0</td>\n",
              "      <td>0.182251</td>\n",
              "      <td>0.182251</td>\n",
              "      <td>0.182251</td>\n",
              "      <td>0.208944</td>\n",
              "      <td>0.318137</td>\n",
              "      <td>0.021144</td>\n",
              "      <td>0.093722</td>\n",
              "      <td>0.169918</td>\n",
              "      <td>0.022080</td>\n",
              "      <td>0.848088</td>\n",
              "      <td>0.689693</td>\n",
              "      <td>0.689702</td>\n",
              "      <td>0.217620</td>\n",
              "      <td>6.110000e+09</td>\n",
              "      <td>0.000443</td>\n",
              "      <td>0.264516</td>\n",
              "      <td>0.376709</td>\n",
              "      <td>0.006016</td>\n",
              "      <td>0.004039</td>\n",
              "      <td>0.635172</td>\n",
              "      <td>0.012502</td>\n",
              "      <td>0.171176</td>\n",
              "      <td>0.828824</td>\n",
              "      <td>0.005059</td>\n",
              "      <td>...</td>\n",
              "      <td>0.182419</td>\n",
              "      <td>0.014948</td>\n",
              "      <td>0.004136</td>\n",
              "      <td>1.383910e-03</td>\n",
              "      <td>0.056963</td>\n",
              "      <td>0.341106</td>\n",
              "      <td>0.289642</td>\n",
              "      <td>0.005210</td>\n",
              "      <td>0.308589</td>\n",
              "      <td>0.731975</td>\n",
              "      <td>0.329740</td>\n",
              "      <td>0.023947</td>\n",
              "      <td>0.931065</td>\n",
              "      <td>0.002226</td>\n",
              "      <td>0.025516</td>\n",
              "      <td>1.065198e-04</td>\n",
              "      <td>7.700000e+09</td>\n",
              "      <td>0.593916</td>\n",
              "      <td>2.490000e+09</td>\n",
              "      <td>0.671570</td>\n",
              "      <td>0.468828</td>\n",
              "      <td>0.308589</td>\n",
              "      <td>0.329740</td>\n",
              "      <td>0.120916</td>\n",
              "      <td>0.641100</td>\n",
              "      <td>0.459001</td>\n",
              "      <td>0.567101</td>\n",
              "      <td>0.314163</td>\n",
              "      <td>0.047775</td>\n",
              "      <td>0</td>\n",
              "      <td>0.795297</td>\n",
              "      <td>0.008323</td>\n",
              "      <td>0.623652</td>\n",
              "      <td>0.610237</td>\n",
              "      <td>0.839969</td>\n",
              "      <td>0.283846</td>\n",
              "      <td>0.264577</td>\n",
              "      <td>0.570175</td>\n",
              "      <td>1</td>\n",
              "      <td>0.020794</td>\n",
              "    </tr>\n",
              "    <tr>\n",
              "      <th>2</th>\n",
              "      <td>1</td>\n",
              "      <td>0.426071</td>\n",
              "      <td>0.499019</td>\n",
              "      <td>0.472295</td>\n",
              "      <td>0.601450</td>\n",
              "      <td>0.601364</td>\n",
              "      <td>0.998857</td>\n",
              "      <td>0.796403</td>\n",
              "      <td>0.808388</td>\n",
              "      <td>0.302035</td>\n",
              "      <td>0.780284</td>\n",
              "      <td>2.361297e-04</td>\n",
              "      <td>25500000.0</td>\n",
              "      <td>0.458521</td>\n",
              "      <td>0.000790</td>\n",
              "      <td>0.0</td>\n",
              "      <td>0.177911</td>\n",
              "      <td>0.177911</td>\n",
              "      <td>0.193713</td>\n",
              "      <td>0.180581</td>\n",
              "      <td>0.307102</td>\n",
              "      <td>0.005944</td>\n",
              "      <td>0.092338</td>\n",
              "      <td>0.142803</td>\n",
              "      <td>0.022760</td>\n",
              "      <td>0.848094</td>\n",
              "      <td>0.689463</td>\n",
              "      <td>0.689470</td>\n",
              "      <td>0.217601</td>\n",
              "      <td>7.280000e+09</td>\n",
              "      <td>0.000396</td>\n",
              "      <td>0.264184</td>\n",
              "      <td>0.368913</td>\n",
              "      <td>0.011543</td>\n",
              "      <td>0.005348</td>\n",
              "      <td>0.629631</td>\n",
              "      <td>0.021248</td>\n",
              "      <td>0.207516</td>\n",
              "      <td>0.792484</td>\n",
              "      <td>0.005100</td>\n",
              "      <td>...</td>\n",
              "      <td>0.602806</td>\n",
              "      <td>0.000991</td>\n",
              "      <td>0.006302</td>\n",
              "      <td>5.340000e+09</td>\n",
              "      <td>0.098162</td>\n",
              "      <td>0.336731</td>\n",
              "      <td>0.277456</td>\n",
              "      <td>0.013879</td>\n",
              "      <td>0.446027</td>\n",
              "      <td>0.742729</td>\n",
              "      <td>0.334777</td>\n",
              "      <td>0.003715</td>\n",
              "      <td>0.909903</td>\n",
              "      <td>0.002060</td>\n",
              "      <td>0.021387</td>\n",
              "      <td>1.791094e-03</td>\n",
              "      <td>1.022676e-03</td>\n",
              "      <td>0.594502</td>\n",
              "      <td>7.610000e+08</td>\n",
              "      <td>0.671571</td>\n",
              "      <td>0.276179</td>\n",
              "      <td>0.446027</td>\n",
              "      <td>0.334777</td>\n",
              "      <td>0.117922</td>\n",
              "      <td>0.642765</td>\n",
              "      <td>0.459254</td>\n",
              "      <td>0.538491</td>\n",
              "      <td>0.314515</td>\n",
              "      <td>0.025346</td>\n",
              "      <td>0</td>\n",
              "      <td>0.774670</td>\n",
              "      <td>0.040003</td>\n",
              "      <td>0.623841</td>\n",
              "      <td>0.601449</td>\n",
              "      <td>0.836774</td>\n",
              "      <td>0.290189</td>\n",
              "      <td>0.026555</td>\n",
              "      <td>0.563706</td>\n",
              "      <td>1</td>\n",
              "      <td>0.016474</td>\n",
              "    </tr>\n",
              "    <tr>\n",
              "      <th>3</th>\n",
              "      <td>1</td>\n",
              "      <td>0.399844</td>\n",
              "      <td>0.451265</td>\n",
              "      <td>0.457733</td>\n",
              "      <td>0.583541</td>\n",
              "      <td>0.583541</td>\n",
              "      <td>0.998700</td>\n",
              "      <td>0.796967</td>\n",
              "      <td>0.808966</td>\n",
              "      <td>0.303350</td>\n",
              "      <td>0.781241</td>\n",
              "      <td>1.078888e-04</td>\n",
              "      <td>0.0</td>\n",
              "      <td>0.465705</td>\n",
              "      <td>0.000449</td>\n",
              "      <td>0.0</td>\n",
              "      <td>0.154187</td>\n",
              "      <td>0.154187</td>\n",
              "      <td>0.154187</td>\n",
              "      <td>0.193722</td>\n",
              "      <td>0.321674</td>\n",
              "      <td>0.014368</td>\n",
              "      <td>0.077762</td>\n",
              "      <td>0.148603</td>\n",
              "      <td>0.022046</td>\n",
              "      <td>0.848005</td>\n",
              "      <td>0.689110</td>\n",
              "      <td>0.689110</td>\n",
              "      <td>0.217568</td>\n",
              "      <td>4.880000e+09</td>\n",
              "      <td>0.000382</td>\n",
              "      <td>0.263371</td>\n",
              "      <td>0.384077</td>\n",
              "      <td>0.004194</td>\n",
              "      <td>0.002896</td>\n",
              "      <td>0.630228</td>\n",
              "      <td>0.009572</td>\n",
              "      <td>0.151465</td>\n",
              "      <td>0.848535</td>\n",
              "      <td>0.005047</td>\n",
              "      <td>...</td>\n",
              "      <td>0.225815</td>\n",
              "      <td>0.018851</td>\n",
              "      <td>0.002961</td>\n",
              "      <td>1.010646e-03</td>\n",
              "      <td>0.098715</td>\n",
              "      <td>0.348716</td>\n",
              "      <td>0.276580</td>\n",
              "      <td>0.003540</td>\n",
              "      <td>0.615848</td>\n",
              "      <td>0.729825</td>\n",
              "      <td>0.331509</td>\n",
              "      <td>0.022165</td>\n",
              "      <td>0.906902</td>\n",
              "      <td>0.001831</td>\n",
              "      <td>0.024161</td>\n",
              "      <td>8.140000e+09</td>\n",
              "      <td>6.050000e+09</td>\n",
              "      <td>0.593889</td>\n",
              "      <td>2.030000e+09</td>\n",
              "      <td>0.671519</td>\n",
              "      <td>0.559144</td>\n",
              "      <td>0.615848</td>\n",
              "      <td>0.331509</td>\n",
              "      <td>0.120760</td>\n",
              "      <td>0.579039</td>\n",
              "      <td>0.448518</td>\n",
              "      <td>0.604105</td>\n",
              "      <td>0.302382</td>\n",
              "      <td>0.067250</td>\n",
              "      <td>0</td>\n",
              "      <td>0.739555</td>\n",
              "      <td>0.003252</td>\n",
              "      <td>0.622929</td>\n",
              "      <td>0.583538</td>\n",
              "      <td>0.834697</td>\n",
              "      <td>0.281721</td>\n",
              "      <td>0.026697</td>\n",
              "      <td>0.564663</td>\n",
              "      <td>1</td>\n",
              "      <td>0.023982</td>\n",
              "    </tr>\n",
              "    <tr>\n",
              "      <th>4</th>\n",
              "      <td>1</td>\n",
              "      <td>0.465022</td>\n",
              "      <td>0.538432</td>\n",
              "      <td>0.522298</td>\n",
              "      <td>0.598783</td>\n",
              "      <td>0.598783</td>\n",
              "      <td>0.998973</td>\n",
              "      <td>0.797366</td>\n",
              "      <td>0.809304</td>\n",
              "      <td>0.303475</td>\n",
              "      <td>0.781550</td>\n",
              "      <td>7.890000e+09</td>\n",
              "      <td>0.0</td>\n",
              "      <td>0.462746</td>\n",
              "      <td>0.000686</td>\n",
              "      <td>0.0</td>\n",
              "      <td>0.167502</td>\n",
              "      <td>0.167502</td>\n",
              "      <td>0.167502</td>\n",
              "      <td>0.212537</td>\n",
              "      <td>0.319162</td>\n",
              "      <td>0.029690</td>\n",
              "      <td>0.096898</td>\n",
              "      <td>0.168412</td>\n",
              "      <td>0.022096</td>\n",
              "      <td>0.848258</td>\n",
              "      <td>0.689697</td>\n",
              "      <td>0.689697</td>\n",
              "      <td>0.217626</td>\n",
              "      <td>5.510000e+09</td>\n",
              "      <td>0.000439</td>\n",
              "      <td>0.265218</td>\n",
              "      <td>0.379690</td>\n",
              "      <td>0.006022</td>\n",
              "      <td>0.003727</td>\n",
              "      <td>0.636055</td>\n",
              "      <td>0.005150</td>\n",
              "      <td>0.106509</td>\n",
              "      <td>0.893491</td>\n",
              "      <td>0.005303</td>\n",
              "      <td>...</td>\n",
              "      <td>0.358380</td>\n",
              "      <td>0.014161</td>\n",
              "      <td>0.004275</td>\n",
              "      <td>6.804636e-04</td>\n",
              "      <td>0.110195</td>\n",
              "      <td>0.344639</td>\n",
              "      <td>0.287913</td>\n",
              "      <td>0.004869</td>\n",
              "      <td>0.975007</td>\n",
              "      <td>0.732000</td>\n",
              "      <td>0.330726</td>\n",
              "      <td>0.000000</td>\n",
              "      <td>0.913850</td>\n",
              "      <td>0.002224</td>\n",
              "      <td>0.026385</td>\n",
              "      <td>6.680000e+09</td>\n",
              "      <td>5.050000e+09</td>\n",
              "      <td>0.593915</td>\n",
              "      <td>8.240000e+08</td>\n",
              "      <td>0.671563</td>\n",
              "      <td>0.309555</td>\n",
              "      <td>0.975007</td>\n",
              "      <td>0.330726</td>\n",
              "      <td>0.110933</td>\n",
              "      <td>0.622374</td>\n",
              "      <td>0.454411</td>\n",
              "      <td>0.578469</td>\n",
              "      <td>0.311567</td>\n",
              "      <td>0.047725</td>\n",
              "      <td>0</td>\n",
              "      <td>0.795016</td>\n",
              "      <td>0.003878</td>\n",
              "      <td>0.623521</td>\n",
              "      <td>0.598782</td>\n",
              "      <td>0.839973</td>\n",
              "      <td>0.278514</td>\n",
              "      <td>0.024752</td>\n",
              "      <td>0.575617</td>\n",
              "      <td>1</td>\n",
              "      <td>0.035490</td>\n",
              "    </tr>\n",
              "  </tbody>\n",
              "</table>\n",
              "<p>5 rows × 96 columns</p>\n",
              "</div>\n",
              "      <button class=\"colab-df-convert\" onclick=\"convertToInteractive('df-9c70a0ca-af12-4965-be62-e3b3b76d829a')\"\n",
              "              title=\"Convert this dataframe to an interactive table.\"\n",
              "              style=\"display:none;\">\n",
              "        \n",
              "  <svg xmlns=\"http://www.w3.org/2000/svg\" height=\"24px\"viewBox=\"0 0 24 24\"\n",
              "       width=\"24px\">\n",
              "    <path d=\"M0 0h24v24H0V0z\" fill=\"none\"/>\n",
              "    <path d=\"M18.56 5.44l.94 2.06.94-2.06 2.06-.94-2.06-.94-.94-2.06-.94 2.06-2.06.94zm-11 1L8.5 8.5l.94-2.06 2.06-.94-2.06-.94L8.5 2.5l-.94 2.06-2.06.94zm10 10l.94 2.06.94-2.06 2.06-.94-2.06-.94-.94-2.06-.94 2.06-2.06.94z\"/><path d=\"M17.41 7.96l-1.37-1.37c-.4-.4-.92-.59-1.43-.59-.52 0-1.04.2-1.43.59L10.3 9.45l-7.72 7.72c-.78.78-.78 2.05 0 2.83L4 21.41c.39.39.9.59 1.41.59.51 0 1.02-.2 1.41-.59l7.78-7.78 2.81-2.81c.8-.78.8-2.07 0-2.86zM5.41 20L4 18.59l7.72-7.72 1.47 1.35L5.41 20z\"/>\n",
              "  </svg>\n",
              "      </button>\n",
              "      \n",
              "  <style>\n",
              "    .colab-df-container {\n",
              "      display:flex;\n",
              "      flex-wrap:wrap;\n",
              "      gap: 12px;\n",
              "    }\n",
              "\n",
              "    .colab-df-convert {\n",
              "      background-color: #E8F0FE;\n",
              "      border: none;\n",
              "      border-radius: 50%;\n",
              "      cursor: pointer;\n",
              "      display: none;\n",
              "      fill: #1967D2;\n",
              "      height: 32px;\n",
              "      padding: 0 0 0 0;\n",
              "      width: 32px;\n",
              "    }\n",
              "\n",
              "    .colab-df-convert:hover {\n",
              "      background-color: #E2EBFA;\n",
              "      box-shadow: 0px 1px 2px rgba(60, 64, 67, 0.3), 0px 1px 3px 1px rgba(60, 64, 67, 0.15);\n",
              "      fill: #174EA6;\n",
              "    }\n",
              "\n",
              "    [theme=dark] .colab-df-convert {\n",
              "      background-color: #3B4455;\n",
              "      fill: #D2E3FC;\n",
              "    }\n",
              "\n",
              "    [theme=dark] .colab-df-convert:hover {\n",
              "      background-color: #434B5C;\n",
              "      box-shadow: 0px 1px 3px 1px rgba(0, 0, 0, 0.15);\n",
              "      filter: drop-shadow(0px 1px 2px rgba(0, 0, 0, 0.3));\n",
              "      fill: #FFFFFF;\n",
              "    }\n",
              "  </style>\n",
              "\n",
              "      <script>\n",
              "        const buttonEl =\n",
              "          document.querySelector('#df-9c70a0ca-af12-4965-be62-e3b3b76d829a button.colab-df-convert');\n",
              "        buttonEl.style.display =\n",
              "          google.colab.kernel.accessAllowed ? 'block' : 'none';\n",
              "\n",
              "        async function convertToInteractive(key) {\n",
              "          const element = document.querySelector('#df-9c70a0ca-af12-4965-be62-e3b3b76d829a');\n",
              "          const dataTable =\n",
              "            await google.colab.kernel.invokeFunction('convertToInteractive',\n",
              "                                                     [key], {});\n",
              "          if (!dataTable) return;\n",
              "\n",
              "          const docLinkHtml = 'Like what you see? Visit the ' +\n",
              "            '<a target=\"_blank\" href=https://colab.research.google.com/notebooks/data_table.ipynb>data table notebook</a>'\n",
              "            + ' to learn more about interactive tables.';\n",
              "          element.innerHTML = '';\n",
              "          dataTable['output_type'] = 'display_data';\n",
              "          await google.colab.output.renderOutput(dataTable, element);\n",
              "          const docLink = document.createElement('div');\n",
              "          docLink.innerHTML = docLinkHtml;\n",
              "          element.appendChild(docLink);\n",
              "        }\n",
              "      </script>\n",
              "    </div>\n",
              "  </div>\n",
              "  "
            ],
            "text/plain": [
              "   Bankrupt?  ...   Equity to Liability\n",
              "0          1  ...              0.016469\n",
              "1          1  ...              0.020794\n",
              "2          1  ...              0.016474\n",
              "3          1  ...              0.023982\n",
              "4          1  ...              0.035490\n",
              "\n",
              "[5 rows x 96 columns]"
            ]
          },
          "metadata": {},
          "execution_count": 26
        }
      ]
    },
    {
      "cell_type": "code",
      "source": [
        "df.tail()"
      ],
      "metadata": {
        "id": "mz1yShuwGEjZ"
      },
      "execution_count": null,
      "outputs": []
    },
    {
      "cell_type": "code",
      "source": [
        "pd.set_option('display.max_columns', 96)\n",
        "df.describe()"
      ],
      "metadata": {
        "id": "Q2bKFX3-GJ9J"
      },
      "execution_count": null,
      "outputs": []
    },
    {
      "cell_type": "code",
      "source": [
        ""
      ],
      "metadata": {
        "id": "fIB2Yba_Gc1b"
      },
      "execution_count": null,
      "outputs": []
    },
    {
      "cell_type": "markdown",
      "source": [
        "Several features labeled as ratios have Max values in the billions, which is not logical for a ratio. These are candidates to explore for outliers: \n",
        "Interest-bearing interest rate, Current Ratio, Quick Ratio, Quick Assets/Current Liability, Cash/Current Liability, Long-term Liability to Current Assets "
      ],
      "metadata": {
        "id": "sWf6y4zAsr2b"
      }
    },
    {
      "cell_type": "markdown",
      "source": [
        ""
      ],
      "metadata": {
        "id": "DeDHIbU5sqzr"
      }
    },
    {
      "cell_type": "code",
      "source": [
        "#Countplot of Bankrupt?\n",
        "\n",
        "sns.countplot(x =df['Bankrupt?'], data = df)\n",
        " \n",
        "plt.show()"
      ],
      "metadata": {
        "colab": {
          "base_uri": "https://localhost:8080/",
          "height": 278
        },
        "id": "j_FuE6q6Gc-Q",
        "outputId": "ea62141b-5972-4675-c1f9-5d49623c82f0"
      },
      "execution_count": 6,
      "outputs": [
        {
          "output_type": "display_data",
          "data": {
            "image/png": "[encoded data removed]",
            "text/plain": [
              "<Figure size 432x288 with 1 Axes>"
            ]
          },
          "metadata": {
            "needs_background": "light"
          }
        }
      ]
    },
    {
      "cell_type": "code",
      "source": [
        "bank = df[df['Bankrupt?'] ==1]\n",
        "bank.shape"
      ],
      "metadata": {
        "colab": {
          "base_uri": "https://localhost:8080/"
        },
        "id": "HM8mT0AdyOH0",
        "outputId": "201644b8-e516-4b07-8ef2-3f6125c8b52c"
      },
      "execution_count": 11,
      "outputs": [
        {
          "output_type": "execute_result",
          "data": {
            "text/plain": [
              "(220, 96)"
            ]
          },
          "metadata": {},
          "execution_count": 11
        }
      ]
    },
    {
      "cell_type": "markdown",
      "source": [
        "Countplot of Bankrupt shows very low instances of Bankrupcty (1 values)"
      ],
      "metadata": {
        "id": "iSnD4-1iGrGQ"
      }
    },
    {
      "cell_type": "code",
      "source": [
        "#Correlation with Bankrupt\n",
        "pd.set_option('display.max_rows', None)\n",
        "\n",
        "corr = df.corr()['Bankrupt?']\n",
        "corr[np.argsort(corr,axis=0)[::-1]]"
      ],
      "metadata": {
        "colab": {
          "base_uri": "https://localhost:8080/"
        },
        "id": "mKA5kDSUGy0K",
        "outputId": "cbf8d8e0-5180-46bd-9cc0-695ba9c9d9b3"
      },
      "execution_count": 7,
      "outputs": [
        {
          "output_type": "execute_result",
          "data": {
            "text/plain": [
              "Bankrupt?                                                   1.000000\n",
              " Equity to Liability                                       -0.083048\n",
              " Debt ratio %                                               0.250161\n",
              " Current Liability to Assets                                0.194494\n",
              " Borrowing dependency                                       0.176543\n",
              " Current Liability to Current Assets                        0.171306\n",
              " Liability to Equity                                        0.166812\n",
              " Current Liabilities/Equity                                 0.153828\n",
              " Current Liability to Equity                                0.153828\n",
              " Liability-Assets Flag                                      0.139212\n",
              " Total expense/Assets                                       0.139049\n",
              " Equity to Long-term Liability                              0.139014\n",
              " Cash/Current Liability                                     0.077921\n",
              " Inventory and accounts receivable/Net value                0.075278\n",
              " Fixed Assets Turnover Frequency                            0.072818\n",
              " Contingent liabilities/Net worth                           0.070455\n",
              " Fixed Assets to Assets                                     0.066328\n",
              " Net Value Growth Rate                                      0.065329\n",
              " Revenue per person                                         0.039718\n",
              " Total assets to GNP price                                  0.035104\n",
              " Quick Asset Turnover Rate                                  0.025814\n",
              " Quick Ratio                                                0.025058\n",
              " Net Worth Turnover Rate (times)                            0.021089\n",
              " Long-term fund suitability ratio (A)                       0.016920\n",
              " Total debt/Total net worth                                 0.012314\n",
              " Current Asset Turnover Rate                                0.011929\n",
              " Degree of Financial Leverage (DFL)                         0.010508\n",
              " Allocation rate per person                                 0.002829\n",
              " Inventory/Current Liability                                0.000822\n",
              " Long-term Liability to Current Assets                      0.000778\n",
              " Cash Flow to Sales                                         0.000479\n",
              " Operating Profit Rate                                     -0.000230\n",
              " Realized Sales Gross Profit Growth Rate                   -0.000458\n",
              " Inventory Turnover Rate (times)                           -0.001376\n",
              " Inventory/Working Capital                                 -0.001906\n",
              " Current Ratio                                             -0.002211\n",
              " Interest Expense Ratio                                    -0.002681\n",
              " Working capitcal Turnover Rate                            -0.002894\n",
              " Quick Assets/Current Liability                            -0.003823\n",
              " Revenue Per Share (Yuan ¥)                                -0.004692\n",
              " Accounts Receivable Turnover                              -0.004754\n",
              " Interest Coverage Ratio (Interest expense to EBIT)        -0.005509\n",
              " No-credit Interval                                        -0.005547\n",
              " Operating Expense Rate                                    -0.006083\n",
              " Average Collection Days                                   -0.006556\n",
              " Total income/Total expense                                -0.007137\n",
              " Continuous interest rate (after tax)                      -0.008395\n",
              " Pre-tax net Interest Rate                                 -0.008517\n",
              " After-tax net Interest Rate                               -0.008857\n",
              " Continuous Net Profit Growth Rate                         -0.009401\n",
              " Operating Profit Growth Rate                              -0.015168\n",
              " Non-industry income and expenditure/revenue               -0.016593\n",
              " Total Asset Return Growth Rate Ratio                      -0.016858\n",
              " Cash Turnover Rate                                        -0.018035\n",
              " Current Liability to Liability                            -0.020809\n",
              " Current Liabilities/Liability                             -0.020809\n",
              " Interest-bearing debt interest rate                       -0.023063\n",
              " Research and development expense rate                     -0.024232\n",
              " Regular Net Profit Growth Rate                            -0.036820\n",
              " After-tax Net Profit Growth Rate                          -0.037783\n",
              " Cash Flow to Liability                                    -0.043125\n",
              " Total Asset Growth Rate                                   -0.044431\n",
              " Current Assets/Total Assets                               -0.044823\n",
              " Cash Reinvestment %                                       -0.051345\n",
              " Cash Flow to Equity                                       -0.058563\n",
              " Total Asset Turnover                                      -0.067915\n",
              " Cash Flow to Total Assets                                 -0.070456\n",
              " Cash flow rate                                            -0.072356\n",
              " Operating Funds to Liability                              -0.077082\n",
              " Cash Flow Per Share                                       -0.077516\n",
              " Net Income Flag                                                 NaN\n",
              " Quick Assets/Total Assets                                 -0.086382\n",
              " Operating profit per person                               -0.092842\n",
              " Realized Sales Gross Margin                               -0.099445\n",
              " Operating Gross Margin                                    -0.100043\n",
              " Gross Profit to Sales                                     -0.100044\n",
              " Cash/Total Assets                                         -0.100130\n",
              " Tax rate (A)                                              -0.109706\n",
              " CFO to Assets                                             -0.115383\n",
              " Operating profit/Paid-in capital                          -0.141111\n",
              " Operating Profit Per Share (Yuan ¥)                       -0.142051\n",
              " Working Capital/Equity                                    -0.147221\n",
              " Net Value Per Share (C)                                   -0.164784\n",
              " Net Value Per Share (B)                                   -0.165399\n",
              " Net Value Per Share (A)                                   -0.165465\n",
              " Net Income to Stockholder's Equity                        -0.180987\n",
              " Working Capital to Total Assets                           -0.193083\n",
              " Per Share Net profit before tax (Yuan ¥)                  -0.201395\n",
              " Net profit before tax/Paid-in capital                     -0.207857\n",
              " Retained Earnings to Total Assets                         -0.217779\n",
              " Persistent EPS in the Last Four Seasons                   -0.219560\n",
              " Net worth/Assets                                          -0.250161\n",
              " ROA(C) before interest and depreciation before interest   -0.260807\n",
              " ROA(B) before interest and depreciation after tax         -0.273051\n",
              " ROA(A) before interest and % after tax                    -0.282941\n",
              " Net Income to Total Assets                                -0.315457\n",
              "Name: Bankrupt?, dtype: float64"
            ]
          },
          "metadata": {},
          "execution_count": 7
        }
      ]
    },
    {
      "cell_type": "markdown",
      "source": [
        "Variables with negative correlation indicate variables correlated with 0 Bankruptcy and variables with positive correlation indicate strong relationship to Bankruptcy. "
      ],
      "metadata": {
        "id": "oplOrneVHaYq"
      }
    },
    {
      "cell_type": "code",
      "source": [
        ""
      ],
      "metadata": {
        "id": "CI-Ebho7Hwto"
      },
      "execution_count": null,
      "outputs": []
    },
    {
      "cell_type": "markdown",
      "source": [
        "Exploring features related to Profitability and Solvency for consideration in the model and checking those features with Max values in the billions."
      ],
      "metadata": {
        "id": "bwDHB0PMpTh8"
      }
    },
    {
      "cell_type": "code",
      "source": [
        "#Looking at the shape of Interest-bearing debt interest rate to assess whether there's a relationship between the mean bankrupt rate across different interest values   \n",
        "histfunc = \"avg\"\n",
        "fig = px.histogram(df, \n",
        "                   x=\" Interest-bearing debt interest rate\", \n",
        "                   y=\"Bankrupt?\",\n",
        "                   histfunc=histfunc,\n",
        "                   title=f\"histfunc = {histfunc}\")\n",
        "#fig.update_layout(yaxis_title=\"Number of Countries\")\n",
        "fig.show()"
      ],
      "metadata": {
        "id": "kjF5SeuLph8b"
      },
      "execution_count": null,
      "outputs": []
    },
    {
      "cell_type": "code",
      "source": [
        "#Look at histogram with Interest-bearing debt interest rate for values <1\n",
        "#Rows with Interest-bearing debt interest rate <1 appear to have lower probabilities to be bankrupt\n",
        "\n",
        "intbear0 = df[df[' Interest-bearing debt interest rate'] <= 1]\n",
        "\n",
        "histfunc = \"avg\"\n",
        "fig = px.histogram(intbear0,\n",
        "                   x=' Interest-bearing debt interest rate',\n",
        "                   y=\"Bankrupt?\",\n",
        "                   histfunc=histfunc,\n",
        "                   title=f\"histfunc = {histfunc}\")\n",
        "fig.show()"
      ],
      "metadata": {
        "colab": {
          "base_uri": "https://localhost:8080/",
          "height": 542
        },
        "id": "Mi9bkVJvp2jd",
        "outputId": "c49c065d-1f89-47ac-e3dc-8147f1fc7293"
      },
      "execution_count": 6,
      "outputs": [
        {
          "output_type": "display_data",
          "data": {
            "text/html": [
              "<html>\n",
              "<head><meta charset=\"utf-8\" /></head>\n",
              "<body>\n",
              "    <div>            <script src=\"https://cdnjs.cloudflare.com/ajax/libs/mathjax/2.7.5/MathJax.js?config=TeX-AMS-MML_SVG\"></script><script type=\"text/javascript\">if (window.MathJax) {MathJax.Hub.Config({SVG: {font: \"STIX-Web\"}});}</script>                <script type=\"text/javascript\">window.PlotlyConfig = {MathJaxConfig: 'local'};</script>\n",
              "        <script src=\"https://cdn.plot.ly/plotly-2.8.3.min.js\"></script>                <div id=\"d183d4e3-2a40-4b36-bfaa-240c3849a5ef\" class=\"plotly-graph-div\" style=\"height:525px; width:100%;\"></div>            <script type=\"text/javascript\">                                    window.PLOTLYENV=window.PLOTLYENV || {};                                    if (document.getElementById(\"d183d4e3-2a40-4b36-bfaa-240c3849a5ef\")) {                    Plotly.newPlot(                        \"d183d4e3-2a40-4b36-bfaa-240c3849a5ef\",                        [{\"alignmentgroup\":\"True\",\"bingroup\":\"x\",\"histfunc\":\"avg\",\"hovertemplate\":\" Interest-bearing debt interest rate=%{x}<br>avg of Bankrupt?=%{y}<extra></extra>\",\"legendgroup\":\"\",\"marker\":{\"color\":\"#636efa\",\"pattern\":{\"shape\":\"\"}},\"name\":\"\",\"offsetgroup\":\"\",\"orientation\":\"v\",\"showlegend\":false,\"x\":[0.000725072507250725,0.000647064706470647,0.00079007900790079,0.000449044904490449,0.000686068606860686,0.000716071607160716,0.000805080508050805,0.00063006300630063,0.000737073707370737,0.000672067206720672,0.0005490549054905491,0.000703070307030703,0.000576057605760576,0.000709070907090709,0.0009100910091009099,0.000479047904790479,0.000523052305230523,0.000637063706370637,0.000619061906190619,0.00055005500550055,0.0,0.000775077507750775,0.000753075307530753,0.000645064506450645,0.000762076207620762,0.000739073907390739,0.000691069106910691,0.00106310631063106,0.000822082208220822,0.000842084208420842,0.000943094309430943,0.000827082708270827,0.000672067206720672,0.000728072807280728,0.000686068606860686,0.000596059605960596,0.000588058805880588,0.000612061206120612,0.000793079307930793,0.000797079707970797,0.000494049404940494,0.0005600560056005599,0.000593059305930593,0.000654065406540654,0.000566056605660566,0.0,0.0010711071107110698,0.00075007500750075,0.000655065506550655,0.000801080108010801,0.000676067606760676,0.0007980798079807981,0.000943094309430943,0.000852085208520852,0.000726072607260726,0.000558055805580558,0.00039903990399039904,0.000582058205820582,0.000708070807080708,0.000356035603560356,0.000408040804080408,0.00047604760476047597,0.000433043304330433,0.000594059405940594,0.000353035303530353,0.00038003800380037996,0.00042804280428042796,0.000231023102310231,0.00031403140314031403,0.000382038203820382,0.000339033903390339,0.000439043904390439,0.0,0.00031303130313031297,0.00044804480448044806,0.000554055405540554,0.000518051805180518,0.000677067706770677,0.000429042904290429,0.00055005500550055,0.000488048804880488,0.000587058705870587,0.00031403140314031403,0.000221022102210221,0.000709070907090709,0.00028602860286028596,0.00016401640164016398,0.000409040904090409,0.000237023702370237,0.000225022502250225,0.00026502650265026496,0.000131013101310131,0.000269026902690269,0.000244024402440244,0.000202020202020202,0.000181018101810181,0.33773277327732804,0.000268026802680268,0.000153015301530153,0.000326032603260326,0.000303030303030303,0.00031403140314031403,0.000402040204020402,0.00027202720272027204,0.000249024902490249,0.000984098409840984,0.0007440744074407441,0.000645064506450645,0.000671067106710671,0.000556055605560556,0.000597059705970597,0.000503050305030503,0.0,0.0,0.0005300530053005299,0.0,0.0006160616061606161,0.0009420942094209419,0.000523052305230523,0.000529052905290529,0.000618061806180618,0.00041404140414041403,0.000557055705570557,0.00047104710471047097,0.000649064906490649,0.000671067106710671,0.0006930693069306929,0.000389038903890389,0.000654065406540654,0.00125712571257126,0.000912091209120912,0.0005740574057405741,0.000619061906190619,0.000361036103610361,0.00033403340334033397,0.00043504350435043503,0.00037103710371037097,0.00018601860186018602,0.000229022902290229,0.00022402240224022403,0.0,0.000418041804180418,0.00029002900290029,0.000283028302830283,0.00034503450345034503,0.000362036203620362,0.000267026702670267,0.000252025202520252,0.00028702870287028703,0.000374037403740374,0.000467046704670467,0.0003000300030003,0.000197019701970197,0.000343034303430343,0.00018601860186018602,0.00027202720272027204,0.00026502650265026496,0.000259025902590259,0.000295029502950295,0.000261026102610261,0.00010601060106010601,0.000927092709270927,0.000244024402440244,0.00019001900190018998,0.0,0.00037003700370037,0.000184018401840184,0.000306030603060306,0.000195019501950195,0.00021202120212021201,0.000201020102010201,0.000248024802480248,0.00041004100410041,0.000332033203320332,0.000418041804180418,0.00010501050105010501,0.000264026402640264,0.00039203920392039197,0.000268026802680268,0.000229022902290229,0.0006950695069506951,0.000776077607760776,0.000841084108410841,0.0005890589058905889,0.000644064406440644,0.0052005200520052,0.000593059305930593,0.000554055405540554,0.000462046204620462,0.000615061506150615,0.000579057905790579,0.000597059705970597,0.000525052505250525,0.000765076507650765,0.000622062206220622,0.00058005800580058,0.000754075407540754,0.0007190719071907191,0.000437043704370437,0.000683068306830683,0.000497049704970497,0.000483048304830483,0.000551055105510551,0.000502050205020502,0.000671067106710671,0.000595059505950595,0.000599059905990599,0.00114411441144114,0.000652065206520652,0.0005420542054205419,0.000712071207120712,0.00046604660466046603,0.0,0.000709070907090709,0.000641064106410641,0.000734073407340734,0.0010701070107010699,0.000849084908490849,0.000647064706470647,0.0007100710071007099,0.0006160616061606161,0.000788078807880788,0.000716071607160716,0.000679067906790679,0.000696069606960696,0.000711071107110711,0.000895089508950895,0.000782078207820782,0.000633063306330633,0.000739073907390739,0.0008970897089708971,0.000575057505750575,0.000876087608760876,0.000536053605360536,0.000618061806180618,0.0,0.0006560656065606559,0.0006930693069306929,0.00058005800580058,0.00044004400440044003,0.000756075607560756,0.000534053405340534,0.000666066606660666,0.000603060306030603,0.0008860886088608859,0.000596059605960596,0.000405040504050405,0.00057005700570057,0.000764076407640764,0.0007470747074707469,0.00046604660466046603,0.000587058705870587,0.000568056805680568,0.000541054105410541,0.000657065706570657,0.000635063506350635,0.000671067106710671,0.000575057505750575,0.000678067806780678,0.0007420742074207419,0.000739073907390739,0.000599059905990599,0.000551055105510551,0.000506050605060506,0.000546054605460546,0.000506050605060506,0.000363036303630363,0.000788078807880788,0.00061006100610061,0.0008510851085108509,0.0007890789078907889,0.000741074107410741,0.0006310631063106309,0.000778077807780778,0.000687068706870687,0.000687068706870687,0.0005190519051905191,0.0009550955095509551,0.000718071807180718,0.000582058205820582,0.00047004700470047,0.00037603760376037597,0.000425042504250425,0.000698069806980698,0.000554055405540554,0.000575057505750575,0.00036503650365036496,0.00022002200220022002,0.00039903990399039904,0.00029202920292029197,0.00023302330233023301,0.000433043304330433,0.00032403240324032403,0.000326032603260326,0.000343034303430343,0.000501050105010501,0.0007490749074907491,0.000548054805480548,0.000527052705270527,0.000404040404040404,0.0005190519051905191,0.000425042504250425,0.000412041204120412,0.000256025602560256,0.000571057105710571,0.000356035603560356,0.0003000300030003,0.00018001800180018,0.000726072607260726,0.00028602860286028596,0.0005070507050705071,0.000231023102310231,0.000391039103910391,0.000331033103310331,0.000432043204320432,0.00027002700270027,0.000491049104910491,0.000706070607060706,0.00032403240324032403,0.00043504350435043503,0.0004900490049004901,0.000283028302830283,0.000667066706670667,0.0006210621062106209,0.00038003800380037996,0.0,0.00042404240424042403,0.00038703870387038703,0.000247024702470247,0.00039303930393039304,0.000152015201520152,0.00039303930393039304,0.000417041704170417,0.000236023602360236,0.00013601360136013602,0.000353035303530353,0.000169016901690169,0.000156015601560156,0.000281028102810281,0.000332033203320332,0.000195019501950195,0.000223022302230223,0.000394039403940394,0.000713071307130713,0.000363036303630363,0.000348034803480348,0.000382038203820382,0.00023902390239023902,0.000391039103910391,0.00023202320232023198,0.000199019901990199,0.000354035403540354,0.00029002900290029,0.00021702170217021698,0.000182018201820182,0.000463046304630463,0.000312031203120312,0.00045504550455045497,0.00014001400140013998,0.00018301830183018301,0.000153015301530153,0.000144014401440144,0.000305030503050305,0.000297029702970297,0.000588058805880588,0.0002000200020002,0.000421042104210421,0.000361036103610361,0.00214521452145215,0.000526052605260526,0.000385038503850385,0.00029002900290029,0.0,0.00033403340334033397,0.000252025202520252,0.000364036403640364,0.00021202120212021201,0.000337033703370337,0.000302030203020302,0.000282028202820282,0.000312031203120312,0.000147014701470147,0.00011901190119011899,0.00029302930293029304,0.000135013501350135,0.000145014501450145,0.000242024202420242,0.000259025902590259,0.000274027402740274,0.000191019101910191,0.000229022902290229,0.000833083308330833,0.00026002600260026,0.000264026402640264,0.00033003300330033,0.000218021802180218,0.00027602760276027597,0.000185018501850185,0.00017001700170017,0.00028702870287028703,0.00025002500250025,0.000181018101810181,0.000149014901490149,0.000275027502750275,0.00015001500150015,0.000247024702470247,0.000129012901290129,0.000169016901690169,0.000148014801480148,0.000153015301530153,0.000125012501250125,0.000291029102910291,0.00047304730473047305,0.00016701670167016698,0.000315031503150315,0.00029202920292029197,0.000261026102610261,0.000641064106410641,0.000297029702970297,0.00026002600260026,0.0,0.000278027802780278,0.000252025202520252,0.000409040904090409,0.000215021502150215,0.000254025402540254,0.00044004400440044003,0.000275027502750275,0.000322032203220322,0.000166016601660166,0.00013601360136013602,0.00032803280328032796,0.000135013501350135,0.000342034203420342,0.000204020402040204,0.000508050805080508,0.00032003200320032004,0.000235023502350235,0.000216021602160216,0.000978097809780978,0.000278027802780278,0.000221022102210221,0.000309030903090309,0.000406040604060406,0.000325032503250325,0.000185018501850185,0.000165016501650165,0.00027602760276027597,0.000227022702270227,0.000206020602060206,0.0,0.000291029102910291,0.0004000400040004,0.00019301930193019298,0.00016701670167016698,0.000176017601760176,0.0,0.000102010201020102,0.000256025602560256,0.000438043804380438,0.000194019401940194,0.000512051205120512,0.00029902990299029904,0.0,0.0,0.000338033803380338,0.000267026702670267,0.0,0.000316031603160316,0.00045004500450045,0.000281028102810281,0.000403040304030403,0.000249024902490249,0.00026002600260026,0.0,0.000337033703370337,0.000403040304030403,0.000249024902490249,0.000222022202220222,0.000437043704370437,0.00022402240224022403,0.0,0.000375037503750375,0.0,0.0,0.000274027402740274,0.000258025802580258,0.00100510051005101,0.00030703070307030696,0.000384038403840384,0.000227022702270227,0.00242924292429243,0.00030703070307030696,0.000223022302230223,0.00020702070207020702,0.000348034803480348,0.000234023402340234,0.000219021902190219,0.0,0.00019301930193019298,0.000989098909890989,0.000244024402440244,0.00026002600260026,0.00022402240224022403,0.0,0.00010601060106010601,0.000124012401240124,0.00026602660266026603,0.00045204520452045194,0.000283028302830283,0.00167916791679168,0.000356035603560356,0.0,0.0,0.000359035903590359,0.000472047204720472,0.000249024902490249,0.00044804480448044806,0.000282028202820282,0.0005740574057405741,0.0005860586058605861,0.000404040404040404,0.00026602660266026603,0.00027002700270027,0.0,0.000303030303030303,0.00038603860386038596,0.00031403140314031403,0.00023902390239023902,0.00039003900390039,0.000249024902490249,0.000202020202020202,0.00028002800280027996,0.0,0.00045204520452045194,0.00033403340334033397,0.00028702870287028703,0.00198219821982198,0.000319031903190319,0.000418041804180418,0.000332033203320332,0.0,0.000325032503250325,0.000252025202520252,0.00030703070307030696,0.000338033803380338,0.000264026402640264,0.00023802380238023798,0.0,0.00024502450245024503,0.000902090209020902,0.000298029802980298,0.00028002800280027996,0.00024502450245024503,0.000348034803480348,0.000339033903390339,0.00017001700170017,0.000333033303330333,0.000437043704370437,0.000283028302830283,0.00209120912091209,0.00033003300330033,0.00113811381138114,0.0,0.000353035303530353,0.00034003400340034,0.0,0.00027102710271027097,0.000381038103810381,0.00023902390239023902,0.000783078307830783,0.0005980598059805981,0.0005980598059805981,0.000727072707270727,0.00046404640464046395,0.000635063506350635,0.000729072907290729,0.000638063806380638,0.000512051205120512,0.0009370937093709369,0.00072007200720072,0.0,0.000398039803980398,0.000583058305830583,0.0005600560056005599,0.000664066406640664,0.000672067206720672,0.0010201020102010199,0.0007420742074207419,0.000824082408240824,0.000583058305830583,0.000629062906290629,0.000594059405940594,0.000751075107510751,0.0005840584058405839,0.000694069406940694,0.0006140614061406139,0.0007050705070507049,0.00037003700370037,0.0007740774077407741,0.00085008500850085,0.0008960896089608961,0.000672067206720672,0.0011081108110811099,0.0005890589058905889,0.00027602760276027597,0.000933093309330933,0.000771077107710771,0.00078007800780078,0.0009200920092009199,0.0006280628062806281,0.000463046304630463,0.000601060106010601,0.000492049204920492,0.0006140614061406139,0.000696069606960696,0.000728072807280728,0.0006700670067006701,0.0007190719071907191,0.0007520752075207519,0.000554055405540554,0.0009000900090009,0.0007490749074907491,0.000758075807580758,0.000731073107310731,0.0010211021102110199,0.0006230623062306231,0.000736073607360736,0.000875087508750875,0.0007730773077307731,0.000852085208520852,0.00061006100610061,0.000678067806780678,0.000714071407140714,0.0,0.0008510851085108509,0.000658065806580658,0.000563056305630563,0.000766076607660766,0.000536053605360536,0.000661066106610661,0.0007190719071907191,0.0007610761076107611,0.000553055305530553,0.000843084308430843,0.000632063206320632,0.000566056605660566,0.000841084108410841,0.000837083708370837,0.00139413941394139,0.000459045904590459,0.000553055305530553,0.000627062706270627,0.000635063506350635,0.000605060506050605,0.000978097809780978,0.000698069806980698,0.001001100110011,0.000564056405640564,0.000649064906490649,0.000141014101410141,0.000465046504650465,0.00027102710271027097,0.000702070207020702,0.000606060606060606,0.0007070707070707071,0.000235023502350235,0.000842084208420842,0.000699069906990699,0.000881088108810881,0.0009860986098609859,0.000576057605760576,0.00157415741574157,0.0010201020102010199,0.000983098309830983,0.000587058705870587,0.0007350735073507349,0.000805080508050805,0.0009520952095209519,0.00111411141114111,0.0006650665066506651,0.000284028402840284,0.00063006300630063,0.000509050905090509,0.000804080408040804,0.000606060606060606,0.0006680668066806679,0.000497049704970497,0.000568056805680568,0.000472047204720472,0.000564056405640564,0.0010681068106810699,0.000908090809080908,0.000624062406240624,0.00045504550455045497,0.000567056705670567,0.00058005800580058,0.000513051305130513,0.000785078507850785,0.0007490749074907491,0.0,0.000622062206220622,0.000502050205020502,0.0,0.000847084708470847,0.000433043304330433,0.0006110611061106111,0.000771077107710771,0.00048104810481048097,0.000281028102810281,0.000209020902090209,0.000632063206320632,0.00045204520452045194,0.000587058705870587,0.000166016601660166,0.000204020402040204,0.0005370537053705371,0.000629062906290629,0.000141014101410141,0.000332033203320332,0.000256025602560256,0.000289028902890289,0.00024502450245024503,0.0,0.000384038403840384,0.000166016601660166,0.00036003600360036,0.000178017801780178,0.000142014201420142,0.000362036203620362,0.000121012101210121,0.000479047904790479,0.00027102710271027097,0.000326032603260326,0.000203020302030203,0.00032803280328032796,0.00011001100110011001,0.000375037503750375,0.00036503650365036496,0.000326032603260326,0.0023112311231123102,0.000364036403640364,0.000409040904090409,0.000175017501750175,0.000201020102010201,0.0005910591059105911,0.00047304730473047305,0.000263026302630263,0.000426042604260426,0.000369036903690369,0.000468046804680468,0.000148014801480148,0.0005690569056905691,0.000629062906290629,0.000209020902090209,0.000148014801480148,0.00031003100310031,0.000622062206220622,0.000409040904090409,0.000279027902790279,0.000279027902790279,0.000288028802880288,0.00023902390239023902,0.000182018201820182,0.00029002900290029,0.000295029502950295,0.000423042304230423,0.000548054805480548,0.000195019501950195,0.000284028402840284,0.000274027402740274,0.00036503650365036496,0.00032403240324032403,0.0005610561056105611,0.0,0.000397039703970397,0.000706070607060706,0.0,0.000391039103910391,0.000312031203120312,0.000566056605660566,0.000267026702670267,0.00023802380238023798,0.00048104810481048097,0.000163016301630163,0.00015001500150015,0.000582058205820582,0.000246024602460246,0.000358035803580358,0.00011601160116011599,0.000221022102210221,0.000295029502950295,0.000385038503850385,0.0,0.000205020502050205,0.00034103410341034104,0.000213021302130213,0.000274027402740274,0.000194019401940194,0.0,0.000363036303630363,0.000132013201320132,0.000415041504150415,0.000178017801780178,0.0,0.00039203920392039197,0.000126012601260126,0.000236023602360236,0.000383038303830383,0.000525052505250525,0.000247024702470247,0.00028702870287028703,0.0002000200020002,0.000525052505250525,0.000142014201420142,0.000484048404840484,0.00031403140314031403,0.00028602860286028596,0.000127012701270127,0.000323032303230323,0.00023902390239023902,0.000322032203220322,0.000344034403440344,0.00024502450245024503,0.00032003200320032004,0.000267026702670267,0.00044004400440044003,0.000282028202820282,0.000209020902090209,0.00041404140414041403,0.0,0.00016701670167016698,0.00019601960196019599,0.00036503650365036496,0.0008210821082108209,0.00018001800180018,0.000219021902190219,0.0002000200020002,0.00022602260226022597,0.000343034303430343,0.000228022802280228,0.00036003600360036,0.000246024602460246,0.00021002100210021002,0.00019301930193019298,0.000252025202520252,0.000273027302730273,0.000109010901090109,0.000369036903690369,0.0,0.000259025902590259,0.000362036203620362,0.0,0.00027202720272027204,0.000231023102310231,0.000246024602460246,0.000206020602060206,0.000205020502050205,0.00041004100410041,0.000358035803580358,0.000209020902090209,0.000216021602160216,0.0006110611061106111,0.00026002600260026,0.000338033803380338,0.000192019201920192,0.000248024802480248,0.000258025802580258,0.00039303930393039304,0.0,0.00027002700270027,0.000277027702770277,0.00022402240224022403,0.000215021502150215,0.000243024302430243,0.0,0.000373037303730373,0.000169016901690169,0.00036503650365036496,0.000252025202520252,0.0,0.000191019101910191,0.000173017301730173,0.000278027802780278,0.00042404240424042403,0.000477047704770477,0.000235023502350235,0.000261026102610261,0.00023202320232023198,0.000291029102910291,0.00018301830183018301,0.00028002800280027996,0.00034003400340034,0.00021402140214021398,0.00046604660466046603,0.000297029702970297,0.000257025702570257,0.000278027802780278,0.00037603760376037597,0.00034503450345034503,0.00034503450345034503,0.0003000300030003,0.00019001900190018998,0.000418041804180418,0.000318031803180318,0.000277027702770277,0.00037203720372037204,0.000596059605960596,0.0008510851085108509,0.00034503450345034503,0.000346034603460346,0.000694069406940694,0.000187018701870187,0.000249024902490249,0.000277027702770277,0.000253025302530253,0.000415041504150415,0.00023902390239023902,0.000553055305530553,0.000383038303830383,0.00027202720272027204,0.00011601160116011599,0.000191019101910191,0.000468046804680468,0.000252025202520252,0.00012001200120011999,0.000385038503850385,0.000168016801680168,0.00021202120212021201,0.000364036403640364,0.0,0.000231023102310231,0.000213021302130213,0.00018801880188018798,0.000237023702370237,0.00021202120212021201,0.00047004700470047,0.000347034703470347,0.000213021302130213,0.00024502450245024503,0.000636063606360636,0.000277027702770277,0.00037103710371037097,0.000258025802580258,0.000349034903490349,0.00029302930293029304,0.000486048604860486,0.0,0.00036503650365036496,0.000285028502850285,0.000236023602360236,0.00027202720272027204,0.000254025402540254,0.000985098509850985,0.000444044404440444,0.000197019701970197,0.000381038103810381,0.000625062506250625,0.0023732373237323697,0.000231023102310231,0.000155015501550155,0.000332033203320332,0.000337033703370337,0.000357035703570357,0.00028002800280027996,0.000184018401840184,0.000248024802480248,0.00015001500150015,0.000234023402340234,0.000479047904790479,0.00031003100310031,0.00022402240224022403,0.000296029602960296,0.000289028902890289,0.00034003400340034,0.000263026302630263,0.000342034203420342,0.00028602860286028596,0.000377037703770377,0.000283028302830283,0.0,0.000416041604160416,0.000357035703570357,0.000284028402840284,0.000347034703470347,0.00016001600160016002,0.00274727472747275,0.000295029502950295,0.000279027902790279,0.000415041504150415,0.000176017601760176,0.000267026702670267,0.00026002600260026,0.00028602860286028596,0.000411041104110411,0.000291029102910291,0.0007610761076107611,0.00044104410441044104,0.000225022502250225,0.0,0.000275027502750275,0.000346034603460346,0.000267026702670267,0.000159015901590159,0.000479047904790479,0.00045004500450045,0.00027002700270027,0.000285028502850285,0.0,0.000257025702570257,0.000216021602160216,0.000201020102010201,0.000275027502750275,0.0002000200020002,0.000309030903090309,0.0005740574057405741,0.000228022802280228,0.000252025202520252,0.0005720572057205719,0.00029202920292029197,0.000383038303830383,0.000346034603460346,0.000291029102910291,0.00033503350335033503,0.000187018701870187,0.0,0.00042404240424042403,0.000318031803180318,0.000256025602560256,0.00026602660266026603,0.00027102710271027097,0.0,0.000439043904390439,0.000252025202520252,0.000346034603460346,0.00030103010301030096,0.00785678567856786,0.000263026302630263,0.000194019401940194,0.000322032203220322,0.000488048804880488,0.000581058105810581,0.000294029402940294,0.000198019801980198,0.000368036803680368,0.00023802380238023798,0.000258025802580258,0.000243024302430243,0.000364036403640364,0.000281028102810281,0.000343034303430343,0.000192019201920192,0.00026502650265026496,0.000315031503150315,0.000297029702970297,0.00044004400440044003,0.000347034703470347,0.000358035803580358,0.00027102710271027097,0.0,0.00043404340434043397,0.000333033303330333,0.000306030603060306,0.00036603660366036603,0.000362036203620362,0.000166016601660166,0.00033003300330033,0.000298029802980298,0.000327032703270327,0.000279027902790279,0.00025502550255025497,0.000288028802880288,0.000289028902890289,0.000275027502750275,0.000395039503950395,0.000269026902690269,0.000437043704370437,0.000458045804580458,0.000281028102810281,0.00036003600360036,0.00027002700270027,0.000342034203420342,0.00031303130313031297,0.000203020302030203,0.000442044204420442,0.000252025202520252,0.000242024202420242,0.0,0.000264026402640264,0.000284028402840284,0.000262026202620262,0.00032403240324032403,0.00022002200220022002,0.000659065906590659,0.00057005700570057,0.000619061906190619,0.000672067206720672,0.000559055905590559,0.000609060906090609,0.0,0.000521052105210521,0.00081008100810081,0.000556055605560556,0.000592059205920592,0.000506050605060506,0.000659065906590659,0.000447044704470447,0.000696069606960696,0.000578057805780578,0.0005980598059805981,0.000654065406540654,0.000453045304530453,0.000551055105510551,0.0,0.000528052805280528,0.00021202120212021201,0.000603060306030603,0.0005980598059805981,0.00048104810481048097,0.0006680668066806679,0.000564056405640564,0.0005000500050005,0.000363036303630363,0.000261026102610261,0.000351035103510351,0.000321032103210321,0.00023202320232023198,0.0,0.00042404240424042403,0.000352035203520352,0.00028702870287028703,0.000145014501450145,0.000288028802880288,0.00039203920392039197,0.000198019801980198,0.00047804780478047804,0.000346034603460346,0.00040104010401040095,0.000454045404540454,0.000425042504250425,0.000416041604160416,0.0,0.0018071807180718102,0.0046254625462546295,0.000368036803680368,0.000396039603960396,0.00027002700270027,0.000389038903890389,0.000418041804180418,0.00023202320232023198,0.000714071407140714,0.000671067106710671,0.0005350535053505349,0.00061006100610061,0.000689068906890689,0.00061006100610061,0.0007350735073507349,0.000489048904890489,0.0005490549054905491,0.0,0.0,0.00046004600460045997,0.00025502550255025497,0.000312031203120312,0.00078007800780078,0.0007860786078607861,0.000818081808180818,0.0007070707070707071,0.000599059905990599,0.0006280628062806281,0.000745074507450745,0.000353035303530353,0.00061006100610061,0.000567056705670567,0.000593059305930593,0.000608060806080608,0.0006140614061406139,0.000764076407640764,0.000622062206220622,0.000609060906090609,0.0007470747074707469,0.000684068406840684,0.00057005700570057,0.0006160616061606161,0.000618061806180618,0.000801080108010801,0.000697069706970697,0.0007050705070507049,0.00075007500750075,0.000606060606060606,0.000778077807780778,0.000801080108010801,0.00105810581058106,0.000692069206920692,0.000985098509850985,0.000624062406240624,0.000827082708270827,0.000737073707370737,0.000787078707870787,0.000768076807680768,0.000776077607760776,0.000604060406040604,0.000867086708670867,0.0008280828082808281,0.000624062406240624,0.000642064206420642,0.00075007500750075,0.000578057805780578,0.0004900490049004901,0.000603060306030603,0.000502050205020502,0.000615061506150615,0.000702070207020702,0.000754075407540754,0.000852085208520852,0.00082008200820082,0.00058005800580058,0.000635063506350635,0.00074007400740074,0.0005440544054405441,0.000538053805380538,0.000721072107210721,0.0009000900090009,0.0007840784078407839,0.000679067906790679,0.000836083608360836,0.000683068306830683,0.0007320732073207321,0.000855085508550855,0.000912091209120912,0.000607060706070607,0.000875087508750875,0.000677067706770677,0.000804080408040804,0.000852085208520852,0.000799079907990799,0.000518051805180518,0.000571057105710571,0.0006650665066506651,0.000419041904190419,0.000384038403840384,0.000622062206220622,0.000432043204320432,0.0005050505050505049,0.000551055105510551,0.000726072607260726,0.000733073307330733,0.000766076607660766,0.000477047704770477,0.0006480648064806481,0.000612061206120612,0.000377037703770377,0.000528052805280528,0.000593059305930593,0.0008280828082808281,0.000715071507150715,0.000675067506750675,0.000765076507650765,0.000671067106710671,0.000627062706270627,0.000745074507450745,0.000605060506050605,0.000506050605060506,0.000825082508250825,0.000643064306430643,0.0008280828082808281,0.000782078207820782,0.00044004400440044003,0.00023202320232023198,0.000484048404840484,0.000405040504050405,0.000123012301230123,0.00044804480448044806,0.00014001400140013998,0.000121012101210121,0.000285028502850285,0.000248024802480248,0.000218021802180218,0.0006280628062806281,0.007794779477947791,0.000394039403940394,0.000244024402440244,0.000121012101210121,0.000248024802480248,0.000303030303030303,0.0005730573057305731,0.000511051105110511,0.000486048604860486,0.000477047704770477,0.000427042704270427,0.000447044704470447,0.000458045804580458,0.000288028802880288,0.000302030203020302,0.000551055105510551,0.000298029802980298,0.00048204820482048203,0.000331033103310331,0.000474047404740474,0.000254025402540254,0.000194019401940194,0.000398039803980398,0.00017001700170017,0.000163016301630163,0.00022602260226022597,0.00018301830183018301,0.00037103710371037097,0.000431043104310431,0.000312031203120312,0.000208020802080208,0.00035503550355035497,0.00035003500350035,0.000377037703770377,0.000357035703570357,0.000174017401740174,0.000304030403040304,0.000309030903090309,0.000369036903690369,0.000283028302830283,0.00038703870387038703,0.000329032903290329,0.000206020602060206,0.000357035703570357,0.000325032503250325,0.000358035803580358,0.000257025702570257,0.000248024802480248,0.00027202720272027204,0.000228022802280228,0.000337033703370337,0.00022602260226022597,0.000701070107010701,0.000608060806080608,0.000673067306730673,0.000642064206420642,0.0005720572057205719,0.000706070607060706,0.000625062506250625,0.000305030503050305,0.000486048604860486,0.00059005900590059,0.000808080808080808,0.000816081608160816,0.0,0.0009390939093909391,0.00047004700470047,0.0009290929092909289,0.00077007700770077,0.000724072407240724,0.0006310631063106309,0.00052005200520052,0.000593059305930593,0.000619061906190619,0.000829082908290829,0.0007610761076107611,0.000412041204120412,0.00130913091309131,0.000568056805680568,0.000449044904490449,0.000669066906690669,0.0,0.000667066706670667,0.0010201020102010199,0.0005100510051005099,0.000363036303630363,0.000846084608460846,0.000948094809480948,0.000655065506550655,0.0,0.00174417441744174,0.000965096509650965,0.000654065406540654,0.000646064606460646,0.000671067106710671,0.0,0.0,0.000689068906890689,0.000312031203120312,0.000522052205220522,0.0005910591059105911,0.000439043904390439,0.000641064106410641,0.000508050805080508,0.00044304430443044295,0.0,0.0006000600060006,0.000685068506850685,0.00626562656265627,0.0009800980098009801,0.0005600560056005599,0.0,0.0009970997099709971,0.0,0.0003000300030003,0.000619061906190619,0.000568056805680568,0.000766076607660766,0.00108510851085109,0.000803080308030803,0.00176317631763176,0.000743074307430743,0.000824082408240824,0.0007050705070507049,0.000647064706470647,0.000635063506350635,0.0011571157115711599,0.0007770777077707769,0.000787078707870787,0.000595059505950595,0.000114011401140114,0.00016401640164016398,0.000356035603560356,0.000836083608360836,0.0,0.00082008200820082,0.000243024302430243,0.0007000700070007,0.000696069606960696,0.0009390939093909391,0.0006160616061606161,0.000259025902590259,0.0009560956095609561,0.000568056805680568,0.0007070707070707071,0.0,0.00062006200620062,0.000647064706470647,0.0,0.000753075307530753,0.000781078107810781,0.000567056705670567,0.000684068406840684,0.000316031603160316,0.000862086208620862,0.000606060606060606,0.000803080308030803,0.000557055705570557,0.000395039503950395,0.0010711071107110698,0.00047004700470047,0.000824082408240824,0.000694069406940694,0.000368036803680368,0.000555055505550555,0.0,0.000536053605360536,0.000521052105210521,0.000822082208220822,0.000725072507250725,0.000745074507450745,0.00202520252025203,0.000715071507150715,0.00227522752275228,0.00159315931593159,0.000884088408840884,0.000579057905790579,0.0405600560056006,0.000866086608660866,0.000647064706470647,0.000632063206320632,0.0,0.0,0.000637063706370637,0.000484048404840484,0.000593059305930593,0.0007100710071007099,0.000812081208120812,0.000641064106410641,0.000916091609160916,0.0008280828082808281,0.000699069906990699,0.000843084308430843,0.000426042604260426,0.0,0.00075007500750075,0.00059005900590059,0.000794079407940794,0.0,0.000954095409540954,0.0005890589058905889,0.0,0.000689068906890689,0.000667066706670667,0.000783078307830783,0.0007000700070007,0.000902090209020902,0.0,0.000698069806980698,0.000568056805680568,0.000578057805780578,0.000883088308830883,0.00066006600660066,0.000793079307930793,0.0,0.000884088408840884,0.0009070907090709071,0.000899089908990899,0.000566056605660566,0.000304030403040304,0.00115511551155116,0.000876087608760876,0.000629062906290629,0.000198019801980198,0.0,0.0416711671167117,0.000746074607460746,0.000985098509850985,0.000647064706470647,0.0007730773077307731,0.00101810181018102,0.000333033303330333,0.0007490749074907491,0.000563056305630563,0.000622062206220622,0.000698069806980698,0.000717071707170717,0.000131013101310131,0.00043504350435043503,0.000658065806580658,0.000636063606360636,0.0007520752075207519,0.000496049604960496,0.0005740574057405741,0.000608060806080608,0.0005690569056905691,0.0,0.000509050905090509,0.00046904690469046906,0.000468046804680468,0.0005320532053205321,0.000555055505550555,0.0,0.0006140614061406139,0.0005320532053205321,0.000397039703970397,0.000566056605660566,0.0,0.000686068606860686,0.0006510651065106509,0.00040104010401040095,0.000534053405340534,0.00043504350435043503,0.00074007400740074,0.000427042704270427,0.0,0.00011201120112011201,0.0006820682068206821,0.000296029602960296,0.000982098209820982,0.000171017101710171,0.000406040604060406,0.000432043204320432,0.00127612761276128,0.000467046704670467,0.000175017501750175,0.000538053805380538,0.0006650665066506651,0.0008260826082608259,0.00100610061006101,0.000917091709170917,0.0006820682068206821,0.0,0.000326032603260326,0.000803080308030803,0.0,0.0,0.0006930693069306929,0.0005470547054705469,0.00063006300630063,0.000304030403040304,0.000568056805680568,0.000638063806380638,0.000647064706470647,0.0005860586058605861,0.000592059205920592,0.00068006800680068,0.0,0.000633063306330633,0.000864086408640864,0.00104610461046105,0.0,0.000845084508450845,0.000764076407640764,0.000496049604960496,0.000711071107110711,0.000683068306830683,0.000787078707870787,0.000709070907090709,0.0008020802080208019,0.0,0.000479047904790479,0.000565056505650565,0.000502050205020502,0.000881088108810881,0.00044004400440044003,0.000575057505750575,0.000704070407040704,0.000852085208520852,0.000617061706170617,0.000633063306330633,0.000395039503950395,0.00339333933393339,0.000596059605960596,0.000526052605260526,0.00022002200220022002,0.0,0.00373137313731373,0.000783078307830783,0.000819081908190819,0.0006510651065106509,0.0007730773077307731,0.00100710071007101,0.0,0.0007320732073207321,0.000451045104510451,0.0006310631063106309,0.000754075407540754,0.0009640964096409641,0.000567056705670567,0.000567056705670567,0.000662066206620662,0.000543054305430543,0.00033403340334033397,0.00041304130413041297,0.0008390839083908389,0.000384038403840384,0.000585058505850585,0.00046104610461046103,0.00039003900390039,0.000696069606960696,0.000329032903290329,0.000458045804580458,0.0005000500050005,0.0,0.00044504450445044503,0.0005740574057405741,0.000289028902890289,0.000363036303630363,0.0,0.000646064606460646,0.0006950695069506951,0.000764076407640764,0.000325032503250325,0.000538053805380538,0.0005730573057305731,0.000156015601560156,0.0006510651065106509,0.00032803280328032796,0.000403040304030403,0.00024102410241024102,0.000405040504050405,0.00526952695269527,0.0,0.0019011901190119,0.000506050605060506,0.000358035803580358,0.00046404640464046395,0.00125212521252125,0.000349034903490349,0.00014601460146014599,0.0012061206120612099,0.000514051405140514,0.0,0.00023002300230022998,0.00147914791479148,0.0,0.0,0.0,0.000109010901090109,0.000499049904990499,0.000545054505450545,0.0008700870087008701,0.000766076607660766,0.0,0.000508050805080508,0.000404040404040404,0.0,0.000364036403640364,0.000474047404740474,0.0007000700070007,0.000152015201520152,0.00035503550355035497,0.00020702070207020702,0.0,0.000155015501550155,0.000861086108610861,0.00021002100210021002,0.0,0.000699069906990699,0.000696069606960696,0.0005190519051905191,0.000767076707670767,0.00043404340434043397,0.0005610561056105611,0.000778077807780778,0.0,0.000446044604460446,0.000438043804380438,0.000521052105210521,0.0,0.0005100510051005099,0.000127012701270127,0.00045204520452045194,0.0006280628062806281,0.0006110611061106111,0.000499049904990499,0.00010601060106010601,0.0007100710071007099,0.000175017501750175,0.0005190519051905191,0.0004950495049504951,0.000128012801280128,0.000199019901990199,0.002000200020002,0.000699069906990699,0.0006160616061606161,0.000336033603360336,0.000546054605460546,0.000576057605760576,0.0,0.000659065906590659,0.00037203720372037204,0.000499049904990499,0.000439043904390439,0.00043004300430043,0.00024502450245024503,0.0005740574057405741,0.00028002800280027996,0.0005470547054705469,0.00044304430443044295,0.000541054105410541,0.000523052305230523,0.000331033103310331,0.000601060106010601,0.00034503450345034503,0.0008230823082308231,0.000382038203820382,0.000578057805780578,0.000327032703270327,0.0005190519051905191,0.00019601960196019599,0.00035503550355035497,0.00034503450345034503,0.0,0.000151015101510151,0.000192019201920192,0.000237023702370237,0.0,0.00037103710371037097,0.000439043904390439,0.000422042204220422,0.00023002300230022998,0.0,0.00036603660366036603,0.000258025802580258,0.00016401640164016398,0.000131013101310131,0.0006230623062306231,0.000194019401940194,0.00040104010401040095,0.000236023602360236,0.00322332233223322,0.0007300730073007299,0.000351035103510351,0.000317031703170317,0.0,0.000403040304030403,0.00026602660266026603,0.00024102410241024102,0.000356035603560356,0.000551055105510551,0.000684068406840684,0.000197019701970197,0.000351035103510351,0.0,0.000103010301030103,0.000231023102310231,0.00212721272127213,0.0,0.0,0.00024002400240023998,0.000433043304330433,0.00012001200120011999,0.000176017601760176,0.000555055505550555,0.000331033103310331,0.000343034303430343,0.0,0.00033003300330033,0.000347034703470347,0.000474047404740474,0.00015401540154015401,0.000191019101910191,0.000108010801080108,0.0,0.0,0.00037003700370037,0.000243024302430243,0.0,0.000613061306130613,0.000333033303330333,0.0006390639063906389,0.000208020802080208,0.000397039703970397,0.0,0.0,0.000248024802480248,0.00031303130313031297,0.00034103410341034104,0.000349034903490349,0.00018801880188018798,0.000518051805180518,0.00058005800580058,0.0002000200020002,0.000329032903290329,0.000125012501250125,0.000408040804080408,0.00013801380138013798,0.000263026302630263,0.0,0.000553055305530553,0.000302030203020302,0.00016701670167016698,0.000351035103510351,0.000384038403840384,0.0,0.000545054505450545,0.000231023102310231,0.000388038803880388,0.000318031803180318,0.0003000300030003,0.000311031103110311,0.000236023602360236,0.000379037903790379,0.000295029502950295,0.000161016101610161,0.000141014101410141,0.000201020102010201,0.000349034903490349,0.000216021602160216,0.00022002200220022002,0.000185018501850185,0.000346034603460346,0.000306030603060306,0.000755075507550755,0.000425042504250425,0.000284028402840284,0.000268026802680268,0.000415041504150415,0.00023802380238023798,0.000243024302430243,0.000342034203420342,0.0,0.000151015101510151,0.000175017501750175,0.000576057605760576,0.000209020902090209,0.0,0.000508050805080508,0.000475047504750475,0.000197019701970197,0.000467046704670467,0.000388038803880388,0.000223022302230223,0.0014271427142714301,0.00027102710271027097,0.000234023402340234,0.000368036803680368,0.0,0.000246024602460246,0.00022602260226022597,0.00015701570157015702,0.000316031603160316,0.00014301430143014298,0.000306030603060306,0.000291029102910291,0.000288028802880288,0.000305030503050305,0.000256025602560256,0.00019301930193019298,0.0,0.00023902390239023902,0.000259025902590259,0.0,0.000327032703270327,0.000408040804080408,0.00027202720272027204,0.000327032703270327,0.0,0.000277027702770277,0.000222022202220222,0.0,0.0,0.0006140614061406139,0.00047004700470047,0.000497049704970497,0.0,0.0,0.000202020202020202,0.000358035803580358,0.000282028202820282,0.000348034803480348,0.000557055705570557,0.000118011801180118,0.00032003200320032004,0.00013301330133013301,0.00023202320232023198,0.0,0.00041004100410041,0.000274027402740274,0.000197019701970197,0.000303030303030303,0.000259025902590259,0.000247024702470247,0.000206020602060206,0.000295029502950295,0.000317031703170317,0.00036003600360036,0.0004900490049004901,0.00024502450245024503,0.00044004400440044003,0.000419041904190419,0.000475047504750475,0.000383038303830383,0.0,0.000514051405140514,0.000363036303630363,0.000444044404440444,0.0,0.00016401640164016398,0.000285028502850285,0.000391039103910391,0.00034003400340034,0.000229022902290229,0.00213121312131213,0.000459045904590459,0.000259025902590259,0.000338033803380338,0.000351035103510351,0.000262026202620262,0.00041004100410041,0.000185018501850185,0.000536053605360536,0.0,0.00038703870387038703,0.00031003100310031,0.0,0.0005470547054705469,0.0,0.0,0.000252025202520252,0.000382038203820382,0.00028602860286028596,0.000541054105410541,0.00034503450345034503,0.000216021602160216,0.000247024702470247,0.000289028902890289,0.000378037803780378,0.00023302330233023301,0.0005720572057205719,0.00027602760276027597,0.00027602760276027597,0.000262026202620262,0.000504050405040504,0.00024002400240023998,0.000332033203320332,0.000312031203120312,0.0010861086108610901,0.000454045404540454,0.00044804480448044806,0.00052005200520052,0.000318031803180318,0.000453045304530453,0.000554055405540554,0.000497049704970497,0.0,0.0,0.00030103010301030096,0.000588058805880588,0.0006950695069506951,0.000213021302130213,0.00026002600260026,0.000661066106610661,0.000329032903290329,0.000291029102910291,0.000426042604260426,0.000319031903190319,0.000474047404740474,0.000373037303730373,0.000625062506250625,0.00081008100810081,0.00048204820482048203,0.00036503650365036496,0.0,0.00032403240324032403,0.000515051505150515,0.0,0.0,0.00045204520452045194,0.000236023602360236,0.00035503550355035497,0.000404040404040404,0.000199019901990199,0.000309030903090309,0.0008530853085308531,0.0008000800080008,0.000696069606960696,0.000793079307930793,0.000714071407140714,0.0008280828082808281,0.000578057805780578,0.000697069706970697,0.000579057905790579,0.000711071107110711,0.000513051305130513,0.000804080408040804,0.0006630663066306629,0.000698069806980698,0.000458045804580458,0.0005770577057705769,0.000722072207220722,0.0005300530053005299,0.000562056205620562,0.000657065706570657,0.000782078207820782,0.000787078707870787,0.000894089408940894,0.000462046204620462,0.000743074307430743,0.000866086608660866,0.0010771077107710801,0.000965096509650965,0.0,0.000638063806380638,0.000633063306330633,0.0013611361136113599,0.000562056205620562,0.000652065206520652,0.000683068306830683,0.000755075507550755,0.0,0.000782078207820782,0.000781078107810781,0.0009070907090709071,0.000679067906790679,0.000717071707170717,0.000806080608060806,0.0009110911091109109,0.000704070407040704,0.000726072607260726,0.0,0.0012151215121512199,0.00216921692169217,0.0,0.000587058705870587,0.000422042204220422,0.0006680668066806679,0.0008390839083908389,0.0006650665066506651,0.000812081208120812,0.000738073807380738,0.000704070407040704,0.000758075807580758,0.0009110911091109109,0.000641064106410641,0.000741074107410741,0.000617061706170617,0.000696069606960696,0.000527052705270527,0.000794079407940794,0.000657065706570657,0.0006820682068206821,0.000491049104910491,0.0005520552055205519,0.0006000600060006,0.000492049204920492,0.000724072407240724,0.0006000600060006,0.0008560856085608559,0.000801080108010801,0.0008280828082808281,0.000383038303830383,0.000706070607060706,0.000582058205820582,0.000694069406940694,0.0007490749074907491,0.0,0.0006110611061106111,0.0006400640064006401,0.0009000900090009,0.000497049704970497,0.000649064906490649,0.000642064206420642,0.00057005700570057,0.0008700870087008701,0.000849084908490849,0.000704070407040704,0.000792079207920792,0.00057005700570057,0.00082008200820082,0.000767076707670767,0.0007690769076907691,0.000652065206520652,0.000819081908190819,0.0008630863086308629,0.0008260826082608259,0.0,0.0,0.000657065706570657,0.0,0.000759075907590759,0.000679067906790679,0.00085008500850085,0.000597059705970597,0.000708070807080708,0.000677067706770677,0.000712071207120712,0.000491049104910491,0.000743074307430743,0.0006650665066506651,0.00061006100610061,0.0004900490049004901,0.0005490549054905491,0.000697069706970697,0.000516051605160516,0.000781078107810781,0.000429042904290429,0.0008020802080208019,0.000817081708170817,0.000715071507150715,0.000588058805880588,0.0006630663066306629,0.000557055705570557,0.000908090809080908,0.000936093609360936,0.000339033903390339,0.000357035703570357,0.000555055505550555,0.00072007200720072,0.0008960896089608961,0.00048004800480047996,0.0007720772077207719,0.00043404340434043397,0.000477047704770477,0.000644064406440644,0.000901090109010901,0.0007320732073207321,0.00066006600660066,0.000558055805580558,0.00166116611661166,0.000704070407040704,0.000776077607760776,0.000555055505550555,0.000762076207620762,0.000425042504250425,0.0005890589058905889,0.0,0.0,0.0005720572057205719,0.0,0.0004900490049004901,0.0,0.000876087608760876,0.000258025802580258,0.000327032703270327,0.000432043204320432,0.000201020102010201,0.0008700870087008701,0.000618061806180618,0.000506050605060506,0.000159015901590159,0.000351035103510351,0.000378037803780378,0.000297029702970297,0.00035003500350035,0.000496049604960496,0.000646064606460646,0.00039203920392039197,0.000494049404940494,0.000351035103510351,0.000597059705970597,0.000374037403740374,0.00040104010401040095,0.00018601860186018602,0.00011001100110011001,0.00036503650365036496,0.000592059205920592,0.0005070507050705071,0.00034503450345034503,0.000155015501550155,0.000261026102610261,0.0005610561056105611,0.000426042604260426,0.000676067606760676,0.000558055805580558,0.000491049104910491,0.00015401540154015401,0.00036003600360036,0.000352035203520352,0.000436043604360436,0.00029002900290029,0.000322032203220322,0.000151015101510151,0.000298029802980298,0.0,0.0,0.0,0.00022402240224022403,0.00014301430143014298,0.000502050205020502,0.0,0.00027602760276027597,0.000327032703270327,0.000173017301730173,0.000548054805480548,0.000571057105710571,0.000442044204420442,0.000199019901990199,0.000295029502950295,0.000315031503150315,0.00019301930193019298,0.000279027902790279,0.00010501050105010501,0.00026602660266026603,0.00048104810481048097,0.00029202920292029197,0.00042804280428042796,0.000359035903590359,0.00019601960196019599,0.000383038303830383,0.00018301830183018301,0.00031403140314031403,0.000198019801980198,0.000283028302830283,0.00032803280328032796,0.000213021302130213,0.000349034903490349,0.000216021602160216,0.000141014101410141,0.00013001300130013,0.000242024202420242,0.00023302330233023301,0.0004930493049304929,0.00034103410341034104,0.000319031903190319,0.00011201120112011201,0.000248024802480248,0.000284028402840284,0.000211021102110211,0.000329032903290329,0.00027102710271027097,0.00034503450345034503,0.000223022302230223,0.0,0.0,0.000615061506150615,0.000517051705170517,0.00036603660366036603,0.0,0.0,0.00018801880188018798,0.00031403140314031403,0.00019001900190018998,0.00039203920392039197,0.00052005200520052,0.000358035803580358,0.00021202120212021201,0.000281028102810281,0.00029202920292029197,0.000195019501950195,0.00028002800280027996,0.000129012901290129,0.000278027802780278,0.00042804280428042796,0.000285028502850285,0.00038603860386038596,0.000315031503150315,0.000219021902190219,0.00031003100310031,0.00039003900390039,0.000342034203420342,0.000331033103310331,0.000199019901990199,0.000352035203520352,0.000208020802080208,0.000438043804380438,0.00023302330233023301,0.00013301330133013301,0.000109010901090109,0.000227022702270227,0.000305030503050305,0.00032003200320032004,0.000258025802580258,0.000331033103310331,0.00015701570157015702,0.000228022802280228,0.000294029402940294,0.00018301830183018301,0.000403040304030403,0.000209020902090209,0.000437043704370437,0.00048004800480047996,0.0,0.00013301330133013301,0.000275027502750275,0.00041404140414041403,0.000446044604460446,0.000203020302030203,0.000262026202620262,0.000306030603060306,0.000269026902690269,0.0005600560056005599,0.000321032103210321,0.000269026902690269,0.000229022902290229,0.000294029402940294,0.00023902390239023902,0.000517051705170517,0.000218021802180218,0.00030803080308030803,0.000564056405640564,0.000277027702770277,0.000338033803380338,0.000385038503850385,0.000208020802080208,0.000362036203620362,0.000275027502750275,0.0,0.000474047404740474,0.00018801880188018798,0.0,0.000384038403840384,0.000258025802580258,0.00047104710471047097,0.00027202720272027204,0.000264026402640264,0.00013601360136013602,0.0003000300030003,0.000263026302630263,0.000316031603160316,0.000294029402940294,0.000389038903890389,0.000222022202220222,0.00029302930293029304,0.00029302930293029304,0.00022602260226022597,0.000229022902290229,0.0,0.0008890889088908891,0.000235023502350235,0.0,0.000297029702970297,0.00040704070407040696,0.0,0.00025502550255025497,0.000257025702570257,0.000332033203320332,0.000317031703170317,0.00055005500550055,0.000317031703170317,0.00030703070307030696,0.00028702870287028703,0.000337033703370337,0.00025002500250025,0.00021002100210021002,0.00028602860286028596,0.000352035203520352,0.000792079207920792,0.000318031803180318,0.0004950495049504951,0.000467046704670467,0.000278027802780278,0.0003000300030003,0.00036503650365036496,0.00027602760276027597,0.00031403140314031403,0.000325032503250325,0.000173017301730173,0.000363036303630363,0.00025002500250025,0.00054005400540054,0.000326032603260326,0.000161016101610161,0.000243024302430243,0.000204020402040204,0.000291029102910291,0.000311031103110311,0.000325032503250325,0.000437043704370437,0.00023002300230022998,0.000321032103210321,0.00030803080308030803,0.00026602660266026603,0.000268026802680268,0.00063006300630063,0.00037203720372037204,0.0,0.000228022802280228,0.000862086208620862,0.0006000600060006,0.00082008200820082,0.000675067506750675,0.0005890589058905889,0.000594059405940594,0.000403040304030403,0.0,0.000566056605660566,0.000486048604860486,0.000576057605760576,0.000583058305830583,0.0,0.000527052705270527,0.0006280628062806281,0.0006530653065306531,0.000644064406440644,0.0009140914091409141,0.000815081508150815,0.00127012701270127,0.0008630863086308629,0.000593059305930593,0.0,0.000873087308730873,0.0006140614061406139,0.0123572357235724,0.000649064906490649,0.000832083208320832,0.000754075407540754,0.000364036403640364,0.000406040604060406,0.000156015601560156,0.000305030503050305,0.00024102410241024102,0.000329032903290329,0.000261026102610261,0.000354035403540354,0.000354035403540354,0.000317031703170317,0.000244024402440244,0.000389038903890389,0.000339033903390339,0.000187018701870187,0.00033403340334033397,0.000303030303030303,0.000244024402440244,0.0,0.000225022502250225,0.000306030603060306,0.00034503450345034503,0.000348034803480348,0.00013601360136013602,0.000144014401440144,0.000288028802880288,0.00027102710271027097,0.000465046504650465,0.00026602660266026603,0.000199019901990199,0.000123012301230123,0.000298029802980298,0.00037003700370037,0.00030103010301030096,0.000327032703270327,0.000333033303330333,0.000397039703970397,0.000277027702770277,0.00029202920292029197,0.000315031503150315,0.000229022902290229,0.000343034303430343,0.00039303930393039304,0.000431043104310431,0.0,0.0,0.00024502450245024503,0.000248024802480248,0.0,0.000175017501750175,0.00015701570157015702,0.00019001900190018998,0.000369036903690369,0.00026002600260026,0.000818081808180818,0.0,0.000613061306130613,0.0005720572057205719,0.000576057605760576,0.0121092109210921,0.7960796079607959,0.00040704070407040696,0.00063006300630063,0.0,0.000801080108010801,0.0008210821082108209,0.000606060606060606,0.000716071607160716,0.000683068306830683,0.0,0.000582058205820582,0.000553055305530553,0.000654065406540654,0.000764076407640764,0.000195019501950195,0.000555055505550555,0.19865286528652898,0.000743074307430743,0.000632063206320632,0.000426042604260426,0.00039303930393039304,0.000379037903790379,0.0,0.000833083308330833,0.0,0.0004930493049304929,0.0008310831083108309,0.000725072507250725,0.0,0.000373037303730373,0.00039903990399039904,0.000391039103910391,0.0008650865086508651,0.000244024402440244,0.000497049704970497,0.00036003600360036,0.000531053105310531,0.000554055405540554,0.000215021502150215,0.000246024602460246,0.0,0.000765076507650765,0.000565056505650565,0.000152015201520152,0.0,0.00061006100610061,0.000783078307830783,0.00068006800680068,0.000391039103910391,0.0006480648064806481,0.000736073607360736,0.0007420742074207419,0.0008800880088008801,0.0006260626062606259,0.0008680868086808679,0.000864086408640864,0.0537553755375538,0.00063006300630063,0.00068006800680068,0.00173917391739174,0.0,0.000624062406240624,0.000658065806580658,0.0,0.000799079907990799,0.000662066206620662,0.000854085408540854,0.0005190519051905191,0.000548054805480548,0.00045704570457045704,0.000835083508350835,0.000551055105510551,0.0,0.00035503550355035497,0.000667066706670667,0.00018301830183018301,0.00066006600660066,0.000459045904590459,0.000501050105010501,0.000526052605260526,0.000728072807280728,0.000545054505450545,0.0008310831083108309,0.0004950495049504951,0.000592059205920592,0.000316031603160316,0.00039003900390039,0.00019301930193019298,0.0042104210421042105,0.0059005900590059,0.000622062206220622,0.000556055605560556,0.0,0.000827082708270827,0.000655065506550655,0.000683068306830683,0.0005840584058405839,0.0,0.000582058205820582,0.0005840584058405839,0.000633063306330633,0.000692069206920692,0.000731073107310731,0.000667066706670667,0.00151415141514151,0.000978097809780978,0.0011981198119812,0.0006400640064006401,0.0009000900090009,0.0007910791079107911,0.0005610561056105611,0.00062006200620062,0.000645064506450645,0.0006680668066806679,0.000768076807680768,0.000736073607360736,0.0009000900090009,0.000618061806180618,0.0,0.000702070207020702,0.000525052505250525,0.0036173617361736203,0.0007770777077707769,0.0,0.000646064606460646,0.00066006600660066,0.0,0.000673067306730673,0.000596059605960596,0.0,0.000688068806880688,0.00107910791079108,0.000583058305830583,0.000776077607760776,0.0008630863086308629,0.0142874287428743,0.000465046504650465,0.0007840784078407839,0.000545054505450545,0.00081008100810081,0.000659065906590659,0.00047304730473047305,0.00048104810481048097,0.000727072707270727,0.000522052205220522,0.0012981298129813,0.000398039803980398,0.00054005400540054,0.0005520552055205519,0.000247024702470247,0.000296029602960296,0.000758075807580758,0.000884088408840884,0.000638063806380638,0.0005720572057205719,0.000596059605960596,0.0,0.0008260826082608259,0.0006140614061406139,0.0005980598059805981,0.000563056305630563,0.0,0.000983098309830983,0.0008280828082808281,0.0005910591059105911,0.000766076607660766,0.0006160616061606161,0.000711071107110711,0.00100810081008101,0.0007690769076907691,0.0006510651065106509,0.0006820682068206821,0.0006530653065306531,0.000961096109610961,0.0004930493049304929,0.0005370537053705371,0.00245624562456246,0.000685068506850685,0.0006160616061606161,0.0008680868086808679,0.00081008100810081,0.0008210821082108209,0.000734073407340734,0.00041404140414041403,0.0007000700070007,0.000333033303330333,0.000548054805480548,0.000697069706970697,0.0,0.000643064306430643,0.000642064206420642,0.0,0.000546054605460546,0.000633063306330633,0.0,0.00063006300630063,0.000446044604460446,0.000527052705270527,0.000759075907590759,0.00209120912091209,0.00292229222922292,0.000734073407340734,0.000845084508450845,0.000696069606960696,0.000726072607260726,0.000504050405040504,0.000583058305830583,0.000672067206720672,0.00046604660466046603,0.000296029602960296,0.000606060606060606,0.000509050905090509,0.000382038203820382,0.000501050105010501,0.000474047404740474,0.000624062406240624,0.000701070107010701,0.000666066606660666,0.000344034403440344,0.000373037303730373,0.0,0.000667066706670667,0.0005770577057705769,0.000627062706270627,0.000486048604860486,0.0,0.0010701070107010699,0.000763076307630763,0.000571057105710571,0.000737073707370737,0.0006530653065306531,0.00058005800580058,0.0009140914091409141,0.000763076307630763,0.000941094109410941,0.000712071207120712,0.000645064506450645,0.00892589258925893,0.0007840784078407839,0.000409040904090409,0.000311031103110311,0.00244624462446245,0.00066006600660066,0.0005740574057405741,0.000725072507250725,0.0008680868086808679,0.0009970997099709971,0.00037603760376037597,0.000504050405040504,0.000489048904890489,0.00032803280328032796,0.000389038903890389,0.000801080108010801,0.000139013901390139,0.000565056505650565,0.000539053905390539,0.0,0.000426042604260426,0.000404040404040404,0.0,0.000269026902690269,0.000396039603960396,0.0004000400040004,0.000612061206120612,0.000562056205620562,0.00228622862286229,0.00037103710371037097,0.000609060906090609,0.000878087808780878,0.000429042904290429,0.000654065406540654,0.000101010101010101,0.000449044904490449,0.00015401540154015401,0.000524052405240524,0.000409040904090409,0.000456045604560456,0.000168016801680168,0.000418041804180418,0.00022402240224022403,0.00040104010401040095,0.000332033203320332,0.00023802380238023798,0.00047304730473047305,0.0005190519051905191,0.000187018701870187,0.000343034303430343,0.0,0.000515051505150515,0.000319031903190319,0.000333033303330333,0.00047804780478047804,0.0,0.000727072707270727,0.00039303930393039304,0.000338033803380338,0.000597059705970597,0.000385038503850385,0.000454045404540454,0.000483048304830483,0.000508050805080508,0.000785078507850785,0.000647064706470647,0.000502050205020502,0.00100910091009101,0.0005370537053705371,0.000524052405240524,0.000363036303630363,0.000148014801480148,0.00119111911191119,0.000498049804980498,0.000474047404740474,0.000509050905090509,0.0,0.00033503350335033503,0.000358035803580358,0.000374037403740374,0.000264026402640264,0.000442044204420442,0.000568056805680568,0.000122012201220122,0.00029302930293029304,0.000175017501750175,0.000329032903290329,0.000321032103210321,0.0,0.000321032103210321,0.000204020402040204,0.0,0.00026602660266026603,0.000405040504050405,0.00022402240224022403,0.00032003200320032004,0.000191019101910191,0.00034003400340034,0.00029002900290029,0.000348034803480348,0.0007070707070707071,0.000491049104910491,0.00044104410441044104,0.000368036803680368,0.000215021502150215,0.000447044704470447,0.000267026702670267,0.000348034803480348,0.000103010301030103,0.000283028302830283,0.00033503350335033503,0.000221022102210221,0.00018301830183018301,0.000404040404040404,0.000373037303730373,0.000118011801180118,0.000302030203020302,0.0,0.00034103410341034104,0.000242024202420242,0.00038603860386038596,0.0259235923592359,0.0,0.000397039703970397,0.000223022302230223,0.00032803280328032796,0.000429042904290429,0.000563056305630563,0.00027202720272027204,0.0,0.000305030503050305,0.0006310631063106309,0.000325032503250325,0.000248024802480248,0.000317031703170317,0.000253025302530253,0.000454045404540454,0.000281028102810281,0.000374037403740374,0.000121012101210121,0.00025502550255025497,0.000411041104110411,0.0007420742074207419,0.000315031503150315,0.000559055905590559,0.00030703070307030696,0.0,0.000385038503850385,0.000356035603560356,0.000303030303030303,0.000243024302430243,0.000298029802980298,0.000437043704370437,0.000135013501350135,0.000253025302530253,0.000177017701770177,0.00026602660266026603,0.0,0.0,0.000351035103510351,0.00023802380238023798,0.0,0.000222022202220222,0.00017001700170017,0.000201020102010201,0.000353035303530353,0.0001000100010001,0.000104010401040104,0.00021202120212021201,0.00023302330233023301,0.000236023602360236,0.000291029102910291,0.0001000100010001,0.00045004500450045,0.000177017701770177,0.00024502450245024503,0.000451045104510451,0.000168016801680168,0.000192019201920192,0.00039203920392039197,0.000381038103810381,0.000103010301030103,0.000332033203320332,0.0,0.00021202120212021201,0.000259025902590259,0.000326032603260326,0.11468946894689501,0.0,0.000191019101910191,0.000219021902190219,0.000296029602960296,0.000388038803880388,0.0,0.000522052205220522,0.00018601860186018602,0.000223022302230223,0.000647064706470647,0.0008890889088908891,0.000571057105710571,0.0,0.000624062406240624,0.000698069806980698,0.000545054505450545,0.00083008300830083,0.00045504550455045497,0.000604060406040604,0.0007860786078607861,0.0008210821082108209,0.000716071607160716,0.000669066906690669,0.000615061506150615,0.000141014101410141,0.000531053105310531,0.000132013201320132,0.0,0.0005440544054405441,0.000553055305530553,0.0005490549054905491,0.000685068506850685,0.000678067806780678,0.000738073807380738,0.000722072207220722,0.000755075507550755,0.000601060106010601,0.0009350935093509349,0.0005470547054705469,0.00046904690469046906,0.000499049904990499,0.000568056805680568,0.00108010801080108,0.000787078707870787,0.0006900690069006901,0.0008800880088008801,0.000792079207920792,0.000701070107010701,0.00029302930293029304,0.000262026202620262,0.00024502450245024503,0.00041004100410041,0.0004000400040004,0.000352035203520352,0.000248024802480248,0.000211021102110211,0.000195019501950195,0.00022602260226022597,0.0,0.00010501050105010501,0.00027002700270027,0.000244024402440244,0.000182018201820182,0.000321032103210321,0.0,0.000144014401440144,0.000139013901390139,0.000243024302430243,0.00018801880188018798,0.00023302330233023301,0.000244024402440244,0.00025002500250025,0.000347034703470347,0.000306030603060306,0.000497049704970497,0.000404040404040404,0.00026002600260026,0.000257025702570257,0.000153015301530153,0.000203020302030203,0.000126012601260126,0.00015001500150015,0.00016401640164016398,0.00015401540154015401,0.000128012801280128,0.000331033103310331,0.00032003200320032004,0.000361036103610361,0.00019001900190018998,0.000291029102910291,0.000523052305230523,0.0008820882088208821,0.000353035303530353,0.000229022902290229,0.0,0.000405040504050405,0.00042804280428042796,0.000322032203220322,0.00019601960196019599,0.000201020102010201,0.000698069806980698,0.000563056305630563,0.000332033203320332,0.0,0.000332033203320332,0.00043004300430043,0.0,0.000129012901290129,0.0006630663066306629,0.000592059205920592,0.0,0.00031303130313031297,0.0,0.0,0.0,0.00010501050105010501,0.000202020202020202,0.00031003100310031,0.000297029702970297,0.00036603660366036603,0.000204020402040204,0.000325032503250325,0.0,0.000278027802780278,0.000258025802580258,0.000269026902690269,0.000174017401740174,0.00052005200520052,0.00045704570457045704,0.000377037703770377,0.000513051305130513,0.0,0.000267026702670267,0.000715071507150715,0.000352035203520352,0.000633063306330633,0.00045004500450045,0.000582058205820582,0.00023002300230022998,0.00045504550455045497,0.0005520552055205519,0.000246024602460246,0.000305030503050305,0.00100810081008101,0.000118011801180118,0.000417041704170417,0.00034103410341034104,0.0,0.000231023102310231,0.000262026202620262,0.000229022902290229,0.000388038803880388,0.00036603660366036603,0.000309030903090309,0.0,0.0,0.000289028902890289,0.0,0.00033003300330033,0.00034503450345034503,0.0,0.000152015201520152,0.000225022502250225,0.000318031803180318,0.000158015801580158,0.000219021902190219,0.0,0.000161016101610161,0.000275027502750275,0.00038003800380037996,0.0,0.0,0.0,0.000312031203120312,0.0,0.0007190719071907191,0.00044504450445044503,0.000411041104110411,0.000403040304030403,0.000189018901890189,0.00030803080308030803,0.000523052305230523,0.000368036803680368,0.00032803280328032796,0.00026602660266026603,0.00023802380238023798,0.000402040204020402,0.0,0.000381038103810381,0.000304030403040304,0.00022602260226022597,0.000291029102910291,0.0,0.0,0.00043004300430043,0.0005690569056905691,0.0,0.000647064706470647,0.000594059405940594,0.000394039403940394,0.0008870887088708869,0.000137013701370137,0.000161016101610161,0.0,0.0,0.00033503350335033503,0.00046604660466046603,0.00036003600360036,0.00068006800680068,0.000323032303230323,0.0004900490049004901,0.000338033803380338,0.0005000500050005,0.000527052705270527,0.00036603660366036603,0.000472047204720472,0.000494049404940494,0.000444044404440444,0.00036003600360036,0.000565056505650565,0.000524052405240524,0.0,0.00038603860386038596,0.000556055605560556,0.000497049704970497,0.0005300530053005299,0.000528052805280528,0.000362036203620362,0.000454045404540454,0.00028702870287028703,0.0,0.00011501150115011499,0.000327032703270327,0.000579057905790579,0.000243024302430243,0.0014751475147514802,0.00015701570157015702,0.0,0.0,0.000298029802980298,0.000352035203520352,0.000339033903390339,0.000637063706370637,0.0,0.00035503550355035497,0.000456045604560456,0.0,0.0,0.00047604760476047597,0.00082008200820082,0.000405040504050405,0.000618061806180618,0.000329032903290329,0.00041304130413041297,0.0,0.0,0.0,0.000447044704470447,0.0006140614061406139,0.000543054305430543,0.000607060706070607,0.000169016901690169,0.0,0.0,0.00016001600160016002,0.000559055905590559,0.000599059905990599,0.000634063406340634,0.000378037803780378,0.000118011801180118,0.000139013901390139,0.0,0.0005300530053005299,0.00029902990299029904,0.000449044904490449,0.000432043204320432,0.0006950695069506951,0.000489048904890489,0.000331033103310331,0.000497049704970497,0.00058005800580058,0.000352035203520352,0.0,0.000206020602060206,0.0,0.0,0.000298029802980298,0.0,0.000685068506850685,0.0005370537053705371,0.0,0.00027202720272027204,0.00048204820482048203,0.000332033203320332,0.000315031503150315,0.000551055105510551,0.0006140614061406139,0.000219021902190219,0.000375037503750375,0.000438043804380438,0.00048504850485048495,0.00200620062006201,0.00042004200420042004,0.0006230623062306231,0.000427042704270427,0.0005910591059105911,0.0,0.000721072107210721,0.0,0.000426042604260426,0.000669066906690669,0.000353035303530353,0.000438043804380438,0.000566056605660566,0.000429042904290429,0.0005490549054905491,0.000244024402440244,0.000646064606460646,0.00043404340434043397,0.0,0.000354035403540354,0.00041304130413041297,0.000966096609660966,0.0,0.00024102410241024102,0.000185018501850185,0.000446044604460446,0.000525052505250525,0.000283028302830283,0.00014601460146014599,0.000847084708470847,0.00032403240324032403,0.000235023502350235,0.000211021102110211,0.00026502650265026496,0.0006160616061606161,0.00027202720272027204,0.0022042204220422,0.00030803080308030803,0.00715371537153715,0.000249024902490249,0.000489048904890489,0.00029002900290029,0.00135213521352135,0.00026602660266026603,0.000227022702270227,0.000187018701870187,0.0,0.0,0.000316031603160316,0.0,0.000323032303230323,0.00039003900390039,0.000298029802980298,0.00018301830183018301,0.00034003400340034,0.00031003100310031,0.000177017701770177,0.000379037903790379,0.0006390639063906389,0.0,0.0,0.0,0.0,0.000343034303430343,0.000198019801980198,0.000259025902590259,0.000339033903390339,0.0,0.0,0.0,0.000166016601660166,0.000462046204620462,0.000304030403040304,0.000277027702770277,0.00013601360136013602,0.0006000600060006,0.00044104410441044104,0.000533053305330533,0.00030103010301030096,0.000317031703170317,0.000451045104510451,0.0,0.000503050305030503,0.00023802380238023798,0.0,0.000369036903690369,0.0,0.0,0.00022002200220022002,0.000608060806080608,0.0,0.0,0.00011001100110011001,0.0,0.0,0.0,0.000131013101310131,0.0,0.000327032703270327,0.00027202720272027204,0.0,0.0,0.000379037903790379,0.000304030403040304,0.000429042904290429,0.0,0.0,0.0,0.000349034903490349,0.00011601160116011599,0.000309030903090309,0.000267026702670267,0.000184018401840184,0.00032003200320032004,0.000488048804880488,0.000256025602560256,0.00021702170217021698,0.000382038203820382,0.000317031703170317,0.0,0.0,0.000337033703370337,0.0,0.0,0.000479047904790479,0.000198019801980198,0.00022402240224022403,0.000227022702270227,0.00016701670167016698,0.0,0.00013001300130013,0.00037003700370037,0.000223022302230223,0.000491049104910491,0.00024502450245024503,0.000337033703370337,0.000201020102010201,0.00019001900190018998,0.000219021902190219,0.00314731473147315,0.0,0.000326032603260326,0.000237023702370237,0.000309030903090309,0.0,0.000124012401240124,0.0,0.00021702170217021698,0.0006260626062606259,0.000169016901690169,0.000309030903090309,0.000204020402040204,0.000284028402840284,0.000267026702670267,0.00019001900190018998,0.00011501150115011499,0.00026602660266026603,0.0,0.000269026902690269,0.00021202120212021201,0.000425042504250425,0.000298029802980298,0.0,0.000312031203120312,0.000236023602360236,0.000326032603260326,0.000155015501550155,0.000279027902790279,0.000121012101210121,0.000294029402940294,0.000357035703570357,0.00018001800180018,0.000281028102810281,0.00027202720272027204,0.00238223822382238,0.000337033703370337,0.0,0.000311031103110311,0.00122312231223122,0.000249024902490249,0.0009640964096409641,0.000273027302730273,0.011046104610461,0.00031003100310031,0.000431043104310431,0.000235023502350235,0.0,0.000459045904590459,0.0,0.000363036303630363,0.000395039503950395,0.0,0.000194019401940194,0.0005190519051905191,0.0006020602060206019,0.00024502450245024503,0.0,0.000134013401340134,0.0,0.0,0.0,0.0,0.0,0.000358035803580358,0.000246024602460246,0.0002000200020002,0.000373037303730373,0.0,0.0,0.0,0.000121012101210121,0.000373037303730373,0.000329032903290329,0.00018001800180018,0.000179017901790179,0.0,0.0,0.0012661266126612698,0.000351035103510351,0.000319031903190319,0.0006140614061406139,0.0,0.000477047704770477,0.000274027402740274,0.0,0.0,0.0005490549054905491,0.0,0.0,0.000135013501350135,0.000344034403440344,0.0,0.0,0.0,0.000173017301730173,0.00126012601260126,0.0,0.000416041604160416,0.0,0.00030103010301030096,0.0,0.00042804280428042796,0.00029302930293029304,0.0,0.0,0.000312031203120312,0.00027002700270027,0.0,0.00041304130413041297,0.0,0.0,0.0,0.000624062406240624,0.0008020802080208019,0.000179017901790179,0.00039903990399039904,0.000357035703570357,0.000223022302230223,0.000391039103910391,0.0010711071107110698,0.000247024702470247,0.000288028802880288,0.000378037803780378,0.000332033203320332,0.0,0.0,0.000234023402340234,0.0,0.0,0.000483048304830483,0.000201020102010201,0.000219021902190219,0.00027602760276027597,0.00019601960196019599,0.0,0.000211021102110211,0.0,0.00015001500150015,0.0,0.00025502550255025497,0.000351035103510351,0.00022402240224022403,0.0002000200020002,0.000243024302430243,0.00394139413941394,0.0,0.000337033703370337,0.000295029502950295,0.000273027302730273,0.0,0.000104010401040104,0.0,0.000356035603560356,0.000422042204220422,0.000273027302730273,0.00030703070307030696,0.00023902390239023902,0.000297029702970297,0.000264026402640264,0.00023202320232023198,0.000876087608760876,0.00036503650365036496,0.0,0.00027202720272027204,0.00021402140214021398,0.000492049204920492,0.00032003200320032004,0.000298029802980298,0.00036003600360036,0.00042004200420042004,0.00045204520452045194,0.0,0.00047104710471047097,0.00032403240324032403,0.000281028102810281,0.000289028902890289,0.00019001900190018998,0.000296029602960296,0.000311031103110311,0.000191019101910191,0.00035003500350035,0.00026602660266026603,0.0007300730073007299,0.000396039603960396,0.0,0.000296029602960296,0.0006930693069306929,0.000256025602560256,0.000838083808380838,0.00028002800280027996,0.0,0.000556055605560556,0.000382038203820382,0.000297029702970297,0.000195019501950195,0.0,0.0038123812381238103,0.0,0.000398039803980398,0.000759075907590759,0.0,0.000215021502150215,0.000563056305630563,0.0,0.00403440344034403,0.0,0.00018301830183018301,0.0,0.0,0.000149014901490149,0.0,0.0,0.0,0.000405040504050405,0.000256025602560256,0.000264026402640264,0.00038703870387038703,0.0,0.0,0.0,0.00023802380238023798,0.000359035903590359,0.000368036803680368,0.000216021602160216,0.000242024202420242,0.000192019201920192,0.0,0.000447044704470447,0.00024502450245024503,0.000323032303230323,0.000304030403040304,0.0,0.000342034203420342,0.000339033903390339,0.0,0.000382038203820382,0.00011301130113011298,0.0,0.000323032303230323,0.0,0.0,0.0,0.000222022202220222,0.0010711071107110698,0.0,0.000781078107810781,0.00031303130313031297,0.0,0.0,0.0,0.000268026802680268,0.0,0.0,0.000248024802480248,0.000288028802880288,0.0,0.000594059405940594,0.0,0.00225022502250225,0.0,0.000126012601260126,0.0,0.000664066406640664,0.000667066706670667,0.00044104410441044104,0.00037603760376037597,0.00024102410241024102,0.000288028802880288,0.0,0.000382038203820382,0.000397039703970397,0.000284028402840284,0.00039303930393039304,0.00111611161116112,0.00028702870287028703,0.000298029802980298,0.000357035703570357,0.000297029702970297,0.0,0.000191019101910191,0.000321032103210321,0.0,0.0,0.00464246424642464,0.000289028902890289,0.000235023502350235,0.000447044704470447,0.000223022302230223,0.0,0.000219021902190219,0.0,0.0,0.000259025902590259,0.000336033603360336,0.00117511751175118,0.000303030303030303,0.000123012301230123,0.00030703070307030696,0.0,0.000374037403740374,0.00043004300430043,0.0,0.0,0.000102010201020102,0.000221022102210221,0.000348034803480348,0.0,0.000349034903490349,0.000275027502750275,0.000289028902890289,0.00026602660266026603,0.000274027402740274,0.00019301930193019298,0.0,0.000206020602060206,0.0,0.00026602660266026603,0.000362036203620362,0.000579057905790579,0.000357035703570357,0.000486048604860486,0.000296029602960296,0.000321032103210321,0.000296029602960296,0.000254025402540254,0.000211021102110211,0.000227022702270227,0.00037203720372037204,0.000248024802480248,0.000354035403540354,0.000281028102810281,0.000454045404540454,0.000321032103210321,0.0,0.00027602760276027597,0.000592059205920592,0.00023202320232023198,0.00183018301830183,0.000256025602560256,0.0,0.0,0.000306030603060306,0.00030803080308030803,0.00021002100210021002,0.0,0.0,0.0,0.000373037303730373,0.0,0.0,0.000288028802880288,0.000312031203120312,0.0,0.0,0.0,0.000247024702470247,0.0,0.0,0.000398039803980398,0.0,0.0,0.0,0.0,0.00040104010401040095,0.00035503550355035497,0.00032803280328032796,0.000357035703570357,0.0,0.000295029502950295,0.000319031903190319,0.0,0.000282028202820282,0.00034503450345034503,0.000374037403740374,0.000244024402440244,0.0,0.00013601360136013602,0.00032403240324032403,0.000279027902790279,0.000346034603460346,0.0,0.000117011701170117,0.000325032503250325,0.000153015301530153,0.0,0.00030703070307030696,0.000134013401340134,0.0,0.00034003400340034,0.0,0.0,0.0,0.000228022802280228,0.122232223222322,0.0,0.0,0.0,0.0,0.0,0.000575057505750575,0.00014001400140013998,0.0,0.0,0.00026602660266026603,0.000181018101810181,0.0,0.0,0.00168916891689169,0.00083008300830083,0.000315031503150315,0.0,0.00029302930293029304,0.000243024302430243,0.00028602860286028596,0.000477047704770477,0.00023802380238023798,0.000206020602060206,0.0003000300030003,0.000182018201820182,0.0,0.0,0.0,0.0,0.000244024402440244,0.0,0.000343034303430343,0.000302030203020302,0.000251025102510251,0.00168716871687169,0.000323032303230323,0.000322032203220322,0.000783078307830783,0.000339033903390339,0.0,0.000311031103110311,0.00024002400240023998,0.0,0.0,0.0,0.00030803080308030803,0.00030103010301030096,0.0,0.000262026202620262,0.0,0.0,0.00042004200420042004,0.00034003400340034,0.000378037803780378,0.000282028202820282,0.00037003700370037,0.000359035903590359,0.0,0.0004000400040004,0.0,0.0004000400040004,0.0,0.000201020102010201,0.00021702170217021698,0.000412041204120412,0.0,0.00035003500350035,0.000281028102810281,0.000389038903890389,0.000288028802880288,0.000278027802780278,0.000215021502150215,0.0,0.000227022702270227,0.0,0.000356035603560356,0.000347034703470347,0.00035003500350035,0.000491049104910491,0.0,0.00024102410241024102,0.000141014101410141,0.00020702070207020702,0.000185018501850185,0.00023902390239023902,0.000405040504050405,0.000236023602360236,0.000268026802680268,0.000158015801580158,0.000253025302530253,0.000156015601560156,0.0,0.00025002500250025,0.0,0.000175017501750175,0.000179017901790179,0.000182018201820182,0.00014301430143014298,0.00025502550255025497,0.0,0.0,0.000199019901990199,0.000218021802180218,0.0,0.0,0.00120812081208121,0.000315031503150315,0.0,0.0,0.000296029602960296,0.0,0.0,0.0,0.000148014801480148,0.0,0.0,0.00014601460146014599,0.0,0.0,0.0,0.0,0.00026502650265026496,0.00027202720272027204,0.0,0.00013001300130013,0.0,0.0,0.00016001600160016002,0.0,0.00014001400140013998,0.000219021902190219,0.000306030603060306,0.000158015801580158,0.0,0.000177017701770177,0.000227022702270227,0.000172017201720172,0.000179017901790179,0.0,0.00027002700270027,0.000222022202220222,0.00045504550455045497,0.0,0.000222022202220222,0.00019001900190018998,0.0,0.000202020202020202,0.0,0.0,0.0,0.0197789778977898,0.0,0.0,0.00016201620162016201,0.000263026302630263,0.0,0.0,0.000151015101510151,0.0,0.0,0.000142014201420142,0.0,0.0,0.000236023602360236,0.000436043604360436,0.000353035303530353,0.0003000300030003,0.00011901190119011899,0.000218021802180218,0.000344034403440344,0.000155015501550155,0.00036503650365036496,0.000144014401440144,0.000601060106010601,0.00022602260226022597,0.0,0.0,0.0,0.00040704070407040696,0.000149014901490149,0.00018001800180018,0.000516051605160516,0.0,0.000171017101710171,0.0,0.000211021102110211,0.000172017201720172,0.0,0.000198019801980198,0.0,0.00017001700170017,0.00041404140414041403,0.00104710471047105,0.000216021602160216,0.0,0.0,0.000198019801980198,0.0,0.0,0.0,0.000213021302130213,0.000204020402040204,0.0,0.0,0.000182018201820182,0.0,0.0,0.000422042204220422,0.000222022202220222,0.0,0.000168016801680168,0.00040704070407040696,0.000176017601760176,0.0,0.000304030403040304,0.000168016801680168,0.0,0.000318031803180318,0.0,0.00018301830183018301,0.0,0.00027102710271027097,0.0002000200020002,0.00013301330133013301,0.00016201620162016201,0.000156015601560156,0.0,0.000189018901890189,0.0,0.000199019901990199,0.000396039603960396,0.000129012901290129,0.0005190519051905191,0.000102010201020102,0.000825082508250825,0.000649064906490649,0.0007520752075207519,0.000706070607060706,0.000402040204020402,0.0007320732073207321,0.0008650865086508651,0.000499049904990499,0.000619061906190619,0.0011961196119612,1.0,0.000684068406840684,0.000699069906990699,0.0007440744074407441,0.0007300730073007299,0.00313231323132313,0.000599059905990599,0.0009800980098009801,0.000727072707270727,0.000723072307230723,0.0,0.0006820682068206821,0.0009710971097109711,0.0007420742074207419,0.0007740774077407741,0.00105110511051105,0.0005720572057205719,0.0005890589058905889,0.0005890589058905889,0.000927092709270927,0.000727072707270727,0.0,0.000976097609760976,0.00101210121012101,0.000539053905390539,0.0,0.000891089108910891,0.00332033203320332,0.00055005500550055,0.000755075507550755,0.000795079507950795,0.00027002700270027,0.00111311131113111,0.00118911891189119,0.000629062906290629,0.000206020602060206,0.000699069906990699,0.000658065806580658,0.0007420742074207419,0.000459045904590459,0.000689068906890689,0.000349034903490349,0.00133613361336134,0.000812081208120812,0.000716071607160716,0.000588058805880588,0.0,0.000844084408440844,0.00083008300830083,0.000158015801580158,0.000506050605060506,0.000546054605460546,0.0012041204120412,0.000936093609360936,0.000759075907590759,0.000699069906990699,0.000788078807880788,0.0012011201120112,0.0005470547054705469,0.00142914291429143,0.000762076207620762,0.000597059705970597,0.000512051205120512,0.000712071207120712,0.00117411741174117,0.00962596259625963,0.000354035403540354,0.0010261026102610302,0.0010111011101110099,0.000753075307530753,0.000228022802280228,0.00116411641164116,0.000709070907090709,0.00046904690469046906,0.00029302930293029304,0.00014001400140013998,0.000357035703570357,0.00032403240324032403,0.00027102710271027097,0.000121012101210121,0.000633063306330633,0.000612061206120612,0.0008280828082808281,0.00046104610461046103,0.000344034403440344,0.00028702870287028703,0.00036003600360036,0.000273027302730273,0.000396039603960396,0.00030703070307030696,0.000159015901590159,0.000263026302630263,0.000159015901590159,0.0,0.000541054105410541,0.00029302930293029304,0.00014001400140013998,0.00020702070207020702,0.000383038303830383,0.000252025202520252,0.000406040604060406,0.000179017901790179,0.0,0.00026002600260026,0.000158015801580158,0.000166016601660166,0.0,0.00044104410441044104,0.000131013101310131,0.00018801880188018798,0.00026002600260026,0.000197019701970197,0.000218021802180218,0.00029302930293029304,0.0,0.0431623162316232,0.00032003200320032004,0.00022002200220022002,0.000172017201720172,0.0026882688268826897,0.00030803080308030803,0.00019601960196019599,0.000325032503250325,0.00039203920392039197,0.000253025302530253,0.0,0.000227022702270227,0.00039303930393039304,0.000497049704970497,0.000336033603360336,0.000114011401140114,0.000288028802880288,0.0,0.00024102410241024102,0.000389038903890389,0.000297029702970297,0.00011301130113011298,0.000362036203620362,0.000165016501650165,0.00019001900190018998,0.000449044904490449,0.000326032603260326,0.00014601460146014599,0.00045004500450045,0.000412041204120412,0.00044304430443044295,0.000279027902790279,0.00035503550355035497,0.0,0.000251025102510251,0.000501050105010501,0.000298029802980298,0.000417041704170417,0.000244024402440244,0.00023302330233023301,0.00028702870287028703,0.00036603660366036603,0.00014001400140013998,0.000206020602060206,0.000291029102910291,0.00011201120112011201,0.000256025602560256,0.000175017501750175,0.0,0.00029202920292029197,0.0,0.0,0.0,0.000261026102610261,0.0,0.000254025402540254,0.000351035103510351,0.000347034703470347,0.000153015301530153,0.000336033603360336,0.000502050205020502,0.000244024402440244,0.000367036703670367,0.000358035803580358,0.000259025902590259,0.000132013201320132,0.000175017501750175,0.0007420742074207419,0.00041404140414041403,0.00167316731673167,0.00150615061506151,0.000343034303430343,0.000543054305430543,0.000398039803980398,0.00031403140314031403,0.000635063506350635,0.0,0.00018801880188018798,0.000273027302730273,0.000508050805080508,0.000182018201820182,0.0,0.0,0.0,0.00026602660266026603,0.000367036703670367,0.00045204520452045194,0.000422042204220422,0.000538053805380538,0.00036603660366036603,0.0,0.000396039603960396,0.000237023702370237,0.000216021602160216,0.0,0.00046904690469046906,0.00041004100410041,0.000295029502950295,0.000191019101910191,0.000195019501950195,0.000431043104310431,0.0,0.0,0.000211021102110211,0.0,0.00031003100310031,0.0,0.000137013701370137,0.000159015901590159,0.00041304130413041297,0.0005190519051905191,0.000248024802480248,0.000222022202220222,0.000227022702270227,0.000374037403740374,0.000797079707970797,0.00047804780478047804,0.000409040904090409,0.0,0.000283028302830283,0.000398039803980398,0.00011201120112011201,0.000268026802680268,0.00023302330233023301,0.000397039703970397,0.000295029502950295,0.000177017701770177,0.00123612361236124,0.000172017201720172,0.00037603760376037597,0.0022082208220822104,0.00022402240224022403,0.0,0.0,0.000173017301730173,0.000244024402440244,0.0,0.000268026802680268,0.0,0.00031003100310031,0.000199019901990199,0.000388038803880388,0.000418041804180418,0.000204020402040204,0.000354035403540354,0.00013601360136013602,0.00019301930193019298,0.000311031103110311,0.000142014201420142,0.0,0.0,0.000759075907590759,0.0,0.0,0.000236023602360236,0.0,0.00019601960196019599,0.0,0.00027602760276027597,0.00039903990399039904,0.00023302330233023301,0.0,0.000352035203520352,0.000367036703670367,0.000636063606360636,0.000246024602460246,0.000427042704270427,0.000462046204620462,0.00026002600260026,0.000218021802180218,0.000432043204320432,0.000374037403740374,0.0146564656465647,0.000339033903390339,0.00038603860386038596,0.000565056505650565,0.000426042604260426,0.000538053805380538,0.000758075807580758,0.000203020302030203,0.000377037703770377,0.000555055505550555,0.000338033803380338,0.0,0.0,0.0,0.000659065906590659,0.0288818881888189,0.000536053605360536,0.00046104610461046103,0.0,0.000725072507250725,0.000203020302030203,0.0,0.000222022202220222,0.00021402140214021398,0.000315031503150315,0.000132013201320132,0.000643064306430643,0.00018301830183018301,0.000331033103310331,0.00029902990299029904,0.00023902390239023902,0.000588058805880588,0.0,0.000139013901390139,0.0,0.0,0.00019301930193019298,0.00321632163216322,0.0,0.000158015801580158,0.0008260826082608259,0.000661066106610661,0.000317031703170317,0.0,0.0,0.000447044704470447,0.00112811281128113,0.000398039803980398,0.00010501050105010501,0.000554055405540554,0.0,0.000353035303530353,0.0005690569056905691,0.000194019401940194,0.0,0.00036503650365036496,0.000431043104310431,0.000209020902090209,0.000765076507650765,0.000227022702270227,0.000453045304530453,0.00042404240424042403,0.000231023102310231,0.00037603760376037597,0.00022002200220022002,0.0,0.0,0.00204820482048205,0.000256025602560256,0.0,0.00033403340334033397,0.0,0.000312031203120312,0.0,0.00025502550255025497,0.000166016601660166,0.00039303930393039304,0.000541054105410541,0.000575057505750575,0.000303030303030303,0.0005770577057705769,0.000153015301530153,0.0,0.000374037403740374,0.000142014201420142,0.0,0.0,0.000378037803780378,0.0,0.0,0.00033403340334033397,0.0,0.00011901190119011899,0.0,0.000352035203520352,0.00032803280328032796,0.000289028902890289,0.0,0.000195019501950195,0.000305030503050305,0.00044504450445044503,0.000534053405340534,0.000381038103810381,0.000317031703170317,0.00042404240424042403,0.000155015501550155,0.000384038403840384,0.000343034303430343,0.000385038503850385,0.000325032503250325,0.000331033103310331,0.00046604660466046603,0.000202020202020202,0.000291029102910291,0.000533053305330533,0.00034003400340034,0.00029002900290029,0.0,0.000312031203120312,0.000169016901690169,0.000261026102610261,0.0,0.000215021502150215,0.000298029802980298,0.000273027302730273,0.000257025702570257,0.000303030303030303,0.000318031803180318,0.000587058705870587,0.000325032503250325,0.0,0.00023002300230022998,0.00026602660266026603,0.000277027702770277,0.00047604760476047597,0.0,0.000362036203620362,0.000844084408440844,0.0,0.000829082908290829,0.00016201620162016201,0.000832083208320832,0.000398039803980398,0.000536053605360536,0.000516051605160516,0.00023302330233023301,0.000219021902190219,0.00013601360136013602,0.000358035803580358,0.000342034203420342,0.000382038203820382,0.000453045304530453,0.000152015201520152,0.0005370537053705371,0.000352035203520352,0.000184018401840184,0.000228022802280228,0.000278027802780278,0.000606060606060606,0.000304030403040304,0.000185018501850185,0.000209020902090209,0.000208020802080208,0.000201020102010201,0.000298029802980298,0.00025002500250025,0.000337033703370337,0.000169016901690169,0.000297029702970297,0.000338033803380338,0.000522052205220522,0.000165016501650165,0.000298029802980298,0.000406040604060406,0.0004000400040004,0.000151015101510151,0.000289028902890289,0.000426042604260426,0.0,0.000503050305030503,0.000479047904790479,0.000321032103210321,0.000295029502950295,0.000539053905390539,0.000585058505850585,0.0,0.000295029502950295,0.000246024602460246,0.000274027402740274,0.000243024302430243,0.000309030903090309,0.000131013101310131,0.00023002300230022998,0.000166016601660166,0.000268026802680268,0.000277027702770277,0.000403040304030403,0.000153015301530153,0.000101010101010101,0.00027202720272027204,0.000337033703370337,0.0,0.000244024402440244,0.000242024202420242,0.0,0.000127012701270127,0.000173017301730173,0.00023802380238023798,0.000331033103310331,0.000158015801580158,0.000256025602560256,0.000135013501350135,0.000438043804380438,0.000206020602060206,0.000275027502750275,0.00044004400440044003,0.000278027802780278,0.0,0.00029302930293029304,0.000389038903890389,0.0,0.000559055905590559,0.00035503550355035497,0.000436043604360436,0.000568056805680568,0.000427042704270427,0.00024002400240023998,0.00044504450445044503,0.000102010201020102,0.000359035903590359,0.000172017201720172,0.000422042204220422,0.00026602660266026603,0.000753075307530753,0.000149014901490149,0.0004950495049504951,0.000458045804580458,0.00023002300230022998,0.000902090209020902,0.00103210321032103,0.000499049904990499,0.000246024602460246,0.00045204520452045194,0.000261026102610261,0.000262026202620262,0.000117011701170117,0.000191019101910191,0.00023002300230022998,0.000135013501350135,0.000338033803380338,0.00030803080308030803,0.00015701570157015702,0.00017001700170017,0.000141014101410141,0.000213021302130213,0.000215021502150215,0.000253025302530253,0.000158015801580158,0.000282028202820282,0.000337033703370337,0.000316031603160316,0.00021202120212021201,0.000218021802180218,0.000431043104310431,0.00015401540154015401,0.000215021502150215,0.000261026102610261,0.0,0.0005050505050505049,0.00031003100310031,0.00026002600260026,0.000222022202220222,0.000123012301230123,0.00036503650365036496,0.0,0.000216021602160216,0.00019001900190018998,0.000364036403640364,0.00022402240224022403,0.000379037903790379,0.00022402240224022403,0.000315031503150315,0.000257025702570257,0.000249024902490249,0.00036503650365036496,0.000356035603560356,0.00010501050105010501,0.000243024302430243,0.00027102710271027097,0.00035503550355035497,0.000342034203420342,0.000418041804180418,0.0,0.000179017901790179,0.000145014501450145,0.000247024702470247,0.000367036703670367,0.000152015201520152,0.000297029702970297,0.000405040504050405,0.000364036403640364,0.00026002600260026,0.000288028802880288,0.000384038403840384,0.000274027402740274,0.0,0.00026602660266026603,0.000306030603060306,0.0,0.0,0.000382038203820382,0.000135013501350135,0.000219021902190219,0.000528052805280528,0.000321032103210321,0.00021002100210021002,0.00026502650265026496,0.000277027702770277,0.000254025402540254,0.000901090109010901,0.000231023102310231,0.00032403240324032403,0.00039903990399039904,0.00021202120212021201,0.0,0.00042404240424042403,0.000315031503150315,0.000404040404040404,0.000529052905290529,0.00024002400240023998,0.00021202120212021201,0.000361036103610361,0.00024102410241024102,0.000373037303730373,0.00101210121012101,0.00024002400240023998,0.000135013501350135,0.00010701070107010699,0.0,0.000449044904490449,0.000237023702370237,0.000284028402840284,0.000237023702370237,0.00025502550255025497,0.000405040504050405,0.000202020202020202,0.000351035103510351,0.000332033203320332,0.00015001500150015,0.00015701570157015702,0.000131013101310131,0.000344034403440344,0.00027102710271027097,0.00016201620162016201,0.000158015801580158,0.00035503550355035497,0.000267026702670267,0.00044104410441044104,0.000174017401740174,0.00021002100210021002,0.000429042904290429,0.00013301330133013301,0.000178017801780178,0.00018001800180018,0.0,0.000427042704270427,0.00024502450245024503,0.000338033803380338,0.000228022802280228,0.000101010101010101,0.000397039703970397,0.0,0.00026502650265026496,0.000194019401940194,0.00038003800380037996,0.000531053105310531,0.000329032903290329,0.000315031503150315,0.00061006100610061,0.000311031103110311,0.00018301830183018301,0.000288028802880288,0.000317031703170317,0.000201020102010201,0.00046604660466046603,0.000259025902590259,0.000169016901690169,0.000215021502150215,0.00046604660466046603,0.000168016801680168,0.0,0.000353035303530353,0.0,0.0007840784078407839,0.0,0.000221022102210221,0.000375037503750375,0.00027102710271027097,0.000221022102210221,0.00022402240224022403,0.000206020602060206,0.000262026202620262,0.00039003900390039,0.000321032103210321,0.00027002700270027,0.000404040404040404,0.000298029802980298,0.000326032603260326,0.00028002800280027996,0.0,0.000284028402840284,0.000394039403940394,0.0,0.00032003200320032004,0.000447044704470447,0.000453045304530453,0.000227022702270227,0.000362036203620362,0.00029302930293029304,0.000285028502850285,0.000297029702970297,0.000257025702570257,0.0,0.00027102710271027097,0.000296029602960296,0.000163016301630163,0.00015401540154015401,0.000246024602460246,0.0,0.000274027402740274,0.000608060806080608,0.000351035103510351,0.000347034703470347,0.00027002700270027,0.0,0.000173017301730173,0.0005300530053005299,0.0,0.0040424042404240395,0.0005860586058605861,0.00024002400240023998,0.000102010201020102,0.00010701070107010699,0.000492049204920492,0.0004930493049304929,0.000211021102110211,0.0,0.000599059905990599,0.00034503450345034503,0.0,0.000288028802880288,0.000323032303230323,0.000671067106710671,0.000126012601260126,0.000209020902090209,0.000982098209820982,0.00016701670167016698,0.0,0.000235023502350235,0.000617061706170617,0.00013301330133013301,0.0009210921092109211,0.000264026402640264,0.000269026902690269,0.0,0.000331033103310331,0.000447044704470447,0.000168016801680168,0.00029202920292029197,0.000594059405940594,0.000446044604460446,0.000423042304230423,0.000323032303230323,0.000395039503950395,0.000901090109010901,0.00018001800180018,0.000296029602960296,0.00039903990399039904,0.000381038103810381,0.000333033303330333,0.00030103010301030096,0.000356035603560356,0.00036603660366036603,0.0013141314131413099,0.000321032103210321,0.00047604760476047597,0.000316031603160316,0.00019301930193019298,0.000257025702570257,0.000388038803880388,0.0,0.000306030603060306,0.00026602660266026603,0.000223022302230223,0.000388038803880388,0.000194019401940194,0.000211021102110211,0.00045704570457045704,0.00023202320232023198,0.000474047404740474,0.000327032703270327,0.00045504550455045497,0.00039003900390039,0.000346034603460346,0.0006630663066306629,0.000296029602960296,0.000289028902890289,0.000433043304330433,0.000316031603160316,0.00022002200220022002,0.000394039403940394,0.00036603660366036603,0.00033503350335033503,0.000248024802480248,0.000518051805180518,0.00022002200220022002,0.0,0.000343034303430343,0.000854085408540854,0.00020702070207020702,0.000258025802580258,0.00038603860386038596,0.000294029402940294,0.000204020402040204,0.000353035303530353,0.000284028402840284,0.00018601860186018602,0.00037103710371037097,0.000142014201420142,0.000337033703370337,0.000375037503750375,0.00033503350335033503,0.0,0.00039003900390039,0.0003000300030003,0.00023202320232023198,0.00032403240324032403,0.000168016801680168,0.000252025202520252,0.000391039103910391,0.00046604660466046603,0.000303030303030303,0.000327032703270327,0.000134013401340134,0.000204020402040204,0.000576057605760576,0.000289028902890289,0.00032803280328032796,0.000385038503850385,0.000312031203120312,0.000277027702770277,0.000215021502150215,0.000499049904990499,0.00043404340434043397,0.000367036703670367,0.000253025302530253,0.000817081708170817,0.000258025802580258,0.00037203720372037204,0.000274027402740274,0.000281028102810281,0.000312031203120312,0.000101010101010101,0.000571057105710571,0.00038003800380037996,0.000247024702470247,0.0006140614061406139,0.00044104410441044104,0.000144014401440144,0.000184018401840184,0.0,0.000182018201820182,0.0,0.0,0.000346034603460346,0.000312031203120312,0.00022002200220022002,0.000315031503150315,0.0005860586058605861,0.00032003200320032004,0.000244024402440244,0.00039303930393039304,0.000617061706170617,0.0,0.000331033103310331,0.00124012401240124,0.00026602660266026603,0.0,0.000582058205820582,0.0,0.000285028502850285,0.0004900490049004901,0.000269026902690269,0.000253025302530253,0.000311031103110311,0.00030803080308030803,0.000221022102210221,0.00038603860386038596,0.0,0.00011301130113011298,0.00034503450345034503,0.000267026702670267,0.00034003400340034,0.000318031803180318,0.000468046804680468,0.000284028402840284,0.000444044404440444,0.0,0.0,0.000404040404040404,0.000294029402940294,0.0,0.00018801880188018798,0.00030103010301030096,0.0014201420142014199,0.000437043704370437,0.00032003200320032004,0.000601060106010601,0.000273027302730273,0.00026002600260026,0.0006390639063906389,0.000309030903090309,0.000169016901690169,0.000398039803980398,0.000356035603560356,0.00047004700470047,0.000347034703470347,0.000442044204420442,0.0011971197119712,0.00110511051105111,0.000379037903790379,0.000306030603060306,0.000433043304330433,0.00037203720372037204,0.000209020902090209,0.00033403340334033397,0.00036503650365036496,0.0,0.000403040304030403,0.000338033803380338,0.00044104410441044104,0.00027202720272027204,0.000289028902890289,0.000326032603260326,0.000396039603960396,0.000304030403040304,0.000477047704770477,0.000258025802580258,0.000319031903190319,0.000185018501850185,0.000762076207620762,0.00023902390239023902,0.000278027802780278,0.000257025702570257,0.00045204520452045194,0.000102010201020102,0.000222022202220222,0.00032003200320032004,0.000295029502950295,0.00169316931693169,0.00014601460146014599,0.00021702170217021698,0.0,0.000311031103110311,0.000385038503850385,0.000215021502150215,0.000344034403440344,0.000181018101810181,0.000206020602060206,0.000111011101110111,0.00044504450445044503,0.000145014501450145,0.000139013901390139,0.000306030603060306,0.0,0.000156015601560156,0.0,0.0,0.00027602760276027597,0.000285028502850285,0.000182018201820182,0.0,0.000159015901590159,0.0,0.000409040904090409,0.000288028802880288,0.000177017701770177,0.0005190519051905191,0.000331033103310331,0.000273027302730273,0.000264026402640264,0.000203020302030203,0.000444044404440444,0.000291029102910291,0.00032003200320032004,0.000191019101910191,0.00033003300330033,0.00014301430143014298,0.000128012801280128,0.000254025402540254,0.000192019201920192,0.00026502650265026496,0.000279027902790279,0.00038003800380037996,0.000244024402440244,0.000197019701970197,0.000163016301630163,0.0,0.000153015301530153,0.000408040804080408,0.000198019801980198,0.000268026802680268,0.0,0.0004930493049304929,0.0,0.000104010401040104,0.000875087508750875,0.00036503650365036496,0.00023802380238023798,0.000502050205020502,0.000432043204320432,0.000273027302730273,0.0006260626062606259,0.000588058805880588,0.00013601360136013602,0.000397039703970397,0.0,0.00032003200320032004,0.000268026802680268,0.0005720572057205719,0.000254025402540254,0.00218721872187219,0.0,0.00021202120212021201,0.0,0.000281028102810281,0.0005490549054905491,0.000776077607760776,0.000388038803880388,0.000497049704970497,0.000274027402740274,0.00023202320232023198,0.000488048804880488,0.000284028402840284,0.0,0.000125012501250125,0.000454045404540454,0.0,0.000545054505450545,0.0,0.000545054505450545,0.000262026202620262,0.00029902990299029904,0.000379037903790379,0.0,0.000191019101910191,0.0,0.00030103010301030096,0.0,0.000295029502950295,0.000322032203220322,0.000513051305130513,0.000168016801680168,0.000315031503150315,0.000534053405340534,0.000267026702670267,0.00020702070207020702,0.0005000500050005,0.0,0.000587058705870587,0.0,0.00022002200220022002,0.000382038203820382,0.00029302930293029304,0.000408040804080408,0.00023802380238023798,0.000353035303530353,0.000512051205120512,0.000223022302230223,0.000404040404040404,0.000225022502250225,0.0,0.000135013501350135,0.0,0.000145014501450145,0.000504050405040504,0.00047604760476047597,0.000171017101710171,0.000273027302730273,0.0,0.000329032903290329,0.000754075407540754,0.000168016801680168,0.000687068706870687,0.000396039603960396,0.00029202920292029197,0.000759075907590759,0.000145014501450145,0.000117011701170117,0.000152015201520152,0.0,0.0,0.000353035303530353,0.000137013701370137,0.00023902390239023902,0.0,0.000169016901690169,0.0,0.0,0.00015001500150015,0.000351035103510351,0.000447044704470447,0.000182018201820182,0.00047604760476047597,0.00021402140214021398,0.0,0.000222022202220222,0.0,0.000163016301630163,0.000234023402340234,0.000275027502750275,0.00032403240324032403,0.00011301130113011298,0.000179017901790179,0.000128012801280128,0.000655065506550655,0.00026002600260026,0.00029902990299029904,0.00024102410241024102,0.0,0.000192019201920192,0.000331033103310331,0.0,0.0,0.0,0.000118011801180118,0.000269026902690269,0.00018601860186018602,0.000108010801080108,0.00016201620162016201,0.00027602760276027597,0.000131013101310131,0.00028702870287028703,0.0,0.00052005200520052,0.0017791779177917801,0.0,0.000192019201920192,0.0,0.0,0.000256025602560256,0.000205020502050205,0.000285028502850285,0.00027002700270027,0.00015401540154015401,0.00019301930193019298,0.0,0.0,0.000166016601660166,0.0,0.000134013401340134,0.000163016301630163,0.00028602860286028596,0.000209020902090209,0.00025002500250025,0.0,0.00023802380238023798,0.0,0.000351035103510351,0.000309030903090309,0.000267026702670267,0.000172017201720172,0.00011301130113011298,0.000498049804980498,0.000316031603160316,0.000218021802180218,0.0006560656065606559,0.00038703870387038703,0.000389038903890389,0.00026002600260026,0.000291029102910291,0.000221022102210221,0.0,0.00017001700170017,0.000279027902790279,0.000442044204420442,0.000131013101310131,0.000182018201820182,0.000174017401740174,0.00031403140314031403,0.00028602860286028596,0.0,0.000229022902290229,0.00020702070207020702,0.000144014401440144,0.0,0.000374037403740374,0.000356035603560356,0.000363036303630363,0.000302030203020302,0.000384038403840384,0.000244024402440244,0.000406040604060406,0.00014301430143014298,0.000488048804880488,0.000171017101710171,0.00018601860186018602,0.000294029402940294,0.00018301830183018301,0.00030803080308030803,0.000142014201420142,0.00044004400440044003,0.000166016601660166,0.00023802380238023798,0.000268026802680268,0.000158015801580158,0.000165016501650165,0.000237023702370237,0.0,0.00011601160116011599,0.000225022502250225,0.000227022702270227,0.0003000300030003,0.00036603660366036603,0.00042404240424042403,0.000312031203120312,0.000396039603960396,0.00045204520452045194,0.000315031503150315,0.00024102410241024102,0.0,0.000302030203020302,0.00021002100210021002,0.000312031203120312,0.000282028202820282,0.00023202320232023198,0.000174017401740174,0.00126912691269127,0.000117011701170117,0.00019001900190018998,0.0,0.00037203720372037204,0.000288028802880288,0.00029302930293029304,0.00035503550355035497,0.00021002100210021002,0.000169016901690169,0.000169016901690169,0.000357035703570357,0.00012001200120011999,0.000297029702970297,0.000284028402840284,0.00030103010301030096,0.000284028402840284,0.00035003500350035,0.00039003900390039,0.00027202720272027204,0.0,0.0005520552055205519,0.000296029602960296,0.000529052905290529,0.000281028102810281,0.000404040404040404,0.000342034203420342,0.000284028402840284,0.0,0.00026002600260026,0.000296029602960296,0.000305030503050305,0.000169016901690169,0.00044504450445044503,0.000223022302230223,0.000421042104210421,0.000259025902590259,0.000283028302830283,0.000337033703370337,0.0,0.0,0.000178017801780178,0.000249024902490249,0.000202020202020202,0.000148014801480148,0.000275027502750275,0.000332033203320332,0.000178017801780178,0.000149014901490149,0.000223022302230223,0.00029002900290029,0.000247024702470247,0.000147014701470147,0.000279027902790279,0.00018601860186018602,0.00011301130113011298,0.000354035403540354,0.000155015501550155,0.00039203920392039197,0.000159015901590159,0.000145014501450145,0.00019001900190018998,0.000219021902190219,0.000264026402640264,0.0,0.0,0.000122012201220122,0.000166016601660166,0.000236023602360236,0.000204020402040204,0.000317031703170317,0.00035003500350035,0.000192019201920192,0.00024102410241024102,0.0,0.00026002600260026,0.00038603860386038596,0.00021202120212021201,0.000163016301630163,0.00033503350335033503,0.000172017201720172,0.000563056305630563,0.00012001200120011999,0.000333033303330333,0.000125012501250125,0.00032003200320032004,0.00033503350335033503,0.000161016101610161,0.00015701570157015702,0.000163016301630163,0.000336033603360336,0.000353035303530353,0.000254025402540254,0.000218021802180218,0.000246024602460246,0.000114011401140114,0.000259025902590259,0.000397039703970397,0.000244024402440244,0.00029002900290029,0.000169016901690169,0.000318031803180318,0.000353035303530353,0.00041404140414041403,0.000323032303230323,0.00023002300230022998,0.00036003600360036,0.000422042204220422,0.00045704570457045704,0.000254025402540254,0.000169016901690169,0.000369036903690369,0.000124012401240124,0.000375037503750375,0.00037603760376037597,0.000391039103910391,0.000218021802180218,0.00026002600260026,0.00022602260226022597,0.00023202320232023198,0.00106210621062106,0.000227022702270227,0.000337033703370337,0.000456045604560456,0.000408040804080408,0.000123012301230123,0.00019301930193019298,0.00027602760276027597,0.00018301830183018301,0.0,0.000256025602560256,0.000178017801780178,0.000279027902790279,0.0,0.000391039103910391,0.00015001500150015,0.00022002200220022002,0.00025002500250025,0.000268026802680268,0.000134013401340134,0.0,0.000331033103310331,0.000187018701870187,0.000325032503250325,0.000585058505850585,0.000235023502350235,0.000178017801780178,0.000168016801680168,0.000409040904090409,0.000192019201920192,0.0,0.00019601960196019599,0.0005050505050505049,0.000236023602360236,0.000201020102010201,0.000323032303230323,0.000696069606960696,0.00016201620162016201,0.000506050605060506,0.000141014101410141,0.000152015201520152,0.000316031603160316,0.000323032303230323,0.00024502450245024503,0.000252025202520252,0.000427042704270427,0.000251025102510251,0.000412041204120412,0.000166016601660166,0.000274027402740274,0.000326032603260326,0.00021202120212021201,0.00039903990399039904,0.00018601860186018602,0.000219021902190219,0.000437043704370437,0.00030803080308030803,0.0,0.000254025402540254,0.00131913191319132,0.000267026702670267,0.00013601360136013602,0.000296029602960296,0.0,0.00010501050105010501,0.00014301430143014298,0.0,0.000409040904090409,0.00018301830183018301,0.0,0.000699069906990699,0.0,0.0,0.000295029502950295,0.000343034303430343,0.00023802380238023798,0.000453045304530453,0.00021202120212021201,0.0003000300030003,0.000462046204620462,0.00026602660266026603,0.0003000300030003,0.000398039803980398,0.000374037403740374,0.00042004200420042004,0.000497049704970497,0.0,0.000327032703270327,0.00028002800280027996,0.000126012601260126,0.000369036903690369,0.000205020502050205,0.000364036403640364,0.00033403340334033397,0.00030803080308030803,0.00035003500350035,0.00023902390239023902,0.00024102410241024102,0.000759075907590759,0.000145014501450145,0.00035003500350035,0.000297029702970297,0.000353035303530353,0.000204020402040204,0.000396039603960396,0.000262026202620262,0.000103010301030103,0.000388038803880388,0.00019001900190018998,0.000281028102810281,0.000338033803380338,0.0,0.0,0.00040104010401040095,0.000189018901890189,0.00028002800280027996,0.00014301430143014298,0.000296029602960296,0.000356035603560356,0.000221022102210221,0.00019301930193019298,0.000221022102210221,0.000236023602360236,0.000354035403540354,0.000199019901990199,0.00011601160116011599,0.0,0.00012001200120011999,0.000103010301030103,0.000322032203220322,0.00023902390239023902,0.00026502650265026496,0.000189018901890189,0.000151015101510151,0.000173017301730173,0.00041404140414041403,0.00035003500350035,0.00044504450445044503,0.0,0.000147014701470147,0.00018801880188018798,0.000251025102510251,0.000278027802780278,0.0,0.000477047704770477,0.000262026202620262,0.000253025302530253,0.000244024402440244,0.000513051305130513,0.00018301830183018301,0.000221022102210221,0.000329032903290329,0.00011001100110011001,0.0005720572057205719,0.000331033103310331,0.000211021102110211,0.000142014201420142,0.000315031503150315,0.000364036403640364,0.000227022702270227,0.000247024702470247,0.000158015801580158,0.000343034303430343,0.000296029602960296,0.000231023102310231,0.000357035703570357,0.000536053605360536,0.000121012101210121,0.00013001300130013,0.00030803080308030803,0.000327032703270327,0.000195019501950195,0.000408040804080408,0.00013601360136013602,0.000354035403540354,0.000369036903690369,0.000279027902790279,0.000343034303430343,0.000506050605060506,0.000315031503150315,0.000454045404540454,0.000259025902590259,0.000219021902190219,0.000331033103310331,0.00011501150115011499,0.000228022802280228,0.00100710071007101,0.00044504450445044503,0.0,0.00034503450345034503,0.00023202320232023198,0.000274027402740274,0.0007350735073507349,0.000389038903890389,0.000459045904590459,0.00042804280428042796,0.00028002800280027996,0.000253025302530253,0.00037203720372037204,0.00039303930393039304,0.00020702070207020702,0.0,0.000263026302630263,0.000249024902490249,0.000776077607760776,0.000172017201720172,0.000409040904090409,0.000723072307230723,0.00030803080308030803,0.000267026702670267,0.000205020502050205,0.000168016801680168,0.00016201620162016201,0.000321032103210321,0.000312031203120312,0.000216021602160216,0.0,0.000246024602460246,0.000179017901790179,0.000696069606960696,0.00046004600460045997,0.000184018401840184,0.0,0.000208020802080208,0.000483048304830483,0.000304030403040304,0.000191019101910191,0.000339033903390339,0.00026002600260026,0.00017001700170017,0.000267026702670267,0.000523052305230523,0.000215021502150215,0.00022402240224022403,0.00032003200320032004,0.00029002900290029,0.00026602660266026603,0.00039203920392039197,0.00026002600260026,0.000637063706370637,0.000262026202620262,0.00031303130313031297,0.00044304430443044295,0.00031003100310031,0.000264026402640264,0.000177017701770177,0.000269026902690269,0.000347034703470347,0.000323032303230323,0.0,0.000248024802480248,0.0011191119111911198,0.000267026702670267,0.000458045804580458,0.000302030203020302,0.0,0.0,0.000254025402540254,0.0,0.000551055105510551,0.000326032603260326,0.0,0.00113111311131113,0.0,0.0,0.00033003300330033,0.000283028302830283,0.000247024702470247,0.000316031603160316,0.000295029502950295,0.00025002500250025,0.00054005400540054,0.00026002600260026,0.00014001400140013998,0.000344034403440344,0.000395039503950395,0.000353035303530353,0.000222022202220222,0.0,0.000321032103210321,0.000316031603160316,0.000417041704170417,0.00047304730473047305,0.000327032703270327,0.000219021902190219,0.00033503350335033503,0.000323032303230323,0.000344034403440344,0.000309030903090309,0.000281028102810281,0.000284028402840284,0.000163016301630163,0.000524052405240524,0.000394039403940394,0.000278027802780278,0.0,0.00046004600460045997,0.000282028202820282,0.000396039603960396,0.00013801380138013798,0.000418041804180418,0.000262026202620262,0.000137013701370137,0.00044504450445044503,0.0,0.000291029102910291,0.000248024802480248,0.0,0.0016801680168016802,0.000529052905290529,0.000247024702470247,0.00028602860286028596,0.000159015901590159,0.000281028102810281,0.00032803280328032796,0.00030103010301030096,0.000311031103110311,0.000194019401940194,0.000279027902790279,0.0,0.000269026902690269,0.00018601860186018602,0.0,0.000171017101710171,0.000103010301030103,0.000281028102810281,0.000369036903690369,0.0,0.000278027802780278,0.000219021902190219,0.000221022102210221,0.000675067506750675,0.000285028502850285,0.00063006300630063,0.0,0.0,0.00018301830183018301,0.0002000200020002,0.00032003200320032004,0.0,0.000876087608760876,0.000298029802980298,0.000242024202420242,0.000351035103510351,0.000588058805880588,0.000227022702270227,0.000221022102210221,0.000325032503250325,0.00014001400140013998,0.00023002300230022998,0.0,0.000344034403440344,0.000227022702270227,0.000215021502150215,0.000294029402940294,0.000384038403840384,0.000242024202420242,0.00022002200220022002,0.000142014201420142,0.00057005700570057,0.000354035403540354,0.000225022502250225,0.000489048904890489,0.000222022202220222,0.0,0.00033503350335033503,0.00026502650265026496,0.000417041704170417,0.000222022202220222,0.0005980598059805981,0.000182018201820182,0.000403040304030403,0.00039003900390039,0.000595059505950595,0.00023802380238023798,0.000225022502250225,0.000327032703270327,0.000564056405640564,0.00036503650365036496,0.000463046304630463,0.00038603860386038596,0.000296029602960296,0.00029302930293029304,0.000342034203420342,0.000189018901890189,0.0,0.000311031103110311,0.000263026302630263,0.0,0.000336033603360336,0.00024002400240023998,0.000384038403840384,0.0024642464246424603,0.000523052305230523,0.0007890789078907889,0.00029202920292029197,0.000305030503050305,0.000342034203420342,0.000346034603460346,0.000349034903490349,0.000235023502350235,0.0,0.00026002600260026,0.000235023502350235,0.0,0.0,0.000411041104110411,0.000199019901990199,0.00033003300330033,0.000296029602960296,0.000218021802180218,0.000284028402840284,0.000201020102010201,0.000306030603060306,0.000176017601760176,0.000219021902190219,0.000275027502750275,0.000249024902490249,0.00042404240424042403,0.000489048904890489,0.000181018101810181,0.0,0.00039303930393039304,0.000509050905090509,0.00046904690469046906,0.00026002600260026,0.00033403340334033397,0.000338033803380338,0.00018001800180018,0.000234023402340234,0.000566056605660566,0.000216021602160216,0.000545054505450545,0.000723072307230723,0.00022602260226022597,0.00038003800380037996,0.000421042104210421,0.00026002600260026,0.000385038503850385,0.000184018401840184,0.00029902990299029904,0.0,0.000274027402740274,0.000836083608360836,0.000254025402540254,0.000339033903390339,0.00047804780478047804,0.00037603760376037597,0.0,0.000274027402740274,0.00039303930393039304,0.000264026402640264,0.000253025302530253,0.000348034803480348,0.000275027502750275,0.000252025202520252,0.000305030503050305,0.0,0.000509050905090509,0.000454045404540454,0.0,0.0,0.0,0.0,0.00024002400240023998,0.00028602860286028596,0.000282028202820282,0.000391039103910391,0.000323032303230323,0.000429042904290429,0.0006650665066506651,0.000267026702670267,0.00047004700470047,0.0005600560056005599,0.000303030303030303,0.00043004300430043,0.000491049104910491,0.000318031803180318,0.000325032503250325,0.000319031903190319,0.00044104410441044104,0.00027602760276027597,0.0,0.000279027902790279,0.000297029702970297,0.00038003800380037996,0.0,0.000329032903290329,0.000494049404940494,0.000165016501650165,0.00011501150115011499,0.000309030903090309,0.0004900490049004901,0.000349034903490349,0.0005000500050005,0.00027202720272027204,0.000258025802580258,0.000191019101910191,0.000254025402540254,0.00033003300330033,0.00030103010301030096,0.00024502450245024503,0.0004000400040004,0.00041304130413041297,0.00028702870287028703,0.00029002900290029,0.000412041204120412,0.0,0.000312031203120312,0.00027602760276027597,0.0,0.0,0.000367036703670367,0.00030703070307030696,0.00035503550355035497,0.00018801880188018798,0.000268026802680268,0.000363036303630363,0.0003000300030003,0.000402040204020402,0.000257025702570257,0.000297029702970297,0.0,0.000327032703270327,0.00018601860186018602,0.000124012401240124,0.0,0.000124012401240124,0.000104010401040104,0.00013601360136013602,0.000262026202620262,0.000221022102210221,0.00034103410341034104,0.000268026802680268,0.000216021602160216,0.000565056505650565,0.00026502650265026496,0.0,0.0,0.0003000300030003,0.00022002200220022002,0.000218021802180218,0.000297029702970297,0.0,0.00150915091509151,0.0,0.000411041104110411,0.0,0.000513051305130513,0.000397039703970397,0.000281028102810281,0.000383038303830383,0.00032403240324032403,0.00011901190119011899,0.0,0.0,0.00035003500350035,0.000282028202820282,0.000145014501450145,0.000342034203420342,0.000361036103610361,0.00022602260226022597,0.000126012601260126,0.00015701570157015702,0.00188518851885189,0.000381038103810381,0.00031303130313031297,0.000521052105210521,0.00019601960196019599,0.0,0.000419041904190419,0.000312031203120312,0.000523052305230523,0.000253025302530253,0.00122512251225123,0.000391039103910391,0.000359035903590359,0.00604160416041604,0.000396039603960396,0.00026002600260026,0.00039003900390039,0.00043504350435043503,0.000332033203320332,0.00038003800380037996,0.000353035303530353,0.000284028402840284,0.00195019501950195,0.00036003600360036,0.000329032903290329,0.00028702870287028703,0.000128012801280128,0.00029002900290029,0.000296029602960296,0.000527052705270527,0.000159015901590159,0.000346034603460346,0.0006400640064006401,0.000294029402940294,0.000533053305330533,0.000344034403440344,0.000281028102810281,0.00033403340334033397,0.000274027402740274,0.0,0.000291029102910291,0.000281028102810281,0.00015001500150015,0.00037203720372037204,0.000403040304030403,0.00018301830183018301,0.00039003900390039,0.000277027702770277,0.000228022802280228,0.000315031503150315,0.000243024302430243,0.00026602660266026603,0.00024102410241024102,0.00031303130313031297,0.00027102710271027097,0.00038603860386038596,0.000346034603460346,0.00041004100410041,0.000243024302430243,0.0,0.00044004400440044003,0.000318031803180318,0.000149014901490149,0.000284028402840284,0.00026602660266026603,0.00025002500250025,0.000236023602360236,0.000672067206720672,0.000254025402540254,0.00023902390239023902,0.000394039403940394,0.000381038103810381,0.000417041704170417,0.00045704570457045704,0.00046004600460045997,0.000235023502350235,0.000426042604260426,0.00025002500250025,0.000331033103310331,0.0,0.000304030403040304,0.000356035603560356,0.00023302330233023301,0.000209020902090209,0.00023902390239023902,0.00038003800380037996,0.000222022202220222,0.000344034403440344,0.000322032203220322,0.00028602860286028596,0.00030103010301030096,0.000588058805880588,0.000155015501550155,0.000342034203420342,0.000515051505150515,0.0,0.00035003500350035,0.000254025402540254,0.00021402140214021398,0.000259025902590259,0.00025502550255025497,0.0,0.0,0.00013801380138013798,0.00039203920392039197,0.000302030203020302,0.000389038903890389,0.0,0.000388038803880388,0.000612061206120612,0.000285028502850285,0.0,0.000225022502250225,0.000437043704370437,0.000353035303530353,0.000134013401340134,0.00028702870287028703,0.000306030603060306,0.000368036803680368,0.000394039403940394,0.000312031203120312,0.00034503450345034503,0.000321032103210321,0.000404040404040404,0.0,0.000244024402440244,0.00019301930193019298,0.000243024302430243,0.000382038203820382,0.000367036703670367,0.000364036403640364,0.000279027902790279,0.000284028402840284,0.000497049704970497,0.000128012801280128,0.000356035603560356,0.000284028402840284,0.000303030303030303,0.0002000200020002,0.0,0.000679067906790679,0.000356035603560356,0.00027202720272027204,0.000254025402540254,0.000421042104210421,0.00043404340434043397,0.000327032703270327,0.000288028802880288,0.000421042104210421,0.0,0.000325032503250325,0.000288028802880288,0.0,0.00162116211621162,0.000322032203220322,0.000327032703270327,0.000449044904490449,0.000127012701270127,0.00033403340334033397,0.00036603660366036603,0.00037203720372037204,0.000379037903790379,0.000309030903090309,0.000275027502750275,0.0,0.00103010301030103,0.000263026302630263,0.0068046804680468,0.0,0.00020702070207020702,0.000215021502150215,0.000526052605260526,0.000352035203520352,0.00028002800280027996,0.000291029102910291,0.00030103010301030096,0.00093009300930093,0.00038003800380037996,0.00023302330233023301,0.0,0.0,0.000342034203420342,0.000262026202620262,0.000253025302530253,0.000235023502350235,0.0,0.0012831283128312801,0.000234023402340234,0.000417041704170417,0.000516051605160516,0.000475047504750475,0.000427042704270427,0.00039303930393039304,0.00037003700370037,0.00034503450345034503,0.0,0.0,0.00045504550455045497,0.000333033303330333,0.000234023402340234,0.00030703070307030696,0.00023802380238023798,0.000182018201820182,0.0,0.0,0.000348034803480348,0.000342034203420342,0.00040704070407040696,0.000254025402540254,0.000243024302430243,0.000223022302230223,0.00029002900290029,0.00047804780478047804,0.00025502550255025497,0.000541054105410541,0.000325032503250325,0.00029202920292029197,0.00141714171417142,0.000409040904090409,0.000256025602560256,0.00046404640464046395,0.000353035303530353,0.00026002600260026,0.00014001400140013998,0.00039903990399039904,0.000412041204120412,0.00018601860186018602,0.00044104410441044104,0.000249024902490249,0.000331033103310331,0.000244024402440244,0.000208020802080208,0.000229022902290229,0.000118011801180118,0.00018601860186018602,0.000352035203520352,0.000218021802180218,0.00030103010301030096,0.000585058505850585,0.00038003800380037996,0.000381038103810381,0.000306030603060306,0.000177017701770177,0.00036503650365036496,0.000362036203620362,0.000261026102610261,0.000343034303430343,0.00030703070307030696,0.000317031703170317,0.00044004400440044003,0.000135013501350135,0.00022002200220022002,0.000166016601660166,0.000229022902290229,0.0,0.00021702170217021698,0.000129012901290129,0.00024002400240023998,0.000179017901790179,0.000149014901490149,0.000248024802480248,0.0,0.0,0.000297029702970297,0.0002000200020002,0.000104010401040104,0.000319031903190319,0.000228022802280228,0.00038603860386038596,0.000215021502150215,0.000409040904090409,0.000876087608760876,0.000322032203220322,0.00039003900390039,0.000367036703670367,0.000381038103810381,0.000503050305030503,0.000363036303630363,0.00036603660366036603,0.000327032703270327,0.000968096809680968,0.00031303130313031297,0.000294029402940294,0.000506050605060506,0.000607060706070607,0.000417041704170417,0.000402040204020402,0.00038703870387038703,0.00041004100410041,0.00042404240424042403,0.000677067706770677,0.000517051705170517,0.000474047404740474,0.00027602760276027597,0.0005490549054905491,0.000357035703570357,0.0,0.0,0.000227022702270227,0.000359035903590359,0.00029202920292029197,0.000288028802880288,0.000714071407140714,0.0,0.000432043204320432,0.0005000500050005,0.000529052905290529,0.00036503650365036496,0.0005890589058905889,0.00047004700470047,0.0,0.00029302930293029304,0.0004000400040004,0.000462046204620462,0.00021702170217021698,0.0006310631063106309,0.000369036903690369,0.000421042104210421,0.000583058305830583,0.000172017201720172,0.000208020802080208,0.00022002200220022002,0.00030803080308030803,0.0011951195119512,0.00041304130413041297,0.000192019201920192,0.000657065706570657,0.0,0.0,0.0,0.0,0.000379037903790379,0.0,0.000128012801280128,0.000322032203220322,0.0,0.0,0.000402040204020402,0.000221022102210221,0.000108010801080108,0.0,0.00212721272127213,0.000163016301630163,0.00031003100310031,0.00038603860386038596,0.000211021102110211,0.00044104410441044104,0.000192019201920192,0.000235023502350235,0.0,0.0,0.000295029502950295,0.0,0.00014601460146014599,0.0,0.0,0.000288028802880288,0.00019601960196019599,0.0,0.00027002700270027,0.00015001500150015,0.00021402140214021398,0.000125012501250125,0.0328152815281528,0.000508050805080508,0.000197019701970197,0.00039303930393039304,0.0,0.0,0.000296029602960296,0.0,0.0,0.000351035103510351,0.0,0.000333033303330333,0.000309030903090309,0.000228022802280228,0.000499049904990499,0.0,0.0,0.0219331933193319,0.000264026402640264,0.00018601860186018602,0.0,0.00017001700170017,0.00026502650265026496,0.000316031603160316,0.00039203920392039197,0.000205020502050205,0.000421042104210421,0.00015401540154015401,0.000236023602360236,0.0,0.00011901190119011899,0.000242024202420242,0.000187018701870187,0.000237023702370237,0.0,0.0,0.00018601860186018602,0.000209020902090209,0.0,0.000208020802080208,0.000467046704670467,0.00027002700270027,0.000227022702270227,0.00029002900290029,0.000159015901590159,0.0,0.00043504350435043503,0.00016701670167016698,0.000337033703370337,0.0,0.0,0.0,0.0,0.0,0.0,0.0,0.00028602860286028596,0.000309030903090309,0.0,0.0,0.0,0.0,0.00143414341434143,0.000203020302030203,0.000244024402440244,0.0,0.000201020102010201,0.000433043304330433,0.0,0.0,0.00032003200320032004,0.00023302330233023301,0.0,0.000339033903390339,0.0,0.000273027302730273,0.000317031703170317,0.00019001900190018998,0.000412041204120412,0.0,0.0,0.000367036703670367,0.00021202120212021201,0.0,0.00028602860286028596,0.000317031703170317,0.000333033303330333,0.000205020502050205,0.0,0.00046604660466046603,0.000322032203220322,0.0,0.0,0.0,0.0,0.0,0.0,0.0,0.000309030903090309,0.00043004300430043,0.0,0.000305030503050305,0.0,0.0,0.0,0.0,0.000319031903190319,0.00128612861286129,0.0,0.000172017201720172,0.000418041804180418,0.0,0.000263026302630263,0.000325032503250325,0.00027602760276027597,0.0,0.000323032303230323,0.0,0.00033003300330033,0.00044804480448044806,0.00018301830183018301,0.000538053805380538,0.0,0.00034003400340034,0.000261026102610261,0.00022002200220022002,0.0,0.0005610561056105611,0.000518051805180518,0.00022402240224022403,0.000257025702570257,0.0,0.000472047204720472,0.000315031503150315,0.0,0.0,0.00015001500150015,0.0,0.0,0.0,0.0,0.0,0.0,0.0,0.0,0.0,0.0,0.0,0.0,0.0,0.0,0.0,0.0,0.0,0.00029202920292029197,0.000362036203620362,0.0,0.0,0.000253025302530253,0.000388038803880388,0.000359035903590359,0.000799079907990799,0.0,0.0,0.000321032103210321,0.000219021902190219,0.0,0.0,0.0,0.00081008100810081,0.00023202320232023198,0.0,0.000234023402340234,0.00027602760276027597,0.000382038203820382,0.000587058705870587,0.000251025102510251,0.000381038103810381,0.00042404240424042403,0.00018801880188018798,0.000283028302830283,0.000382038203820382,0.000437043704370437,0.0,0.000185018501850185,0.000251025102510251,0.000231023102310231,0.000316031603160316,0.00026002600260026,0.00021702170217021698,0.000144014401440144,0.146681668166817,0.000176017601760176,0.000194019401940194,0.000538053805380538,0.000384038403840384,0.000237023702370237,0.0,0.0,0.000491049104910491,0.0,0.000211021102110211,0.000259025902590259,0.00028602860286028596,0.00040104010401040095,0.00035503550355035497,0.0,0.00031003100310031,0.000721072107210721,0.0,0.000368036803680368,0.000279027902790279,0.000268026802680268,0.00022002200220022002,0.00034103410341034104,0.00013601360136013602,0.000281028102810281,0.0005190519051905191,0.000518051805180518,0.0003000300030003,0.00010601060106010601,0.0,0.000437043704370437,0.000342034203420342,0.00025502550255025497,0.000459045904590459,0.0004900490049004901,0.000145014501450145,0.00042804280428042796,0.00043404340434043397,0.000317031703170317,0.000754075407540754,0.000506050605060506,0.000316031603160316,0.00018001800180018,0.000275027502750275,0.000511051105110511,0.000429042904290429,0.000166016601660166,0.00018301830183018301,0.0,0.000156015601560156,0.000228022802280228,0.000225022502250225,0.000405040504050405,0.00028002800280027996,0.00043004300430043,0.000177017701770177,0.00018801880188018798,0.000529052905290529,0.0,0.0,0.00025002500250025,0.000243024302430243,0.000268026802680268,0.000127012701270127,0.000216021602160216,0.000163016301630163,0.0,0.000142014201420142,0.000101010101010101,0.000225022502250225,0.000122012201220122,0.0,0.00016201620162016201,0.000144014401440144,0.022002200220022,0.000131013101310131,0.000137013701370137,0.000184018401840184,0.000187018701870187,0.000248024802480248,0.0,0.0,0.000171017101710171,0.0,0.00013001300130013,0.000195019501950195,0.00013801380138013798,0.000234023402340234,0.000179017901790179,0.000269026902690269,0.0010601060106010599,0.000354035403540354,0.0,0.000583058305830583,0.000197019701970197,0.00104110411041104,0.000126012601260126,0.000184018401840184,0.000139013901390139,0.0,0.000118011801180118,0.00016701670167016698,0.00018301830183018301,0.00025002500250025,0.0,0.00019001900190018998,0.000244024402440244,0.000165016501650165,0.00022402240224022403,0.000156015601560156,0.00026602660266026603,0.00025502550255025497,0.000149014901490149,0.00026002600260026,0.0,0.00026602660266026603,0.00026502650265026496,0.00033503350335033503,0.000242024202420242,0.000127012701270127,0.0,0.000182018201820182,0.0,0.000465046504650465,0.0,0.000149014901490149,0.00019601960196019599,0.000144014401440144,0.00011001100110011001,0.000174017401740174,0.0,0.0,0.00013301330133013301,0.000194019401940194,0.000195019501950195,0.00037603760376037597,0.00882788278827883,0.000198019801980198,0.0007980798079807981,0.000356035603560356,0.000179017901790179,0.000237023702370237,0.0,0.000211021102110211],\"xaxis\":\"x\",\"y\":[1,1,1,1,1,1,0,0,0,0,0,0,0,0,0,0,0,0,0,0,0,0,0,0,0,0,0,0,0,1,1,0,0,0,0,0,0,0,0,0,0,0,0,0,0,0,0,0,0,0,0,0,0,0,1,1,1,1,0,0,0,0,0,0,0,0,0,0,0,0,0,0,0,0,0,0,0,0,0,0,0,1,0,0,0,0,0,0,0,0,0,0,0,0,0,0,0,0,0,0,0,0,0,0,0,1,1,0,0,0,0,0,0,0,0,0,0,0,0,0,0,0,0,0,0,0,0,0,0,0,0,0,1,0,0,0,0,0,0,0,0,0,0,0,0,0,0,0,0,0,0,0,0,0,0,1,0,0,0,0,0,0,0,0,0,0,0,0,0,0,0,0,0,0,0,0,0,0,0,0,1,1,1,0,0,0,0,0,0,0,0,0,0,0,0,0,0,0,0,0,0,0,0,0,0,0,0,0,0,0,0,0,0,0,0,0,0,0,0,0,0,0,0,0,0,0,1,1,1,1,1,1,1,0,0,0,0,0,0,0,0,0,0,0,0,0,0,0,0,0,0,0,0,0,0,0,0,0,0,0,0,0,0,0,0,0,0,0,0,0,0,0,0,0,0,0,0,0,0,0,1,0,0,0,0,0,0,0,0,0,0,0,0,0,0,0,0,0,0,0,0,0,0,0,0,0,0,0,0,0,0,0,0,0,0,0,0,0,0,0,0,0,0,0,0,0,0,0,0,0,0,0,0,0,0,0,0,0,0,0,0,0,0,0,0,0,0,0,0,0,0,0,0,0,0,0,0,0,0,0,0,0,0,0,0,0,0,0,0,0,0,0,0,0,0,1,0,0,0,0,0,0,0,0,0,0,0,0,0,0,0,0,0,0,0,0,0,0,0,0,0,0,0,0,0,0,0,0,0,0,0,0,0,0,0,0,0,0,0,0,0,0,0,1,0,0,0,0,0,0,0,0,0,0,0,0,0,0,0,0,0,0,0,0,0,0,0,0,0,0,0,0,0,0,0,0,0,0,0,0,0,0,0,0,0,0,0,0,0,0,0,1,0,0,0,0,0,0,0,0,0,0,0,0,0,0,0,0,0,0,0,0,0,0,0,0,0,0,0,0,0,0,0,0,0,0,0,0,0,0,0,0,0,0,0,0,0,0,0,1,1,1,0,0,0,0,0,0,0,0,0,0,0,0,0,0,0,0,0,0,0,0,0,0,0,0,0,0,0,0,0,0,0,0,0,0,0,0,0,0,0,0,0,0,0,0,0,0,0,0,1,0,0,0,0,0,0,0,0,0,0,0,0,0,0,0,0,0,0,0,0,0,0,0,0,0,0,0,0,0,0,0,0,0,0,0,0,0,0,0,0,0,0,0,0,0,0,0,0,0,0,0,0,0,0,0,0,0,0,0,0,0,0,0,0,0,0,0,1,0,0,0,0,0,0,0,0,0,0,0,0,0,0,0,0,0,0,0,0,0,0,0,0,0,0,0,0,0,0,0,0,0,0,0,0,0,0,0,0,0,0,0,0,0,0,0,0,0,0,0,0,0,0,0,0,0,0,0,0,0,0,0,0,0,0,0,0,0,1,0,0,0,0,0,0,0,0,0,0,0,0,0,0,0,0,0,0,0,0,0,0,0,0,0,0,0,0,0,0,0,0,0,0,0,0,0,0,0,0,0,0,0,0,0,0,0,0,0,0,0,0,0,0,0,0,0,0,0,0,0,0,0,0,0,0,0,0,0,0,0,0,0,0,1,0,0,0,0,0,0,0,0,0,0,0,0,0,0,0,0,0,0,0,0,0,0,0,0,0,0,0,0,0,0,0,0,0,0,0,0,0,0,0,0,0,0,0,0,0,0,0,0,0,0,0,0,0,0,0,0,0,0,0,0,0,0,0,0,0,0,0,0,0,0,0,0,0,0,1,1,0,0,0,0,0,0,0,0,0,0,0,0,0,0,0,0,0,0,0,0,0,0,0,0,0,0,0,0,0,0,0,0,0,0,0,0,0,0,0,0,0,0,0,0,0,0,0,0,0,0,0,0,0,0,0,0,0,0,0,0,0,0,0,0,0,0,0,0,0,0,0,0,0,0,0,0,1,1,0,0,0,0,0,0,0,0,0,0,0,0,0,0,0,0,0,0,0,0,0,0,0,0,0,0,0,0,0,0,0,0,0,0,0,0,0,0,0,0,0,0,0,0,0,0,0,0,0,0,0,0,0,0,0,0,0,0,0,0,0,0,0,0,0,0,0,0,0,0,0,0,0,0,0,0,1,1,0,0,0,0,0,0,0,0,0,0,0,0,0,0,0,0,0,0,0,0,0,0,0,0,0,0,0,0,0,0,0,0,0,0,0,0,0,0,0,0,0,0,0,0,0,0,0,0,0,0,0,0,0,0,0,0,0,0,0,0,0,0,0,0,0,0,0,0,0,0,0,0,0,0,0,0,0,1,0,0,0,0,0,0,0,0,0,0,0,0,0,1,0,0,0,0,0,0,0,0,0,0,0,0,0,1,0,0,0,0,0,0,0,0,0,0,0,0,0,1,0,0,0,0,0,0,0,0,0,0,0,0,0,0,0,0,0,0,1,0,0,0,0,1,0,0,0,0,1,1,1,1,0,0,0,0,0,0,0,0,0,0,0,0,0,0,0,0,0,0,0,0,0,0,0,0,0,0,0,0,0,0,1,1,1,1,1,1,0,0,0,0,0,0,0,0,0,0,0,0,0,0,0,0,0,0,0,0,0,0,0,0,0,0,0,0,0,0,0,1,0,0,0,0,0,0,0,0,0,0,0,0,0,0,0,0,0,0,0,0,0,0,0,0,0,0,0,0,0,0,0,1,0,0,0,0,0,0,0,0,0,0,0,0,0,0,0,0,0,0,0,0,0,0,0,0,0,0,0,0,0,0,1,0,0,0,0,0,0,0,0,0,0,0,0,0,0,0,0,0,0,0,0,0,0,0,0,0,0,0,0,0,0,0,0,1,0,0,0,0,0,0,0,0,0,0,0,0,0,1,1,0,0,0,0,0,0,0,0,0,0,0,0,0,0,0,0,0,0,0,0,0,0,0,0,0,0,0,0,0,0,0,0,0,0,0,0,0,0,0,0,0,0,0,0,0,0,0,0,0,0,0,0,0,0,0,0,0,0,0,0,0,0,0,0,0,0,0,0,0,0,0,0,0,0,0,0,0,0,1,1,1,1,1,1,1,0,0,0,0,0,0,0,0,0,0,0,0,0,0,0,0,0,0,0,0,0,0,0,0,0,0,0,0,0,0,0,0,0,0,0,0,0,0,0,0,0,0,0,0,0,0,0,0,0,0,0,0,0,0,0,0,0,0,0,0,0,0,0,0,0,0,0,0,0,0,0,0,0,0,0,0,0,0,0,0,0,0,0,0,0,0,1,1,0,0,0,0,0,0,0,0,0,0,0,0,0,0,0,0,0,0,0,0,0,0,0,0,0,0,0,0,0,0,0,0,0,0,0,0,0,0,0,0,0,0,0,0,0,0,0,0,0,0,0,0,0,0,0,0,0,0,0,0,0,0,0,0,0,0,0,0,0,0,0,0,0,0,0,0,0,0,0,0,0,0,0,0,0,0,0,0,0,0,0,0,0,0,0,0,0,0,0,0,1,1,1,0,0,0,0,0,0,0,0,0,0,0,0,0,0,0,0,0,0,0,0,0,0,0,0,0,0,0,0,0,0,0,0,0,0,0,0,0,0,0,0,0,0,0,0,0,0,0,0,0,0,0,0,0,0,0,0,0,0,0,0,0,0,0,0,0,0,0,0,0,0,0,0,0,0,0,0,0,0,0,0,0,0,0,0,0,0,0,0,0,0,0,0,0,0,0,0,0,0,0,0,0,1,1,1,1,1,1,1,1,1,1,0,0,0,0,0,0,0,0,0,0,0,0,0,0,0,0,0,0,0,0,0,0,0,0,0,0,0,0,0,0,0,0,0,0,0,0,0,0,0,0,0,0,0,0,0,0,0,0,0,0,0,0,0,0,0,0,0,0,0,0,0,0,0,0,0,0,0,0,0,0,0,0,0,0,0,0,0,0,0,0,0,0,0,0,0,0,0,0,0,0,0,0,0,0,0,0,1,1,1,1,1,1,1,1,1,1,1,1,1,0,0,0,0,0,0,0,0,0,0,0,0,0,0,0,0,0,0,0,0,0,0,0,0,0,0,0,0,0,0,0,0,0,0,0,0,0,0,0,0,0,0,0,0,0,0,0,0,0,0,0,0,0,0,0,0,0,0,0,0,0,0,0,0,0,0,0,0,0,0,0,0,0,0,1,1,1,1,1,1,0,0,0,0,0,0,0,0,0,0,0,0,0,0,0,0,0,0,0,0,0,0,0,0,0,0,0,0,0,0,0,0,0,0,0,0,0,0,0,0,0,1,1,1,1,1,0,0,0,0,0,0,0,0,0,0,0,0,0,0,0,0,0,1,1,1,1,1,1,0,0,0,0,0,0,0,0,0,0,0,0,0,1,1,1,1,1,1,0,0,0,0,0,0,0,0,0,0,0,0,0,0,0,0,0,0,0,0,0,0,0,0,0,0,0,0,0,0,0,0,0,0,0,0,0,0,0,0,0,0,0,0,0,0,1,1,1,1,1,1,1,1,0,0,0,0,0,0,0,0,0,0,0,0,0,0,0,0,0,0,0,0,0,0,0,0,0,0,0,0,0,0,0,0,0,0,0,0,0,0,0,0,0,0,0,0,0,0,1,1,1,0,0,0,0,0,0,0,0,0,0,0,0,0,0,0,0,0,0,0,0,0,0,0,0,0,0,0,0,0,0,0,0,0,0,0,0,0,0,0,0,0,0,0,0,0,0,0,1,1,0,0,0,0,0,0,0,0,0,0,0,0,0,0,0,0,0,0,0,0,0,0,0,0,0,0,0,0,0,0,0,0,0,0,0,0,0,0,0,0,0,0,0,0,0,1,1,0,0,0,0,0,0,0,0,0,0,0,0,0,0,0,0,0,0,0,0,0,0,0,0,0,0,0,0,0,0,0,0,0,0,0,0,0,0,0,0,0,0,0,0,0,0,1,1,1,0,0,0,0,0,0,0,0,0,0,0,0,0,0,0,0,0,0,0,0,0,0,0,0,0,0,0,0,0,0,0,0,0,0,0,0,0,0,0,0,0,0,0,0,0,0,1,1,0,0,0,0,0,0,0,0,0,0,0,0,0,0,0,0,0,0,0,0,0,0,0,0,0,0,0,0,0,0,0,0,0,0,0,0,0,0,0,0,0,0,0,0,0,0,1,0,0,0,0,0,0,0,0,0,0,0,0,0,0,0,0,0,0,0,0,0,0,0,0,0,0,0,0,0,0,0,0,0,0,0,0,0,0,0,0,0,0,0,0,0,1,1,0,0,0,0,0,0,0,0,0,0,0,0,0,0,0,0,0,0,0,0,0,0,0,0,0,0,0,1,0,0,0,0,0,0,0,0,0,0,0,0,0,0,0,0,0,0,0,0,0,0,0,0,0,1,0,0,0,0,0,0,0,0,0,0,0,0,0,0,0,0,0,0,0,0,0,0,0,0,0,0,1,0,0,0,0,0,0,0,0,0,0,0,0,1,1,0,0,0,0,0,0,0,0,0,0,0,0,0,0,0,0,0,0,1,0,0,0,0,0,0,0,0,0,0,0,0,0,0,0,0,0,0,1,1,0,0,0,0,0,0,0,0,0,0,0,0,0,0,0,0,0,0,0,0,0,0,0,0,0,0,0,0,0,0,0,0,0,0,0,0,0,0,0,0,0,0,0,0,0,0,0,0,0,0,0,0,0,0,0,0,0,0,0,0,0,1,0,0,0,0,0,0,0,0,0,0,0,0,0,0,0,0,0,0,0,0,0,0,0,0,0,0,0,0,0,0,0,0,0,0,0,0,0,0,0,0,0,0,0,0,0,0,0,0,0,0,0,0,0,0,0,0,0,0,0,0,0,0,0,1,0,0,0,0,0,0,0,0,0,0,0,0,0,0,0,0,0,0,0,0,0,0,0,0,0,0,0,0,0,0,0,0,0,0,0,0,0,0,0,0,0,0,0,0,0,0,0,0,0,0,0,0,0,0,0,0,0,0,0,0,0,0,0,0,1,0,0,0,0,0,0,0,0,0,0,0,0,0,0,0,0,0,0,0,0,0,0,0,0,0,0,0,0,0,0,0,0,0,0,0,0,0,0,0,0,0,0,0,0,0,0,0,0,0,0,0,0,0,0,0,0,0,0,0,0,0,0,0,0,0,0,1,1,0,0,0,0,0,0,0,0,0,0,0,0,0,0,0,0,0,0,0,0,0,0,0,0,0,0,0,0,0,0,0,0,0,0,0,0,0,0,0,0,0,0,0,0,0,0,0,0,0,0,0,0,0,0,0,0,0,0,0,0,0,0,0,0,0,1,1,1,0,0,0,0,0,0,0,0,0,0,0,0,0,0,0,0,0,0,0,0,0,0,0,0,0,0,0,0,0,0,0,0,0,0,0,0,0,0,0,0,0,0,0,0,0,0,0,0,0,0,0,0,0,0,0,0,0,0,0,1,0,0,0,0,0,0,0,0,0,0,0,0,0,0,0,0,0,0,0,0,0,0,0,0,0,0,0,0,0,0,0,0,0,0,0,0,0,0,1,0,0,0,0,0,0,0,0,0,0,0,0,0,0,0,0,0,0,0,0,0,0,0,0,0,0,0,0,0,0,0,0,0,0,0,0,0,0,0,1,0,0,0,0,0,0,0,0,0,0,0,0,0,0,0,0,0,0,0,0,0,0,0,0,0,0,0,0,0,0,0,0,0,0,0,0,0,0,0,0,0,0,0,0,0,0,0,0,0,0,0,1,0,0,0,0,0,0,0,0,0,0,0,0,0,0,0,0,0,0,0,0,0,0,0,0,0,0,0,0,0,0,0,0,0,0,0,0,0,0,0,0,0,0,0,0,0,0,0,0,0,0,0,0,0,0,0,0,0,0,0,0,0,0,0,0,0,1,0,0,0,0,0,0,0,0,0,0,0,0,0,0,0,0,0,0,0,0,0,0,0,0,0,0,0,0,0,0,0,0,0,0,0,0,0,0,0,0,0,0,0,0,0,0,0,0,0,0,0,0,0,0,0,0,0,0,0,0,0,0,0,0,0,0,0,0,0,0,0,0,0,0,0,0,0,0,0,0,0,0,0,0,0,0,0,0,0,0,0,0,0,0,0,0,0,0,0,0,0,0,0,0,0,0,0,0,0,0,0,0,0,0,0,0,0,1,0,0,0,0,0,0,0,0,0,0,0,0,0,0,0,0,0,0,0,0,0,0,0,0,0,0,0,0,0,0,0,0,0,0,0,0,0,0,0,0,0,0,0,0,0,0,0,0,0,0,0,0,0,0,0,0,0,0,0,0,0,0,0,0,0,0,0,0,0,0,0,0,0,0,0,0,0,0,0,0,0,0,0,0,0,0,0,0,0,0,0,0,0,0,0,0,0,0,0,0,0,0,0,0,0,0,0,0,0,0,0,0,0,0,0,0,0,0,0,0,0,0,0,0,0,0,0,0,0,0,0,0,0,0,0,0,0,0,0,1,0,0,0,0,0,0,0,0,0,0,0,0,0,0,0,0,0,0,0,0,0,0,0,0,0,0,0,0,0,0,0,0,0,0,0,0,0,0,0,0,0,0,0,0,0,0,0,0,0,0,0,0,0,0,0,0,0,0,0,0,0,0,0,0,0,0,0,0,0,0,0,0,0,0,0,0,0,0,0,0,0,0,0,0,0,0,0,0,0,0,0,0,0,0,0,0,0,0,0,0,0,0,0,0,0,0,0,0,0,0,0,0,0,0,0,0,0,0,0,0,0,0,0,0,0,0,0,0,0,0,0,0,0,0,0,0,0,0,0,0,0,0,0,0,1,1,1,1,1,0,0,0,0,0,0,0,0,0,0,0,0,0,0,0,0,0,0,0,0,0,0,0,0,0,0,0,0,0,0,0,0,0,0,0,0,0,0,0,0,0,0,0,0,0,0,0,0,0,0,0,0,0,0,0,0,0,0,0,0,0,0,0,0,0,0,0,0,0,0,0,0,0,0,0,0,0,0,0,0,0,0,0,0,0,0,0,0,0,0,0,0,0,0,0,0,0,0,0,0,0,0,0,0,0,0,0,0,0,0,0,0,0,0,0,0,0,0,0,0,0,0,0,0,0,0,0,0,0,0,0,0,0,0,0,0,0,0,0,0,0,0,0,0,0,0,0,0,1,0,0,0,0,0,0,0,0,0,0,0,0,0,0,0,0,0,0,0,0,0,0,0,0,0,0,0,0,0,0,0,0,0,0,0,0,0,0,0,0,0,0,0,0,0,0,0,0,0,0,0,0,0,0,0,0,0,0,0,0,0,0,0,0,0,0,0,0,0,0,0,0,0,0,0,0,0,0,0,0,0,0,0,0,0,0,0,0,0,0,0,0,0,0,0,0,0,0,0,0,0,0,0,0,0,0,0,0,0,0,0,0,0,0,0,0,0,0,0,0,0,0,0,0,0,0,0,0,0,0,0,0,0,0,0,0,0,0,0,0,0,0,0,0,0,0,0,0,0,0,0,0,1,0,0,0,0,0,0,0,0,0,0,0,0,0,0,0,0,0,0,0,0,0,0,0,0,0,0,0,0,0,0,0,0,0,0,0,0,0,0,0,0,0,0,0,0,0,0,0,0,0,0,0,0,0,0,0,0,0,0,0,0,0,0,0,0,0,0,0,0,0,0,0,0,0,0,0,0,0,0,0,0,0,0,0,0,0,0,0,0,0,0,0,0,0,0,0,0,0,0,0,0,0,0,0,0,0,0,0,0,0,0,0,0,0,0,0,0,0,0,0,0,0,0,0,0,0,0,0,0,0,0,0,0,0,0,0,0,0,0,0,0,0,0,0,0,0,0,0,0,0,0,0,0,0,1,0,0,0,0,0,0,0,0,0,0,0,0,0,0,0,0,0,0,0,0,0,0,0,0,0,0,0,0,0,0,0,0,0,0,0,0,0,0,0,0,0,0,0,0,0,0,0,0,0,0,0,0,0,0,0,0,0,0,0,0,0,0,0,0,0,0,0,0,0,0,0,0,0,0,0,0,0,0,0,0,0,0,1,0,0,0,0,0,0,0,0,0,0,0,0,0,0,0,0,0,0,0,0,0,0,0,0,0,0,0,0,0,0,0,0,0,0,0,0,0,0,0,0,0,0,0,0,0,0,0,0,0,0,0,0,0,0,0,0,0,0,0,0,0,0,0,0,0,0,0,0,0,0,0,0,0,0,0,0,0,0,0,0,0,0,0,0,0,0,0,0,0,0,0,0,0,0,0,0,0,0,0,0,0,1,0,0,0,0,0,0,0,0,0,0,0,0,0,0,0,0,0,0,0,0,0,0,0,0,0,0,0,0,0,0,0,0,0,0,0,0,0,0,0,0,0,0,0,0,0,0,0,0,0,0,0,0,0,0,0,0,0,0,0,0,0,0,0,0,0,0,0,0,0,0,0,0,0,0,0,0,0,0,0,0,0,0,0,0,0,0,0,0,0,0,0,0,0,0,0,0,0,0,0,0,0,0,1,1,0,0,0,0,0,0,0,0,0,0,0,0,0,0,0,0,0,0,0,0,0,0,0,0,0,0,0,0,0,0,0,0,0,0,0,0,0,0,0,0,0,0,0,0,0,0,0,0,0,0,0,0,0,0,0,0,0,0,0,0,0,0,0,0,0,0,0,0,0,0,0,0,0,0,0,0,0,0,0,0,0,0,0,0,0,0,0,0,0,0,0,0,0,0,0,0,0,0,0,0,0,0,0,0,0,0,0,1,1,0,0,0,0,0,0,0,0,0,0,0,0,0,0,0,0,0,0,0,0,0,0,0,0,0,0,0,0,0,0,0,0,0,0,0,0,0,0,0,0,0,0,0,0,0,0,0,0,0,0,0,0,0,0,0,0,0,0,0,0,0,0,0,0,0,0,0,0,0,0,0,0,0,0,0,0,0,0,0,0,0,0,0,0,0,0,1,0,0,0,0,0,0,0,0,0,0,0,0,0,0,0,0,0,0,0,0,0,0,0,0,0,0,0,0,0,0,0,0,0,0,0,0,0,0,0,0,0,0,0,0,0,0,0,0,0,0,0,0,0,0,0,0,0,0,0,0,0,0,0,0,0,0,0,0,0,0,0,0,0,0,0,0,0,0,0,0,0,0,0,0,0,0,0,0,1,0,0,0,0,0,0,0,0,0,0,0,0,0,0,0,0,0,0,0,0,0,0,0,0,0,0,0,0,0,0,0,0,0,0,0,0,0,0,0,0,0,0,0,0,0,0,0,0,0,0,0,0,0,0,0,0,0,0,0,0,0,0,0,0,0,0,0,0,0,0,0,0,0,0,0,0,0,0,0,0,0,0,0,0,0,0,0,0,0,0,0,0,0,0,0,0,1,1,0,0,0,0,0,0,0,0,0,0,0,0,0,0,0,0,0,0,0,0,0,0,0,0,0,0,0,0,0,0,0,0,0,0,0,0,0,0,0,0,0,0,0,0,0,0,0,0,0,0,0,0,0,0,0,0,0,0,0,0,0,0,0,0,0,0,0,0,0,0,0,0,0,0,0,0,0,0,0,0,0,0,0,0,0,0,0,0,0,0,0,0,0,0,0,0,0,0,0,0,0,0,0,0,0,0,0,0,0,0,0,0,0,0,0,0,0,0,0,0,0,0,0,1,1,0,0,0,0,0,0,0,0,0,0,0,0,0,0,0,0,0,0,0,0,0,0,0,0,0,0,0,0,0,0,0,0,0,0,0,0,0,0,0,0,0,0,0,0,0,0,0,0,0,0,0,0,0,0,0,0,0,0,0,0,0,0,0,0,0,0,0,0,0,0,0,0,0,0,0,0,0,0,0,0,0,0,0,0,0,0,0,0,0,0,0,0,0,0,0,0,0,0,0,0,0,0,0,0,0,0,0,0,0,0,0,0,0,0,0,0,0,0,0,0,0,0,0,0,0,0,0,0,0,0,0,0,0,0,0,0,0,0,0,0,0,0,0,0,0,1,1,0,0,0,0,0,0,0,0,0,0,0,0,0,0,0,0,0,0,0,0,0,0,0,0,0,0,0,0,0,0,0,0,0,0,0,0,0,0,0,0,0,0,0,0,0,0,0,0,0,0,0,0,0,0,0,0,0,0,0,0,0,0,0,0,0,0,0,0,0,0,0,1,0,0,0,0,0,0,0,0,0,0,0,0,0,0,0,0,0,0,0,0,0,0,0,0,0,0,0,0,0,0,0,0,0,0,0,0,0,0,0,0,0,0,0,0,0,0,0,0,0,0,0,0,0,0,0,0,0,0,0,0,0,0,0,0,0,0,0,0,0,0,0,0,0,0,0,0,1,0,0,0,0,0,0,0,0,0,0,0,0,0,0,0,0,0,0,0,0,0,0,0,0,0,0,0,0,0,0,0,0,0,0,0,0,0,0,0,0,0,0,0,0,0,0,0,0,0,0,0,0,0,0,0,0,0,0,0,0,0,0,0,0,0,0,0,0,0,0,0,0,0,0,0,0,1,1,0,0,0,0,0,0,0,0,0,0,0,0,0,0,0,0,0,0,0,0,0,0,0,0,0,0,0,0,0,0,0,0,0,0,0,0,0,0,0,0,0,0,0,0,0,0,0,0,0,0,0,0,0,0,0,0,0,0,0,0,0,0,0,0,0,0,0,0,0,0,0,0,0,0,0,0,0,0,0,0,0,0,0,0,0,0,0,0,0,0,0,0,0,0,0,0,0,0,0,0,0,0,0,0,0,0,0,0,0,0,0,0,0,0,0,0,0,0,0,0,0,0,0,0,0,0,0,0,0,0,0,0,0,0,0,0,0,0,0,0,0,0,0,0,0,0,0,0,0,0,0,0,0,0,0,0,0,0,0,0,0,0,0,0,0,0,0,0,0,0,1,1,0,0,0,0,0,0,0,0,0,0,0,0,0,0,0,0,0,0,0,0,0,0,0,0,0,0,0,0,0,0,0,0,0,0,0,0,0,0,0,0,0,0,0,0,0,0,0,0,0,0,0,0,0,0,0,0,0,0,0,0,0,0,0,0,0,0,0,0,0,0,0,0,0,0,0,0,0,0,0,0,0,0,0,0,0,0,0,0,0,0,0,0,0,0,0,0,0,0,0,0,0,0,0,0,0,0,0,0,0,0,0,0,0,0,0,0,0,0,0,0,0,0,0,0,0,0,0,0,0,0,0,0,0,0,0,0,0,0,0,0,0,0,0,0,0,0,0,0,0,0,0,0,0,0,0,0,0,0,0,0,0,0,0,0,0,0,0,0,0,0,0,0,0,0,0,0,0,0,0,0,0,0,0,0,0,0,0,0,0,0,0,1,0,0,0,0,0,0,0,0,0,0,0,0,0,0,0,0,0,0,0,0,0,0,0,0,0,0,0,0,0,0,0,0,0,0,0,0,0,0,0,0,0,0,0,0,0,0,0,0,0,0,0,0,0,0,0,0,0,0,0,0,0,0,0,0,0,0,0,0,0,0,0,0,0,0,0,0,0,0,0,0,0,0,0,0,0,0,0,0,0,0,0,0,0,0,0,0,0,0,0,0,0,0,0,0,0,0,0,0,0,0,0,0,0,0,0,0,0,0,0,0,0,0,0,0,0,0,0,0,0,0,0,0,0,0,0,0,0,0,0,0,0,0,0,0,0,0,0,0,0,0,0,0,0,0,0,0,0,0,0,0,0,0,0,0,0,0,0,0,0,0,0,0,0,0,0,0,0,0,0,0,0,0,0,0,0,0,0,0,0,0,0,0,0,0,0,0,1,1,1,1,0,0,0,0,0,0,0,0,0,0,0,0,0,0,0,0,0,0,0,0,0,0,0,0,0,0,0,0,0,0,0,0,0,0,0,0,0,0,0,0,0,0,0,0,0,0,0,0,0,0,0,0,0,0,0,0,0,0,0,0,0,0,0,0,0,0,0,0,0,0,0,0,0,0,0,0,0,0,0,0,0,0,0,0,0,0,0,0,0,0,0,0,0,0,0,0,0,0,0,0,0,0,0,0,0,0,0,0,0,0,0,0,0,0,0,0,0,0,0,0,0,0,0,0,0,0,0,0,0,0,0,0,0,0,0,0,0,0,0,0,0,0,0,0,0,0,0,0,0,0,0,0,0,0,0,0,0,0,0,0,0,0,0,0,0,0,0,0,0,0,0,0,0,0,0,0,0,0,0,0,0,0,0,0,0,0,0,0,0,0,0,0,0,0,0,0,0,0,0,0,1,0,0,0,0,0,0,0,0,0,0,0,0,0,0,0,0,0,0,0,0,0,0,0,0,0,0,0,0,0,0,0,0,0,0,0,0,0,0,0,0,0,0,0,0,0,0,0,0,0,0,0,0,0,0,0,0,0,0,0,0,0,0,0,0,0,0,0,0,0,0,0,0,0,0,0,0,0,0,0,0,0,0,0,0,0,0,0,0,0,0,0,0,0,0,0,0,0,0,0,0,0,0,0,0,0,0,0,0,0,0,0,0,0,0,0,0,0,0,0,0,0,0,0,0,0,0,0,0,0,0,0,0,0,0,0,0,0,0,0,0,0,0,0,0,0,0,0,0,0,0,0,0,0,0,0,0,0,0,0,0,0,0,0,0,0,0,0,0,0,0,0,0,0,0,0,0,0,0,0,0,0,0,0,0,0,0,0,0,0,0,0,0,0,0,0,0,0,0,0,0,0,0,0,1,0,0,0,0,0,0,0,0,0,0,0,0,0,0,0,0,0,0,0,0,0,0,0,0,0,0,0,0,0,0,0,0,0,0,0,0,0,0,0,0,0,0,0,0,0,1,0,0,0,0,0,0,0,0,0,0,0,0,0,0,0,0,0,0,0,0,0,0,0,0,0,0,0,0,0,0,0,0,0,0,0,0,0,0,0,0,0,0,0,0,0,0,0,0,1,1,0,0,0,0,0,0,0,0,0,0,0,0,0,0,0,0,0,0,0,0,0,0,0,0,0,0,0,0,0,0,0,0,0,0,0,0,0,0,0,0,1,0,0,0,0,0,0,0,0,0,0,0,0,0,0,0,0,0,0,0,0,0,0,0,0,0,0,0,0,0,0,0,0,0,0,0,0,0,0,0,0,0,0,1,1,1,0,0,0,0,0,0,0,0,0,0,0,0,0,0,0,0,0,0,0,0,0,0,0,0,0,0,0,0,0,0,0,0,0,0,0,0,0,0,0,0,0,0,1,0,0,0,0,0,0,0,0,0,0,0,0,0,0,0,0,0,0,0,0,0,0,0,0,0,0,0,0,0,0,0,0,0,0,0,0,0,0,0,0,0,0,1,0,0,0,0,0,0,0,0,0,0,0,0,0,0,0,0,0,0,0,0,0,0,0,0,0,0,0,0,0,0,0,0,0,0,0,0,0,0,0,0,0,0,0,0,1,1,1,0,0,0,0,0,0,0,0,0,0,0,0,0,0,0,0,0,0,0,0,0,0,0,0,0,0,0,0,0,0,0,0,0,0,0,0,0,0,0,0,0,0,0,0,0,0,0,0,0,0,0,0,0,0,0,0,0,0,0,0,0,0,0,0,0,0,0,0,0,0,0,0,0,0,0,0,0,0,1,0,0,0,0,0,0,0,0,0,0,0,0,0,0,0,0,0,0,0,0,0,0,0,0,0,0,0,0,0,0,0,0,0,0,0,0,0,0,0,0,0,0,0,0,0,0,0,0,0,0,0,0,0,0,0,0,0,0,0,0,0,0,0,0,0,0,0,0,0,0,0,0,0,0,0,0,0,0,0,0,0,0],\"yaxis\":\"y\",\"type\":\"histogram\"}],                        {\"template\":{\"data\":{\"bar\":[{\"error_x\":{\"color\":\"#2a3f5f\"},\"error_y\":{\"color\":\"#2a3f5f\"},\"marker\":{\"line\":{\"color\":\"#E5ECF6\",\"width\":0.5},\"pattern\":{\"fillmode\":\"overlay\",\"size\":10,\"solidity\":0.2}},\"type\":\"bar\"}],\"barpolar\":[{\"marker\":{\"line\":{\"color\":\"#E5ECF6\",\"width\":0.5},\"pattern\":{\"fillmode\":\"overlay\",\"size\":10,\"solidity\":0.2}},\"type\":\"barpolar\"}],\"carpet\":[{\"aaxis\":{\"endlinecolor\":\"#2a3f5f\",\"gridcolor\":\"white\",\"linecolor\":\"white\",\"minorgridcolor\":\"white\",\"startlinecolor\":\"#2a3f5f\"},\"baxis\":{\"endlinecolor\":\"#2a3f5f\",\"gridcolor\":\"white\",\"linecolor\":\"white\",\"minorgridcolor\":\"white\",\"startlinecolor\":\"#2a3f5f\"},\"type\":\"carpet\"}],\"choropleth\":[{\"colorbar\":{\"outlinewidth\":0,\"ticks\":\"\"},\"type\":\"choropleth\"}],\"contour\":[{\"colorbar\":{\"outlinewidth\":0,\"ticks\":\"\"},\"colorscale\":[[0.0,\"#0d0887\"],[0.1111111111111111,\"#46039f\"],[0.2222222222222222,\"#7201a8\"],[0.3333333333333333,\"#9c179e\"],[0.4444444444444444,\"#bd3786\"],[0.5555555555555556,\"#d8576b\"],[0.6666666666666666,\"#ed7953\"],[0.7777777777777778,\"#fb9f3a\"],[0.8888888888888888,\"#fdca26\"],[1.0,\"#f0f921\"]],\"type\":\"contour\"}],\"contourcarpet\":[{\"colorbar\":{\"outlinewidth\":0,\"ticks\":\"\"},\"type\":\"contourcarpet\"}],\"heatmap\":[{\"colorbar\":{\"outlinewidth\":0,\"ticks\":\"\"},\"colorscale\":[[0.0,\"#0d0887\"],[0.1111111111111111,\"#46039f\"],[0.2222222222222222,\"#7201a8\"],[0.3333333333333333,\"#9c179e\"],[0.4444444444444444,\"#bd3786\"],[0.5555555555555556,\"#d8576b\"],[0.6666666666666666,\"#ed7953\"],[0.7777777777777778,\"#fb9f3a\"],[0.8888888888888888,\"#fdca26\"],[1.0,\"#f0f921\"]],\"type\":\"heatmap\"}],\"heatmapgl\":[{\"colorbar\":{\"outlinewidth\":0,\"ticks\":\"\"},\"colorscale\":[[0.0,\"#0d0887\"],[0.1111111111111111,\"#46039f\"],[0.2222222222222222,\"#7201a8\"],[0.3333333333333333,\"#9c179e\"],[0.4444444444444444,\"#bd3786\"],[0.5555555555555556,\"#d8576b\"],[0.6666666666666666,\"#ed7953\"],[0.7777777777777778,\"#fb9f3a\"],[0.8888888888888888,\"#fdca26\"],[1.0,\"#f0f921\"]],\"type\":\"heatmapgl\"}],\"histogram\":[{\"marker\":{\"pattern\":{\"fillmode\":\"overlay\",\"size\":10,\"solidity\":0.2}},\"type\":\"histogram\"}],\"histogram2d\":[{\"colorbar\":{\"outlinewidth\":0,\"ticks\":\"\"},\"colorscale\":[[0.0,\"#0d0887\"],[0.1111111111111111,\"#46039f\"],[0.2222222222222222,\"#7201a8\"],[0.3333333333333333,\"#9c179e\"],[0.4444444444444444,\"#bd3786\"],[0.5555555555555556,\"#d8576b\"],[0.6666666666666666,\"#ed7953\"],[0.7777777777777778,\"#fb9f3a\"],[0.8888888888888888,\"#fdca26\"],[1.0,\"#f0f921\"]],\"type\":\"histogram2d\"}],\"histogram2dcontour\":[{\"colorbar\":{\"outlinewidth\":0,\"ticks\":\"\"},\"colorscale\":[[0.0,\"#0d0887\"],[0.1111111111111111,\"#46039f\"],[0.2222222222222222,\"#7201a8\"],[0.3333333333333333,\"#9c179e\"],[0.4444444444444444,\"#bd3786\"],[0.5555555555555556,\"#d8576b\"],[0.6666666666666666,\"#ed7953\"],[0.7777777777777778,\"#fb9f3a\"],[0.8888888888888888,\"#fdca26\"],[1.0,\"#f0f921\"]],\"type\":\"histogram2dcontour\"}],\"mesh3d\":[{\"colorbar\":{\"outlinewidth\":0,\"ticks\":\"\"},\"type\":\"mesh3d\"}],\"parcoords\":[{\"line\":{\"colorbar\":{\"outlinewidth\":0,\"ticks\":\"\"}},\"type\":\"parcoords\"}],\"pie\":[{\"automargin\":true,\"type\":\"pie\"}],\"scatter\":[{\"marker\":{\"colorbar\":{\"outlinewidth\":0,\"ticks\":\"\"}},\"type\":\"scatter\"}],\"scatter3d\":[{\"line\":{\"colorbar\":{\"outlinewidth\":0,\"ticks\":\"\"}},\"marker\":{\"colorbar\":{\"outlinewidth\":0,\"ticks\":\"\"}},\"type\":\"scatter3d\"}],\"scattercarpet\":[{\"marker\":{\"colorbar\":{\"outlinewidth\":0,\"ticks\":\"\"}},\"type\":\"scattercarpet\"}],\"scattergeo\":[{\"marker\":{\"colorbar\":{\"outlinewidth\":0,\"ticks\":\"\"}},\"type\":\"scattergeo\"}],\"scattergl\":[{\"marker\":{\"colorbar\":{\"outlinewidth\":0,\"ticks\":\"\"}},\"type\":\"scattergl\"}],\"scattermapbox\":[{\"marker\":{\"colorbar\":{\"outlinewidth\":0,\"ticks\":\"\"}},\"type\":\"scattermapbox\"}],\"scatterpolar\":[{\"marker\":{\"colorbar\":{\"outlinewidth\":0,\"ticks\":\"\"}},\"type\":\"scatterpolar\"}],\"scatterpolargl\":[{\"marker\":{\"colorbar\":{\"outlinewidth\":0,\"ticks\":\"\"}},\"type\":\"scatterpolargl\"}],\"scatterternary\":[{\"marker\":{\"colorbar\":{\"outlinewidth\":0,\"ticks\":\"\"}},\"type\":\"scatterternary\"}],\"surface\":[{\"colorbar\":{\"outlinewidth\":0,\"ticks\":\"\"},\"colorscale\":[[0.0,\"#0d0887\"],[0.1111111111111111,\"#46039f\"],[0.2222222222222222,\"#7201a8\"],[0.3333333333333333,\"#9c179e\"],[0.4444444444444444,\"#bd3786\"],[0.5555555555555556,\"#d8576b\"],[0.6666666666666666,\"#ed7953\"],[0.7777777777777778,\"#fb9f3a\"],[0.8888888888888888,\"#fdca26\"],[1.0,\"#f0f921\"]],\"type\":\"surface\"}],\"table\":[{\"cells\":{\"fill\":{\"color\":\"#EBF0F8\"},\"line\":{\"color\":\"white\"}},\"header\":{\"fill\":{\"color\":\"#C8D4E3\"},\"line\":{\"color\":\"white\"}},\"type\":\"table\"}]},\"layout\":{\"annotationdefaults\":{\"arrowcolor\":\"#2a3f5f\",\"arrowhead\":0,\"arrowwidth\":1},\"autotypenumbers\":\"strict\",\"coloraxis\":{\"colorbar\":{\"outlinewidth\":0,\"ticks\":\"\"}},\"colorscale\":{\"diverging\":[[0,\"#8e0152\"],[0.1,\"#c51b7d\"],[0.2,\"#de77ae\"],[0.3,\"#f1b6da\"],[0.4,\"#fde0ef\"],[0.5,\"#f7f7f7\"],[0.6,\"#e6f5d0\"],[0.7,\"#b8e186\"],[0.8,\"#7fbc41\"],[0.9,\"#4d9221\"],[1,\"#276419\"]],\"sequential\":[[0.0,\"#0d0887\"],[0.1111111111111111,\"#46039f\"],[0.2222222222222222,\"#7201a8\"],[0.3333333333333333,\"#9c179e\"],[0.4444444444444444,\"#bd3786\"],[0.5555555555555556,\"#d8576b\"],[0.6666666666666666,\"#ed7953\"],[0.7777777777777778,\"#fb9f3a\"],[0.8888888888888888,\"#fdca26\"],[1.0,\"#f0f921\"]],\"sequentialminus\":[[0.0,\"#0d0887\"],[0.1111111111111111,\"#46039f\"],[0.2222222222222222,\"#7201a8\"],[0.3333333333333333,\"#9c179e\"],[0.4444444444444444,\"#bd3786\"],[0.5555555555555556,\"#d8576b\"],[0.6666666666666666,\"#ed7953\"],[0.7777777777777778,\"#fb9f3a\"],[0.8888888888888888,\"#fdca26\"],[1.0,\"#f0f921\"]]},\"colorway\":[\"#636efa\",\"#EF553B\",\"#00cc96\",\"#ab63fa\",\"#FFA15A\",\"#19d3f3\",\"#FF6692\",\"#B6E880\",\"#FF97FF\",\"#FECB52\"],\"font\":{\"color\":\"#2a3f5f\"},\"geo\":{\"bgcolor\":\"white\",\"lakecolor\":\"white\",\"landcolor\":\"#E5ECF6\",\"showlakes\":true,\"showland\":true,\"subunitcolor\":\"white\"},\"hoverlabel\":{\"align\":\"left\"},\"hovermode\":\"closest\",\"mapbox\":{\"style\":\"light\"},\"paper_bgcolor\":\"white\",\"plot_bgcolor\":\"#E5ECF6\",\"polar\":{\"angularaxis\":{\"gridcolor\":\"white\",\"linecolor\":\"white\",\"ticks\":\"\"},\"bgcolor\":\"#E5ECF6\",\"radialaxis\":{\"gridcolor\":\"white\",\"linecolor\":\"white\",\"ticks\":\"\"}},\"scene\":{\"xaxis\":{\"backgroundcolor\":\"#E5ECF6\",\"gridcolor\":\"white\",\"gridwidth\":2,\"linecolor\":\"white\",\"showbackground\":true,\"ticks\":\"\",\"zerolinecolor\":\"white\"},\"yaxis\":{\"backgroundcolor\":\"#E5ECF6\",\"gridcolor\":\"white\",\"gridwidth\":2,\"linecolor\":\"white\",\"showbackground\":true,\"ticks\":\"\",\"zerolinecolor\":\"white\"},\"zaxis\":{\"backgroundcolor\":\"#E5ECF6\",\"gridcolor\":\"white\",\"gridwidth\":2,\"linecolor\":\"white\",\"showbackground\":true,\"ticks\":\"\",\"zerolinecolor\":\"white\"}},\"shapedefaults\":{\"line\":{\"color\":\"#2a3f5f\"}},\"ternary\":{\"aaxis\":{\"gridcolor\":\"white\",\"linecolor\":\"white\",\"ticks\":\"\"},\"baxis\":{\"gridcolor\":\"white\",\"linecolor\":\"white\",\"ticks\":\"\"},\"bgcolor\":\"#E5ECF6\",\"caxis\":{\"gridcolor\":\"white\",\"linecolor\":\"white\",\"ticks\":\"\"}},\"title\":{\"x\":0.05},\"xaxis\":{\"automargin\":true,\"gridcolor\":\"white\",\"linecolor\":\"white\",\"ticks\":\"\",\"title\":{\"standoff\":15},\"zerolinecolor\":\"white\",\"zerolinewidth\":2},\"yaxis\":{\"automargin\":true,\"gridcolor\":\"white\",\"linecolor\":\"white\",\"ticks\":\"\",\"title\":{\"standoff\":15},\"zerolinecolor\":\"white\",\"zerolinewidth\":2}}},\"xaxis\":{\"anchor\":\"y\",\"domain\":[0.0,1.0],\"title\":{\"text\":\" Interest-bearing debt interest rate\"}},\"yaxis\":{\"anchor\":\"x\",\"domain\":[0.0,1.0],\"title\":{\"text\":\"avg of Bankrupt?\"}},\"legend\":{\"tracegroupgap\":0},\"title\":{\"text\":\"histfunc = avg\"},\"barmode\":\"relative\"},                        {\"responsive\": true}                    ).then(function(){\n",
              "                            \n",
              "var gd = document.getElementById('d183d4e3-2a40-4b36-bfaa-240c3849a5ef');\n",
              "var x = new MutationObserver(function (mutations, observer) {{\n",
              "        var display = window.getComputedStyle(gd).display;\n",
              "        if (!display || display === 'none') {{\n",
              "            console.log([gd, 'removed!']);\n",
              "            Plotly.purge(gd);\n",
              "            observer.disconnect();\n",
              "        }}\n",
              "}});\n",
              "\n",
              "// Listen for the removal of the full notebook cells\n",
              "var notebookContainer = gd.closest('#notebook-container');\n",
              "if (notebookContainer) {{\n",
              "    x.observe(notebookContainer, {childList: true});\n",
              "}}\n",
              "\n",
              "// Listen for the clearing of the current output cell\n",
              "var outputEl = gd.closest('.output');\n",
              "if (outputEl) {{\n",
              "    x.observe(outputEl, {childList: true});\n",
              "}}\n",
              "\n",
              "                        })                };                            </script>        </div>\n",
              "</body>\n",
              "</html>"
            ]
          },
          "metadata": {}
        }
      ]
    },
    {
      "cell_type": "code",
      "source": [
        "#Separating rows with Interest-bearing debt interest rate >1\n",
        "#Majority of the rows have Bankrupt? value of 0, only 1 instance of Bankrupt? =1. Ok to remove these values from dataset as it shouldn't affect the distribution of the Bankrupt? values too much.\n",
        "\n",
        "\n",
        "intbear100 = df[df[' Interest-bearing debt interest rate'] >= 1]\n",
        "intbear100"
      ],
      "metadata": {
        "id": "-Ry2-MzFqaJ1"
      },
      "execution_count": null,
      "outputs": []
    },
    {
      "cell_type": "code",
      "source": [
        "#Looking at Current Ratio outliers\n",
        "#Only 1 value of Current Ratio >1 and the value of Current Ratio is in the billions, so removing from dataset should be ok\n",
        "\n",
        "currentrat1 = df[df[' Current Ratio'] >1]\n",
        "currentrat1\n"
      ],
      "metadata": {
        "id": "QzNEbHmyq5YV"
      },
      "execution_count": null,
      "outputs": []
    },
    {
      "cell_type": "code",
      "source": [
        "#Look at histogram with Interest-bearing debt interest rate for values <1\n",
        "#Histogram indicates a relationship with mean Bankruptcy probability. Current Ratio values >0.1 have higher likelihood of Bankruptcy\n",
        "\n",
        "\n",
        "currentrat0 = df[df[' Current Ratio'] <=1]\n",
        "\n",
        "histfunc = \"avg\"\n",
        "fig = px.histogram(currentrat0,\n",
        "                   x=' Current Ratio',\n",
        "                   y=\"Bankrupt?\",\n",
        "                   histfunc=histfunc,\n",
        "                   title=f\"histfunc = {histfunc}\")\n",
        "fig.show()"
      ],
      "metadata": {
        "colab": {
          "base_uri": "https://localhost:8080/",
          "height": 542
        },
        "id": "dndFolE1sfVJ",
        "outputId": "dede6bd0-5931-40e6-cfec-b6f8f92367c4"
      },
      "execution_count": 7,
      "outputs": [
        {
          "output_type": "display_data",
          "data": {
            "text/html": [
              "<html>\n",
              "<head><meta charset=\"utf-8\" /></head>\n",
              "<body>\n",
              "    <div>            <script src=\"https://cdnjs.cloudflare.com/ajax/libs/mathjax/2.7.5/MathJax.js?config=TeX-AMS-MML_SVG\"></script><script type=\"text/javascript\">if (window.MathJax) {MathJax.Hub.Config({SVG: {font: \"STIX-Web\"}});}</script>                <script type=\"text/javascript\">window.PlotlyConfig = {MathJaxConfig: 'local'};</script>\n",
              "        <script src=\"https://cdn.plot.ly/plotly-2.8.3.min.js\"></script>                <div id=\"3e5be32c-05ee-4294-820b-93ff3a53e7d5\" class=\"plotly-graph-div\" style=\"height:525px; width:100%;\"></div>            <script type=\"text/javascript\">                                    window.PLOTLYENV=window.PLOTLYENV || {};                                    if (document.getElementById(\"3e5be32c-05ee-4294-820b-93ff3a53e7d5\")) {                    Plotly.newPlot(                        \"3e5be32c-05ee-4294-820b-93ff3a53e7d5\",                        [{\"alignmentgroup\":\"True\",\"bingroup\":\"x\",\"histfunc\":\"avg\",\"hovertemplate\":\" Current Ratio=%{x}<br>avg of Bankrupt?=%{y}<extra></extra>\",\"legendgroup\":\"\",\"marker\":{\"color\":\"#636efa\",\"pattern\":{\"shape\":\"\"}},\"name\":\"\",\"offsetgroup\":\"\",\"orientation\":\"v\",\"showlegend\":false,\"x\":[0.00225896331056689,0.0060162058776727706,0.0115425536893801,0.004194058676884,0.00602244610781246,0.0027400850543368,0.004672060305584071,0.00965738016418045,0.0134988658381721,0.0114745351808575,0.00609732886948871,0.00862899023715995,0.00663086854643199,0.0101004365040983,0.0188592235281637,0.0113310098876447,0.00621776531118468,0.016156579854665,0.0072199462716185,0.0133584606600291,0.0267194174121142,0.0157590771947669,0.0071625361543333705,0.00516628653264732,0.0057160508079538,0.00632946543068508,0.00556378919254542,0.0218807429618004,0.0155999513262049,0.0042920302900771,0.0021235503165356697,0.00335849186117984,0.00870075288376635,0.0113859239128739,0.0108211830852322,0.00662213222423643,0.006099824961544579,0.00949326211150667,0.0191656188280224,0.0168698381596313,0.00848172080586332,0.00539779907082973,0.0116854549595789,0.00600996564753308,0.0104361608856135,0.0212592160398876,0.0166988558538039,0.00710949419814603,0.00531293194092998,0.00553009194979111,0.00394756958636635,0.00495224663885604,0.014818674512716,0.0108180629701623,0.0031981179465898697,0.0028910986237172397,0.00432884764790125,0.00332791473349537,0.00429452638213297,0.00695286442163987,0.0185721729417381,0.0147525280732353,0.007207465811339121,0.00646550244773027,0.00638749957098418,0.0189210018065466,0.01022648915292,0.0135437954951779,0.00758999191890197,0.0123138461346454,0.00874443449474417,0.0115069843775838,0.0167481536719074,0.0211169387927027,0.00635692244329971,0.007561286860259409,0.00511199653043204,0.0035344663511190297,0.00739904087662753,0.0298963185762291,0.0172723330036412,0.0065628500379094,0.0060555193275528,0.0072854686880852206,0.0202595311715096,0.00924053279084933,0.00674943291908606,0.004332591785985071,0.0085241543708132,0.0174720203681112,0.009318535667595421,0.0127887276482757,0.00830262620085429,0.0112068293078649,0.0104561296220605,0.00909763152065048,0.0189378504279238,0.0199681124239862,0.00723429880093978,0.00829888206277048,0.00592634656366127,0.00425521293225294,0.009475165444101579,0.0243712188105497,0.0160517439883183,0.00589202529789299,0.00356816359387334,0.007311053631657941,0.0072162021335346795,0.006906686718606179,0.00502712940053229,0.0104374089316414,0.0279905522915685,0.0219369050330576,0.00998686431555596,0.0155525255771433,0.009649267864998859,0.0108149428550925,0.0100817158136792,0.0032230788671486197,0.005495770684022829,0.0097503595932618,0.0134969937691302,0.014219612419306003,0.0758113079210361,0.00609233668537696,0.005032121584644039,0.0148168024436741,0.007988742624828,0.0188180380092418,0.0125122854530875,0.00784147319353138,0.00498469583558242,0.0111562834437334,0.0121104146320916,0.0170439405805286,0.0122645483165419,0.0154164885600981,0.0137952767698073,0.0171506485159173,0.00693851189231859,0.0196061790758843,0.00605052714344105,0.0261509324463886,0.0189908923841111,0.0036093491127952796,0.00730481340151825,0.0121852973937679,0.0170021310385927,0.0162938649177382,0.0598319506023382,0.0135188345746191,0.007578135481636559,0.0100205615583103,0.0106876421602429,0.0129391171946421,0.0136161821647982,0.00737283191004084,0.00635130623617399,0.0147749929017382,0.011063928037666001,0.0210695130436411,0.0169834103481736,0.013042080991947,0.0251462553938989,0.0325683851220433,0.00739841685361356,0.0205247409524463,0.00675567314922574,0.0150926206158483,0.0211674846568341,0.00402494844009847,0.0075481823769660596,0.0115369374822543,0.008194670219437691,0.015878265590435,0.0233559333668226,0.011184988502376,0.006711991538247929,0.0125534709720094,0.00831011447702191,0.01206298888303,0.0112355343665074,0.00802306389059628,0.007389680531418,0.007475795707345691,0.00649670359842871,0.0063213531315034896,0.005961915875457489,0.0207868306183132,0.00425084477115516,0.00848920908203095,0.0062764234744977394,0.0117403689848082,0.00335911588419381,0.0173060302463955,0.0063850034789283,0.00850980184149192,0.0107088589427178,0.00894474588222814,0.0105297643377088,0.0064449096882693,0.0052286888340442,0.0154501858028524,0.00863460644428567,0.010625239858846001,0.00740715317580912,0.00644927784936708,0.0036705033681642203,0.00907017450803586,0.0070177628150926204,0.0233927507246467,0.00929856693114842,0.0116087001288608,0.009913853622921609,0.0058714325384320205,0.0289284588815636,0.009349736818293859,0.00878000380654038,0.0056561445986128,0.00722244236367437,0.00693539177724875,0.005623695401886421,0.0136698481439996,0.0071201025893835,0.00764053778303344,0.0127581505205912,0.0138782718306651,0.0041017032708166295,0.0147506560041934,0.00257347090960715,0.00365053463171722,0.0035787719851108103,0.004866755485942321,0.00216972801956936,0.004006851772693379,0.00398313889816256,0.00636565876549527,0.0048311861741461,0.0167387933266979,0.00463461892474594,0.0028062314938174897,0.00642618899785024,0.00673320832072287,0.00999622466076549,0.0024904758487493,0.0131899744462576,0.0121441118748459,0.0122639242935279,0.00947766153615745,0.007338510644272559,0.0046845407658634396,0.0111413068913982,0.0062358619785897705,0.0073678397259290904,0.0137921566547374,0.008048648834169,0.00686362913064234,0.007780318938162441,0.00702774718331612,0.00251793286136393,0.00922118807741629,0.0101678309896069,0.00908452703735714,0.00359000439936225,0.0196136673520519,0.00645114991840899,0.0135425474491499,0.00537658228835479,0.00671698372235968,0.0152810755660669,0.00900964427568089,0.008687024377459041,0.00567548931204583,0.007218074202576591,0.008424934711592159,0.00553196401883301,0.0112168136760884,0.00457284064636304,0.007736013304170659,0.0115893554154277,0.0139082249353356,0.00357003566291525,0.0119506647405156,0.00620902898898911,0.00704709189674915,0.006403724169347371,0.018473577305531,0.004375649373948911,0.00247113113531627,0.00548079413168758,0.00789950733383047,0.0073085575396020595,0.0029566210401839603,0.0181590697064908,0.00920371543302517,0.0154951154598582,0.0117335047316545,0.00489733261362679,0.0062152692191288,0.0124798362563611,0.0036218295730746602,0.00655660980776971,0.00947766153615745,0.0362257840069142,0.00392947291896125,0.00758437571177625,0.00668328647960537,0.00366613520706644,0.0054470968889332606,0.0122564360173603,0.0110888889582248,0.0205253649754603,0.0157359883432501,0.00571355471589792,0.0104842106576891,0.00700341028577134,0.00726425190561028,0.0113228975884631,0.0118470769201968,0.0103444295025601,0.00470825364039426,0.007811520088860879,0.0102439617973111,0.00720309765024134,0.0187980692727948,0.00144523730035164,0.00839498160692166,0.0107955981416595,0.0130651698434638,0.0152636029216758,0.010645832618306999,0.00737595202511069,0.007845841354629159,0.0149503433686634,0.0060536472585108895,0.00214414307599664,0.00336286002227762,0.00808172205390935,0.0069796974112405295,0.00342900646175831,0.0181272445327784,0.0144754618550332,0.0143637617355328,0.0135044820452978,0.0060255662228823,0.006199668643779579,0.0152255375178237,0.00453539926552491,0.0064586381945766205,0.010145366161104001,0.028020505396238998,0.00367799164433184,0.00902212473596026,0.008297009993728571,0.00470825364039426,0.0170639093169756,0.010805582509883001,0.017516326002103,0.0101672069665929,0.0168748303437431,0.0056180791947607,0.00906393427789617,0.00633570566082477,0.00915067347683783,0.0200149141500339,0.0102551942115625,0.0151831039528738,0.00526550619186836,0.0083163547071616,0.0166676547031055,0.0063350816378108,0.0211930696004069,0.00221340963054718,0.007293580987266809,0.00824958424466694,0.0302039619221157,0.0202545389873979,0.009732886948870671,0.0032455436956515,0.007946309059878129,0.0073915526004599,0.0316660478438445,0.00661776406313865,0.0023918802125422398,0.0029597411552538103,0.008464872184486159,0.008689520469514921,0.00336598013734747,0.027662316186221,0.0102321053600457,0.0115138486307375,0.0223181830945925,0.00526363412282645,0.007688587555109029,0.0236186470557034,0.00802119182155438,0.00783336089434978,0.00986642787385999,0.0495280825956861,0.005475177924561861,0.00975659982340149,0.006620260155194521,0.004003731657623529,0.0161128982436872,0.0108392797526373,0.0254751155222605,0.010804958486869,0.0151656313084827,0.0078389771014755,0.00977532051382055,0.007338510644272559,0.0172654687504875,0.0144455087503627,0.0175475271528014,0.0131743738709084,0.00321995875207878,0.008534138739036691,0.0203387820942836,0.0062196373802265795,0.0297827463876868,0.00334476335487253,0.007730397097044941,0.00982212223986821,0.0247955544600485,0.0239331546547437,0.00961369855320264,0.00276379792886762,0.007305437424532221,0.00718437695982228,0.0488641221088234,0.00563430379312389,0.00224585882727355,0.0045322791504550704,0.0094626849838222,0.0063768911797467106,0.00279749517162193,0.18648615760949303,0.0140692228729396,0.0134445758359568,0.00803367228183375,0.00515255802634001,0.00762119306960041,0.0256005441480682,0.00616472335499733,0.007048339942777091,0.0194102358494981,0.0288492079587895,0.00461652225734085,0.0112367824125354,0.00654974555461605,0.00412541614534744,0.00599498909519783,0.0120567486528903,0.0256598263343952,0.0108898256167687,0.021150636035457002,0.0107069868736759,0.0134152467543003,0.00705520419593075,0.0215780918000256,0.0161490915784974,0.0155100920121934,0.009693573498990641,0.00375973865916175,0.00993319833635465,0.0099999687988493,0.00742587386622819,0.0219418972171694,0.0183281799432763,0.007550678469021941,0.0102377215671714,0.0364048786119232,0.0118545651963644,0.00460965800418719,0.00699467396357578,0.0132567449087522,0.0102757869710235,0.008263936773988229,0.0412279524868877,0.00630949669423808,0.0033871969198224,0.006521664518987461,0.00953195153837274,0.00532354033216745,0.00385646222632691,0.119110392791286,0.01821398373172,0.188816883566666,0.0163706197484563,0.00397627464500891,0.007336014552216691,0.0297428089147928,0.0022789320470138897,0.008194670219437691,0.00831011447702191,0.0671798215918203,0.00896845875675895,0.0120817095734491,0.00905769404775648,0.00524553745542136,0.00679748269116165,0.0157309961591383,0.0298058352392036,0.00613477025032683,0.0307331334379612,0.007065812587168209,0.0092430288829052,0.009299814977176359,0.0346682225640482,0.0114526943753686,0.0139026087282099,0.0106539449174886,0.00564304011531945,0.0111718840190826,0.0104336647935576,0.006768153609505121,0.0399399689860562,0.0183288039662903,0.0068224436117204,0.0157884062764235,0.0352991098311706,0.0166395736674769,0.00474507099821841,0.0104380329546554,0.00358938037634828,0.00518313515402448,0.00181715501667702,0.00838062907760038,0.00589389736693489,0.0543224514120081,0.00538219849548051,0.00264897769429737,0.00450295006879854,0.0076074645632930905,0.00269889953541487,0.00253602952876902,0.183731720025835,0.0191837154954275,0.282589445898765,0.0115462978274639,0.00487361973909598,0.0087157294361016,0.0382576029403964,0.0025884474619424,0.0036511586547311897,0.00806736952458807,0.0650949607021507,0.0105316364067507,0.0107687651520588,0.00533227665436301,0.00446800478001629,0.00585021575595708,0.012862362363924,0.0395630590856191,0.0049509985928281,0.0416922256092805,0.00680060280623149,0.00860527736262913,0.00615349094074589,0.0336616734425166,0.0129846708746619,0.0146607966901819,0.0146514363449724,0.0031276033460114,0.00932227980567923,0.0087157294361016,0.00791635595520763,0.0389976942349634,0.0606687654640703,0.0059157381724238,0.008562219774665291,0.0638519068583249,0.0153547102817152,0.004078614419299779,0.0139481624082296,0.00326239231702865,0.0100804677676513,0.0187275546722163,0.00596690805956924,0.0136642319368738,0.0136941850415443,0.00397814671405082,0.00992196592210321,0.0142988633420801,0.0067943625760918105,0.00580216598388149,0.0276061541149638,0.00762431318467025,0.0076087126093210295,0.007636169621935659,0.00585083977897105,0.0061453786415643,0.0224860452853501,0.00610107300757252,0.0272205078923311,0.0111831164333341,0.0201690478344841,0.0234108473920518,0.009110111980929859,0.0112062052848509,0.0071244707504812795,0.00709451764581078,0.00656659417599321,0.00878125185256832,0.00737033581798497,0.00875629093200957,0.00955566441290355,0.00928983060895286,0.00523804917925373,0.0117222723174031,0.020190888639973,0.0215749716849557,0.0134576803192502,0.00556690930761527,0.006761913379365429,0.00522432067294642,0.0133971500868952,0.0229347178323937,0.007989990670855941,0.008667679664026009,0.014019925054836001,0.00795629342810163,0.00976284005354118,0.00576909276414114,0.0119456725564039,0.0104124480110826,0.00634194589096446,0.00664085291465549,0.0047556793894558795,0.0112960645988624,0.00694412809944431,0.00969419752200461,0.00855098736041385,0.00753382984764478,0.00745457892487075,0.00435692868352985,0.007318541907825559,0.00986330775879015,0.007888898942593,0.0102707947869117,0.0215593711096065,0.00665707751301868,0.0156767061569231,0.00872196966624129,0.00428828615199329,0.00918749083466198,0.0074283699582840595,0.00398376292117653,0.0151119653292813,0.010484834680703001,0.0039725305069251,0.008842406107937259,0.0114495742602987,0.0077522379025338406,0.0065229125650154,0.0362601052726825,0.0074770437533736205,0.00848109678284935,0.00523804917925373,0.0047625436426095395,0.00479873697741973,0.020630200841807,0.00768983560113697,0.027921909760032004,0.0108530082589446,0.0221571851569886,0.0193621860774225,0.0138838880377908,0.00911635221106955,0.00588453702172536,0.00849919345025445,0.00708640534662918,0.0095325755613867,0.0092311724456398,0.00862025391496438,0.00919185899575976,0.00898093921703832,0.00666955797329806,0.0129684462762987,0.0214663916805252,0.00911136002695779,0.0096804690156973,0.00533539676943286,0.006492335437330929,0.00489234042951504,0.00732228604590937,0.0143269443777087,0.0216067968586681,0.007051460057846929,0.00869326460759873,0.0118564372654063,0.008829301624643921,0.009181874627536259,0.00524366538637945,0.0114664228816759,0.0092330445146817,0.0225434554026352,0.00663461268451581,0.00952820740028892,0.008957226342507509,0.0091631539371172,0.0050377377917697605,0.00950387050274414,0.00582962299649611,0.00445989248083469,0.00695036832958399,0.0145035428906618,0.00816471711476719,0.0113347540257285,0.0312229915039267,0.004074246258202,0.00832321896031526,0.0143256963316807,0.00895847438853545,0.00713071098062097,0.00911385611901367,0.00735348719660781,0.00352198589083965,0.0186564160486239,0.00867454391717967,0.00855223540644179,0.0100367861566735,0.00624147818571549,0.00384398176604753,0.0235487564781389,0.008235855738359629,0.00722681052477215,0.00652665670309921,0.007073924886349809,0.004552247886902071,0.0147675046255706,0.00687610959092171,0.0115550341496594,0.00861526173085263,0.009796537296295491,0.0148080661214786,0.0307318853919333,0.007327902253035091,0.0122333471658435,0.0121278872764828,0.00721745017956262,0.0063531783052159,0.0107912299805617,0.0144230439218598,0.00964177958883124,0.0066782942954936204,0.0059956131182118,0.010585926408965999,0.00845800793133251,0.0140929357474704,0.0109721966546126,0.0101048046651961,0.0116686063382018,0.0119469206024318,0.0089653386416891,0.0144211718528179,0.00514943791127017,0.00664085291465549,0.0179063403858334,0.00426956546157422,0.0069391359153325605,0.00871635345911557,0.017794640266333,0.0107556606687655,0.00637439508769083,0.00896970680278689,0.0130352167387933,0.0134246070995098,0.0091531695688937,0.00639124370906799,0.0106133834215806,0.00713695121076065,0.0192298931984612,0.007585623757804191,0.008369396663348941,0.0103681423770909,0.0090133884137647,0.00504335399889548,0.00752883766353303,0.0050127768712110105,0.00690294258052237,0.00509577193206886,0.0136480073385106,0.00930792727635795,0.0179812231475097,0.0107350679093045,0.00577096483318305,0.00514132561208857,0.0145827938134358,0.0101491102991878,0.0101846796109841,0.00870324897582223,0.008904808409334141,0.007549430422994001,0.00386644659455041,0.014999017163752999,0.00883429380875567,0.00787766652834157,0.0112579991950103,0.00554943666322414,0.00462525857953641,0.0198751329949049,0.007030243275372,0.007882658712453321,0.00799435883195372,0.00604054277521755,0.00718375293680831,0.0116779666834113,0.00397689866802288,0.007622441115628341,0.013481393193781001,0.00854849126835798,0.0156149278785402,0.0114189971326143,0.008235855738359629,0.00872072162021335,0.0131250760528048,0.009925710060187021,0.0071906171899619705,0.0160405115740669,0.007037731551539621,0.00537034205821511,0.00673632843579271,0.0087856200136661,0.0108817133175872,0.0123082299275197,0.0106508248024187,0.0101403739769923,0.0084243106885782,0.0102720428329397,0.0137590834349971,0.00933600831198655,0.00621714128817071,0.008097322629258571,0.0119781217531303,0.00536597389711733,0.0128798350083151,0.0053466291836842894,0.0106832739991451,0.0102932596154146,0.0210982181022836,0.0107506684846537,0.00780465583570722,0.0146670369203216,0.0096424036118452,0.0153409817754079,0.007722908820877309,0.0125753117774984,0.00541963987631864,0.0121054224479799,0.0066726780883679,0.00431761523364982,0.0148480035943726,0.0105478610051139,0.007355359265649721,0.007610584678362941,0.00455411995594397,0.00955566441290355,0.00521371228170895,0.0159537723751252,0.00998374420048611,0.0161054099675196,0.0165646909058006,0.009493886134520641,0.0103244607661131,0.0126476984471187,0.007785935145288159,0.00914942543080989,0.005548812640210171,0.00792509227740319,0.00648796727623315,0.0080467767651271,0.00396005004664572,0.0134907535389905,0.0087338261035067,0.00824084792247138,0.0112916964377646,0.00588204092966949,0.00597190024368099,0.0230164648472236,0.007510740996127941,0.007758478132673529,0.005467689648394229,0.00412604016836141,0.0053272844702512605,0.0112567511489824,0.0045928093828100395,0.0124916926936265,0.0102433377742971,0.0115425536893801,0.0213060177659352,0.0120742212972814,0.0101547265063136,0.0062932720958749,0.0117765623196183,0.00450607018386838,0.007955045382073691,0.0193915151590791,0.00675941728730956,0.00803492032786169,0.007700443992374441,0.0107200913569692,0.007246155238205179,0.0106670494007819,0.0086358544903136,0.00844053528694138,0.0113397462098402,0.009873292127013641,0.00892852128386495,0.00539717504781576,0.00386582257153644,0.00631074474026602,0.0154670344242296,0.0075313337555889094,0.0130121278872765,0.00869513667664064,0.011943176464348,0.00798063032564641,0.0243768350176755,0.00940777095859295,0.0126102570662806,0.0142832627667308,0.00958436947154611,0.0122739086617514,0.00781963238804247,0.009583745448532141,0.00618282002240243,0.0102826512241771,0.0071906171899619705,0.0034352466918979997,0.0199799688612516,0.0105803102018402,0.00638999566304005,0.0061653473780113,0.0038502219961872204,0.006372523018648929,0.0060355505911058,0.0144105634615805,0.00946830119094792,0.0174820047363347,0.0133659489361968,0.009796537296295491,0.00938405808406214,0.0124767161412913,0.00873819426460448,0.008497321381212541,0.00681745142760865,0.00730668547056015,0.0064349253200458,0.009307303253343979,0.00399062717433019,0.0131444207662379,0.00779217537542785,0.008128523779957,0.00999934477583533,0.00637813922577465,0.0258164561109014,0.020550325896018996,0.00887859944274745,0.00738718443936212,0.00703336339044184,0.0056979541405487,0.00420092293003766,0.0113072970131138,0.00601495783164483,0.0082165110249266,0.0115007441474442,0.0100910761588887,0.0171880898967554,0.0105559733042955,0.0111575314897613,0.00469889329518473,0.0140055725255147,0.0061934284136399,0.008150364585445909,0.0179961996998449,0.008578444373028479,0.00824833619863901,0.00742649788924216,0.0150164898081441,0.00763492157590772,0.0141753067853142,0.00663024452341802,0.0120099469268427,0.0169272482769165,0.007332894437146841,0.0107949741186455,0.00836190838718132,0.0041840743086605,0.00723055466285597,0.0162701520432074,0.0122558119943464,0.0135912212442395,0.0109347552737745,0.0109204027444532,0.00845675988530457,0.0232311287640288,0.0113266417265469,0.0102695467408838,0.008854262545202671,0.009761592007513241,0.013282329852325001,0.00813226791804082,0.0124324105072995,0.0067625374023794,0.0123918490113915,0.00810605895145413,0.0047875045631682895,0.0121603364732091,0.00902212473596026,0.00747641973035966,0.0103987195047753,0.00434320017722254,0.006419324744696579,0.00520435193649942,0.014299487365094,0.010545988936071999,0.0141347452894063,0.0126183693654622,0.0106795298610613,0.007879538597383471,0.0109540999872075,0.00754007007778447,0.0064586381945766205,0.00745145880980091,0.00129734384604104,0.0070321153444139,0.00878749208270801,0.00324055151153975,0.00978280878998817,0.003908880159500279,0.00678001004677052,0.00901214036773676,0.0037222972783236205,0.00681869947363659,0.0212124143138399,0.00942898774106789,0.0076498981282429705,0.00723492282395375,0.00637938727180258,0.0049628550300935105,0.0171918340348392,0.009550048205777829,0.00519374354526195,0.0106938823903826,0.0133671969822247,0.0279749517162193,0.0182857463783264,0.0106814019301032,0.00602619024589627,0.00604366289028739,0.013082018464841002,0.0087338261035067,0.0119862340523118,0.0141278810362526,0.00874817863282798,0.0066626937201444,0.00833507539758066,0.007337886621258591,0.0136654799829018,0.0108417758446932,0.0085541074754837,0.008225247347122159,0.0143075996642756,0.00794194089878035,0.00479436881632195,0.0135968374513652,0.00238938412048636,0.0071388232798025595,0.0163225699763807,0.00559499034324386,0.0113010567829742,0.0122876371680588,0.00394756958636635,0.00994692684266196,0.011483895526067,0.0163225699763807,0.0093229038286932,0.012062364860016,0.009299814977176359,0.0104642419212421,0.009636163381705521,0.00829888206277048,0.0109360033198024,0.0057859413855183,0.0145784256523381,0.007385936393334191,0.00989887707058636,0.0140673508038976,0.0108168149241344,0.008303250223868259,0.0053210442401115795,0.00298407805279859,0.00888047151178935,0.00511823676057173,0.0131481649043217,0.0101871757030399,0.013761579527053001,0.00997063971719277,0.0107163472188854,0.0107793735432963,0.00686175706160043,0.003912000274570129,0.00372791348544934,0.00516691055566129,0.00947953360519936,0.00934848877226592,0.00985893959769236,0.0092829663557992,0.0198027463252845,0.0239943089101126,0.0307100445864444,0.0060655036957763,0.00952134314713527,0.00686175706160043,0.00580840621402117,0.013100739155260001,0.00679685866814768,0.0046427312239275395,0.0141022960926799,0.00868203219334729,0.0118364685289594,0.00829888206277048,0.0189216258295606,0.0202782518619287,0.0159188270863429,0.0049990483649037,0.00898468335512214,0.00842992689570391,0.0062233815183103895,0.0121441118748459,0.00327674484634993,0.00416660166426938,0.00988390051825111,0.00944583636244505,0.0346800790013136,0.0126121291353225,0.0213060177659352,0.0196841819526304,0.0187818446744316,0.00808047400788141,0.009564400735099109,0.0105397487059323,0.00633445761479683,0.007440850418563441,0.0200810605895145,0.0113428663249101,0.00440373040957751,0.0110726643598616,0.00825270435973679,0.038026714425227995,0.0114963759863464,0.0189022811161276,0.0204055525567783,0.0318669832543424,0.0108835853866291,0.0075406941007984405,0.00769857192333253,0.00711698247431365,0.0121565923351253,0.0151344301577842,0.0241022648915292,0.008061129294448379,0.00679623464513371,0.008547243222330041,0.0032361833504419603,0.0221503209038349,0.00460653788911735,0.00853164264698082,0.00661089980998499,0.107802471755158,0.036190214695117996,0.00722057029463247,0.0072942050102807795,0.0085959170174196,0.00745145880980091,0.0039949953354279704,0.00588328897569742,0.0032711286392242103,0.0100099531670728,0.00981588200972852,0.00616721944705321,0.0149653199209987,0.0108536322819586,0.0074396023725355,0.0078071519277631,0.00679561062211974,0.0069516163756119295,0.00489421249855695,0.0025304133216433,0.0141272570132386,0.00681183522048293,0.00853289069300876,0.0102377215671714,0.0080467767651271,0.0101210292635592,0.00304336023912562,0.00955691245893149,0.0048193297368807,0.0125047971769199,0.00386332647948056,0.007708556291556029,0.006892958212298871,0.0139313137868525,0.00725489156040075,0.00670075912399649,0.0068835978670893395,0.00970355786721414,0.008750050701869891,0.0023288538881313897,0.007415889498004691,0.0058433515028034205,0.00407112614313216,0.00529046711242711,0.00370357658790456,0.0063032564640984,0.0104798424965913,0.00622213347228246,0.0144617333487259,0.0101048046651961,0.00688859005120109,0.00691479901778778,0.00624834243886915,0.00635130623617399,0.00565302448354295,0.0020143462890911397,0.00779217537542785,0.00905956611679839,0.00838874137678198,0.009100127612706359,0.009739127179010359,0.0063712749726209895,0.00834817988087401,0.0031675408189054,0.00760496847123722,0.00472073410067363,0.0102757869710235,0.0038483499271453102,0.00656534612996527,0.00694475212245828,0.0111456750524959,0.00627205531339996,0.00672135188345746,0.007731021120058909,0.007450210763772971,0.0091812506045223,0.00475380732041398,0.00570419437068839,0.0109765648157104,0.0047020134102545704,0.00975659982340149,0.0118102595623727,0.00717813672968259,0.0066995110779685604,0.0064910873913029896,0.0060318064530219895,0.00875878702406545,0.00155444132779617,0.00679061843800799,0.0084561358622906,0.0078065279047491295,0.00886112679835632,0.0117871707108558,0.0060374226601477106,0.007606216517265159,0.00306582506762849,0.00849108115107285,0.00433883201612476,0.00776471836281322,0.00343212657682815,0.00669451889385681,0.00746019513199647,0.0131232039837629,0.00605739139659471,0.00732603018399319,0.009104495773804141,0.00783960112448947,0.009956911210885459,0.0129715663913685,0.0101902958181098,0.0122383393499552,0.0064268130208642105,0.0161983893966009,0.00977844062889039,0.007811520088860879,0.00669639096289871,0.0085241543708132,0.00803242423580582,0.00829950608578444,0.00216411181244364,0.00595193150723399,0.0184529845460701,0.00913070474039082,0.0105272682456529,0.0100954443199865,0.0085759482809726,0.009736007063940521,0.0043057587963844105,0.007808399973791029,0.0050508422750631,0.00848109678284935,0.00631698497040571,0.0232585857766434,0.0063051285331403,0.00913382485546067,0.00826456079700219,0.00857345218891673,0.00869825679171048,0.00777220663898085,0.014199643682859,0.00675879326429559,0.0061934284136399,0.0117260164554869,0.00897719507895451,0.0161952692815311,0.00967797292364142,0.0126963722422083,0.00677064970156099,0.00960184211593724,0.00697844936521259,0.008269552981113941,0.0062265016333802395,0.0132455124945008,0.0195637455109344,0.0124086976327687,0.0117191522023332,0.0118601814034902,0.0106982505514803,0.0129135322510694,0.00921494784727661,0.0071388232798025595,0.0061453786415643,0.00737033581798497,0.007644905944131221,0.0094608129147803,0.0211044583324233,0.0125696955703726,0.00821838309396851,0.008602781270573259,0.00668515854864727,0.00987204408098571,0.007460819155010441,0.00884115806190932,0.0018539723745011698,0.0048592672097747,0.007407777198823091,0.00229141250729327,0.0114682949507178,0.007617448931516591,0.00694600016848621,0.0171138311580931,0.0139556506843972,0.0104542575530186,0.0125921603988755,0.0149272545171466,0.0101441181150761,0.00872134564322732,0.00345833554341484,0.009193731064801671,0.00982337028589614,0.0105740699717006,0.0107712612441147,0.0115525380576036,0.0173291190979123,0.00945769279971045,0.024406788122346,0.0112199337911582,0.008857382660272509,0.00965363602609664,0.00979903338835136,0.0404866131462928,0.008260192635904409,0.10924521296345402,0.020391824050471002,0.0061447546185503295,0.0110058938973669,0.00813726010215257,0.00955504038988958,0.0225927532207388,0.009135072901488609,0.0747379883370099,0.00438064155806066,0.0075731432975248095,0.00476878387274923,0.00408672671848138,0.009689205337892859,0.0289883650909046,0.0104342888165716,0.0109865491839339,0.0237290991291759,0.00858343655714023,0.0101204052405453,0.0270457814484198,0.00815286067750179,0.00852914655492495,0.0178302095781292,0.0230900995628719,0.0238108461440058,0.00869763276869651,0.0202152255375178,0.0153965198236511,0.0101447421380901,0.0370582307075485,0.013340363992624,0.00965363602609664,0.021529418004936005,0.0137047934327818,0.0236610806206533,0.00604803105138518,0.022788072424111,0.00624272623174343,0.0207231802708884,0.0138501907950365,0.0180305209656132,0.00672821613661112,0.00664709314479518,0.00793507664562669,0.00804490469608519,0.0201952568010708,0.009936318451424491,0.007387808462376091,0.011943800487361999,0.010624615835832,0.0099781279933604,0.0278289303309506,0.0154295930433914,0.036629526896952,0.0103082361677499,0.0541084115182168,0.00862711816811804,0.0081266517109151,0.0118764060018533,0.00718375293680831,0.0382083051222929,0.0496379106461446,0.00506831491945423,0.0206589059004496,0.0059818846119044896,0.0065528656696859,0.0580160436316891,0.00899466772334564,0.00527549056009186,0.0151918402750693,0.00644553371128327,0.00445302822768104,0.0031013943794247103,0.00892477714578114,0.007846465377643129,0.00971603832749352,0.009010268298694859,0.0190414382482426,0.00679873073718959,0.0165590746986749,0.0210844895959763,0.00627392738244186,0.0149934009566273,0.0132398962873751,0.00914568129272608,0.009439596132305359,0.0575561386703942,0.00782025641105644,0.0176860602619025,0.011443334030159,0.00924178083687726,0.0128043282236249,0.0237640444179581,0.0139955881572912,0.0178002564734587,0.00480248111550354,0.010525396176611001,0.0170795098923248,0.0150189859002,0.00745395490185678,0.00402806855516831,0.0029915663289662104,0.0238014857987963,0.0166926156236642,0.00490170077472457,0.00714131937185843,0.008329459190454941,0.0135568999784712,0.0202277059977972,0.0117796824346882,0.00979154511218374,0.0167250648203906,0.015258610737564,0.014160330232979,0.0101946639792076,0.0115562821956874,0.00943023578709583,0.0116255487502379,0.0164105572213503,0.0688983809722903,0.0119444245103759,0.004223387758540529,0.0193696743535902,0.0109378753888443,0.024225821448295,0.00511948480659967,0.0279088052767386,0.00631698497040571,0.0249415758453172,0.00885800668328648,0.0239680999435259,0.012063612906044,0.007357855357705591,0.0126676671835657,0.00946393302985014,0.0163656275643446,0.0144155556456922,0.007510740996127941,0.00987454017304158,0.00741027329087897,0.0100405302947573,0.0252716840197066,0.0141116564378894,0.0104355368625995,0.0497315140982399,0.0145129032358713,0.0443792687074299,0.010005585005975001,0.009963775464039109,0.005888281159809171,0.0104698581283678,0.0218988396292055,0.0569321156564254,0.0179181968230988,0.0377284314245509,0.0066464691217812105,0.0071906171899619705,0.00599249300314196,0.0058377352956777,0.0074283699582840595,0.00237440756815111,0.00617221163116496,0.007409649267865,0.00674381671196034,0.0138345902196873,0.00772103675183541,0.0194651498747274,0.0130632977744219,0.00617096358513702,0.0257097481755127,0.0113185294273653,0.0116754705913554,0.0142739024215213,0.105719482934531,0.00929544681607858,0.0110988733264483,0.0070714287942939295,0.0152704671748294,0.0184916739729361,0.009483277743283171,0.007929460438500971,0.0369633792094252,0.00538219849548051,0.0823928786493646,0.0043319677629711,0.00879685242791754,0.0346339012982799,0.0416760010109173,0.00966674050938999,0.0177085250904053,0.00974848752421989,0.0107144751498435,0.00387830303181581,0.0255256613863919,0.0060068455324632395,0.008018071706484541,0.00572977931426111,0.00794194089878035,0.00730356535549031,0.00929045463196683,0.00800309515414929,0.0079388207837105,0.00714131937185843,0.0126327218947835,0.0374089316413989,0.007893267103690791,0.0208199038380535,0.00926174957332426,0.00353072221303522,0.010126021447671,0.0109759407926964,0.0258133359958315,0.0130545614522264,0.0094427162473752,0.0143069756412616,0.0209422123487914,0.00504959422903517,0.011404644603293,0.011783426572772,0.0167668743623265,0.0135175865285912,0.0166433178055607,0.0983784761982022,0.0117197762253472,0.0029578690862119,0.00866892771005395,0.007360975472775441,0.0295630902867698,0.00431137500351013,0.0717376856858481,0.00612416185908936,0.0539729985241856,0.0330064492778494,0.0109565960792634,0.00705333212688884,0.00876065909310735,0.0114208692016562,0.0079269643464451,0.0196648372391974,0.0190021247983626,0.0075313337555889094,0.00819279815039579,0.00608484840920933,0.0127344376460604,0.0507224626444223,0.0146427000227768,0.00885051840711885,0.0127868555792338,0.0353122143144639,0.0238570238470395,0.0638144654774868,0.0106189996287063,0.009129456694362891,0.00952009510110733,0.0112168136760884,0.0143980830013011,0.0411318529427365,0.0067637854484073395,0.0250108423998677,0.00826268872796029,0.0182183518928178,0.007683595370997279,0.00439561811039591,0.00977220039875071,0.00452666294332935,0.00535037332176811,0.00346145565848469,0.0108399037756512,0.0127537823594934,0.010625239858846001,0.0239169300563805,0.0175025974957956,0.00764615399015916,0.0178844995803445,0.0111082336716578,0.0151256938355887,0.0145047909366897,0.0925763102143207,0.007946309059878129,0.0107157231958715,0.00638188336385846,0.0189696756016362,0.0127650147737449,0.0122383393499552,0.00582026265128658,0.0407917604001236,0.0061453786415643,0.0236124068255637,0.005467689648394229,0.00887235921260776,0.021150636035457002,0.0206551617623658,0.0100186894892684,0.0301165987001601,0.011464550812633999,0.00870948920596192,0.006372523018648929,0.0220130358407618,0.0237952455686566,0.00621589324214277,0.00831448263811969,0.005963163921485421,0.0152423861392008,0.00709763776088062,0.0204167849710297,0.00701901086112056,0.00981525798671455,0.0124530032667605,0.0137160258470332,0.00903398117322567,0.00389827176826281,0.0312048948365216,0.006930399593136999,0.0202426825501324,0.0368142377090867,0.0256317452987666,0.0378619723495403,0.00670138314701046,0.00722556247874422,0.0126008967210711,0.0128436416735049,0.00513071722085111,0.0124080736097547,0.009936318451424491,0.0042620771854066,0.0118021472631911,0.0110583118305403,0.0108954418238945,0.012043644169596999,0.0106901382522987,0.0161440993943857,0.0152935560263463,0.0129871669667177,0.0107032427355921,0.0142976152960521,0.0140754631030792,0.0196111712599961,0.0211543801735408,0.012242083488038999,0.00287924218645184,0.00988390051825111,0.007402785014711341,0.0322782144205478,0.0049990483649037,0.0523492906418389,0.00637002692659305,0.033372750787049,0.0183874621296033,0.0116024598987211,0.007413393405948809,0.00819030205833991,0.0124099456787966,0.00736659167990115,0.0171525205849592,0.0300928858256293,0.0075837516887622795,0.0183724855772681,0.00862462207606217,0.01070449078162,0.007860817906964409,0.0146969900249921,0.00774225353431035,0.00910199968174826,0.0302432753719957,0.0134183668693701,0.0617882627511303,0.008268928958099971,0.00873320208049273,0.0122764047538073,0.0102770350170514,0.0169297443689723,0.0425958109335072,0.009001531976499291,0.0275705848031675,0.007930084461514941,0.0174944851966141,0.00992258994511718,0.0137035453867539,0.00308017759694978,0.00923866072180742,0.013320395256177,0.00384335774303356,0.0124842044174589,0.00802368791361025,0.00846424816147219,0.00446363661891851,0.00887298323562173,0.0144467567963907,0.00894037772113035,0.0243275371995719,0.00955129625180577,0.0110751604519175,0.009394042452285641,0.0192829351546485,0.0153877835014555,0.10234539049800201,0.008138508148180509,0.0178439380844366,0.008945369905242109,0.0141054162077497,0.0348860065959233,0.010326332835155,0.0048056012305733795,0.0317596512959398,0.00449608581564488,0.0180791947607028,0.0042720615536301,0.0095824974025042,0.0118445808281409,0.0174532996776921,0.0103132283518616,0.0623798365683726,0.0102289852449758,0.00836253241019529,0.0065466254395462106,0.0197178791953847,0.0136361509012452,0.00633695370685271,0.007777822846106559,0.005304195618734421,0.0151924642980833,0.0070889014386850595,0.00737220788702687,0.0127338136230464,0.0055444444791123895,0.0103556619168115,0.0100991884580703,0.0167306810275163,0.00758687180383213,0.0233134998018727,0.014559080938905001,0.00337658852858493,0.0121565923351253,0.0366526157484688,0.0288654325571527,0.0339505960979841,0.0115569062187013,0.0152810755660669,0.0114495742602987,0.00811729136570557,0.0065229125650154,0.00350388922343456,0.0116417733486011,0.0139344339019223,0.0102133846696266,0.00960184211593724,0.00825520045179266,0.0200380030015507,0.00597751645080671,0.00870075288376635,0.00772415686690525,0.0188249022623954,0.0142071319590266,0.0294520141902833,0.0272386045597362,0.009181874627536259,0.007062692472098371,0.00568672172629727,0.0174277147341194,0.00235818296978793,0.0862243799551328,0.0422881675876206,0.00952883142330289,0.0054970187300507605,0.0064143325605848294,0.00683742016405565,0.0177191334816428,0.0143144639174293,0.0076012243331534095,0.0163843482547636,0.0103294529502248,0.0152948040723742,0.00558375792899242,0.0155968312111351,0.0062289977254361105,0.0770400092355406,0.00603367852206389,0.0078789145743695,0.0103993435277893,0.009618690737314391,0.0226826125347503,0.0365821011478903,0.0161802927291959,0.018134108785932,0.00845675988530457,0.00922805233056995,0.0188873045637923,0.00398875510528828,0.00233696618731299,0.00473695869903682,0.0041179278691798205,0.0037048246339325,0.0127874796022477,0.00736721570291512,0.00903460519623964,0.00524616147843532,0.00509639595508282,0.0146327156545533,0.00398750705926035,0.00859154885632182,0.0126164972964203,0.0121721929104745,0.0183100832758712,0.006182195999388461,0.0109634603324171,0.0107562846917794,0.0137509711358155,0.0108280473383858,0.0568029428925339,0.00584210345677549,0.016036767435983,0.0253571751726204,0.009714166258451609,0.00543960861276564,0.0342357746153678,0.004399362248479721,0.00912758462532098,0.0129359970795723,0.011704175649998002,0.009736007063940521,0.007377200071138621,0.00618406806843036,0.0186557920256099,0.0209896380978531,0.00779966365159547,0.0147905934770874,0.0156629776506158,0.0070714287942939295,0.00632759336164318,0.0116336610494195,0.00888858381097095,0.0175974489939189,0.00635692244329971,0.008870487143565859,0.00945394866162664,0.0144417646122789,0.0229397100165054,0.0432660116505097,0.00499655227284782,0.0147525280732353,0.0204785632494126,0.0146214832403019,0.00614038645745255,0.0021522553751782397,0.00930605520731605,0.0212355031653567,0.0148860689982247,0.0143675058736166,0.0206589059004496,0.0209091391290511,0.0116174364510563,0.00879061219777785,0.0183625012090446,0.0435867594796896,0.0246351805454585,0.0050009204339456,0.00602244610781246,0.0224929095385038,0.00469639720312885,0.0072692440897220295,0.0130333446697514,0.00593133874777302,0.0119912262364236,0.0035981166985438397,0.0210557845373337,0.009374697738852609,0.00944833245450092,0.00721245799545087,0.0121740649795164,0.0111132258557696,0.007882658712453321,0.0156336485689592,0.00943023578709583,0.009903869254698109,0.00658406682038434,0.00667767027247965,0.00592634656366127,0.0054165197612487895,0.00836253241019529,0.00871323334404573,0.00395256177047809,0.007107622129104121,0.016476703660831003,0.0109004340080062,0.00689732637339665,0.0107169712418994,0.15329374947348098,0.00975597580038752,0.00765676238139663,0.00712509477349525,0.0130988670862181,0.0152492503923545,0.00600996564753308,0.00438750581121432,0.0086040293166012,0.0183905822446732,0.007413393405948809,0.00620091668980752,0.00787579445929966,0.00499405618079195,0.0105890465240358,0.0309921029887582,0.008197166311493571,0.019033949972075002,0.00677376981663084,0.0446563349256321,0.00905582197871458,0.0246189559470953,0.0251113101051167,0.0140267893079897,0.0773226916608685,0.0428148430114103,0.00396753832281335,0.0054302482675561104,0.0150171138311581,0.007189993166948,0.0126976202882362,0.0100311699495477,0.00349764899329487,0.00863086230620185,0.0155887189119535,0.007263003859582341,0.0105628375574491,0.0132448884714868,0.00589951357406061,0.00636378669645337,0.00835691620306957,0.000719498535105975,0.007672362956745841,0.0080168236604566,0.00258719941591446,0.00644990187238105,0.00752134938736541,0.0183575090249328,0.0126283537336857,0.0110289827488838,0.00692478338601128,0.0262270632540928,0.0573502110757845,0.0335112838961501,0.00468017260476566,0.006623380270264371,0.0111487951675658,0.0109921653910596,0.009721654534619241,0.0111257063160489,0.0122657963625699,0.006086096455237271,0.00267269056882818,0.00905831807077045,0.00627704749751171,0.0117266404785008,0.00648609520719124,0.0156611055815739,0.00611168139880999,0.0076854674400391905,0.0168061878122065,0.00777470273103672,0.0124186820009922,0.0638862281240932,0.0323025513180926,0.00983148258507774,0.0119799938221722,0.0100012168448772,0.00978156074396024,0.0474575742353378,0.0066439730297253394,0.007731021120058909,0.00967110867048777,0.0103731345612026,0.0077372613501986,0.0134876334239207,0.004964727099135421,0.012262052224486,0.0356036330619873,0.007260507767526471,0.00973725510996846,0.00990636534675399,0.0088155731183366,0.00987142005797174,0.00864147069743932,0.008313858615105729,0.0103937273206636,0.0137821722865139,0.012922268573264999,0.008036168373889629,0.026023631751539,0.00891916093865542,0.00619842059775165,0.0111781242492223,0.007556294676147659,0.00784272123955932,0.0106214957207622,0.009226180261528041,0.0117759382966044,0.011224301952256002,0.00689982246545253,0.0335487252769882,0.0140086926405846,0.0100536347780506,0.009608082346076921,0.00649857566747062,0.00741776156704659,0.00924552497496108,0.00842743080364804,0.00935223291034974,0.0146083787570086,0.0113959082810974,0.00881432507230867,0.00903834933432345,0.00912883267134892,0.00818905401231197,0.008321970914287321,0.0109553480332355,0.00900839622965295,0.0282064642544017,0.0094308598101098,0.00959310579374167,0.0204642107200914,0.0091631539371172,0.00874693058680004,0.0073428788053703405,0.00516316641757748,0.00807735389281157,0.00781339215790278,0.00622026140324055,0.0105590934193653,0.0117191522023332,0.0618419287303316,0.00794381296782225,0.00864084667442535,0.00918686681164801,0.00807485780075569,0.009746615455177991,0.009804025572463109,0.007118854543355559,0.00767361100277378,0.00841370229734073,0.00832134689127335,0.007338510644272559,0.0353053500613103,0.0106789058380473,0.00619405243665386,0.0125272620054228,0.00756815111341306,0.00764428192111725,0.00815223665448782,0.009667364532403959,0.0260142714063295,0.0143681298966306,0.0060661277187902705,0.0211531321275129,0.0110932571193226,0.00949201406547873,0.010125397424656998,0.00626706312928821,0.00720933788038103,0.00784084917051741,0.00805426504129472,0.0085160420716316,0.0187063378897414,0.0123107260195756,0.0269041282242489,0.00974287131709417,0.0090633102548822,0.00790886767904,0.00969294947597667,0.0116991834658862,0.00843242298775979,0.0630569015385287,0.0109116664222577,0.0112692316092618,0.0258414170314601,0.00819092608135388,0.00683929223309756,0.004205915114149411,0.0141160245989872,0.0607193113282018,0.007733517212114779,0.00904396554144917,0.00866705564101204,0.008338819535664479,0.0084043419521312,0.0103706384691467,0.00595130748422002,0.00715379983213781,0.0083762609165026,0.0136960571105862,0.007943188944808279,0.0301365674366071,0.0109235228595231,0.00641682865264071,0.0103481736406439,0.00766300261153631,0.007486404098583159,0.009143809223684171,0.00997188776322071,0.0172405078299288,0.0278464029753417,0.0078065279047491295,0.00452042271318966,0.0149303746322164,0.00946705314491999,0.0085541074754837,0.0145079110517596,0.00612728197415921,0.00706518856415425,0.007485780075569191,0.0072717401817779,0.00782400054914025,0.0172935497861161,0.0140710949419815,0.0284554494369752,0.011623052658181999,0.0100842119057351,0.008811828980252791,0.0116679823151878,0.011643645417642998,0.00830886643099398,0.0705445536831398,0.0135113462984515,0.0113191534503793,0.0236523442984577,0.00782836871023803,0.0759173918334108,0.0523436744347132,0.520803367228183,0.00604803105138518,0.00915192152286576,0.006673302111381871,0.008353172064985759,0.007513237088183809,0.00974599143216402,0.00633757772986668,0.00752446950243525,0.00735348719660781,0.014120392760085,0.0075094929501,0.0345977079634697,0.0108236791772881,0.00680185085225943,0.0082165110249266,0.0086439667894952,0.0058558319630828,0.008639598628397421,0.0261596687685842,0.0275556082508323,0.0375455926814581,0.0163450348048836,0.00513508538194889,0.0177497106093273,0.009404026820509141,0.00835878827211147,0.0128130645458204,0.00789077101163491,0.007672362956745841,0.0075138611111977794,0.00759872824109753,0.00764303387508931,0.0101229013326011,0.0140324055151154,0.006322601177531429,0.0100205615583103,0.00919809922589945,0.00823460769233169,0.0120923179646865,0.0129072920209297,0.0073397586903005,0.0308541939026711,0.0120274195712338,0.0144667255328377,0.0253484388504248,0.0108966898699224,0.26885532338432605,0.171548918724123,0.00754256616984034,0.0083562921800556,0.00752134938736541,0.008945369905242109,0.00786019388395044,0.0113097931051697,0.00757439134355275,0.00653164888721096,0.006369402903579079,0.0139637629835788,0.00800309515414929,0.0159962059400751,0.00910823991188795,0.00834318769676226,0.007107622129104121,0.00735910340373353,0.00586706437733424,0.00868078414731935,0.007871426298201879,0.0134189908923841,0.0271668419131298,0.0299362560491231,0.019552513096683,0.0077784468691205295,0.0240011731632663,0.00988140442619524,0.006962848789863371,0.0148448834793027,0.00578843747757417,0.00695910465177956,0.0070733008633358406,0.0115700107019947,0.007380320186208471,0.00903834933432345,0.0139818596509839,0.00869888081472445,0.00866955173306792,0.00769857192333253,0.0135394273340801,0.00916752209821498,0.00864833495059298,0.0155712462675623,0.0104842106576891,0.0140579904586881,0.00915192152286576,0.005966284036555271,0.00646363037868837,0.579807863313999,0.05408407462067201,0.007130086957606999,0.0105840543399241,0.00698843373343609,0.00950137441068827,0.00711635845129968,0.011623052658181999,0.00802056779854041,0.00758187961972038,0.00670325521605237,0.008911672662487791,0.0077572300866456,0.0147899694540735,0.00899029956224786,0.00727236420479187,0.0071656562694032205,0.007263003859582341,0.00523680113322579,0.00942524360298408,0.00745457892487075,0.013480145147753,0.009185618765620079,0.0137659476881507,0.008197790334507541,0.0241783956992334,0.007447714671717091,0.0188205341012977,0.0106071431914409,0.00643679738908771,0.0286950742743392,0.00765988249646647,0.00716628029241718,0.00918998692671786,0.0114870156411368,0.0103119803058337,0.00889420001809667,0.0147219509455509,0.008136012056124629,0.007980006302632441,0.00836190838718132,0.0124536272897744,0.0141827950614819,0.00524304136336548,0.0194014995273026,0.00807423377774172,0.016177172614126,0.0094408441783333,0.00811292320460778,0.5861148639161811,0.0191999400937907,0.007129462934593029,0.0107494204386258,0.00764428192111725,0.0112785919544713,0.00674194464291843,0.0134514400891105,0.00933663233500052,0.00676440947142131,0.00685738890050265,0.0185752930568079,0.00980152948040724,0.0116274208192798,0.00889170392604079,0.0070745489093637795,0.00739217662347387,0.008945369905242109,0.00961557062224455,0.008132891941054791,0.007093893622796809,0.0103943513436776,0.00889919220220842,0.0208061753317462,0.0163431627358417,0.0918018976539855,0.00691604706381571,0.026202726356547995,0.0092629976193522,0.00736534363387322,0.0375562010726956,0.00860465333961516,0.010065491215316,0.00737033581798497,0.012342551193288,0.010524772153597,0.00999372856870961,0.00906081416282632,0.00969170142994874,0.0119350641651664,0.0092311724456398,0.0107350679093045,0.00981650603274249,0.0223412719461094,0.00692727947806715,0.00961369855320264,0.017914452685015,0.00747891582241553,0.712629913791221,0.01837435764631,0.00613789036539668,0.0125253899363809,0.006956608559723679,0.010424928471362,0.007282972596029341,0.0100249297194081,0.0103837429524401,0.007761598247743379,0.0071388232798025595,0.0133565885909872,0.00905082979460282,0.0119650172698369,0.0083244670063432,0.00787017825217394,0.00749264432872284,0.00863211035222979,0.00837750896253054,0.009229300376597891,0.00726487592862425,0.0286426563411659,0.00779155135241388,0.0256766749557724,0.016597764125541,0.0446332460741152,0.00649670359842871,0.0294719829267303,0.00868827242348698,0.00703648350551168,0.0199693604700141,0.009219316008374391,0.00900777220663898,0.00740715317580912,0.0131157157075953,0.00965550809513855,0.0164249097506716,0.00843866321789948,0.0089135447315297,0.0100324179955757,0.0096405315428033,0.008397477698977541,0.0416466719292608,0.0518407118854543,0.0104324167475296,0.0366975454054746,0.009989360407611829,0.0010864240673196,0.00270576378856852,0.00977407246779261,0.00662213222423643,0.008119787457761441,0.00271075597268027,0.00625083853092502,0.0206358170489328,0.00653913716337859,0.00720309765024134,0.00338345278173859,0.0112218058602001,0.00787829055135553,0.0052929632044829795,0.0100842119057351,0.0145091590977875,0.00489234042951504,0.00351075347658822,0.00406051775189469,0.00850668172642207,0.0037341537155890295,0.0310613695433088,0.00416972177933922,0.0201397187528276,0.0113603389693012,0.00993507040539655,0.00482432192099245,0.0072018496042134,0.00113509786240917,0.0005547564594182231,0.00126052648821689,0.00584397552581739,0.0053784543573967,0.00557252551474098,0.00602743829192421,0.0211493879894291,0.00574725195865223,0.007199353512157529,0.00280373540176162,0.00649046336828902,0.0025397736668528303,0.0218139724993058,0.0156217921316938,0.00838250114664229,0.0051856312460803605,0.0034770562338339,0.00801994377552644,0.0584222826137828,0.00471324582450601,0.0244523418023657,1.0,0.0014483574154214801,0.006099824961544579,0.00688671798215918,0.0030290077098043397,0.00183649973011005,0.00255412619617412,0.0038627024564665898,0.00655723383078368,0.00129983993809692,0.0201809042717495,0.0088736072586357,0.00563055965504008,0.0015494491436844199,0.00623711002461771,0.00329234542169915,0.061554254120892,0.009468925213961891,0.0155369250017941,0.00293727632675093,0.0036006127905997202,0.00693289568519287,0.0074920203057088795,0.0551960836315643,0.00480435318454545,0.0116255487502379,0.0160280311137875,0.005014648940252921,0.00616409933198336,0.00699841810165959,0.00356379543277556,0.00207799663651595,0.00035506909494822204,0.0204816833644825,0.00479436881632195,0.00249671607888899,0.00172479961060964,0.0159469081219715,0.0253415745972712,0.000548516229278536,0.0101085488032799,0.0240710637408308,0.0145497205936955,0.00834381171977623,0.00124492591286767,0.00693851189231859,0.00296161322429571,0.0155269406335706,0.004919797442129671,0.00637751520276068,0.015618672016623997,0.00604491093631533,0.00723492282395375,0.006573458429146871,0.00570981057781411,0.000970979809735383,0.0059257225406473,0.00886611898246807,0.0121603364732091,0.00548453826977139,0.0093310161278748,0.00045366473115528497,0.0194882387262442,0.00678001004677052,0.00760434444822325,0.0041360245365849105,0.0289821248607649,0.00312510725395553,0.00649358348335887,0.0125172776371993,0.0117996511711352,0.00617096358513702,0.00672135188345746,0.00257347090960715,0.00063650347424813,0.0038901594690812203,0.00902774094308598,0.0103294529502248,0.0066283724543761205,0.00625645473805074,0.0010034290064617599,0.0182807541942147,0.0091731383053407,0.0155912150040093,0.005545692525140329,0.0050807953797336,0.00815410872352972,0.0297041194879267,0.00589951357406061,0.0259343964605415,0.00628141565860949,0.007493892374750779,0.0062751754284698,0.00876440323119117,0.0041041993628725,0.0432029853260988,0.007088277415671091,0.0164829438909707,0.0018414919142218,0.0223980580403805,0.00687049338379599,0.009020252666918359,0.00401746016393085,0.0122764047538073,0.0110814006820572,0.0172941738091301,0.0126632990224679,0.014919142217965,0.0100193135122823,0.00782025641105644,0.009118848303125421,0.0218308211206829,0.014140985519546,0.00451979869017569,0.00019282311131634498,0.0129877909897317,0.0594107350679093,0.00450607018386838,0.00476566375767938,0.00418282626263257,0.00778406307624625,0.0144299081750135,0.00598874886505814,0.0109360033198024,0.0103631501929791,0.0192273971064053,0.0100155693741985,0.0357883438741221,0.0188791922646107,0.0048492828415512,0.00642993313593405,0.00745395490185678,0.0143450410451137,0.0100760996065535,0.007528213640519059,0.00652416061104334,0.00880496472709914,0.00664085291465549,0.0141927794297054,0.00584210345677549,0.00473196651492507,0.005626815516956271,0.0204167849710297,0.00727922845794553,0.0242501583458398,0.00438438569614447,0.00472011007765966,0.0098102658026028,0.0048056012305733795,0.0032711286392242103,0.0151706234925944,0.00897282691785673,0.0293097369430985,0.0066826624565914,0.00751822927229556,0.0048218258289365705,0.0128068243156808,0.0110782805669873,0.0601289855569873,0.00629701623395871,0.0163868443468195,0.0832278214420548,0.00181715501667702,0.0274064667504938,0.00564304011531945,0.0064211968137384895,0.00426644534650438,0.00944146820134727,0.007616200885488659,0.0177022848602656,0.00908015887625936,0.0105434928440161,0.0092810942867573,0.00783398491736375,0.0122558119943464,0.0241047609835851,0.0100080810980309,0.00504272997588151,0.000162870006645845,0.0062570787610647105,0.0562581708013392,0.00597190024368099,0.00548141815470155,0.00499530422681988,0.007575015366566721,0.024145322479492994,0.00333228289459315,0.00615037082567605,0.00967984499268333,0.0133983981329231,0.0030764334588659604,0.0219337849179878,0.00601495783164483,0.0058558319630828,0.00649982371349855,0.007905123540956191,0.0137703158492485,0.00952383923919114,0.00715941603926353,0.00646924658581409,0.00558999815913211,0.0069640968358913105,0.0133434841076939,0.00577470897126686,0.00572291506110745,0.00646175830964646,0.006620260155194521,0.007508244904072059,0.0231256688746681,0.00484054651935563,0.00459655352089385,0.00845176770119282,0.009404026820509141,0.0181029076352336,0.00585395989404089,0.00898780347019198,0.0315986533583359,0.00531355596394395,0.0061697155391090795,0.00529233918146901,0.00373165762353316,0.0154664104012156,0.014559704961918997,0.0103968474357334,0.00645427003347884,0.0249035104414651,0.0470875285880543,0.0012461739588956,0.0226545314991217,0.0064548940564928,0.00831760275318954,0.0043032627043285395,0.0121609604962231,0.0074533308788428095,0.0164348941188951,0.009842090976315209,0.0127912237403315,0.0084143263203547,0.00599311702615592,0.00772228479786335,0.0201890165709311,0.0135731245768344,0.0060380466831616705,0.00077191646827935,0.0,0.0138976165440981,0.0452048511549106,0.0036904721046112205,0.00657221038311893,0.00500216847997354,0.005637423908193729,0.0230383056527125,0.00491605330404585,0.00849232919710079,0.0086757919632076,0.0191063366416953,0.00231886951990789,0.0195949466616329,0.0072517714453309,0.00407986246532772,0.00635692244329971,0.00744584260267519,0.0101927919101656,0.009636163381705521,0.0075375739857285904,0.009714166258451609,0.00594381920805239,0.00733663857523065,0.0154901232757464,0.0059712762206670204,0.0066027875108034,0.0062109010580310205,0.0110283587258698,0.0069603526978075,0.0255381418466713,0.00407549430422994,0.00402307637105656,0.00708640534662918,0.00494663043173032,0.00418719442373035,0.00402120430201466,0.00539655102480179,0.0124043294716709,0.0409964399487053,0.0038352454438519705,0.00607424001797186,0.00563679988517977,0.00624896646188312,0.0155799825897579,0.0129846708746619,0.0123700082059026,0.007558166745189559,0.0200610918530675,0.0551767389181313,0.00430700684241235,0.00628765588874918,0.00587829679158567,0.0069928018945338705,0.00552697183472126,0.00968733326885096,0.00637876324878862,0.0142090040280686,0.0143225762166109,0.0116461415096989,0.00788515480450919,0.00823086355424788,0.0084561358622906,0.0259119316320386,0.008779379783526421,0.00841245425131279,0.00239250423555621,0.00041123116620541,0.007599976287125471,0.0387955107784375,0.00343774278395387,0.009282342332785229,0.00227581193194405,0.00707704500141965,0.0329371827232988,0.006154114963759861,0.00844552747105313,0.00803741641991757,0.0135955894053373,0.00381590073041894,0.009085151060371109,0.006333833591782871,0.00344086289902372,0.00702774718331612,0.00853226666999479,0.0209671732693502,0.0121728169334885,0.00623274186351993,0.00718687305187815,0.008263312750974259,0.007469555477205999,0.0136324067631614,0.0054695617174361395,0.0190695192838712,0.00597252426669496,0.0058870331137812395,0.00904895772556092,0.0293440582088667,0.00218782468697446,0.0110308548179257,0.0117060477190399,0.00452229478223157,0.0157503408725714,0.00242994561639433,0.00367112739117819,0.00511698871454379,0.0108068305559109,0.024066071556718995,0.00593882702394064,0.0064829750921214,0.00624023013968755,0.00869950483773842,0.00943772406326346,0.012542862580772,0.0116274208192798,0.00977656855984849,0.0181802864889657,0.00344585508313547,0.005209344120611171,0.0211762209790297,0.00120186832490382,0.00646987060882805,0.0117060477190399,0.00760496847123722,0.0114620547205781,0.00646175830964646,0.0123906009653636,0.013681080558251001,0.0141721866702444,0.00874942667885592,0.00589202529789299,0.014660172667168002,0.0250064742387699,0.00904521358747711,0.0138289740125616,0.00222589009082655,0.00137597074580111,0.0147868493390036,0.0492953220114758,0.004785632494126379,0.009010268298694859,0.00343337462285609,0.00714256741788637,0.0356042570850013,0.00658157072832846,0.0069678409739751205,0.00670200717002443,0.0193915151590791,0.00638749957098418,0.0108423998677071,0.00611480151387983,0.00310014633339678,0.007846465377643129,0.00960309016196517,0.0230900995628719,0.0182632815498236,0.00615598703280177,0.0125734397084564,0.0106988745744943,0.00678437820786831,0.0178863716493864,0.00663149256944596,0.009808393733560891,0.006149746802662079,0.00414912901987825,0.0093609692325453,0.0450694381608794,0.0037622347512176295,0.00681058717445499,0.0144879423153126,0.00871136127500382,0.0283449973635028,0.00638125934084449,0.004223387758540529,0.0071388232798025595,0.00434944040736222,0.0116779666834113,0.0107924780265896,0.0115275771370448,0.0202620272635655,0.007857697791894559,0.00642057279072452,0.0060055974864353,0.00992383799114511,0.0100161933972125,0.0281721429886334,0.00648796727623315,0.0106595611246143,0.020570294632466,0.0026071681523614602,0.00756253490628734,0.0116592459929922,0.0009297942908134449,0.00731729386179762,0.0190445583633124,0.00864646288155107,0.00925238922811473,0.00642806106689215,0.0122551879713324,0.0138221097594079,0.0142932471349543,0.00716503224638925,0.00559249425118798,0.0125203977522691,0.0310351605767221,0.00957376108030864,0.0116867030056068,0.007043347758665341,0.000565988873669661,0.00489046836047313,0.0534188660877813,0.0061953004826818,0.00814537240133416,0.00510825239234823,0.0062071569199472106,0.0221983706759105,0.00748203593748537,0.00743211409636787,0.0062358619785897705,0.0120043307197169,0.00649607957541474,0.0120080748578008,0.00223462641302211,0.00306020886050278,0.009244276928933141,0.0086339824212717,0.0189054012311974,0.00772228479786335,0.00590762587324221,0.0103562859398255,0.0138096292991286,0.00684553246323724,0.0228336261041307,0.0069821935032964,0.00641183646852896,0.00721120994942293,0.00289921092289884,0.0459630391168826,0.00483992249634167,0.0233858864714931,0.00974287131709417,0.00427018948458819,0.0107126030808016,0.007258011675470591,0.022848602656466002,0.00606175955769249,0.00886923909753792,0.00688859005120109,0.0472073410067363,0.0112399025276052,0.0114489502372848,0.00694600016848621,0.0360348329646397,0.0150090015319765,0.0063675308345371795,0.0062533346229809,0.0194607817136296,0.0136143100957563,0.0201234941544644,0.0241908761595128,0.0108430238907211,0.0872047201100777,0.0118271081837498,0.00899716381540151,0.00689108614325696,0.00692291131696937,0.0306938199880812,0.007079541093475529,0.00573040333727508,0.0168685901136034,0.00274195712337871,0.0113397462098402,0.0132661052539618,0.00842056655049438,0.0109902933220177,0.0413802141022961,0.0104910749108427,0.00577346092523892,0.00643804543511565,0.007535701916686691,0.0092130757782347,0.00801495159141469,0.0120654849750859,0.010225865129906,0.0190607829616756,0.0128168086839043,0.0131369324900702,0.00793632469165463,0.116498856477827,0.0450076598824965,0.0114795273649692,0.0061634753089694,0.0351649448831673,0.0108430238907211,0.0135656363006668,0.00698281752631037,0.0201166299013108,0.011124458270021002,0.014041141837311,0.0286095831214255,0.009674228785557609,0.0162065016957825,0.0116604940390202,0.0114383418460473,0.00757688743560863,0.0066857825716612395,0.009199971294941359,0.0138651673473718,0.00614787473362018,0.0111537873516775,0.00699529798658975,0.00459468145185194,0.0174096180667143,0.004544135587720479,0.0107107310117597,0.0205453337119073,0.008136012056124629,0.0103331970883086,0.013162517433642999,0.00862711816811804,0.0142763985135772,0.007189993166948,0.00779155135241388,0.0139756194208442,0.00767361100277378,0.0255294055244757,0.00632696933862921,0.0489951669417568,0.030297565374211004,0.0347568338320317,0.032733127197731,0.008757538978037509,0.0348067556731492,0.00751011697311397,0.00638874761701212,0.00926486968839411,0.0032237028901625896,0.0313097307028683,0.0371012882955123,0.009309799345399859,0.0243007042099713,0.0199943213905729,0.008135388033110659,0.00811479527364969,0.0892614999641187,0.0152929320033323,0.0126589308613702,0.00922680428454201,0.0201646796733864,0.0134695367565156,0.0739411109481718,0.0284829064495899,0.0285552931192102,0.0101035566191681,0.0168586057453799,0.0110807766590432,0.019732231724706,0.0325259515570934,0.0162838805495147,0.0164785757298729,0.147531520962493,0.0213397150086895,0.0187525155927751,0.0106807779070892,0.0132299119191516,0.0232723142829508,0.0227799601249294,0.008060505271434409,0.0248092829663558,0.0162689039971794,0.00974287131709417,0.018454856615112,0.0119400563492782,0.00613040208922905,0.10897251490635,0.0141940274757333,0.0377047185500201,0.0113135372432535,0.0067924905070499,0.00830574631592413,0.0185671807576263,0.007780942961176409,0.0284186320791511,0.0221940025148127,0.0291081775095866,0.0333253250379874,0.0106970025054524,0.0321658902780335,0.00644178957319946,0.0101216532865732,0.00777345468500878,0.00335537174611,0.0346944315306349,0.0110464553932749,0.0084842168979192,0.0201197500163806,0.00837750896253054,0.0121565923351253,0.0441022024892278,0.00829513792468666,0.0102951316844565,0.0688946368342065,0.0179674946412024,0.0277989772262801,0.030856065971712997,0.0274844696272399,0.0181809105119797,0.0296417171865298,0.0223225512556903,0.0176779479627209,0.0307399976911149,0.131138436385534,0.0115150966767654,0.018054857863158,0.0104804665196052,0.0244092842144018,0.0110321028639536,0.015038330613633001,0.00908889519845492,0.0541951507171585,0.0218283250286271,0.0109191546984253,0.0166788871173569,0.00813164389502685,0.0865744568659692,0.0160261590447456,0.0295524818955323,0.022747510928203,0.0255805754116212,0.0615973117088558,0.009157537729991479,0.0149503433686634,0.00602182208479849,0.007716668590737629,0.115489187241225,0.0141328732203644,0.0192018121628326,0.0343880362307762,0.118542531848575,0.0300254913401206,0.0150302183144514,0.010345677548588,0.013302298588771999,0.00866705564101204,0.0125191497062412,0.266807903875495,0.00695910465177956,0.00553196401883301,0.00273072470912727,0.0067026311930384,0.0116891990976627,0.0255094367880287,0.00604428691330136,0.0119968424435493,0.0186707685779452,0.0075981042180835595,0.0250064742387699,0.0126657951145238,0.007566279044371159,0.0083762609165026,0.00874193840268829,0.0565445973647508,0.0172704609345993,0.0477065594179113,0.00979404120423961,0.0115319452981426,0.0562506825251715,0.0516803379708644,0.0130152480023463,0.008444279425025191,0.0052467855014492895,0.0294969438472891,0.0216136611118218,0.0300204991560089,0.0360604179082125,0.0113391221868263,0.0231431415190592,0.0208199038380535,0.0145827938134358,0.0283705823070755,0.0218121004302639,0.0108542563049725,0.0100342900646176,0.005297955388594729,0.0111107297637137,0.0708091394410626,0.0162514313527883,0.0732053878147026,0.0361970789482716,0.0603736025784631,0.10195163197618701,0.00468766088093329,0.0134932496310464,0.0145341200183463,0.0128592422488541,0.0226457951769261,0.0248972702113254,0.0441677249056945,0.0435093806259575,0.00921120370919279,0.0104380329546554,0.00656097796886749,0.00772103675183541,0.0132661052539618,0.0271200401870821,0.016177172614126,0.0097503595932618,0.0200236504722294,0.00745395490185678,0.007585623757804191,0.00916502600615911,0.00782212848009835,0.0120005865816331,0.0195737298791579,0.0648628241409543,0.011564394494868999,0.008664559548956171,0.0157228838599568,0.00548578631579933,0.00197378479318317,0.0108111987170087,0.0196991585049657,0.0289808768147369,0.0341084739205182,0.017555639451983,0.0492803454591405,0.0125746877544844,0.0496416547842284,0.0229365899014356,0.0262008542875061,0.0202851161150823,0.0153366136143101,0.00401683614091688,0.0379630640778032,0.0196548528709739,0.0267150492510164,0.020452354282826,0.0167238167743626,0.02388697695171,0.007196233397087679,0.0211406516672335,0.00480372916153148,0.0102246170838781,0.0132086951366766,0.027800225272307997,0.0202277059977972,0.0052773626291337606,0.0127799913260801,0.0229846396735112,0.0351268794793152,0.0137178979160751,0.0206202164735835,0.0158196074271219,0.0238826087906122,0.0223044545882852,0.00940340279749517,0.007185625005850221,0.0061453786415643,0.00307206529776818,0.00324928783373531,0.005771588856197021,0.00643242922798993,0.0519948455699046,0.009032109104183759,0.0218657664094652,0.0100729794914836,0.0247818259537412,0.0387137637636076,0.0127238292548229,0.0067325842977089,0.00630762462519618,0.0279755757392333,0.0073597274267475,0.0141721866702444,0.0380011294816553,0.0126383381019092,0.010046770524897,0.0087438104717302,0.00843242298775979,0.0150776440635131,0.0104823385886471,0.040683180395693,0.0112748478163875,0.0205771588856197,0.0126533146542444,0.017296045878172,0.0238695043073189,0.0391805329780562,0.0197503283921111,0.00915940979903339,0.00962368292142614,0.0336348404529159,0.025265443789567,0.0211961897154767,0.0615174367630678,0.0124648597040259,0.0281883675869966,0.0213484513308851,0.0223125668874668,0.0138907522909445,0.01366048779879,0.0191849635414554,0.031656063475621006,0.00834256367374829,0.0266470307424938,0.0210495443071941,0.03407228058570799,0.0379512076405378,0.0748578007556919,0.00458095294554463,0.00928858256292492,0.0195993148227307,0.0120049547427309,0.0212829289144184,0.028840471636594,0.0353733685698329,0.0109341312507605,0.0107194673339553,0.0123787445280982,0.0126976202882362,0.0109809329768082,0.025744069441281003,0.0249521842365546,0.00935348095637767,0.007179384775710529,0.0102177528307244,0.00955753648194545,0.0154595461480619,0.0107993422797433,0.014300111388108,0.0364566725220826,0.0138957444750562,0.00882493346354614,0.0422738150582994,0.0325440482244985,0.0133790534194901,0.00660902774094309,0.018233952468167,0.103134779610672,0.0232510975004758,0.0023981204426819303,0.0163450348048836,0.0137066655018237,0.0180916752209822,0.0340373352969258,0.008444279425025191,0.0430519717567184,0.0247974265290904,0.0108211830852322,0.0337677573548913,0.031235471964206,0.00958748958661595,0.0102364735211435,0.0186021260464086,0.0158233515652057,0.0165266255019485,0.0143625136895049,0.0129940312198714,0.00588890518282314,0.013080770418813,0.0543261955500919,0.00615910714787161,0.0122383393499552,0.00876253116214926,0.0212167824749377,0.0151531508482033,0.00997937603938833,0.00624647036982724,0.0253328382750756,0.0696846499698909,0.0403331034848565,0.009160033822047359,0.0489670859061282,0.0180654662543955,0.0178695230280093,0.0101347577698666,0.017675451870665,0.0220367487152926,0.0107469243465699,0.0291705798109834,0.013320395256177,0.0183600051169887,0.0147662565795427,0.036768684029067,0.00473009444588316,0.0218401814658925,0.009536319699470521,0.0117378728927523,0.006785626253896239,0.0328036417983095,0.0206688902686731,0.00877750771448451,0.0164517427402723,0.0192043082548884,0.0262251911850509,0.0165347378011301,0.0213765323665137,0.00911947232613939,0.0221746578013797,0.0074314900733539095,0.00750450076598825,0.0108267992923579,0.00707766902443362,0.00486301134785851,0.00483243422017404,0.0241571789167585,0.0110526956234146,0.0228979004745695,0.0175693679582903,0.0136373989472732,0.0127138448865994,0.0102838992702051,0.0270645021388389,0.00475068720534413,0.0121859214167819,0.00452479087428744,0.0242807354735243,0.00787017825217394,0.0184436242008605,0.0278644996427468,0.0216186532959336,0.0163063453780175,0.0138857601068327,0.00714568753295622,0.0311281400058034,0.00949638222657652,0.0404585321106642,0.0134295992836216,0.0245802665202293,0.0279755757392333,0.0108130707860506,0.0176891803769723,0.0219075759514011,0.0297502971909604,0.0071107422441739595,0.0102682986948559,0.026402413721017995,0.0323393686759168,0.0280978842499711,0.0453234155275647,0.0141466017266717,0.0240024212092942,0.0261777654359893,0.0122389633729692,0.0134714088255575,0.014799329799283,0.0232560896845876,0.0618438007993735,0.0041622335031716,0.0201990009391546,0.0259599814041142,0.0207880786643411,0.0807966277796325,0.0385914552528697,0.00398875510528828,0.007702940084430309,0.0279886802225266,0.0276797888306121,0.032275094305478,0.0296030277596638,0.0702331661991694,0.00856533988973513,0.0133178991641212,0.0151856000449297,0.0136161821647982,0.00822399930109422,0.0310445209219316,0.0275955457237263,0.0118901345081607,0.0208092954468161,0.00907828680721745,0.00521683239677879,0.0152536185534523,0.00769045962415094,0.0127544063825074,0.0593826540322807,0.0126732833906915,0.00659779532669165,0.0297047435109407,0.0330401465206037,0.00725925972149853,0.0084461514940671,0.0226164660952696,0.0464216960321497,0.0251437593018431,0.00533976493053064,0.0214158458163937,0.0275556082508323,0.0132710974380735,0.00844490344803916,0.0196092991909542,0.0260292479586647,0.0552790786924222,0.0172386357608869,0.0197834016118514,0.061173600082370994,0.0108636166501821,0.0327431115659546,0.0207256763629443,0.0181484613152533,0.0147781130168081,0.0149303746322164,0.0115955956455674,0.00822399930109422,0.0191799713573437,0.007466435362136159,0.0179200688921407,0.00593196277078699,0.0231437655420732,0.008995915769373579,0.0642531536563068,0.0178763872811629,0.0160455037581786,0.00822150320903835,0.0176517389961342,0.0643249163029133,0.0383087728275419,0.0109154105603415,0.0521096658044749,0.021390884895835,0.0149054137116577,0.00944334027038917,0.0136168061878122,0.0172692128885713,0.0120555006068624,0.027781504581888997,0.00960433820799311,0.0202283300208112,0.0232916589963838,0.0384104885788188,0.00982149821685424,0.0207581255596706,0.0102177528307244,0.016597140102527,0.00865457518073267,0.0302445234180237,0.0252704359736787,0.00410045522478869,0.0185166348934949,0.0181135160264711,0.0289921092289884,0.0229709111672038,0.0227525031123148,0.0298638693795027,0.0272916465159235,0.00709451764581078,0.0149228863560488,0.0124848284404729,0.00754880639998003,0.00512634905975332,0.00670824740016412,0.024346881913005002,0.0113147852892815,0.0225621760930543,0.0157790459312139,0.0127244532778369,0.00899778783841548,0.0142632940302838,0.0159494042140274,0.0058558319630828,0.00932415187472114,0.0112773439084433,0.0192873033157463,0.0080386644659455,0.009916973737991459,0.00459343340582401,0.00958748958661595,0.0107600288298632,0.0189971326142508,0.0245284726100699,0.0288229989922028,0.0183812218994637,0.0073197899538535,0.00713632718774668,0.0187362909944119,0.0117291365705567,0.0154445695957267,0.0151001088920159,0.0105909185930777,0.00378157946465066,0.0122982455592962,0.046254457864406,0.0314888253078774,0.0303949129643901,0.0120879498035888,0.007082661208545371,0.0293465543009226,0.0343162735841698,0.0317789960093728,0.0521427390242152,0.00801120745333088,0.0212423674185104,0.0254382981644363,0.0140486301134786,0.0149266304941326,0.015079516132555001,0.0236648247587371,0.0294370376379481,0.004151625111934129,0.0327162785763539,0.0595299234635773,0.00667392613439584,0.0333271971070293,0.0338020786206595,0.0738718443936213,0.00417596200947891,0.00668016636453552,0.0205565661261587,0.0309072358588585,0.0364142389571327,0.04589502060836,0.079508020255787,0.00904209347240726,0.0122364672809133,0.0223325356239138,0.012461739588956001,0.0070982617838945905,0.0301072383549505,0.0498687991613131,0.0237422036124692,0.0147768649707801,0.0130246083475559,0.00662587636232024,0.0194888627492582,0.0112149416070465,0.00711635845129968,0.0536753395465225,0.0131862303081738,0.00587268058445996,0.0209035229219254,0.0268548304061454,0.0060842243861953605,0.0405689841841367,0.0992302676122696,0.0549084090221247,0.0078090239968050005,0.0256816671398841,0.0256292492067107,0.0223300395318579,0.0128342813282954,0.0155138361502772,0.0294913276401634,0.0350026988995354,0.0152336498170053,0.0475717704468941,0.0748197353518398,0.014740047612956001,0.0409558784527973,0.0181840306270495,0.0237328432672597,0.0258651299059909,0.010605271122399,0.011943176464348,0.007331022368104941,0.0224542201116377,0.0117696980664647,0.0219855788281472,0.00666706188124218,0.010504803417149999,0.0143880986330776,0.0039731545299390705,0.0440903460519624,0.0132498806555986,0.00761432881644675,0.0217284813463921,0.0108330395224976,0.10401652412941,0.0184586007531958,0.0193671782615343,0.010625863881860001,0.0198458039132483,0.0565421012726949,0.0246270682462769,0.00838499723869816,0.0422501021837685,0.0182826262632566,0.020312573127697,0.0178564185447159,0.0160823211160028,0.0186688965089033,0.0403418398070521,0.0262694968190427,0.013062673751408002,0.0238295668344249,0.0391287390678968,0.0522619274198832,0.00742275375115834,0.0405802165983881,0.0103182205359734,0.0115600263337712,0.0185628125965286,0.0269596662724921,0.00636877888056512,0.0162639118130677,0.0163431627358417,0.034990842462269994,0.0248922780272136,0.0427337200195943,0.0331231415814615,0.032115968436916,0.0109191546984253,0.0138926243599864,0.0194077397574423,0.00915878577601942,0.006350682213160021,0.00612665795114524,0.0279836880384149,0.0141328732203644,0.0242482862767979,0.0199587520787767,0.0209203715433025,0.007528213640519059,0.0122408354420111,0.0233091316407749,0.00521620837376482,0.0131743738709084,0.0038190208454887795,0.0290033416432398,0.008035544350875659,0.0164898081441244,0.020831760275319,0.0353452875342043,0.0113466104629939,0.005542572410070479,0.0092530132511287,0.0592447449461936,0.0143581455284071,0.0190988483655277,0.0120704771591976,0.00992196592210321,0.0032467917416794303,0.00974973557024783,0.00614662668759224,0.0621420838000506,0.0382145453524326,0.0135918452672535,0.0156873145481605,0.0263106823379646,0.0188660877813174,0.0277035017051429,0.0257877510522588,0.00936533739364308,0.0388098633077588,0.0288810331325019,0.031036408622750002,0.015557517761255,0.0150639155572058,0.0319986521102898,0.0244510937563377,0.0047712799648051,0.0456809807145688,0.069642840427955,0.0111587795357893,0.0297471770758906,0.0347649461312133,0.0541302523237057,0.0425090717345656,0.0034945288782250302,0.00550201091416251,0.064209472045329,0.0317378104904509,0.0265902446482226,0.0590069921778715,0.0328847647901255,0.0392803766602912,0.00760434444822325,0.0155369250017941,0.0259075634709408,0.00754443823888225,0.0249627926277921,0.0303830565271247,0.014460485302698,0.0103138523748756,0.00807485780075569,0.0394625913803701,0.0114901357562067,0.00517439883182892,0.0573664356741477,0.014160330232979,0.00290420310701059,0.0136898168804466,0.0639430142183644,0.0113272657495608,0.0387331084770406,0.0470288704247413,0.0704122608041785,0.00719498535105975,0.0275194149160221,0.0459093731376813,0.0417752206701383,0.0266039731545299,0.0320510700434632,0.0444148380192262,0.0168136760883741,0.0153840393633717,0.0511848636977732,0.0813020864209472,0.0185796612179057,0.00715879201624956,0.0292348541814222,0.0238907210897938,0.0145097831208015,0.0147325593367883,0.0070321153444139,0.016418045497518,0.0176024411780306,0.0247674734244199,0.000437440132792097,0.00804740078814107,0.0109172826293834,0.00476753582672129,0.0177203815276707,0.00452104673620363,0.0122395873959832,0.0299961622584641,0.0662306825875738,0.0317802440554008,0.0103762546762725,0.0163094654930874,0.0232242645108752,0.0235038268211332,0.007138199256788591,0.00637751520276068,0.0194913588413141,0.00880870886518295,0.100422775591964,0.0203724793370379,0.00876877139228895,0.00861713379989454,0.0168879348270364,0.0752222301958496,0.0365396675829405,0.00655972992283955,0.0474176367624438,0.0246919666397297,0.0334757145843539,0.0223393998770675,0.0122090102682987,0.00920496347905311,0.046874112717277,0.0284785382884921,0.0132055750216068,0.0254613870159531,0.04765351746172401,0.057299665211653,0.0103562859398255,0.060235069469362,0.011145051029482,0.0197216233334685,0.0207231802708884,0.0212018059226024,0.005135709404962861,0.0329190860558937,0.0182788821251728,0.0329078536416423,0.0208323842983329,0.0273328320348454,0.0358551143366167,0.0303886727342504,0.0099282061522429,0.0115606503567852,0.0374064355493431,0.009168770144242921,0.005888281159809171,0.00669077475577299,0.0381246860384211,0.0160723367477793,0.038166495580357,0.0275924256086564,0.018933482266826,0.0122495717642067,0.00604491093631533,0.0141490978187276,0.000876128311612132,0.009786552928071991,0.00237191147609524,0.0158876259356445,0.00575910839591764,0.0149977691177251,0.0156754581108951,0.0390226551555221,0.0274308036480385,0.00474756709027429,0.00913008071737686,0.0602506700447112,0.0139687551676906,0.0161453474404136,0.00994443075060608,0.0146863816337547,0.0044536522506950105,0.00735660731167766,0.0169977628774949,0.0400747579570735,0.0188405028377447,0.0128498819036446,0.0449115603383453,0.0178620347518417,0.027900068954543,0.020152199213106996,0.0082963859707146,0.0238239506272991,0.0311094193153844,0.0121047984249659,0.0127313175309905,0.0159487801910134,0.0254988283967913,0.0536503786259637,0.0067069993541361795,0.0195250560840684,0.0580054352404517,0.00811604331967763,0.0379418472953283,0.0277933610191544,0.0311175316145659,0.0620285116115082,0.00395880200061778,0.00557127746871305,0.0345927157793579,0.0271543614528504,0.0304136336548092,0.0535037332176811,0.0242102208729458,0.0326701008733202,0.010265178579786,0.0178333296931991,0.0439636693801267,0.007148807648026059,0.0244373652500304,0.0206545377393518,0.0178832515343166,0.0131032352473159,0.00918062658150833,0.03978333920955,0.00957875326442039,0.005838359318691671,0.0239749641966796,0.0156898106402164,0.00373165762353316,0.0198620285116115,0.15696550088767303,0.00663960486862755,0.0324223637367746,0.0583530160592323,0.0483018773732375,0.0128517539726865,0.0218139724993058,0.0470463430691324,0.0275874334245447,0.0169085275864974,0.0147768649707801,0.0529414884820952,0.0369415384039363,0.0121441118748459,0.0529564650344305,0.0418669520531917,0.0085141700025897,0.0258769863432563,0.0349839782091164,0.0122657963625699,0.0115531620806175,0.0148405153182049,0.0120973101487983,0.0549377381037813,0.0275431277905529,0.0024187132021429,0.00917001819027086,0.0114002764421952,0.0134046383630628,0.0110458313702609,0.0100935722509446,0.0134732808945994,0.0116386532335313,0.0277103659582965,0.042579586335144,0.0226214582793813,0.008914792777557641,0.0127444220142839,0.0175044695648376,0.0166239730921276,0.0244149004215275,0.0212548478787898,0.0207787183191316,0.008075481823769659,0.0429901934783355,0.00544085665879358,0.00645239796443693,0.044837925622697,0.00847360850668173,0.0830880402869258,0.0171937061038811,0.0114895117331927,0.00737470397908275,0.00998249615445818,0.0570132386482414,0.0258382969163903,0.007268620066708059,0.0408922281053725,0.0208773139553387,0.0268379817847682,0.0176935485380701,0.0110489514853308,0.009125088533265109,0.0475181044676928,0.0261446922162489,0.00900777220663898,0.0217940037628588,0.0364548004530407,0.0114745351808575,0.00803055216676391,0.0326164348941189,0.0126851398279569,0.011263615402136003,0.0162489352607324,0.0182295843070692,0.00393508912608697,0.0234582731411134,0.0199462716184973,0.0332504422763112,0.0136486313615246,0.0337271958589833,0.028320660465958,0.0267337699414354,0.00984957925248283,0.0172417558759567,0.0146377078386651,0.0067069993541361795,0.00629389611888887,0.00724802730724709,0.0381583832811754,0.0130726581196315,0.0260479686490838,0.0187993173188227,0.0215681074318021,0.0125902883298336,0.0136280386020636,0.0107993422797433,0.0038003001550697205,0.00906643036995204,0.0106464566413209,0.008204654587661191,0.00792197216233335,0.00778531112227419,0.0150495630278845,0.00633695370685271,0.0115282011600588,0.0116118202439306,0.0331399902028387,0.00689483028134078,0.007198729489143559,0.0115793710472042,0.0100186894892684,0.0154545539639502,0.00970979809735383,0.0150414507287029,0.0135338111269544,0.00903398117322567,0.0202158495605318,0.0119706334769626,0.0200055538048243,0.00865644724977457,0.0210420560310264,0.0190994723885417,0.00789513917273269,0.00677439383964481,0.0120448922156249,0.0124486351056627,0.0368504310438969,0.0177965123353749,0.00916689807520101,0.0108960658469084,0.0146177391022181,0.016977170118034,0.00870324897582223,0.0186688965089033,0.014539736225472,0.008652703111690759,0.0101428700690481,0.0189509549112171,0.0230108486400978,0.0105403727289462,0.0650512790911729,0.004427443284108321,0.0149253824481047,0.00594444323106636,0.0101491102991878,0.00948826992739492,0.0090932633595527,0.00572728322220524,0.0143887226560916,0.00849045712805888,0.0112879522996808,0.009206835548095009,0.0291131696936983,0.012661426953426001,0.00648671923020521,0.0116598700160062,0.0140723429880094,0.0130714100736035,0.00979903338835136,0.0182639055728375,0.00860090920153135,0.0164685913616494,0.00952695935426098,0.0178801314192467,0.0101578466213834,0.0171450323087915,0.0107968461876874,0.00997937603938833,0.0135593960705271,0.00846050402338838,0.0115207128838912,0.00935597704843355,0.00893788162907448,0.0164785757298729,0.0140685988499256,0.007513237088183809,0.0318276698044624,0.00663086854643199,0.005668625058892171,0.00684927660132106,0.00732478213796525,0.00886112679835632,0.00277565436613302,0.00943897210929139,0.0119725055460045,0.0103169724899454,0.0120349078474014,0.00868328023937523,0.007588119849860059,0.007797791582553571,0.00840871011322898,0.0117516013990596,0.0115157206997794,0.00867329587115173,0.0122626762475,0.0099300782212848,0.00883491783176964,0.0278507711364395,0.00882306139450423,0.00651667233487571,0.009608082346076921,0.023886352928696,0.0281777591957591,0.00911198404997176,0.0128199287989741,0.0197671770134883,0.0103787507683283,0.0066127718790269,0.0106333521580276,0.00967110867048777,0.0573146417639883,0.010165334897551,0.0111544113746915,0.00986517982783205,0.008793108289833729,0.0279474947036047,0.0059675320825832105,0.0167001038998318,0.007387808462376091,0.00847672862175157,0.008995915769373579,0.0135394273340801,0.00910387175079017,0.0320423337212676,0.0437290367268745,0.0206663941766172,0.0220629576818793,0.009668612578431891,0.0094408441783333,0.0135687564157366,0.0135275708968147,0.0073104296086439705,0.009110111980929859,0.0111681398809988,0.0147219509455509,0.023807102005922003,0.0126714113216495,0.0105035553711221,0.0103238367430991,0.0119063591065238,0.0215431465112433,0.008353172064985759,0.0137622035500669,0.00891104863947382,0.0190713913529131,0.0156005753492189,0.0191693629661062,0.0110789045900013,0.00884178208492329,0.00646987060882805,0.00947329337505967,0.0101790634038583,0.0114583105824943,0.0143968349552732,0.0180018159069707,0.0349128395855239,0.0160199188146059,0.01461961117126,0.036309403090786,0.0226258264404791,0.00783648100941963,0.0142870069048147,0.00913694497053051,0.0173734247319041,0.00935223291034974,0.0296704222451724,0.0105522291662117,0.0136904409034605,0.00807360975472775,0.00927610210264555,0.0139793635589281,0.0260379842808603,0.0115550341496594,0.00650169578254046,0.0126483224701327,0.017316014614619,0.0177004127912237,0.00785083353874091,0.0134826412398089,0.0236635767127092,0.0268386058077822,0.017676075893679002,0.0126152492503924,0.0112673595402198,0.00972851878777289,0.0105023073250941,0.008094826537202691,0.014938486931398001,0.00669327084782887,0.00824958424466694,0.0156611055815739,0.0091812506045223,0.0018003063952998601,0.009039597380351391,0.007785935145288159,0.0111413068913982,0.0106920103213407,0.00502712940053229,0.00805176894923885,0.008697008745682541,0.007525093525449221,0.0161490915784974,0.0112717277013176,0.007546934330938121,0.0108030864178271,0.0122807729149051,0.00881307702628073,0.0199356632272598,0.00854474713027416,0.007405905129781191,0.01386017516326,0.0287743251971133,0.037088183812219004,0.0121459839438879,0.0160111824924103,0.016276392273347002,0.00646550244773027,0.00657720256723068,0.0133328757164564,0.00840746206720104,0.0248492204392498,0.0104954430719405,0.0137247621692288,0.0144673495558516,0.008344435742790191,0.0259169238161503,0.00505146629807707,0.0187624999609986,0.0102633065107441,0.0073853123703202204,0.0102770350170514,0.0167793548226059,0.0110196224036742,0.030737501599058997,0.0394513589661187,0.0170458126495705,0.0238844808596541,0.0151943363671252,0.009346616703224021,0.0116561258779224,0.0141104083918615,0.008154732746543691,0.00768796353209506,0.0101634628285091,0.0190857438822344,0.0137859164245977,0.013002767542067,0.0117341287546685,0.011583115185288,0.00967110867048777,0.0208230239531234,0.0073959207615576904,0.0270120842056655,0.0164043169912106,0.0112548790799405,0.0100180654662544,0.0191799713573437,0.0166408217135048,0.0158807616824909,0.0118058914012749,0.00616597140102527,0.0100823398366932,0.0121734409565025,0.011623676681196,0.0191107048027931,0.0119244557739289,0.0726418950330888,0.0177584469315228,0.0155269406335706,0.0170845020764366,0.0205234929064184,0.0080667455015741,0.0141746827623003,0.007566903067385129,0.0199493917335671,0.00940714693557898,0.0290077098043376,0.0100473945479109,0.0193809067678416,0.00904770967953298,0.0196848059756444,0.0111375627533143,0.0224186507998415,0.007702940084430309,0.0180517377480881,0.0119338161191385,0.037328432672597,0.023266698075824998,0.00993319833635465,0.0132642331849199,0.0271549854758643,0.0226957170180436,0.0167069681529855,0.0116686063382018,0.0107188433109413,0.0111132258557696,0.0108736010184056,0.00946705314491999,0.0113347540257285,0.00701651476906468,0.00472385421574348,0.008028680097721999,0.00598625277300227,0.00650107175952649,0.00732603018399319,0.00824084792247138,0.00960558625402105,0.0120704771591976,0.00691604706381571,0.00749514042077872,0.0081865579202561,0.00910636784284605,0.008826181509574071,0.0130389608768771,0.0078052798587211905,0.0117615857672831,0.0102508260504647,0.0085260264398551,0.0228766836920946,0.00849232919710079,0.00753445387065875,0.010246457889366999,0.0166682787261194,0.0312186233428289,0.0120280435942478,0.0161035378984777,0.0236379917691364,0.0103631501929791,0.006768153609505121,0.0194913588413141,0.013561892162583,0.007818384342014529,0.0120149391109544,0.0126052648821689,0.0158008867367028,0.0116186844970843,0.0173222548447587,0.00991198155387971,0.0268117728181815,0.00696721695096115,0.00575037207372208,0.008328211144427009,0.0164841919369986,0.018195263041301,0.0185515801822771,0.052746793301737004,0.0111007453954902,0.021330978686493998,0.008375012870474659,0.008108555043510001,0.0227537511583427,0.0148405153182049,0.00917064221328483,0.00721433006449278,0.0131356844440423,0.0189247459446304,0.029618628335012998,0.0172779492107669,0.0323031753411066,0.0117054236960259,0.020571542678494,0.007535701916686691,0.03419209300439,0.0210994661483116,0.0159206991553849,0.0312523205855832,0.0257340850730575,0.0198957257543658,0.0123094779735477,0.0159519003060833,0.00791136377109588,0.00575848437290367,0.0076498981282429705,0.00575536425783383,0.00694350407643034,0.00646051026361852,0.008835541854783609,0.0151531508482033,0.0133260114633028,0.0174570438157759,0.0167749866615081,0.11662615717267699,0.00576222851098748,0.0268573264982013,0.0411405892649321,0.0171656250682525,0.00833757148963654,0.0151887201599995,0.008329459190454941,0.0115394335743102,0.0125160295911713,0.0373546416391837,0.0108361596375674,0.0224473558584841,0.0115475458734918,0.0124966848777383,0.0184423761548326,0.0232716902599368,0.0104636178982281,0.0346276610681402,0.0142239805804038,0.0312467043784575,0.0191643707819944,0.00778219100720435,0.0146270994474276,0.0227549992043707,0.0120648609520719,0.0172798212798088,0.0162645358360816,0.0140673508038976,0.0160735847938072,0.0098801563801673,0.009244276928933141,0.0150863803857086,0.00651854440391762,0.00641870072168262,0.00840246988308929,0.00203244295649624,0.0128885713305107,0.00866268747991426,0.00990886143880986,0.00970418189022811,0.00792634032343113,0.00967610085459952,0.0157104033996774,0.00759373605698578,0.0145540887547933,0.005721667015079521,0.0171899619657973,0.0106321041119997,0.007619945023572471,0.0242645108751611,0.0130664178894918,0.0134320953756775,0.0113728194295806,0.0133141550260374,0.0141228888521409,0.0160361434129691,0.0156498731673224,0.00674631280401621,0.0114595586285222,0.0190002527293207,0.0144748378320192,0.00669576693988474,0.0262457839445119,0.00634943416713208,0.00670637533112221,0.0435917516638014,0.0115200888608772,0.00694100798437446,0.0048929644525290104,0.0151899682060274,0.0363861579215041,0.0140973039085681,0.024286351680650003,0.0335568375761698,0.022549071609761002,0.00595005943819208,0.009978752016374359,0.0332479461842553,0.00737532800209672,0.00647236670088393,0.00851292195656176,0.00889794415618048,0.0154333371814753,0.013841454472841,0.0014533495995332302,0.0107980942337153,0.00885301449917473,0.0100012168448772,0.0144267880599437,0.008786868059694041,0.0319218972795717,0.0113796836827342,0.00611043335278205,0.00851104988751985,0.0187444032935935,0.0062820396816234605,0.008995291746359609,0.0229896318576229,0.0131437967432239,0.0194551655065039,0.0166745189562591,0.0131238280067769,0.0160342713439272,0.043519989017195004,0.00694412809944431,0.008739442310632421,0.0067138636072898395,0.00826144068193235,0.0134395836518451,0.00403680487736388,0.0123157182036874,0.0243587383502704,0.0095506722287918,0.00526363412282645,0.0383356058171425,0.0023594310158158603,0.00950387050274414,0.0067444407349743106,0.00837376482444673,0.012823048914043999,0.0167344251656001,0.031876343599552,0.009621810852384241,0.0072336747779258095,0.0041965547689398796,0.00774038146526844,0.00553882827198667,0.00862337403003423,0.008157852861613541,0.00936471337062911,0.0157753017931301,0.00947142130601777,0.00697907338822656,0.0126121291353225,0.00456660041622335,0.00753694996271463,0.0176380104898269,0.00898780347019198,0.0186383193812188,0.0174676522070134,0.0201621835813305,0.00666768590425615,0.0064211968137384895,0.0251506235549967,0.020751261306517,0.00837875700855848,0.0174314588722032,0.00947828555917142,0.0178395699233388,0.0164823198679567,0.00883741392382551,0.0102333534060736,0.007597480195069591,0.00705645224195868,0.00819342217340975,0.00680434694431531,0.00627080726737202,0.0161016658294358,0.0347474734868222,0.0157316201821523,0.0112505109188427,0.0790325147191428,0.0180105522291662,0.00449421374660297,0.0128979316757202,0.0194046196423724,0.0096704846474738,0.007171272476528929,0.0224673245949311,0.0165422260772977,0.0263755807314174,0.0145359920873882,0.00523804917925373,0.00831760275318954,0.00984146695330124,0.00713071098062097,0.00964427568088711,0.00663211659245993,0.00526488216885439,0.00906955048502189,0.0145054149597037,0.0127662628197728,0.0326651086892085,0.00754381421586828,0.00781588824995866,0.0151138373983233,0.0135132183674934,0.0111001213724762,0.0181565736144349,0.00597626840477877,0.0079188520472635,0.00703336339044184,0.012282644983946997,0.0115413056433521,0.0155968312111351,0.0193503296401571,0.0170876221915064,0.006573458429146871,0.00822711941616407,0.0135943413593093,0.0109235228595231,0.0111194660859092,0.0069403839613605,0.0157116514457053,0.00580715816799324,0.009499502341646359,0.0159519003060833,0.0044293153531502205,0.0122913813061426,0.0149497193456495,0.0119375602572223,0.00798499848674419,0.0666387936387094,0.00409733510971885,0.0134264791685517,0.00630637657916824,0.00892290507673923,0.0196217796512335,0.0117709461124926,0.0332248573327384,0.00614288254950843,0.00755379858409178,0.0171313038024842,0.00746518731610822,0.00623711002461771,0.00932602394376305,0.00692852752409509,0.00816409309175322,0.0101609667364532,0.0147500319811795,0.0110895129812387,0.006521664518987461,0.0134788971017251,0.004428691330136261,0.013999956318389,0.0186976015675458,0.00835379608799973,0.0126271056876578,0.0129085400669577,0.0093129194604697,0.0075375739857285904,0.00947828555917142,0.0119019909454261,0.0188598475511777,0.010624615835832,0.00630824864821015,0.0116492616247687,0.0116973113968443,0.0163818521627078,0.0100099531670728,0.0192117965310561,0.00943772406326346,0.00715567190117972,0.0123444232623299,0.0103687664001048,0.007380320186208471,0.0206938511892319,0.0164105572213503,0.0178489302685483,0.0102589383496463,0.0567268120848297,0.015458298102033998,0.00670949544619206,0.0769220688859005,0.00897469898689864,0.00844490344803916,0.00633445761479683,0.0225727844842918,0.0268660628203968,0.0215637392707043,0.00995753523389943,0.0127874796022477,0.0104835866346751,0.007472675592275841,0.0110477034393028,0.00679623464513371,0.0126289777566997,0.0137746840103463,0.0119275758889988,0.00938905026817389,0.0421309137881005,0.00729046087219697,0.0114152529945304,0.012502925107878,0.00304835242323737,0.0101647108745371,0.007843345262573279,0.00691604706381571,0.0215069531764331,0.0160274070907735,0.00756003881423147,0.00984396304535711,0.0360061279059972,0.0117378728927523,0.00941213911969073,0.0105715738796447,0.0218595261793255,0.00452666294332935,0.0101902958181098,0.0147475358891236,0.0113328819566866,0.00819342217340975,0.0124636116579979,0.0132692253690316,0.0168816945968967,0.0230738749645087,0.0076118327243908795,0.00941213911969073,0.0132642331849199,0.0193584419393387,0.00686487717667028,0.0161347390491761,0.007302317309462371,0.008100442744328409,0.0199225587439665,0.0047712799648051,0.0171119590890512,0.0183493967257512,0.00466831616750026,0.00434320017722254,0.0358033204264573,0.0027463252844764897,0.0115182167918353,0.00867766403224951,0.00887485530466364,0.0188367586996608,0.0142464454089067,0.0183425324725976,0.0050009204339456,0.00726425190561028,0.00740902524485103,0.0020243306573146398,0.00754256616984034,0.00778780721433006,0.00668515854864727,0.0148380192261491,0.00806300136349029,0.0176779479627209,0.006736952458806679,0.007457699039940591,0.017574984165416002,0.00598126058889052,0.0220910387175079,0.0081765735520326,0.011004021828325,0.0127294454619486,0.008303250223868259,0.0154501858028524,0.00519436756827592,0.00723929098505153,0.008892951972068729,0.0180916752209822,0.0064548940564928,0.0055219796506095105,0.0100224336273522,0.00977844062889039,0.0265484351062867,0.00783086480229391,0.0137459789517037,0.0191450260685614,0.0192972876839698,0.0117129119721935,0.00506769089644026,0.004597177543907821,0.017375296800946,0.0111369387303004,0.0103843669754541,0.0753875962945514,0.0119044870374819,0.0148280348579256,0.0551056002945389,0.0118246120916939,0.0119119753136496,0.007332894437146841,0.0052985794116087,0.00533976493053064,0.0346794549782996,0.0217166249091266,0.0135681323927226,0.0137965248158352,0.0139781155129001,0.0116467655327128,0.0126863878739848,0.0156629776506158,0.00895847438853545,0.0376597888930144,0.0086158857538666,0.0129753105294523,0.0226071057500601,0.00950449452575811,0.0104536335300046,0.00965613211815252,0.0236579605055834,0.00620216473583546,0.0117310086395986,0.00675879326429559,0.0435917516638014,0.0147537761192633,0.024245790184742003,0.00774100548828241,0.00930792727635795,0.0095806253334623,0.0144879423153126,0.0145166473739552,0.0170938624216461,0.010924770905551,0.035050124648597,0.0180236567124596,0.00435505661448794,0.00949825429561842,0.007971269980436879,0.00822587137013613,0.0119487926714737,0.0111700119500407,0.0264841607358479,0.00805426504129472,0.0176423786509246,0.0131743738709084,0.00730481340151825,0.00992258994511718,0.0200542275999139,0.0298407805279859,0.0114994961014162,0.0146969900249921,0.0190127331896,0.00649171141431696,0.0133902858337415,0.00988514856427905,0.0193259927426123,0.009967519602122929,0.00652915279515509,0.012862986386937999,0.0163880923928474,0.0048492828415512,0.0119263278429709,0.0161515876705533,0.0139787395359141,0.00395755395458985,0.008232735623289791,0.0145759295602822,0.0204180330170577,0.0332716590587861,0.00688983809722903,0.0322981831569948,0.0069928018945338705,0.0172380117378729,0.00857470023494467,0.0170901182835623,0.0161615720387768,0.0087956043818896,0.00452104673620363,0.0466026627062006,0.00506831491945423,0.0129784306445222,0.00615973117088558,0.0108798412485452,0.0134239830764959,0.0142695342604235,0.00841744643542454,0.00823211160027582,0.00311574690874599,0.006036174614119771,0.00818343780518625,0.00606487967276233,0.0109721966546126,0.00686737326872615,0.010505427440163998,0.007179384775710529,0.00849794540422651,0.00657657854421671,0.0051862552690943205,0.0107806215893242,0.00867766403224951,0.0337365562041928,0.0115462978274639,0.0186851211072664,0.0112742237933735,0.0106077672144549,0.0101753192657745,0.00525427377761692,0.0061977965747376795,0.00680871510541309,0.0110664241297219,0.0118583093344483,0.0124168099319503,0.013700425271683999,0.007369711794971,0.0214470469670921,0.00976346407655514,0.0152636029216758,0.0224030502244923,0.0148723404919173,0.010665801354754,0.0053803264264386105,0.00572291506110745,0.0164330220498532,0.0140149328707243,0.009304183138274141,0.0511224613963763,0.013580612853002,0.0177378541720619,0.0135113462984515,0.0079587895201575,0.0167674983853405,0.00343087853080022,0.00579405368469989,0.0110115101044927,0.0281652787354798,0.0113272657495608,0.0111313225231747,0.016257047559914,0.0217397137606435,0.0119600250857252,0.012242707511053002,0.0113927881660276,0.0088935759950827,0.0101285175397269,0.0085360108080786,0.0145877859975476,0.0127150929326274,0.0117528494450875,0.00680122682924546,0.006937887869304621,0.00921994003138836,0.0177827838290676,0.00575037207372208,0.0063850034789283,0.0028998349459128103,0.0093410004960983,0.0152486263693405,0.0305758796384411,0.0153328694762263,0.0212848009834603,0.00629576818793077,0.0117316326626126,0.0205815270467175,0.0135200826206471,0.00698094545726846,0.0592129197724812,0.144978018789333,0.0209621810852384,0.00562431942490039,0.0111955968936134,0.00789950733383047,0.0156829463870628,0.0105285162916808,0.00803242423580582,0.0173253749598285,0.00972290258064717,0.0157266279980406,0.0241684113310099,0.00816596516079513,0.0191013444575836,0.039563683108633,0.0332098807804032,0.0247843220457971,0.00860902150071295,0.0134632965263759,0.0149522154377053,0.0151157094673652,0.00492291755719951,0.0058059101219653,0.0103013719145962,0.0213534435149968,0.0234726256704347,0.0100798437446373,0.005036489745741821,0.0033815807126966802,0.00354070658125872,0.013240520310389,0.009892636840446679,0.00759311203397181,0.0128692266170776,0.0353683763857211,0.0817725997734797,0.0187156982349509,0.00245802665202293,0.0152080648734325,0.0180392572878088,0.00957750521839245,0.0193160083743888,0.008213390909856759,0.006058015419608679,0.0203244295649624,0.00378407555670653,0.0182476809744743,0.0169621935656987,0.0191063366416953,0.00267518666088405,0.00698094545726846,0.00991884580703336,0.023507570959217003,0.0336186158545527,0.00781276813488881,0.0344610469234105,0.00743398616540978,0.018673264670000998,0.00392947291896125,0.00620466082789133,0.0161802927291959,0.0121522241740275,0.0026102882674313,0.00526176205378454,0.0557483439989267,0.00483680238127182,0.0149066617576856,0.00622088542625452,0.00718063282173847,0.00744459455664725,0.009692325452962709,0.0045953054748659105,0.00679623464513371,0.0155007316669839,0.00612728197415921,0.0100330420185896,0.0108723529723776,0.00887173518959379,0.0122483237181787,0.0226539074761077,0.013180614101048,0.00390825613648631,0.0070714287942939295,0.0091631539371172,0.0165147690646831,0.00736534363387322,0.0115113525386816,0.00476628778069335,0.0162302145703134,0.0125403664887161,0.011603083921735001,0.0159993260551449,0.0103094842137778,0.007575015366566721,0.00705582821894471,0.005693585979450921,0.0062889039347771205,0.0131275721448607,0.00810543492844016,0.0585352307793111,0.0154102483299584,0.0147169587614391,0.0148523717554703,0.0115263290910169,0.0144061953004827,0.0113678272454688,0.0180798187837167,0.0127849835101919,0.0137341225144383,0.0125391184426882,0.0109915413680457,0.0192486138888802,0.0069921778715199,0.0151749916536922,0.0133472282457777,0.0421527545935894,0.006595299234635771,0.007497636512834591,0.0066127718790269,0.0125553430410514,0.0063388257758946204,0.00837875700855848,0.0093410004960983,0.0112698556322757,0.018253921204614,0.00987266810399968,0.0128604902948821,0.0113004327599602,0.0159444120299157,0.0120193072720522,0.010464865944256,0.008564715866721171,0.0131743738709084,0.00886299886739823,0.009564400735099109,0.00526488216885439,0.0327512238651362,0.0144661015098237,0.0157946465065632,0.0259737099104215,0.00868203219334729,0.00848546494394713,0.00588141690665552,0.0249677848119039,0.0126183693654622,0.0305758796384411,0.0118445808281409,0.0115119765616956,0.0141235128751548,0.0100991884580703,0.00921120370919279,0.0101690790356348,0.00650543992062427,0.0147537761192633,0.0105422447979882,0.0108879535477268,0.0102714188099257,0.0187986932958088,0.0113016808059881,0.0117453611689199,0.0104411530697252,0.0109010580310202,0.0105871744549939,0.00715941603926353,0.0123506634924696,0.010025553742422,0.0154919953447883,0.0161646921538466,0.0262289353231347,0.0159431639838877,0.009533823607414641,0.0101135409873916,0.0123394310782182,0.0129559658160193,0.0133491003148196,0.00573414747535889,0.00244492216872958,0.0737183347321849,0.00888483967288714,0.0114595586285222,0.0164005728531268,0.00838562126171213,0.0105534772122396,0.00565988873669661,0.0139381780400061,0.0151930883210973,0.0157328682281803,0.0117522254220736,0.0123369349861623,0.0175450310607455,0.00671136751523396,0.0152398900471449,0.0219662341147142,0.0175050935878515,0.00867329587115173,0.0172436279449986,0.0103943513436776,0.0295237768368897,0.0158738974293372,0.011882646231993,0.004279549829797721,0.008678288055263479,0.0177765435989279,0.0352966137391147,0.0121085425630497,0.019972480585084,0.0164698394076774,0.007525093525449221,0.0132061990446208,0.0488815947532145,0.00816846125285101,0.0070321153444139,0.0117341287546685,0.0071656562694032205,0.00769607583127666,0.0206570338314077,0.0486893956649121,0.0141316251743364,0.0077372613501986,0.032514095119828,0.0115350654132124,0.00964302763485917,0.00546020137222661,0.0617720381527671,0.00749514042077872,0.0191475221606173,0.0177802877370117,0.0100018408678912,0.0109834290688641,0.012662674999453997,0.0110115101044927,0.0133703170972945,0.00621152508104499,0.010545364913058002,0.00781651227297263,0.00641183646852896,0.009279222217715391,0.0146451961148327,0.0129166523661393,0.0112430226426751,0.00901526048280661,0.0163288102065204,0.00856658793576307,0.013400270201965,0.0347487215328501,0.0220236442319993,0.0114302295468657,0.0322307886714862,0.0131737498478944,0.00417908212454875,0.0117678259974228,0.01521867326467,0.00947329337505967,0.00420341902209354,0.0052985794116087,0.0461065644100954,0.0070202589071485,0.0114520703523546,0.0100530107550366,0.0153153968318352,0.0136704721670135,0.0128579942028262,0.028780565427252998,0.0136923129725024,0.0182264641919994,0.0130452011070168,0.0136230464179519,0.00982399430891011,0.009132576809432729,0.0209609330392105,0.0190645270997594,0.008235855738359629,0.0179188208461128,0.0100948202969726,0.0139363059709642,0.0330501308888272,0.013380925488532,0.00633757772986668,0.0250482837807058,0.0131444207662379,0.0115269531140308,0.0156236642007357,0.0056355518391518295,0.0171032227668556,0.008094202514188721,0.0157334922511942,0.008135388033110659,0.0169815382791317,0.0680415973741112,0.0212766886842787,0.00877875576051245,0.0383399739782403,0.152793283016278,0.00746518731610822,0.00974162327106624,0.0278875884942637,0.00993756649745243,0.0130327206467375,0.00601682990068674,0.0385359172046265,0.0165122729726272,0.00906892646200792,0.0420635193025919,0.00563492781613786,0.0102658026028,0.0115263290910169,0.0808378132985545,0.00802930412073597,0.025105693897991,0.0152136810805583,0.0110583118305403,0.0100573789161344,0.0075394460547705,0.0053466291836842894,0.0108030864178271,0.00815410872352972,0.0035051372694625,0.00491730135007379,0.00806237734047632,0.00840871011322898,0.0110427112551911,0.0151600151013569,0.00640746830743118,0.0181790384429378,0.0105322604297647,0.0119781217531303,0.009842714999329179,0.00528297883625948,0.0112405265506192,0.0168997912643018,0.008310738500035879,0.00941650728078852,0.00941713130380248,0.0128717227091335,0.0077528619255478205,0.00572915529124714,0.0055881260900902,0.0118851423240489,0.0106239918128181,0.0179662465951744,0.00828016137235141,0.0805208096074583,0.007605592494251191,0.0201809042717495,0.00820091044957738,0.00604179082124549,0.0158345839794572,0.0125191497062412,0.0179581342959928,0.007143191440900341,0.0104929469798846,0.00579966989182561,0.0215818359381094,0.0132317839881935,0.0143880986330776,0.0078034077896792795,0.0131843582391319,0.0319587146373958,0.013861423209288,0.008901688294264291,0.00664896521383709,0.0160604803105139,0.00938343406104817,0.007324158114951279,0.0121466079669018,0.00953132751535877,0.0069803214342545,0.012662674999453997,0.0266850961463459,0.0113422423018961,0.0125778078695542,0.00911448014202764,0.0121179029082593,0.00955504038988958,0.0238794886755424,0.0093528569333637,0.0114888877101788,0.0110945051653505,0.0121990259000752,0.0100629951232601,0.017057045063822,0.0198832452940864,0.012721333162767,0.00905519795570061,0.00563430379312389,0.0264854087818759,0.00725489156040075,0.0144186757607621,0.00900278002252723,0.0070608204030564595,0.00971666235050749,0.0147144626693832,0.0151219496975048,0.00932352785170717,0.0155949591420932,0.0122476996951648,0.0118389646210152,0.0224317552831348,0.0131038592703299,0.0127581505205912,0.0122115063603546,0.0142682862143956,0.007443346510619309,0.0107076108966899,0.0119244557739289,0.006227749679408179,0.0101085488032799,0.0104467692768509,0.00878125185256832,0.00900527611458311,0.00805426504129472,0.0116929432357465,0.007223690409702309,0.0038321253287821296,0.0120579966989183,0.0115400575973242,0.00935036084130783,0.00556503723857336,0.00885987875232839,0.00968795729186493,0.0121203990003151,0.0054302482675561104,0.0076336735298797795,0.0185596924814587,0.00599186898012799,0.00632884140767112,0.0120124430188985,0.00468641283490535,0.005768468741127171,0.00838312516965626,0.00634381796000637,0.013042705014961001,0.0118102595623727,0.0123094779735477,0.0103843669754541,0.00472884639985523,0.0130969950171762,0.0129097881129856,0.00997937603938833,0.0101959120252355,0.0120854537115329,0.0069222872939554,0.006503567851582371,0.0107138511268296,0.00672759211359715,0.00800995940730294,0.0124398987834671,0.0134339674447194,0.0059257225406473,0.0159157069712731,0.0107282036561508,0.00612104174401952,0.00858780471823801,0.0171294317334423,0.00988078040318127,0.0284816584035619,0.0066820384335774296,0.0102938836384286,0.0218139724993058,0.0202813719769985,0.0127369337381163,0.0161684362919305,0.0164798237759009,0.0064430376192274,0.009804025572463109,0.0103225886970711,0.0186589121406797,0.0143937148402033,0.04130221122555,0.0137035453867539,0.00763991376001947,0.0090233727819882,0.0111013694185042,0.0100105771900868,0.0101172851254754,0.013062049728393999,0.0150620434881638,0.0236442319992761,0.00922742830755598,0.00966549246336205,0.0046733083516120105,0.0115425536893801,0.0195693617180602,0.00875192277091179,0.0114707910427737,0.0125803039616101,0.008094826537202691,0.0154657863782016,0.0113397462098402,0.0145353680643742,0.0153160208548491,0.0253147416076705,0.0162951129637661,0.0074314900733539095,0.0102726668559536,0.0067981067141756205,0.0124305384382576,0.0077572300866456,0.0067569211952536795,0.00921245175522073,0.00777407870802275,0.0171256875953585,0.00874693058680004,0.00442619523808038,0.0047494391593162,0.0047375827220507895,0.00546082539524058,0.0156361446610151,0.0100005928218633,0.0095906097016858,0.0121715688874606,0.0252904047101257,0.00856721195877704,0.0102913875463727,0.0104355368625995,0.00434881638434825,0.0093909223372158,0.0117384969157663,0.00839685367596357,0.0102776590400654,0.00575474023481986,0.0080386644659455,0.00981962614781233,0.0045990496129497205,0.00650606394363824,0.0119144714057054,0.008757538978037509,0.0122102583143266,0.0108929457318386,0.0967216950961152,0.007675483071815691,0.0191019684805976,0.009646771772942991,0.00821838309396851,0.009875788219069521,0.0112654874711779,0.017955638203937,0.00877064346133085,0.0114757832268854,0.007549430422994001,0.0282682425327846,0.011184988502376,0.0182414407443347,0.009207459571108979,0.013001519496038998,0.0369421624269503,0.0129803027135641,0.0070714287942939295,0.0155494054620734,0.0178040006115426,0.00877251553037276,0.0068480285552931204,0.0131999588144811,0.00820527861067516,0.00691604706381571,0.0113097931051697,0.0194688940128112,0.0103793747913423,0.012842393627477,0.008892951972068729,0.0108567523970284,0.00851292195656176,0.0224398675823164,0.00911635221106955,0.009525087285219079,0.0096224348753982,0.0109778128617383,0.0127874796022477,0.0157041631695377,0.0181990071793848,0.0162607916979978,0.00948514981232508,0.00605115116645502,0.0222408042408604,0.007893267103690791,0.0149129019878253,0.007755982040617659,0.007535701916686691,0.0117684500204368,0.0142358370176692,0.014939734977426001,0.007848961469699,0.0135175865285912,0.0112586232180243,0.00987516419605555,0.0356379543277556,0.0185247471926765,0.0172217871395097,0.0100043369599471,0.0128941875376364,0.008552859429455759,0.0107893579115198,0.00680871510541309,0.008250208267680909,0.0148480035943726,0.0125547190180374,0.008207774702731041,0.00851729011765954,0.0122002739461031,0.0176367624437989,0.00798624653277213,0.00513695745099079,0.0119687614079207,0.00853164264698082,0.0116149403590004,0.0103506697326997,0.0131899744462576,0.0060318064530219895,0.0158857538666026,0.00869451265362666,0.0125547190180374,0.00779966365159547,0.0102970037534984,0.00962929912855186,0.0101628388054951,0.012122271069357,0.00446800478001629,0.0154620422401178,0.00585271184801295,0.0104686100823398,0.0253159896536984,0.0182838743092845,0.006909806833676029,0.0134870094009067,0.00512260492166951,0.00575474023481986,0.00985269936755268,0.0180848109678285,0.0139057288432797,0.0130252323705698,0.00792322020836128,0.00965987625623633,0.00795566940508766,0.0107637729679471,0.0129553417930053,0.00911198404997176,0.00816596516079513,0.007695451808262691,0.00974599143216402,0.0069048146495642795,0.0217403377836575,0.00665520544397677,0.0100124492591287,0.0154458176417546,0.0105141637623596,0.00694537614547225,0.0125715676394145,0.00769420376223475,0.00891853691564145,0.0184473683389443,0.0081066829744681,0.00718063282173847,0.0238888490207519,0.00793070848452891,0.009121968418195259,0.0175375427845779,0.0158208554731498,0.0107806215893242,0.010365022262021,0.0109865491839339,0.00638874761701212,0.00882867760162995,0.01298279880562,0.0198345714989969,0.00802243986758232,0.0193141363053469,0.005078299287677729,0.0100898281128608,0.00582525483539833,0.0127675108658007,0.00849170517408682,0.009310423368413829,0.0153946477546092,0.009633043266635671,0.0141646983940768,0.00968483717679508,0.00858530862618213,0.00448360535536551,0.0186951054754899,0.0145784256523381,0.00779217537542785,0.0114789033419553,0.0108480160748328,0.00904833370254695,0.0140311574690875,0.0106945064133965,0.0199568800097348,0.0125634553402329,0.0162932408947242,0.023607414641452003,0.00782212848009835,0.007450210763772971,0.0075169812262676295,0.0126452023550629,0.00784396928558725,0.0073104296086439705,0.0131044832933439,0.0067924905070499,0.0157047871925517,0.00861026954674088,0.00498594388161035,0.00400123556556766,0.007207465811339121,0.0144174277147341,0.00883304576272773,0.00918437071959214,0.0219718503218399,0.0253833841392071,0.00817719757504657,0.008418070458438509,0.00889981622522239,0.00408797476450931,0.015397767869678999,0.007907619633012071,0.009828986493021859,0.0103294529502248,0.00838437321568419,0.00910636784284605,0.011343490347924,0.00944022015531933,0.0089553542734656,0.013082642487855,0.0111001213724762,0.0109072982611599,0.0219081999744151,0.0108149428550925,0.00785083353874091,0.0210969700562557,0.00861713379989454,0.009394042452285641,0.0128367774203513,0.008225247347122159,0.0121160308392174,0.0178071207266124,0.0106545689405025,0.010424928471362,0.0278382906761601,0.0139787395359141,0.00904521358747711,0.007681099278941409,0.0154021360307768,0.015737236389278,0.0143731220807423,0.007266123974652191,0.009319159690609391,0.014499798752578001,0.00775410997157575,0.00725052339930297,0.0158308398413733,0.007770334569938941,0.006645221075753271,0.0118308523218336,0.0541820462338651,0.0128255450060998,0.013021488232486,0.010585926408965999,0.00744896271774503,0.00928608647086905,0.0128798350083151,0.0129272607573767,0.0142813906976889,0.0171818496666157,0.0119799938221722,0.0403880175100858,0.0191213131940306,0.00879622840490357,0.0134751529636413,0.00895909841154942,0.00597814047382067,0.0228011769074043,0.0099001251166143,0.0130183681174162,0.009257381412226479,0.007132583049662871,0.0101247734016431,0.0129054199518878,0.0208417446435425,0.006990305802478001,0.0128910674225665,0.0105871744549939,0.0108923217088246,0.0272635654802949,0.0194570375755458,0.0157110274226914,0.0171263116183725,0.0135144664135213,0.009001531976499291,0.0116954393278024,0.00732291006892334,0.00781276813488881,0.0307630865426317,0.0140392697682691,0.00903460519623964,0.00735411121962178,0.0134520641121245,0.0193153843513749,0.0117909148489396,0.00670075912399649,0.008954106227437671,0.007518853295309529,0.0113384981638123,0.0133072907728837,0.0143955869092452,0.00910262370476223,0.0491829978689614,0.0111980929856693,0.0144411405892649,0.009961279371983241,0.0138626712553159,0.0107587807838353,0.015198080505208999,0.00975285568531767,0.00510014009316664,0.0308498257415734,0.0103182205359734,0.0091132320959997,0.0124461390136068,0.0203687351989541,0.008075481823769659,0.0100985644350564,0.0427568088711112,0.0141840431075098,0.00659030705052402,0.0131325643289725,0.0072854686880852206,0.0167518978099912,0.009599346023881359,0.0136274145790497,0.0123918490113915,0.00906206220885426,0.00737595202511069,0.0105877984780079,0.00859841310947548,0.0105940387081476,0.013342236061666,0.00968858131487889,0.00730918156261603,0.00705707626497265,0.0070495879888050296,0.0155930870730513,0.0333721267640351,0.0121141587701754,0.0126040168361409,0.0139712512597465,0.0130776503037432,0.00659779532669165,0.0118077634703168,0.0126969962652223,0.009201219340969291,0.0272960146770213,0.0107113550347737,0.0257116202445546,0.0166245971151416,0.0089235290997532,0.0073796961631945,0.0197465842540273,0.0173116464535212,0.0109553480332355,0.0091612818680753,0.00966798855541792,0.0070464678737351795,0.009007148183625009,0.0112124455149906,0.0375212557839133,0.00848234482887729,0.0221409605586254,0.007461443178024409,0.0104767223815214,0.00876939541530292,0.0142913750659124,0.010006209028988999,0.0113416182788821,0.014520391512038999,0.00871260932103176,0.0201852724328473,0.0102321053600457,0.00908889519845492,0.0037066967029744102,0.0183568850019189,0.0116261727732519,0.00508578756384535,0.00985269936755268,0.0284111438029835,0.0094807816512273,0.0111076096486438,0.0104966911179684,0.0195887064314932,0.0143743701267703,0.0304897644625134,0.0190832477901785,0.009135072901488609,0.00909950358969239,0.00686425315365631,0.0127943438554014,0.00782836871023803,0.00741713754403262,0.0140854474713027,0.00717751270666862,0.0106464566413209,0.0137902845856955,0.00514444572715842,0.008453639770234729,0.014399955070343001,0.00556191712350352,0.00512759710578126,0.012942237309712,0.0211319153450379,0.0106015269843152,0.0267599789080221,0.00703461143646978,0.0309477973547664,0.00548953045388314,0.009646771772942991,0.00799186273989785,0.00972352660366114,0.0125478547648837,0.011123834247006999,0.0112193097681443,0.00890855254741795,0.0125846721227079,0.0067625374023794,0.0126689152295937,0.0103943513436776,0.00512447699071142,0.012941613286698,0.0110027737822971,0.0110408391861492,0.0249228551548981,0.0162433190536067,0.00774662169540813,0.0127749991419684,0.0144136835766503,0.00945769279971045,0.0161147703127291,0.0099800000624023,0.0105715738796447,0.0114907597792207,0.00611729760593571,0.0127456700603118,0.0156554893744481,0.0168049397661786,0.00608360036318139,0.0165734272279962,0.0142888789738566,0.0185203790315787,0.00804490469608519,0.00987142005797174,0.0161341150261622,0.00681058717445499,0.00635754646631368,0.0135700044617646,0.00833133125949685,0.00778780721433006,0.0108436479137351,0.0155512775311153,0.0126508185621886,0.0380903647726528,0.010086083974777,0.0070620684490844,0.00808172205390935,0.0144754618550332,0.0107955981416595,0.0151831039528738,0.0184454962699024,0.0166826312554407,0.0224386195362885,0.02684297396888,0.0122714125696956,0.0399861466890899,0.00981525798671455,0.013000895473025,0.0213815245506254,0.00971978246557733,0.0129603339771171,0.0261415721011791,0.0076355455989216905,0.0118782780708953,0.011324145634491,0.0109578441252913,0.00844365540201123,0.0137890365396676,0.0102034003014031,0.012262052224486,0.0161902770974194,0.019791513911033,0.0146607966901819,0.0155487814390595,0.0130545614522264,0.008347555857860041,0.00879685242791754,0.008921033007697329,0.00756752709039909,0.0633277275265912,0.0185883975401013,0.0103887351365518,0.008577820350014509,0.0135668843466947,0.035489436850430996,0.0215999326055145,0.00511012446139014,0.0109909173450317,0.00812914780297097,0.0122863891220308,0.0229659189830921,0.0134052623860768,0.00474070283712063,0.0249421998683311,0.0214189659314636,0.010745052277528,0.008845526223007109,0.0168411331009888,0.008920408984683359,0.0170470606955985,0.0132598650238221,0.00535661355190779,0.03996305783757299,0.0262670007269868,0.00966549246336205,0.00883304576272773,0.0177472145172714,0.018233952468167,0.012441770852508999,0.00572229103809348,0.0157434766194177,0.0275331434223294,0.0113927881660276,0.0163119615851433,0.0087937323128477,0.0122140024524104,0.0327019260470326,0.0116336610494195,0.00649857566747062,0.0132673532999897,0.007221194317646441,0.0301509199659283,0.00829576194770063,0.0131930945613274,0.0148779566990431,0.00911635221106955,0.0119019909454261,0.00940964302763486,0.007749117787464,0.0123519115384975,0.00858530862618213,0.0161559558316511,0.008851766453146791,0.007538198008742559,0.00581714253621674,0.011922583704887,0.0480803492032786,0.00573165138330302,0.00932227980567923,0.0247549929641405,0.0126146252273784,0.00892477714578114,0.0116748465683414,0.0174820047363347,0.0149116539417974,0.00858281253412626,0.00911947232613939,0.0135325630809264,0.0230170888702375,0.0108548803279865,0.0150008892327949,0.0148324030190233,0.0176261540525615,0.00979154511218374,0.007968773888381001,0.0073104296086439705,0.00900839622965295,0.0106626812396841,0.00811541929666366,0.0224716927560288,0.0142944951809823,0.0241684113310099,0.007316669838783659,0.00818031769011641,0.00920371543302517,0.0131799900780341,0.0116810867984811,0.009914477645935579,0.0161222585888968,0.00955379234386164,0.0271643458210739,0.00882306139450423,0.0125647033862609,0.0026995235584288397,0.0165060327424875,0.0166801351633848,0.009135072901488609,0.0117422410538501,0.0323075435022044,0.0109516038951517,0.0127313175309905,0.00814350033229226,0.017774671529886002,0.0143749941497842,0.0202751317468588,0.025524413340363997,0.008069241593629971,0.0113509786240917,0.0160473758272205,0.008313858615105729,0.0074283699582840595,0.0118695417486997,0.0109179066523973,0.0113852998898599,0.0214963447851957,0.0108124467630366,0.00610731323771221,0.010544740890043999,0.0176523630191481,0.0103544138707836,0.00728484466507125,0.0184635929373075,0.00797813423359054,0.030777439071953,0.0034339986458700603,0.00928171830977127,0.0103531658247556,0.00688110177503346,0.0127987120164992,0.0100517627090087,0.00859841310947548,0.0133047946808278,0.0124785882103332,0.00850855379546398,0.00839810172199151,0.00913881703957242,0.0122920053291565,0.0174445633554966,0.010804334463855,0.0123937210804334,0.0111955968936134,0.0100099531670728,0.00848109678284935,0.005888281159809171,0.00878624403668007,0.0106096392834968,0.0122171225674803,0.010066739261344,0.00835816424909751,0.0117129119721935,0.00596815610559717,0.0104299206554738,0.015998078009116998,0.019072639398941,0.0066146439480688,0.0300354757083441,0.0143831064489658,0.0242077247808899,0.00844802356310901,0.006990305802478001,0.0167905872368573,0.006520416472959521,0.007387808462376091,0.0145210155350529,0.0060455349593293,0.0073397586903005,0.0107026187125781,0.0158058789208146,0.013561892162583,0.018534731560900002,0.0108561283740144,0.007475171684331721,0.00917251428232673,0.0140823273562329,0.0123475433773998,0.0200685801292352,0.0213359708706057,0.0121441118748459,0.0266776078701783,0.0271786983503952,0.007928836415486999,0.0224473558584841,0.00920496347905311,0.0123681361368607,0.0201671757654422,0.00791385986315175,0.0109497318261097,0.006224629564338329,0.00789077101163491,0.0361402928540005,0.007043347758665341,0.0096804690156973,0.0103762546762725,0.0161715564070003,0.00710512603704825,0.0129578378850612,0.0202464266882163,0.0265584194745102,0.0213690440903461,0.0163749879095541,0.0142308448335575,0.00935036084130783,0.00806799354760204,0.0101229013326011,0.007609336632335,0.0488766025691027,0.0184155431652319,0.0124966848777383,0.0094208754418863,0.0122345952118714,0.0106620572166702,0.0175063416338795,0.00405864568285278,0.0105016833020802,0.00806799354760204,0.0166127406778762,0.0116111962209166,0.00415786534207382,0.0167625062012287,0.0123737523439864,0.0053310286083350705,0.01565736144349,0.0100773476525814,0.0124149378629084,0.00691916717888556,0.030796159762372002,0.0224042982705202,0.0089035603633062,0.007293580987266809,0.0258863466884659,0.0178489302685483,0.0228960284055276,0.0135157144595493,0.0122801488918911,0.0166514301047423,0.0088536385221887,0.00980277752643518,0.0071981054661295904,0.0166851273474966,0.0112367824125354,0.00236691929198349,0.0239306585626878,0.0106314800889857,0.00883803794683948,0.014480454039145,0.0997538229209893,0.00985644350563649,0.00551137125937205,0.0112617433330941,0.00415100108892016,0.0448504060829763,0.0103406853644762,0.00769607583127666,0.0121497280819717,0.0118957507152864,0.00863772655935551,0.0102002801863333,0.00789139503464888,0.0105771900867704,0.00797064595742291,0.00961993878334233,0.00301964736459481,0.00681745142760865,0.0076074645632930905,0.007585623757804191,0.0373602578463094,0.006889214074215061,0.00747017950021997,0.0104105759420407,0.0146158670331762,0.00568172954218552,0.00853538678506463,0.020052355530871997,0.0108324154994836,0.00628640784272124,0.014878580722057,0.0143843544949938,0.0434781794752591,0.00851729011765954,0.00543461642865389,0.0124611155659421,0.0193977553892188,0.0058645682852783605,0.00415848936508778,0.00659717130367768,0.0086839042623892,0.0123163422267013,0.00642806106689215,0.0143706259886865,0.00338220473571065,0.0161678122689165,0.0048411705423696,0.00867142380210982,0.0065547377387278,0.0143444170220998,0.00958998567867183,0.0148823248601408,0.0171824736896297,0.0105559733042955,0.0181802864889657,0.009422123487914241,0.009032109104183759,0.0234432965887782,0.0178907398104842,0.0050807953797336,0.0170189796599699,0.0459112452067232,0.0116648622001179,0.006351930259187961,0.010246457889366999,0.0155107160352074,0.016836764939891,0.0064087163534591205,0.0188348866306189,0.00566176080573852,0.00753195777860287,0.0113135372432535,0.009175010374382609,0.00897844312498245,0.009956911210885459,0.00924739704400298,0.0131269481218467,0.0132349041032633,0.00738406432429228,0.0065628500379094,0.0119600250857252,0.00423274810375007,0.0120186832490382,0.0106551929635165,0.00806424940951822,0.0068923341892849,0.00877438759941467,0.010306364098708,0.00925550934318458,0.00823211160027582,0.0117478572609758,0.0106682974468098,0.0225609280470264,0.0111275783850908,0.010644584572278999,0.00876315518516323,0.00978093672094627,0.00795941354317147,0.0123213344108131,0.00827392114221173,0.00920933164015089,0.00854037896917638,0.00959747395483945,0.00920184336398326,0.00877251553037276,0.0101185331715034,0.0121129107241475,0.00905519795570061,0.00941650728078852,0.00657221038311893,0.007383440301278309,0.0182726418950331,0.0117921628949676,0.00756191088327338,0.0140742150570513,0.0121272632534688,0.0117678259974228,0.0175238142782706,0.0111668918349709,0.0115126005847096,0.0143263203546947,0.00928171830977127,0.008917912892627479,0.0091431852006702,0.0044717489181001,0.0121653286573209,0.00967797292364142,0.0154258489053076,0.00182277122380273,0.00469452513408694,0.0101491102991878,0.00801245549935882,0.0116548778318944,0.00603243047603596,0.00642930911292009,0.00800309515414929,0.0100274258114639,0.00998499224651405,0.008564715866721171,0.0340229827676045,0.0108954418238945,0.0101010605271122,0.00905644600172854,0.007786559168302129,0.0072336747779258095,0.0113310098876447,0.0160748328398351,0.010486082726731,0.009014636459792641,0.0081665891838091,0.0100218096043382,0.00879622840490357,0.009060190139812359,0.0148823248601408,0.0112467667807589,0.005078299287677729,0.0229384619704775,0.000604054277521755,0.00863023828318788,0.0513302610600279,0.007683595370997279,0.0172455000140405,0.00986954798892983,0.0101634628285091,0.0244186445596114,0.0127325655770185,0.0458207618696978,0.0104442731847951,0.0129391171946421,0.0149884087725155,0.0127088527024877,0.0112573751719963,0.00786331399902028,0.00914630531574004,0.0132261677810678,0.015697298916384,0.0140623586197859,0.0065410092324204895,0.0085940449483777,0.0119999625586192,0.0092230601464582,0.0159749891576001,0.0097122941894097,0.0355917766247219,0.0126795236208311,0.0119662653158648,0.0038208929145306897,0.0782169166398857,0.046434176492429,0.007722908820877309,0.0148661002617777,0.00921120370919279,0.0260554569252514,0.021530666050964,0.00450669420688235,0.008148492516404,0.0390619686054022,0.0589227490709857,0.0153740549951482,0.00777969491514847,0.0371948917476077,0.0330607392800647,0.0104867067497449,0.00727298822780584,0.0160866892771005,0.0188579754821358,0.00977844062889039,0.0091631539371172,0.0207949429174948,0.0222794936677265,0.056341165862197,0.0144579892106421,0.00979092108916977,0.0438756821351571,0.0216766874362327,0.0177503346323412,0.0179818471705236,0.0123681361368607,0.010026177765435998,0.0490800340716566,0.00643118118196199,0.0109915413680457,0.00741651352101865,0.0145896580665895,0.010725707564095001,0.0300504522606794,0.017216794955397997,0.0100498906399668,0.00413852062864078,0.0364279674634401,0.0339861654097803,0.00562057528681658,0.0179774790094259,0.012662050976440001,0.0247574890561964,0.0198838693171004,0.0201459589829673,0.0105834303169101,0.0064848471611633,0.0106402164111812,0.0424223325356239,0.0776964814462358,0.0135313150348985,0.0121122867011335,0.00912446451025114,0.0367755482822207,0.0155338048867242,0.007043971781679309,0.014618987148246002,0.0120274195712338,0.00854100299219035,0.0094027787744812,0.0126857638509708,0.0164080611292944,0.0631174317708837,0.0121921616469215,0.012402457402629,0.0568715854240704,0.0136991772256561,0.0196049310298564,0.0126895079890546,0.0107787495202823,0.00856846000480498,0.0502276123943451,0.0044817332863236,0.00803804044293154,0.006719479814415561,0.0110932571193226,0.0123531595845255,0.0150888764777645,0.009282342332785229,0.0314257989834665,0.0207656138358383,0.0154058801688606,0.00920059531795533,0.0303549754914961,0.0339768050645708,0.00520123182142957,0.0155656300604366,0.0257877510522588,0.030857314017741,0.0264729283215965,0.033632968383874,0.0282919554073154,0.0184898019038942,0.0223961859713386,0.0156604815585599,0.0389402841176783,0.0732833906914487,0.0119818658912141,0.0107581567608213,0.0189035291621555,0.0299749454759892,0.0156136798325122,0.00549514666100886,0.0103974714587474,0.0128174327069182,0.0100399062717433,0.00996065534896927,0.0371618185278673,0.0132442644484729,0.0497527308807149,0.0125771838465403,0.0113759395446504,0.0149434791155098,0.0110876409121968,0.0144505009344745,0.0067069993541361795,0.0163431627358417,0.00909513542859461,0.0325920979965741,0.0051550541183958895,0.0157403565043479,0.0180398813108227,0.0174938611736001,0.0243643545573961,0.0197759133356838,0.0137441068826618,0.004986567904624321,0.0580272760459406,0.0298501408731954,0.005888281159809171,0.0170295880512073,0.022028636416111,0.0308598101097969,0.0219656100917002,0.0374008193422173,0.0320236130308486,0.0172866855329625,0.0281527982752004,0.0142227325343759,0.00893164139893479,0.015597455234148998,0.080027207403409,0.0490438407368464,0.012581552007637999,0.0369608831173694,0.0291131696936983,0.0230819872636903,0.0199200626519106,0.00602369415384039,0.0110027737822971,0.0103594060548953,0.0137191459621031,0.00899653979238754,0.12064049722153801,0.0159494042140274,0.0410207768462501,0.0127232052318089,0.0129378691486142,0.0236548403905136,0.0145359920873882,0.0120018346276611,0.00617845186130464,0.0124754680952634,0.0073915526004599,0.0334083200988453,0.00640934037647308,0.0188873045637923,0.0118445808281409,0.020031762771411,0.0222420522868883,0.0156704659267834,0.0177971363583889,0.0062514625539389895,0.0285066193241207,0.0242613907600912,0.00591137001132602,0.0152973001644301,0.0216885438734981,0.0282395374741421,0.0352042583330473,0.0366869370142371,0.013580612853002,0.0471181057157388,0.00569296195643695,0.0107712612441147,0.0026982755124009,0.0384435617985591,0.0006889214074215059,0.0146227312863298,0.10498937600818699,0.0178451861304645,0.0106439605492651,0.0553533374310845,0.0335025475739545,0.0210145990184118,0.0159356757077201,0.00594943541517811,0.00926798980346395,0.012443018898536998,0.0108879535477268,0.009483277743283171,0.0203169412887947,0.0116074520828328,0.0382838119069831,0.0122676684316118,0.0119462965794178,0.0151743676306782,0.00745707501692662,0.0131232039837629,0.0069141749947738106,0.0133129069800094,0.0073815682322364,0.0218239568675293,0.0106377203191254,0.00478812858618226,0.00564428816134739,0.004672060305584071,0.0134932496310464,0.006668933950284089,0.00946705314491999,0.00714256741788637,0.00962305889841217,0.00598126058889052,0.00747329961528981,0.00963803545074742,0.0108686088342938,0.00880059656600135,0.00927423003360364,0.00421527545935894,0.00685738890050265,0.0128542500647424,0.0104754743354935,0.0172249072545796,0.0214451748980502,0.0417721005550685,0.008369396663348941,0.00959560188579755,0.0157135235147472,0.0271606016829901,0.0114296055238517,0.0119968424435493,0.0102352254751155,0.022389321718184998,0.00451792662113379,0.0139462903391877,0.0132155593898303,0.008715105413087629,0.00979154511218374,0.018074202576591,0.0170601651788918,0.00854037896917638,0.00646924658581409,0.00687735763694965,0.0193022798680815,0.0220255163010412,0.0123974652185173,0.00884864633807695,0.0102576903036184,0.0251924330969326,0.0098102658026028,0.0120186832490382,0.0451617935669468,0.0136848246963348,0.0207874546413272,0.00473321456095301,0.0335499733230162,0.0137459789517037,0.009357225094461479,0.0130739061656594,0.0135188345746191,0.00666706188124218,0.0244897831832038,0.00982773844699393,0.00837002068636291,0.006004973463421329,0.00791198779410985,0.009106991865860009,0.0148342750880652,0.00929232670100873,0.0050190171013507,0.0167606341321868,0.00654163325543446,0.0152873157962066,0.009699813729130329,0.0153366136143101,0.0325708812140992,0.0118589333574622,0.00862711816811804,0.0076998199693604705,0.0130526893831845,0.007446466625689159,0.00687548556790774,0.00787517043628569,0.0122645483165419,0.00833694746662257,0.0099600313259553,0.00802743205169407,0.0138570550481902,0.00817470148299069,0.0243812031787732,0.0274158270957033,0.0107806215893242,0.0070140186770088105,0.0149965210716971,0.00597626840477877,0.0066283724543761205,0.0148267868118976,0.00666830992727012,0.00569982620959061,0.00929919095416239,0.0111974689626553,0.0101335097238386,0.009332264173902729,0.00432073534871966,0.0111500432135937,0.0102658026028,0.0145890340435755,0.0135338111269544,0.0776334551218249,0.008247712175625041,0.0213521954689689,0.0130345927157794,0.008637102536341541,0.00523617711021182,0.00791385986315175,0.019672325515365,0.007716668590737629,0.0085141700025897,0.026642662581396002,0.0077709585929529095,0.0102726668559536,0.0115144726537515,0.0117397449617942,0.00262276872771068,0.0072598837445125,0.00669077475577299,0.00826705688905807,0.0233347165843476,0.0148086901444925,0.00645801417156265,0.0116898231206767,0.0167281849354604,0.00734787098948209,0.01206298888303,0.0183231877591646,0.0455050062246296,0.00351574566069997,0.0185784131718778,0.034770562338339,0.0105753180177285,0.0170520528797102,0.0083562921800556,0.00717252052255687,0.0167656263162985,0.0264616959073451,0.0168330208018072,0.0142040118439568,0.0113952842580834,0.0104817145656332,0.0062133971500869,0.0133746852583923,0.0179656225721605,0.0134944976770743,0.030997095172870002,0.00491168514294807,0.0058676884003482106,0.00870886518294795,0.0207837105032434,0.00682868384186009,0.0111213381549512,0.0115506659885617,0.00724241110012137,0.0129366211025863,0.00934037647308433,0.0161341150261622,0.0211169387927027,0.0118776540478813,0.00882493346354614,0.00679186648403593,0.0199887051834472,0.010565957672519001,0.0132792097372551,0.0126327218947835,0.00314257989834665,0.0104336647935576,0.0135955894053373,0.0128929394916085,0.00597938851984861,0.0104505134149347,0.00925925348126839,0.0384235930621121,0.012782487418136,0.05134835772743299],\"xaxis\":\"x\",\"y\":[1,1,1,1,1,1,0,0,0,0,0,0,0,0,0,0,0,0,0,0,0,0,0,0,0,0,0,0,0,1,1,0,0,0,0,0,0,0,0,0,0,0,0,0,0,0,0,0,0,0,0,0,0,0,1,1,1,1,0,0,0,0,0,0,0,0,0,0,0,0,0,0,0,0,0,0,0,0,0,0,0,1,0,0,0,0,0,0,0,0,0,0,0,0,0,0,0,0,0,0,0,0,0,0,0,1,1,0,0,0,0,0,0,0,0,0,0,0,0,0,0,0,0,0,0,0,0,0,0,0,0,0,1,0,0,0,0,0,0,0,0,0,0,0,0,0,0,0,0,0,0,0,0,0,0,0,0,0,1,0,0,0,0,0,0,0,0,0,0,0,0,0,0,0,0,0,0,0,0,0,0,0,0,0,1,1,1,0,0,0,0,0,0,0,0,0,0,0,0,0,0,0,0,0,0,0,0,0,0,0,0,0,0,0,0,0,0,0,0,0,0,0,0,0,0,0,0,0,0,0,1,1,1,1,1,1,1,0,0,0,0,0,0,0,0,0,0,0,0,0,0,0,0,0,0,0,0,0,0,0,0,0,0,0,0,0,0,0,0,0,0,0,0,0,0,0,0,0,0,0,0,0,0,0,1,0,0,0,0,0,0,0,0,0,0,0,0,0,0,0,0,0,0,0,0,0,0,0,0,0,0,0,0,0,0,0,0,0,0,0,0,0,0,0,0,0,0,0,0,0,0,0,0,0,0,0,0,0,0,0,0,0,0,0,0,0,0,0,0,0,0,0,0,0,0,0,0,0,0,0,0,0,0,0,0,0,0,0,0,0,0,0,0,0,0,0,0,0,0,1,0,0,0,0,0,0,0,0,0,0,0,0,0,0,0,0,0,0,0,0,0,0,0,0,0,0,0,0,0,0,0,0,0,0,0,0,0,0,0,0,0,0,0,0,0,0,0,1,0,0,0,0,0,0,0,0,0,0,0,0,0,0,0,0,0,0,0,0,0,0,0,0,0,0,0,0,0,0,0,0,0,0,0,0,0,0,0,0,0,0,0,0,0,0,0,0,1,0,0,0,0,0,0,0,0,0,0,0,0,0,0,0,0,0,0,0,0,0,0,0,0,0,0,0,0,0,0,0,0,0,0,0,0,0,0,0,0,0,0,0,0,0,0,0,0,1,1,1,0,0,0,0,0,0,0,0,0,0,0,0,0,0,0,0,0,0,0,0,0,0,0,0,0,0,0,0,0,0,0,0,0,0,0,0,0,0,0,0,0,0,0,0,0,0,0,0,1,0,0,0,0,0,0,0,0,0,0,0,0,0,0,0,0,0,0,0,0,0,0,0,0,0,0,0,0,0,0,0,0,0,0,0,0,0,0,0,0,0,0,0,0,0,0,0,0,0,0,0,0,0,0,0,0,0,0,0,0,0,0,0,0,0,0,0,0,1,0,0,0,0,0,0,0,0,0,0,0,0,0,0,0,0,0,0,0,0,0,0,0,0,0,0,0,0,0,0,0,0,0,0,0,0,0,0,0,0,0,0,0,0,0,0,0,0,0,0,0,0,0,0,0,0,0,0,0,0,0,0,0,0,0,0,0,0,0,1,0,0,0,0,0,0,0,0,0,0,0,0,0,0,0,0,0,0,0,0,0,0,0,0,0,0,0,0,0,0,0,0,0,0,0,0,0,0,0,0,0,0,0,0,0,0,0,0,0,0,0,0,0,0,0,0,0,0,0,0,0,0,0,0,0,0,0,0,0,0,0,0,0,0,0,0,1,0,0,0,0,0,0,0,0,0,0,0,0,0,0,0,0,0,0,0,0,0,0,0,0,0,0,0,0,0,0,0,0,0,0,0,0,0,0,0,0,0,0,0,0,0,0,0,0,0,0,0,0,0,0,0,0,0,0,0,0,0,0,0,0,0,0,0,0,0,0,0,0,0,0,0,0,1,1,0,0,0,0,0,0,0,0,0,0,0,0,0,0,0,0,0,0,0,0,0,0,0,0,0,0,0,0,0,0,0,0,0,0,0,0,0,0,0,0,0,0,0,0,0,0,0,0,0,0,0,0,0,0,0,0,0,0,0,0,0,0,0,0,0,0,0,0,0,0,0,0,0,0,0,0,1,1,0,0,0,0,0,0,0,0,0,0,0,0,0,0,0,0,0,0,0,0,0,0,0,0,0,0,0,0,0,0,0,0,0,0,0,0,0,0,0,0,0,0,0,0,0,0,0,0,0,0,0,0,0,0,0,0,0,0,0,0,0,0,0,0,0,0,0,0,0,0,0,0,0,0,0,0,1,1,0,0,0,0,0,0,0,0,0,0,0,0,0,0,0,0,0,0,0,0,0,0,0,0,0,0,0,0,0,0,0,0,0,0,0,0,0,0,0,0,0,0,0,0,0,0,0,0,0,0,0,0,0,0,0,0,0,0,0,0,0,0,0,0,0,0,0,0,0,0,0,0,0,0,0,0,0,1,0,0,0,0,0,0,0,0,0,0,0,0,0,1,0,0,0,0,0,0,0,0,0,0,0,0,0,1,0,0,0,0,0,0,0,0,0,0,0,0,0,0,1,0,0,0,0,0,0,0,0,0,0,0,0,0,0,0,0,0,0,1,0,0,0,0,1,0,0,0,0,1,1,1,1,0,0,0,0,0,0,0,0,0,0,0,0,0,0,0,0,0,0,0,0,0,0,0,0,0,0,0,0,0,0,1,1,1,1,1,1,0,0,0,0,0,0,0,0,0,0,0,0,0,0,0,0,0,0,0,0,0,0,0,0,0,0,0,0,0,0,0,1,0,0,0,0,0,0,0,0,0,0,0,0,0,0,0,0,0,0,0,0,0,0,0,0,0,0,0,0,0,0,0,1,0,0,0,0,0,0,0,0,0,0,0,0,0,0,0,0,0,0,0,0,0,0,0,0,0,0,0,0,0,0,0,1,0,0,0,0,0,0,0,0,0,0,0,0,0,0,0,0,0,0,0,0,0,0,0,0,0,0,0,0,0,0,0,0,1,0,0,0,0,0,0,0,0,0,0,0,0,0,1,1,0,0,0,0,0,0,0,0,0,0,0,0,0,0,0,0,0,0,0,0,0,0,0,0,0,0,0,0,0,0,0,0,0,0,0,0,0,0,0,0,0,0,0,0,0,0,0,0,0,0,0,0,0,0,0,0,0,0,0,0,0,0,0,0,0,0,0,0,0,0,0,0,0,0,0,0,0,0,0,0,0,1,1,1,1,1,1,1,0,0,0,0,0,0,0,0,0,0,0,0,0,0,0,0,0,0,0,0,0,0,0,0,0,0,0,0,0,0,0,0,0,0,0,0,0,0,0,0,0,0,0,0,0,0,0,0,0,0,0,0,0,0,0,0,0,0,0,0,0,0,0,0,0,0,0,0,0,0,0,0,0,0,0,0,0,0,0,0,0,0,0,0,0,0,1,1,0,0,0,0,0,0,0,0,0,0,0,0,0,0,0,0,0,0,0,0,0,0,0,0,0,0,0,0,0,0,0,0,0,0,0,0,0,0,0,0,0,0,0,0,0,0,0,0,0,0,0,0,0,0,0,0,0,0,0,0,0,0,0,0,0,0,0,0,0,0,0,0,0,0,0,0,0,0,0,0,0,0,0,0,0,0,0,0,0,0,0,0,0,0,0,0,0,0,0,0,0,0,1,1,1,0,0,0,0,0,0,0,0,0,0,0,0,0,0,0,0,0,0,0,0,0,0,0,0,0,0,0,0,0,0,0,0,0,0,0,0,0,0,0,0,0,0,0,0,0,0,0,0,0,0,0,0,0,0,0,0,0,0,0,0,0,0,0,0,0,0,0,0,0,0,0,0,0,0,0,0,0,0,0,0,0,0,0,0,0,0,0,0,0,0,0,0,0,0,0,0,0,0,0,0,0,0,0,0,0,0,0,0,0,1,1,1,1,1,1,1,1,1,1,0,0,0,0,0,0,0,0,0,0,0,0,0,0,0,0,0,0,0,0,0,0,0,0,0,0,0,0,0,0,0,0,0,0,0,0,0,0,0,0,0,0,0,0,0,0,0,0,0,0,0,0,0,0,0,0,0,0,0,0,0,0,0,0,0,0,0,0,0,0,0,0,0,0,0,0,0,0,0,0,0,0,0,0,0,0,0,0,0,0,0,0,0,0,0,0,0,0,0,0,1,1,1,1,1,1,1,1,1,1,1,1,1,0,0,0,0,0,0,0,0,0,0,0,0,0,0,0,0,0,0,0,0,0,0,0,0,0,0,0,0,0,0,0,0,0,0,0,0,0,0,0,0,0,0,0,0,0,0,0,0,0,0,0,0,0,0,0,0,0,0,0,0,0,0,0,0,0,0,0,0,0,0,0,0,0,0,0,1,1,1,1,1,1,1,0,0,0,0,0,0,0,0,0,0,0,0,0,0,0,0,0,0,0,0,0,0,0,0,0,0,0,0,0,0,0,0,0,0,0,0,0,0,0,0,0,0,0,0,0,1,1,1,1,1,0,0,0,0,0,0,0,0,0,0,0,0,0,0,0,0,0,1,1,1,1,1,1,0,0,0,0,0,0,0,0,0,0,0,0,0,1,1,1,1,1,1,0,0,0,0,0,0,0,0,0,0,0,0,0,0,0,0,0,0,0,0,0,0,0,0,0,0,0,0,0,0,0,0,0,0,0,0,0,0,0,0,0,0,0,0,0,0,1,1,1,1,1,1,1,1,0,0,0,0,0,0,0,0,0,0,0,0,0,0,0,0,0,0,0,0,0,0,0,0,0,0,0,0,0,0,0,0,0,0,0,0,0,0,0,0,0,0,0,0,0,0,1,1,1,0,0,0,0,0,0,0,0,0,0,0,0,0,0,0,0,0,0,0,0,0,0,0,0,0,0,0,0,0,0,0,0,0,0,0,0,0,0,0,0,0,0,0,0,0,0,0,1,1,0,0,0,0,0,0,0,0,0,0,0,0,0,0,0,0,0,0,0,0,0,0,0,0,0,0,0,0,0,0,0,0,0,0,0,0,0,0,0,0,0,0,0,0,0,0,1,1,0,0,0,0,0,0,0,0,0,0,0,0,0,0,0,0,0,0,0,0,0,0,0,0,0,0,0,0,0,0,0,0,0,0,0,0,0,0,0,0,0,0,0,0,0,0,1,1,1,0,0,0,0,0,0,0,0,0,0,0,0,0,0,0,0,0,0,0,0,0,0,0,0,0,0,0,0,0,0,0,0,0,0,0,0,0,0,0,0,0,0,0,0,0,0,0,1,1,0,0,0,0,0,0,0,0,0,0,0,0,0,0,0,0,0,0,0,0,0,0,0,0,0,0,0,0,0,0,0,0,0,0,0,0,0,0,0,0,0,0,0,0,0,0,0,1,0,0,0,0,0,0,0,0,0,0,0,0,0,0,0,0,0,0,0,0,0,0,0,0,0,0,0,0,0,0,0,0,0,0,0,0,0,0,0,0,0,0,0,0,0,0,0,1,1,0,0,0,0,0,0,0,0,0,0,0,0,0,0,0,0,0,0,0,0,0,0,0,0,0,0,0,0,1,0,0,0,0,0,0,0,0,0,0,0,0,0,0,0,0,0,0,0,0,0,0,0,0,0,1,0,0,0,0,0,0,0,0,0,0,0,0,0,0,0,0,0,0,0,0,0,0,0,0,0,1,0,0,0,0,0,0,0,0,0,0,0,0,1,1,0,0,0,0,0,0,0,0,0,0,0,0,0,0,0,0,0,0,1,0,0,0,0,0,0,0,0,0,0,0,0,0,0,0,0,0,0,0,1,1,0,0,0,0,0,0,0,0,0,0,0,0,0,0,0,0,0,0,0,0,0,0,0,0,0,0,0,0,0,0,0,0,0,0,0,0,0,0,0,0,0,0,0,0,0,0,0,0,0,0,0,0,0,0,0,0,0,0,0,0,0,0,1,0,0,0,0,0,0,0,0,0,0,0,0,0,0,0,0,0,0,0,0,0,0,0,0,0,0,0,0,0,0,0,0,0,0,0,0,0,0,0,0,0,0,0,0,0,0,0,0,0,0,0,0,0,0,0,0,0,0,0,0,0,0,0,1,0,0,0,0,0,0,0,0,0,0,0,0,0,0,0,0,0,0,0,0,0,0,0,0,0,0,0,0,0,0,0,0,0,0,0,0,0,0,0,0,0,0,0,0,0,0,0,0,0,0,0,0,0,0,0,0,0,0,0,0,0,0,0,0,0,0,1,0,0,0,0,0,0,0,0,0,0,0,0,0,0,0,0,0,0,0,0,0,0,0,0,0,0,0,0,0,0,0,0,0,0,0,0,0,0,0,0,0,0,0,0,0,0,0,0,0,0,0,0,0,0,0,0,0,0,0,0,0,0,0,0,0,0,1,1,0,0,0,0,0,0,0,0,0,0,0,0,0,0,0,0,0,0,0,0,0,0,0,0,0,0,0,0,0,0,0,0,0,0,0,0,0,0,0,0,0,0,0,0,0,0,0,0,0,0,0,0,0,0,0,0,0,0,0,0,0,0,0,0,0,0,0,1,1,1,0,0,0,0,0,0,0,0,0,0,0,0,0,0,0,0,0,0,0,0,0,0,0,0,0,0,0,0,0,0,0,0,0,0,0,0,0,0,0,0,0,0,0,0,0,0,0,0,0,0,0,0,0,0,0,0,0,0,0,0,0,0,0,0,0,0,1,0,0,0,0,0,0,0,0,0,0,0,0,0,0,0,0,0,0,0,0,0,0,0,0,0,0,0,0,0,0,0,0,0,0,0,0,0,0,0,1,0,0,0,0,0,0,0,0,0,0,0,0,0,0,0,0,0,0,0,0,0,0,0,0,0,0,0,0,0,0,0,0,0,0,0,0,0,0,0,0,0,0,1,0,0,0,0,0,0,0,0,0,0,0,0,0,0,0,0,0,0,0,0,0,0,0,0,0,0,0,0,0,0,0,0,0,0,0,0,0,0,0,0,0,0,0,0,0,0,0,0,0,0,0,0,0,0,1,0,0,0,0,0,0,0,0,0,0,0,0,0,0,0,0,0,0,0,0,0,0,0,0,0,0,0,0,0,0,0,0,0,0,0,0,0,0,0,0,0,0,0,0,0,0,0,0,0,0,0,0,0,0,0,0,0,0,0,0,0,0,0,0,0,0,0,0,1,0,0,0,0,0,0,0,0,0,0,0,0,0,0,0,0,0,0,0,0,0,0,0,0,0,0,0,0,0,0,0,0,0,0,0,0,0,0,0,0,0,0,0,0,0,0,0,0,0,0,0,0,0,0,0,0,0,0,0,0,0,0,0,0,0,0,0,0,0,0,0,0,0,0,0,0,0,0,0,0,0,0,0,0,0,0,0,0,0,0,0,0,0,0,0,0,0,0,0,0,0,0,0,0,0,0,0,0,0,0,0,0,0,0,0,0,0,0,0,1,0,0,0,0,0,0,0,0,0,0,0,0,0,0,0,0,0,0,0,0,0,0,0,0,0,0,0,0,0,0,0,0,0,0,0,0,0,0,0,0,0,0,0,0,0,0,0,0,0,0,0,0,0,0,0,0,0,0,0,0,0,0,0,0,0,0,0,0,0,0,0,0,0,0,0,0,0,0,0,0,0,0,0,0,0,0,0,0,0,0,0,0,0,0,0,0,0,0,0,0,0,0,0,0,0,0,0,0,0,0,0,0,0,0,0,0,0,0,0,0,0,0,0,0,0,0,0,0,0,0,0,0,0,0,0,0,0,0,0,0,0,0,0,0,1,0,0,0,0,0,0,0,0,0,0,0,0,0,0,0,0,0,0,0,0,0,0,0,0,0,0,0,0,0,0,0,0,0,0,0,0,0,0,0,0,0,0,0,0,0,0,0,0,0,0,0,0,0,0,0,0,0,0,0,0,0,0,0,0,0,0,0,0,0,0,0,0,0,0,0,0,0,0,0,0,0,0,0,0,0,0,0,0,0,0,0,0,0,0,0,0,0,0,0,0,0,0,0,0,0,0,0,0,0,0,0,0,0,0,0,0,0,0,0,0,0,0,0,0,0,0,0,0,0,0,0,0,0,0,0,0,0,0,0,0,0,0,0,0,0,1,1,1,1,1,0,0,0,0,0,0,0,0,0,0,0,0,0,0,0,0,0,0,0,0,0,0,0,0,0,0,0,0,0,0,0,0,0,0,0,0,0,0,0,0,0,0,0,0,0,0,0,0,0,0,0,0,0,0,0,0,0,0,0,0,0,0,0,0,0,0,0,0,0,0,0,0,0,0,0,0,0,0,0,0,0,0,0,0,0,0,0,0,0,0,0,0,0,0,0,0,0,0,0,0,0,0,0,0,0,0,0,0,0,0,0,0,0,0,0,0,0,0,0,0,0,0,0,0,0,0,0,0,0,0,0,0,0,0,0,0,0,0,0,0,0,0,0,0,0,0,0,0,0,0,1,0,0,0,0,0,0,0,0,0,0,0,0,0,0,0,0,0,0,0,0,0,0,0,0,0,0,0,0,0,0,0,0,0,0,0,0,0,0,0,0,0,0,0,0,0,0,0,0,0,0,0,0,0,0,0,0,0,0,0,0,0,0,0,0,0,0,0,0,0,0,0,0,0,0,0,0,0,0,0,0,0,0,0,0,0,0,0,0,0,0,0,0,0,0,0,0,0,0,0,0,0,0,0,0,0,0,0,0,0,0,0,0,0,0,0,0,0,0,0,0,0,0,0,0,0,0,0,0,0,0,0,0,0,0,0,0,0,0,0,0,0,0,0,0,0,0,0,0,0,0,0,0,0,0,0,0,0,0,1,0,0,0,0,0,0,0,0,0,0,0,0,0,0,0,0,0,0,0,0,0,0,0,0,0,0,0,0,0,0,0,0,0,0,0,0,0,0,0,0,0,0,0,0,0,0,0,0,0,0,0,0,0,0,0,0,0,0,0,0,0,0,0,0,0,0,0,0,0,0,0,0,0,0,0,0,0,0,0,0,0,0,0,0,0,0,0,0,0,0,0,0,0,0,0,0,0,0,0,0,0,0,0,0,0,0,0,0,0,0,0,0,0,0,0,0,0,0,0,0,0,0,0,0,0,0,0,0,0,0,0,0,0,0,0,0,0,0,0,0,0,0,0,0,0,0,0,0,0,0,0,0,0,0,0,0,0,0,0,0,0,0,1,0,0,0,0,0,0,0,0,0,0,0,0,0,0,0,0,0,0,0,0,0,0,0,0,0,0,0,0,0,0,0,0,0,0,0,0,0,0,0,0,0,0,0,0,0,0,0,0,0,0,0,0,0,0,0,0,0,0,0,0,0,0,0,0,0,0,0,0,0,0,0,0,0,0,0,0,0,0,0,0,0,0,1,0,0,0,0,0,0,0,0,0,0,0,0,0,0,0,0,0,0,0,0,0,0,0,0,0,0,0,0,0,0,0,0,0,0,0,0,0,0,0,0,0,0,0,0,0,0,0,0,0,0,0,0,0,0,0,0,0,0,0,0,0,0,0,0,0,0,0,0,0,0,0,0,0,0,0,0,0,0,0,0,0,0,0,0,0,0,0,0,0,0,0,0,0,0,0,0,0,0,0,0,0,0,0,0,0,0,0,0,0,1,0,0,0,0,0,0,0,0,0,0,0,0,0,0,0,0,0,0,0,0,0,0,0,0,0,0,0,0,0,0,0,0,0,0,0,0,0,0,0,0,0,0,0,0,0,0,0,0,0,0,0,0,0,0,0,0,0,0,0,0,0,0,0,0,0,0,0,0,0,0,0,0,0,0,0,0,0,0,0,0,0,0,0,0,0,0,0,0,0,0,0,0,0,0,0,0,0,0,0,0,0,0,0,0,0,0,0,0,0,0,1,1,0,0,0,0,0,0,0,0,0,0,0,0,0,0,0,0,0,0,0,0,0,0,0,0,0,0,0,0,0,0,0,0,0,0,0,0,0,0,0,0,0,0,0,0,0,0,0,0,0,0,0,0,0,0,0,0,0,0,0,0,0,0,0,0,0,0,0,0,0,0,0,0,0,0,0,0,0,0,0,0,0,0,0,0,0,0,0,0,0,0,0,0,0,0,0,0,0,0,0,0,0,0,0,0,0,0,0,0,0,0,0,0,0,0,1,1,0,0,0,0,0,0,0,0,0,0,0,0,0,0,0,0,0,0,0,0,0,0,0,0,0,0,0,0,0,0,0,0,0,0,0,0,0,0,0,0,0,0,0,0,0,0,0,0,0,0,0,0,0,0,0,0,0,0,0,0,0,0,0,0,0,0,0,0,0,0,0,0,0,0,0,0,0,0,0,0,0,0,0,0,0,0,0,0,1,0,0,0,0,0,0,0,0,0,0,0,0,0,0,0,0,0,0,0,0,0,0,0,0,0,0,0,0,0,0,0,0,0,0,0,0,0,0,0,0,0,0,0,0,0,0,0,0,0,0,0,0,0,0,0,0,0,0,0,0,0,0,0,0,0,0,0,0,0,0,0,0,0,0,0,0,0,0,0,0,0,0,0,0,0,0,0,0,0,0,0,0,0,0,0,0,0,1,1,0,0,0,0,0,0,0,0,0,0,0,0,0,0,0,0,0,0,0,0,0,0,0,0,0,0,0,0,0,0,0,0,0,0,0,0,0,0,0,0,0,0,0,0,0,0,0,0,0,0,0,0,0,0,0,0,0,0,0,0,0,0,0,0,0,0,0,0,0,0,0,0,0,0,0,0,0,0,0,0,0,0,0,0,0,0,0,0,0,0,0,0,0,0,0,0,0,0,0,0,0,0,0,0,0,0,1,1,0,0,0,0,0,0,0,0,0,0,0,0,0,0,0,0,0,0,0,0,0,0,0,0,0,0,0,0,0,0,0,0,0,0,0,0,0,0,0,0,0,0,0,0,0,0,0,0,0,0,0,0,0,0,0,0,0,0,0,0,0,0,0,0,0,0,0,0,0,0,0,0,0,0,0,0,0,0,0,0,0,0,0,0,0,0,0,0,0,0,0,0,0,0,0,0,0,0,0,0,0,0,0,0,0,0,0,0,0,0,0,0,0,0,0,0,0,0,0,0,0,0,0,0,0,0,0,0,1,1,0,0,0,0,0,0,0,0,0,0,0,0,0,0,0,0,0,0,0,0,0,0,0,0,0,0,0,0,0,0,0,0,0,0,0,0,0,0,0,0,0,0,0,0,0,0,0,0,0,0,0,0,0,0,0,0,0,0,0,0,0,0,0,0,0,0,0,0,0,0,0,0,0,0,0,0,0,0,0,0,0,0,0,0,0,0,0,0,0,0,0,0,0,0,0,0,0,0,0,0,0,0,0,0,0,0,0,0,0,0,0,0,0,0,0,0,0,0,0,0,0,0,0,0,0,0,0,0,0,0,0,0,0,0,0,0,0,0,0,0,0,0,0,0,0,0,0,0,0,0,1,1,0,0,0,0,0,0,0,0,0,0,0,0,0,0,0,0,0,0,0,0,0,0,0,0,0,0,0,0,0,0,0,0,0,0,0,0,0,0,0,0,0,0,0,0,0,0,0,0,0,0,0,0,0,0,0,0,0,0,0,0,0,0,0,0,0,0,0,0,0,0,0,0,0,0,0,0,0,1,0,0,0,0,0,0,0,0,0,0,0,0,0,0,0,0,0,0,0,0,0,0,0,0,0,0,0,0,0,0,0,0,0,0,0,0,0,0,0,0,0,0,0,0,0,0,0,0,0,0,0,0,0,0,0,0,0,0,0,0,0,0,0,0,0,0,0,0,0,0,0,0,0,0,0,0,0,0,0,1,0,0,0,0,0,0,0,0,0,0,0,0,0,0,0,0,0,0,0,0,0,0,0,0,0,0,0,0,0,0,0,0,0,0,0,0,0,0,0,0,0,0,0,0,0,0,0,0,0,0,0,0,0,0,0,0,0,0,0,0,0,0,0,0,0,0,0,0,0,0,0,0,0,0,0,0,0,0,0,0,0,0,0,1,1,0,0,0,0,0,0,0,0,0,0,0,0,0,0,0,0,0,0,0,0,0,0,0,0,0,0,0,0,0,0,0,0,0,0,0,0,0,0,0,0,0,0,0,0,0,0,0,0,0,0,0,0,0,0,0,0,0,0,0,0,0,0,0,0,0,0,0,0,0,0,0,0,0,0,0,0,0,0,0,0,0,0,0,0,0,0,0,0,0,0,0,0,0,0,0,0,0,0,0,0,0,0,0,0,0,0,0,0,0,0,0,0,0,0,0,0,0,0,0,0,0,0,0,0,0,0,0,0,0,0,0,0,0,0,0,0,0,0,0,0,0,0,0,0,0,0,0,0,0,0,0,0,0,0,0,0,0,0,0,0,0,0,0,0,0,0,0,0,0,0,0,0,0,0,0,0,0,0,0,0,0,0,0,0,0,0,1,1,0,0,0,0,0,0,0,0,0,0,0,0,0,0,0,0,0,0,0,0,0,0,0,0,0,0,0,0,0,0,0,0,0,0,0,0,0,0,0,0,0,0,0,0,0,0,0,0,0,0,0,0,0,0,0,0,0,0,0,0,0,0,0,0,0,0,0,0,0,0,0,0,0,0,0,0,0,0,0,0,0,0,0,0,0,0,0,0,0,0,0,0,0,0,0,0,0,0,0,0,0,0,0,0,0,0,0,0,0,0,0,0,0,0,0,0,0,0,0,0,0,0,0,0,0,0,0,0,0,0,0,0,0,0,0,0,0,0,0,0,0,0,0,0,0,0,0,0,0,0,0,0,0,0,0,0,0,0,0,0,0,0,0,0,0,0,0,0,0,0,0,0,0,0,0,0,0,0,0,0,0,0,0,0,0,0,0,0,0,0,0,0,0,0,0,1,0,0,0,0,0,0,0,0,0,0,0,0,0,0,0,0,0,0,0,0,0,0,0,0,0,0,0,0,0,0,0,0,0,0,0,0,0,0,0,0,0,0,0,0,0,0,0,0,0,0,0,0,0,0,0,0,0,0,0,0,0,0,0,0,0,0,0,0,0,0,0,0,0,0,0,0,0,0,0,0,0,0,0,0,0,0,0,0,0,0,0,0,0,0,0,0,0,0,0,0,0,0,0,0,0,0,0,0,0,0,0,0,0,0,0,0,0,0,0,0,0,0,0,0,0,0,0,0,0,0,0,0,0,0,0,0,0,0,0,0,0,0,0,0,0,0,0,0,0,0,0,0,0,0,0,0,0,0,0,0,0,0,0,0,0,0,0,0,0,0,0,0,0,0,0,0,0,0,0,0,0,0,0,0,0,0,0,0,0,0,0,0,0,0,0,0,0,0,0,1,1,1,1,0,0,0,0,0,0,0,0,0,0,0,0,0,0,0,0,0,0,0,0,0,0,0,0,0,0,0,0,0,0,0,0,0,0,0,0,0,0,0,0,0,0,0,0,0,0,0,0,0,0,0,0,0,0,0,0,0,0,0,0,0,0,0,0,0,0,0,0,0,0,0,0,0,0,0,0,0,0,0,0,0,0,0,0,0,0,0,0,0,0,0,0,0,0,0,0,0,0,0,0,0,0,0,0,0,0,0,0,0,0,0,0,0,0,0,0,0,0,0,0,0,0,0,0,0,0,0,0,0,0,0,0,0,0,0,0,0,0,0,0,0,0,0,0,0,0,0,0,0,0,0,0,0,0,0,0,0,0,0,0,0,0,0,0,0,0,0,0,0,0,0,0,0,0,0,0,0,0,0,0,0,0,0,0,0,0,0,0,0,0,0,0,0,0,0,0,0,0,0,0,0,0,0,0,1,0,0,0,0,0,0,0,0,0,0,0,0,0,0,0,0,0,0,0,0,0,0,0,0,0,0,0,0,0,0,0,0,0,0,0,0,0,0,0,0,0,0,0,0,0,0,0,0,0,0,0,0,0,0,0,0,0,0,0,0,0,0,0,0,0,0,0,0,0,0,0,0,0,0,0,0,0,0,0,0,0,0,0,0,0,0,0,0,0,0,0,0,0,0,0,0,0,0,0,0,0,0,0,0,0,0,0,0,0,0,0,0,0,0,0,0,0,0,0,0,0,0,0,0,0,0,0,0,0,0,0,0,0,0,0,0,0,0,0,0,0,0,0,0,0,0,0,0,0,0,0,0,0,0,0,0,0,0,0,0,0,0,0,0,0,0,0,0,0,0,0,0,0,0,0,0,0,0,0,0,0,0,0,0,0,0,0,0,0,0,0,0,0,0,0,0,0,0,0,0,0,0,0,0,0,0,0,1,0,0,0,0,0,0,0,0,0,0,0,0,0,0,0,0,0,0,0,0,0,0,0,0,0,0,0,0,0,0,0,0,0,0,0,0,0,0,0,0,0,0,0,0,0,0,0,0,1,0,0,0,0,0,0,0,0,0,0,0,0,0,0,0,0,0,0,0,0,0,0,0,0,0,0,0,0,0,0,0,0,0,0,0,0,0,0,0,0,0,0,0,0,0,0,0,0,1,1,0,0,0,0,0,0,0,0,0,0,0,0,0,0,0,0,0,0,0,0,0,0,0,0,0,0,0,0,0,0,0,0,0,0,0,0,0,0,0,0,0,1,0,0,0,0,0,0,0,0,0,0,0,0,0,0,0,0,0,0,0,0,0,0,0,0,0,0,0,0,0,0,0,0,0,0,0,0,0,0,0,0,0,0,0,1,1,1,0,0,0,0,0,0,0,0,0,0,0,0,0,0,0,0,0,0,0,0,0,0,0,0,0,0,0,0,0,0,0,0,0,0,0,0,0,0,0,0,0,0,0,0,1,0,0,0,0,0,0,0,0,0,0,0,0,0,0,0,0,0,0,0,0,0,0,0,0,0,0,0,0,0,0,0,0,0,0,0,0,0,0,0,0,0,0,0,0,0,1,0,0,0,0,0,0,0,0,0,0,0,0,0,0,0,0,0,0,0,0,0,0,0,0,0,0,0,0,0,0,0,0,0,0,0,0,0,0,0,0,0,0,0,0,0,0,0,0,1,1,1,0,0,0,0,0,0,0,0,0,0,0,0,0,0,0,0,0,0,0,0,0,0,0,0,0,0,0,0,0,0,0,0,0,0,0,0,0,0,0,0,0,0,0,0,0,0,0,0,0,0,0,0,0,0,0,0,0,0,0,0,0,0,0,0,0,0,0,0,0,0,0,0,0,0,0,0,0,0,0,0,0,0,0,0,0,1,0,0,0,0,0,0,0,0,0,0,0,0,0,0,0,0,0,0,0,0,0,0,0,0,0,0,0,0,0,0,0,0,0,0,0,0,0,0,0,0,0,0,0,0,0,0,0,0,0,0,0,0,0,0,0,0,0,0,0,0,0,0,0,0,0,0,0,0,0,0,0,0,0,0,0,0,0,0,0,0,0,0,0,0,0,0,0,0,0,0],\"yaxis\":\"y\",\"type\":\"histogram\"}],                        {\"template\":{\"data\":{\"bar\":[{\"error_x\":{\"color\":\"#2a3f5f\"},\"error_y\":{\"color\":\"#2a3f5f\"},\"marker\":{\"line\":{\"color\":\"#E5ECF6\",\"width\":0.5},\"pattern\":{\"fillmode\":\"overlay\",\"size\":10,\"solidity\":0.2}},\"type\":\"bar\"}],\"barpolar\":[{\"marker\":{\"line\":{\"color\":\"#E5ECF6\",\"width\":0.5},\"pattern\":{\"fillmode\":\"overlay\",\"size\":10,\"solidity\":0.2}},\"type\":\"barpolar\"}],\"carpet\":[{\"aaxis\":{\"endlinecolor\":\"#2a3f5f\",\"gridcolor\":\"white\",\"linecolor\":\"white\",\"minorgridcolor\":\"white\",\"startlinecolor\":\"#2a3f5f\"},\"baxis\":{\"endlinecolor\":\"#2a3f5f\",\"gridcolor\":\"white\",\"linecolor\":\"white\",\"minorgridcolor\":\"white\",\"startlinecolor\":\"#2a3f5f\"},\"type\":\"carpet\"}],\"choropleth\":[{\"colorbar\":{\"outlinewidth\":0,\"ticks\":\"\"},\"type\":\"choropleth\"}],\"contour\":[{\"colorbar\":{\"outlinewidth\":0,\"ticks\":\"\"},\"colorscale\":[[0.0,\"#0d0887\"],[0.1111111111111111,\"#46039f\"],[0.2222222222222222,\"#7201a8\"],[0.3333333333333333,\"#9c179e\"],[0.4444444444444444,\"#bd3786\"],[0.5555555555555556,\"#d8576b\"],[0.6666666666666666,\"#ed7953\"],[0.7777777777777778,\"#fb9f3a\"],[0.8888888888888888,\"#fdca26\"],[1.0,\"#f0f921\"]],\"type\":\"contour\"}],\"contourcarpet\":[{\"colorbar\":{\"outlinewidth\":0,\"ticks\":\"\"},\"type\":\"contourcarpet\"}],\"heatmap\":[{\"colorbar\":{\"outlinewidth\":0,\"ticks\":\"\"},\"colorscale\":[[0.0,\"#0d0887\"],[0.1111111111111111,\"#46039f\"],[0.2222222222222222,\"#7201a8\"],[0.3333333333333333,\"#9c179e\"],[0.4444444444444444,\"#bd3786\"],[0.5555555555555556,\"#d8576b\"],[0.6666666666666666,\"#ed7953\"],[0.7777777777777778,\"#fb9f3a\"],[0.8888888888888888,\"#fdca26\"],[1.0,\"#f0f921\"]],\"type\":\"heatmap\"}],\"heatmapgl\":[{\"colorbar\":{\"outlinewidth\":0,\"ticks\":\"\"},\"colorscale\":[[0.0,\"#0d0887\"],[0.1111111111111111,\"#46039f\"],[0.2222222222222222,\"#7201a8\"],[0.3333333333333333,\"#9c179e\"],[0.4444444444444444,\"#bd3786\"],[0.5555555555555556,\"#d8576b\"],[0.6666666666666666,\"#ed7953\"],[0.7777777777777778,\"#fb9f3a\"],[0.8888888888888888,\"#fdca26\"],[1.0,\"#f0f921\"]],\"type\":\"heatmapgl\"}],\"histogram\":[{\"marker\":{\"pattern\":{\"fillmode\":\"overlay\",\"size\":10,\"solidity\":0.2}},\"type\":\"histogram\"}],\"histogram2d\":[{\"colorbar\":{\"outlinewidth\":0,\"ticks\":\"\"},\"colorscale\":[[0.0,\"#0d0887\"],[0.1111111111111111,\"#46039f\"],[0.2222222222222222,\"#7201a8\"],[0.3333333333333333,\"#9c179e\"],[0.4444444444444444,\"#bd3786\"],[0.5555555555555556,\"#d8576b\"],[0.6666666666666666,\"#ed7953\"],[0.7777777777777778,\"#fb9f3a\"],[0.8888888888888888,\"#fdca26\"],[1.0,\"#f0f921\"]],\"type\":\"histogram2d\"}],\"histogram2dcontour\":[{\"colorbar\":{\"outlinewidth\":0,\"ticks\":\"\"},\"colorscale\":[[0.0,\"#0d0887\"],[0.1111111111111111,\"#46039f\"],[0.2222222222222222,\"#7201a8\"],[0.3333333333333333,\"#9c179e\"],[0.4444444444444444,\"#bd3786\"],[0.5555555555555556,\"#d8576b\"],[0.6666666666666666,\"#ed7953\"],[0.7777777777777778,\"#fb9f3a\"],[0.8888888888888888,\"#fdca26\"],[1.0,\"#f0f921\"]],\"type\":\"histogram2dcontour\"}],\"mesh3d\":[{\"colorbar\":{\"outlinewidth\":0,\"ticks\":\"\"},\"type\":\"mesh3d\"}],\"parcoords\":[{\"line\":{\"colorbar\":{\"outlinewidth\":0,\"ticks\":\"\"}},\"type\":\"parcoords\"}],\"pie\":[{\"automargin\":true,\"type\":\"pie\"}],\"scatter\":[{\"marker\":{\"colorbar\":{\"outlinewidth\":0,\"ticks\":\"\"}},\"type\":\"scatter\"}],\"scatter3d\":[{\"line\":{\"colorbar\":{\"outlinewidth\":0,\"ticks\":\"\"}},\"marker\":{\"colorbar\":{\"outlinewidth\":0,\"ticks\":\"\"}},\"type\":\"scatter3d\"}],\"scattercarpet\":[{\"marker\":{\"colorbar\":{\"outlinewidth\":0,\"ticks\":\"\"}},\"type\":\"scattercarpet\"}],\"scattergeo\":[{\"marker\":{\"colorbar\":{\"outlinewidth\":0,\"ticks\":\"\"}},\"type\":\"scattergeo\"}],\"scattergl\":[{\"marker\":{\"colorbar\":{\"outlinewidth\":0,\"ticks\":\"\"}},\"type\":\"scattergl\"}],\"scattermapbox\":[{\"marker\":{\"colorbar\":{\"outlinewidth\":0,\"ticks\":\"\"}},\"type\":\"scattermapbox\"}],\"scatterpolar\":[{\"marker\":{\"colorbar\":{\"outlinewidth\":0,\"ticks\":\"\"}},\"type\":\"scatterpolar\"}],\"scatterpolargl\":[{\"marker\":{\"colorbar\":{\"outlinewidth\":0,\"ticks\":\"\"}},\"type\":\"scatterpolargl\"}],\"scatterternary\":[{\"marker\":{\"colorbar\":{\"outlinewidth\":0,\"ticks\":\"\"}},\"type\":\"scatterternary\"}],\"surface\":[{\"colorbar\":{\"outlinewidth\":0,\"ticks\":\"\"},\"colorscale\":[[0.0,\"#0d0887\"],[0.1111111111111111,\"#46039f\"],[0.2222222222222222,\"#7201a8\"],[0.3333333333333333,\"#9c179e\"],[0.4444444444444444,\"#bd3786\"],[0.5555555555555556,\"#d8576b\"],[0.6666666666666666,\"#ed7953\"],[0.7777777777777778,\"#fb9f3a\"],[0.8888888888888888,\"#fdca26\"],[1.0,\"#f0f921\"]],\"type\":\"surface\"}],\"table\":[{\"cells\":{\"fill\":{\"color\":\"#EBF0F8\"},\"line\":{\"color\":\"white\"}},\"header\":{\"fill\":{\"color\":\"#C8D4E3\"},\"line\":{\"color\":\"white\"}},\"type\":\"table\"}]},\"layout\":{\"annotationdefaults\":{\"arrowcolor\":\"#2a3f5f\",\"arrowhead\":0,\"arrowwidth\":1},\"autotypenumbers\":\"strict\",\"coloraxis\":{\"colorbar\":{\"outlinewidth\":0,\"ticks\":\"\"}},\"colorscale\":{\"diverging\":[[0,\"#8e0152\"],[0.1,\"#c51b7d\"],[0.2,\"#de77ae\"],[0.3,\"#f1b6da\"],[0.4,\"#fde0ef\"],[0.5,\"#f7f7f7\"],[0.6,\"#e6f5d0\"],[0.7,\"#b8e186\"],[0.8,\"#7fbc41\"],[0.9,\"#4d9221\"],[1,\"#276419\"]],\"sequential\":[[0.0,\"#0d0887\"],[0.1111111111111111,\"#46039f\"],[0.2222222222222222,\"#7201a8\"],[0.3333333333333333,\"#9c179e\"],[0.4444444444444444,\"#bd3786\"],[0.5555555555555556,\"#d8576b\"],[0.6666666666666666,\"#ed7953\"],[0.7777777777777778,\"#fb9f3a\"],[0.8888888888888888,\"#fdca26\"],[1.0,\"#f0f921\"]],\"sequentialminus\":[[0.0,\"#0d0887\"],[0.1111111111111111,\"#46039f\"],[0.2222222222222222,\"#7201a8\"],[0.3333333333333333,\"#9c179e\"],[0.4444444444444444,\"#bd3786\"],[0.5555555555555556,\"#d8576b\"],[0.6666666666666666,\"#ed7953\"],[0.7777777777777778,\"#fb9f3a\"],[0.8888888888888888,\"#fdca26\"],[1.0,\"#f0f921\"]]},\"colorway\":[\"#636efa\",\"#EF553B\",\"#00cc96\",\"#ab63fa\",\"#FFA15A\",\"#19d3f3\",\"#FF6692\",\"#B6E880\",\"#FF97FF\",\"#FECB52\"],\"font\":{\"color\":\"#2a3f5f\"},\"geo\":{\"bgcolor\":\"white\",\"lakecolor\":\"white\",\"landcolor\":\"#E5ECF6\",\"showlakes\":true,\"showland\":true,\"subunitcolor\":\"white\"},\"hoverlabel\":{\"align\":\"left\"},\"hovermode\":\"closest\",\"mapbox\":{\"style\":\"light\"},\"paper_bgcolor\":\"white\",\"plot_bgcolor\":\"#E5ECF6\",\"polar\":{\"angularaxis\":{\"gridcolor\":\"white\",\"linecolor\":\"white\",\"ticks\":\"\"},\"bgcolor\":\"#E5ECF6\",\"radialaxis\":{\"gridcolor\":\"white\",\"linecolor\":\"white\",\"ticks\":\"\"}},\"scene\":{\"xaxis\":{\"backgroundcolor\":\"#E5ECF6\",\"gridcolor\":\"white\",\"gridwidth\":2,\"linecolor\":\"white\",\"showbackground\":true,\"ticks\":\"\",\"zerolinecolor\":\"white\"},\"yaxis\":{\"backgroundcolor\":\"#E5ECF6\",\"gridcolor\":\"white\",\"gridwidth\":2,\"linecolor\":\"white\",\"showbackground\":true,\"ticks\":\"\",\"zerolinecolor\":\"white\"},\"zaxis\":{\"backgroundcolor\":\"#E5ECF6\",\"gridcolor\":\"white\",\"gridwidth\":2,\"linecolor\":\"white\",\"showbackground\":true,\"ticks\":\"\",\"zerolinecolor\":\"white\"}},\"shapedefaults\":{\"line\":{\"color\":\"#2a3f5f\"}},\"ternary\":{\"aaxis\":{\"gridcolor\":\"white\",\"linecolor\":\"white\",\"ticks\":\"\"},\"baxis\":{\"gridcolor\":\"white\",\"linecolor\":\"white\",\"ticks\":\"\"},\"bgcolor\":\"#E5ECF6\",\"caxis\":{\"gridcolor\":\"white\",\"linecolor\":\"white\",\"ticks\":\"\"}},\"title\":{\"x\":0.05},\"xaxis\":{\"automargin\":true,\"gridcolor\":\"white\",\"linecolor\":\"white\",\"ticks\":\"\",\"title\":{\"standoff\":15},\"zerolinecolor\":\"white\",\"zerolinewidth\":2},\"yaxis\":{\"automargin\":true,\"gridcolor\":\"white\",\"linecolor\":\"white\",\"ticks\":\"\",\"title\":{\"standoff\":15},\"zerolinecolor\":\"white\",\"zerolinewidth\":2}}},\"xaxis\":{\"anchor\":\"y\",\"domain\":[0.0,1.0],\"title\":{\"text\":\" Current Ratio\"}},\"yaxis\":{\"anchor\":\"x\",\"domain\":[0.0,1.0],\"title\":{\"text\":\"avg of Bankrupt?\"}},\"legend\":{\"tracegroupgap\":0},\"title\":{\"text\":\"histfunc = avg\"},\"barmode\":\"relative\"},                        {\"responsive\": true}                    ).then(function(){\n",
              "                            \n",
              "var gd = document.getElementById('3e5be32c-05ee-4294-820b-93ff3a53e7d5');\n",
              "var x = new MutationObserver(function (mutations, observer) {{\n",
              "        var display = window.getComputedStyle(gd).display;\n",
              "        if (!display || display === 'none') {{\n",
              "            console.log([gd, 'removed!']);\n",
              "            Plotly.purge(gd);\n",
              "            observer.disconnect();\n",
              "        }}\n",
              "}});\n",
              "\n",
              "// Listen for the removal of the full notebook cells\n",
              "var notebookContainer = gd.closest('#notebook-container');\n",
              "if (notebookContainer) {{\n",
              "    x.observe(notebookContainer, {childList: true});\n",
              "}}\n",
              "\n",
              "// Listen for the clearing of the current output cell\n",
              "var outputEl = gd.closest('.output');\n",
              "if (outputEl) {{\n",
              "    x.observe(outputEl, {childList: true});\n",
              "}}\n",
              "\n",
              "                        })                };                            </script>        </div>\n",
              "</body>\n",
              "</html>"
            ]
          },
          "metadata": {}
        }
      ]
    },
    {
      "cell_type": "code",
      "source": [
        "#Look at Quick Ratio. Based on the definition of Quick Ratio, a ratio of 1 is typical, so values in the billions indicate possible entry errors.\n",
        "#Majority of the rows have Bankrupt? value of 0, only 1 instance of Bankrupt? =1. Ok to remove these values from dataset as it shouldn't affect the distribution of the Bankrupt? values too much.\n",
        "\n",
        "quickratioout = df[df[' Quick Ratio'] >= 1]\n",
        "quickratioout\n"
      ],
      "metadata": {
        "id": "gvaLdLebsg9x"
      },
      "execution_count": null,
      "outputs": []
    },
    {
      "cell_type": "code",
      "source": [
        "#Histogram of rows with Quick Ratio <1 indicates relationship between Quick Ratio and average Bankrupt? probabilities\n",
        "\n",
        "quickratio0 = df[df[' Quick Ratio'] < 1]\n",
        "\n",
        "histfunc = \"avg\"\n",
        "fig = px.histogram(quickratio0,\n",
        "                   x=' Quick Ratio',\n",
        "                   y=\"Bankrupt?\",\n",
        "                   histfunc=histfunc,\n",
        "                   title=f\"histfunc = {histfunc}\")\n",
        "fig.show()"
      ],
      "metadata": {
        "id": "-ULxxIQXtuFB"
      },
      "execution_count": null,
      "outputs": []
    },
    {
      "cell_type": "code",
      "source": [
        "#Look at outliers with Quick Assets/Current Liability\n",
        "#No rows with Quick Assets/Current Liability >1 have Bankrupt = 1, so ok to remove from dataset\n",
        "\n",
        "quickassets1 = df[df[' Quick Assets/Current Liability'] >= 1]\n",
        "quickassets1"
      ],
      "metadata": {
        "colab": {
          "base_uri": "https://localhost:8080/",
          "height": 390
        },
        "id": "UMTUNI77uTb5",
        "outputId": "4229e9d4-c6f8-4d8d-a00f-e8d7d6b22267"
      },
      "execution_count": 9,
      "outputs": [
        {
          "output_type": "execute_result",
          "data": {
            "text/html": [
              "\n",
              "  <div id=\"df-f4c78f5c-3fd1-4a64-9422-1a046078fd42\">\n",
              "    <div class=\"colab-df-container\">\n",
              "      <div>\n",
              "<style scoped>\n",
              "    .dataframe tbody tr th:only-of-type {\n",
              "        vertical-align: middle;\n",
              "    }\n",
              "\n",
              "    .dataframe tbody tr th {\n",
              "        vertical-align: top;\n",
              "    }\n",
              "\n",
              "    .dataframe thead th {\n",
              "        text-align: right;\n",
              "    }\n",
              "</style>\n",
              "<table border=\"1\" class=\"dataframe\">\n",
              "  <thead>\n",
              "    <tr style=\"text-align: right;\">\n",
              "      <th></th>\n",
              "      <th>Bankrupt?</th>\n",
              "      <th>ROA(C) before interest and depreciation before interest</th>\n",
              "      <th>ROA(A) before interest and % after tax</th>\n",
              "      <th>ROA(B) before interest and depreciation after tax</th>\n",
              "      <th>Operating Gross Margin</th>\n",
              "      <th>Realized Sales Gross Margin</th>\n",
              "      <th>Operating Profit Rate</th>\n",
              "      <th>Pre-tax net Interest Rate</th>\n",
              "      <th>After-tax net Interest Rate</th>\n",
              "      <th>Non-industry income and expenditure/revenue</th>\n",
              "      <th>Continuous interest rate (after tax)</th>\n",
              "      <th>Operating Expense Rate</th>\n",
              "      <th>Research and development expense rate</th>\n",
              "      <th>Cash flow rate</th>\n",
              "      <th>Interest-bearing debt interest rate</th>\n",
              "      <th>Tax rate (A)</th>\n",
              "      <th>Net Value Per Share (B)</th>\n",
              "      <th>Net Value Per Share (A)</th>\n",
              "      <th>Net Value Per Share (C)</th>\n",
              "      <th>Persistent EPS in the Last Four Seasons</th>\n",
              "      <th>Cash Flow Per Share</th>\n",
              "      <th>Revenue Per Share (Yuan ¥)</th>\n",
              "      <th>Operating Profit Per Share (Yuan ¥)</th>\n",
              "      <th>Per Share Net profit before tax (Yuan ¥)</th>\n",
              "      <th>Realized Sales Gross Profit Growth Rate</th>\n",
              "      <th>Operating Profit Growth Rate</th>\n",
              "      <th>After-tax Net Profit Growth Rate</th>\n",
              "      <th>Regular Net Profit Growth Rate</th>\n",
              "      <th>Continuous Net Profit Growth Rate</th>\n",
              "      <th>Total Asset Growth Rate</th>\n",
              "      <th>Net Value Growth Rate</th>\n",
              "      <th>Total Asset Return Growth Rate Ratio</th>\n",
              "      <th>Cash Reinvestment %</th>\n",
              "      <th>Current Ratio</th>\n",
              "      <th>Quick Ratio</th>\n",
              "      <th>Interest Expense Ratio</th>\n",
              "      <th>Total debt/Total net worth</th>\n",
              "      <th>Debt ratio %</th>\n",
              "      <th>Net worth/Assets</th>\n",
              "      <th>Long-term fund suitability ratio (A)</th>\n",
              "      <th>...</th>\n",
              "      <th>Current Assets/Total Assets</th>\n",
              "      <th>Cash/Total Assets</th>\n",
              "      <th>Quick Assets/Current Liability</th>\n",
              "      <th>Cash/Current Liability</th>\n",
              "      <th>Current Liability to Assets</th>\n",
              "      <th>Operating Funds to Liability</th>\n",
              "      <th>Inventory/Working Capital</th>\n",
              "      <th>Inventory/Current Liability</th>\n",
              "      <th>Current Liabilities/Liability</th>\n",
              "      <th>Working Capital/Equity</th>\n",
              "      <th>Current Liabilities/Equity</th>\n",
              "      <th>Long-term Liability to Current Assets</th>\n",
              "      <th>Retained Earnings to Total Assets</th>\n",
              "      <th>Total income/Total expense</th>\n",
              "      <th>Total expense/Assets</th>\n",
              "      <th>Current Asset Turnover Rate</th>\n",
              "      <th>Quick Asset Turnover Rate</th>\n",
              "      <th>Working capitcal Turnover Rate</th>\n",
              "      <th>Cash Turnover Rate</th>\n",
              "      <th>Cash Flow to Sales</th>\n",
              "      <th>Fixed Assets to Assets</th>\n",
              "      <th>Current Liability to Liability</th>\n",
              "      <th>Current Liability to Equity</th>\n",
              "      <th>Equity to Long-term Liability</th>\n",
              "      <th>Cash Flow to Total Assets</th>\n",
              "      <th>Cash Flow to Liability</th>\n",
              "      <th>CFO to Assets</th>\n",
              "      <th>Cash Flow to Equity</th>\n",
              "      <th>Current Liability to Current Assets</th>\n",
              "      <th>Liability-Assets Flag</th>\n",
              "      <th>Net Income to Total Assets</th>\n",
              "      <th>Total assets to GNP price</th>\n",
              "      <th>No-credit Interval</th>\n",
              "      <th>Gross Profit to Sales</th>\n",
              "      <th>Net Income to Stockholder's Equity</th>\n",
              "      <th>Liability to Equity</th>\n",
              "      <th>Degree of Financial Leverage (DFL)</th>\n",
              "      <th>Interest Coverage Ratio (Interest expense to EBIT)</th>\n",
              "      <th>Net Income Flag</th>\n",
              "      <th>Equity to Liability</th>\n",
              "    </tr>\n",
              "  </thead>\n",
              "  <tbody>\n",
              "    <tr>\n",
              "      <th>2063</th>\n",
              "      <td>0</td>\n",
              "      <td>0.494418</td>\n",
              "      <td>0.562200</td>\n",
              "      <td>0.544408</td>\n",
              "      <td>0.607316</td>\n",
              "      <td>0.607316</td>\n",
              "      <td>0.999085</td>\n",
              "      <td>0.797568</td>\n",
              "      <td>0.809457</td>\n",
              "      <td>0.303594</td>\n",
              "      <td>0.781726</td>\n",
              "      <td>0.000104</td>\n",
              "      <td>0.0</td>\n",
              "      <td>0.463250</td>\n",
              "      <td>8.940894e-04</td>\n",
              "      <td>0.149712</td>\n",
              "      <td>0.187771</td>\n",
              "      <td>0.187771</td>\n",
              "      <td>0.187771</td>\n",
              "      <td>0.230027</td>\n",
              "      <td>0.323442</td>\n",
              "      <td>0.021674</td>\n",
              "      <td>0.107727</td>\n",
              "      <td>0.186111</td>\n",
              "      <td>0.022076</td>\n",
              "      <td>0.848016</td>\n",
              "      <td>0.689385</td>\n",
              "      <td>0.689385</td>\n",
              "      <td>0.217592</td>\n",
              "      <td>6.260000e+09</td>\n",
              "      <td>5.086951e-04</td>\n",
              "      <td>0.263939</td>\n",
              "      <td>0.385679</td>\n",
              "      <td>0.011178</td>\n",
              "      <td>0.000197</td>\n",
              "      <td>0.632894</td>\n",
              "      <td>8.266535e-03</td>\n",
              "      <td>0.140551</td>\n",
              "      <td>0.859449</td>\n",
              "      <td>0.006673</td>\n",
              "      <td>...</td>\n",
              "      <td>0.878882</td>\n",
              "      <td>0.015447</td>\n",
              "      <td>8.140000e+09</td>\n",
              "      <td>0.000556</td>\n",
              "      <td>0.147365</td>\n",
              "      <td>0.346231</td>\n",
              "      <td>0.278049</td>\n",
              "      <td>0.028993</td>\n",
              "      <td>0.996929</td>\n",
              "      <td>0.740619</td>\n",
              "      <td>0.333579</td>\n",
              "      <td>0.0</td>\n",
              "      <td>0.938696</td>\n",
              "      <td>0.002590</td>\n",
              "      <td>0.008849</td>\n",
              "      <td>4.753158e-04</td>\n",
              "      <td>1.290000e+08</td>\n",
              "      <td>0.594068</td>\n",
              "      <td>2.220000e+09</td>\n",
              "      <td>0.671578</td>\n",
              "      <td>0.076382</td>\n",
              "      <td>0.996929</td>\n",
              "      <td>0.333579</td>\n",
              "      <td>0.110933</td>\n",
              "      <td>0.648366</td>\n",
              "      <td>0.460259</td>\n",
              "      <td>0.590007</td>\n",
              "      <td>0.315531</td>\n",
              "      <td>0.026161</td>\n",
              "      <td>0</td>\n",
              "      <td>0.814600</td>\n",
              "      <td>0.004078</td>\n",
              "      <td>0.622255</td>\n",
              "      <td>0.607316</td>\n",
              "      <td>0.841685</td>\n",
              "      <td>0.280774</td>\n",
              "      <td>0.026793</td>\n",
              "      <td>0.565165</td>\n",
              "      <td>1</td>\n",
              "      <td>0.026120</td>\n",
              "    </tr>\n",
              "    <tr>\n",
              "      <th>2168</th>\n",
              "      <td>0</td>\n",
              "      <td>0.488714</td>\n",
              "      <td>0.561328</td>\n",
              "      <td>0.543552</td>\n",
              "      <td>0.620894</td>\n",
              "      <td>0.620894</td>\n",
              "      <td>0.999303</td>\n",
              "      <td>0.797705</td>\n",
              "      <td>0.809612</td>\n",
              "      <td>0.303376</td>\n",
              "      <td>0.781893</td>\n",
              "      <td>0.000103</td>\n",
              "      <td>0.0</td>\n",
              "      <td>0.458843</td>\n",
              "      <td>6.630663e-04</td>\n",
              "      <td>0.000000</td>\n",
              "      <td>0.186676</td>\n",
              "      <td>0.186676</td>\n",
              "      <td>0.186676</td>\n",
              "      <td>0.232296</td>\n",
              "      <td>0.301408</td>\n",
              "      <td>0.012206</td>\n",
              "      <td>0.114649</td>\n",
              "      <td>0.184153</td>\n",
              "      <td>0.022086</td>\n",
              "      <td>0.848050</td>\n",
              "      <td>0.689427</td>\n",
              "      <td>0.689427</td>\n",
              "      <td>0.217596</td>\n",
              "      <td>8.050000e+09</td>\n",
              "      <td>4.607577e-04</td>\n",
              "      <td>0.264005</td>\n",
              "      <td>0.347416</td>\n",
              "      <td>0.007486</td>\n",
              "      <td>0.000101</td>\n",
              "      <td>0.632479</td>\n",
              "      <td>1.877183e-02</td>\n",
              "      <td>0.199534</td>\n",
              "      <td>0.800466</td>\n",
              "      <td>0.007723</td>\n",
              "      <td>...</td>\n",
              "      <td>0.840226</td>\n",
              "      <td>0.006634</td>\n",
              "      <td>8.820000e+09</td>\n",
              "      <td>0.000169</td>\n",
              "      <td>0.207915</td>\n",
              "      <td>0.333025</td>\n",
              "      <td>0.279411</td>\n",
              "      <td>0.019450</td>\n",
              "      <td>0.998851</td>\n",
              "      <td>0.737717</td>\n",
              "      <td>0.342885</td>\n",
              "      <td>496000000.0</td>\n",
              "      <td>0.940368</td>\n",
              "      <td>0.002634</td>\n",
              "      <td>0.005731</td>\n",
              "      <td>1.293356e-03</td>\n",
              "      <td>3.470000e+09</td>\n",
              "      <td>0.594093</td>\n",
              "      <td>2.660000e+08</td>\n",
              "      <td>0.671578</td>\n",
              "      <td>0.031100</td>\n",
              "      <td>0.998851</td>\n",
              "      <td>0.342885</td>\n",
              "      <td>0.110945</td>\n",
              "      <td>0.644913</td>\n",
              "      <td>0.459530</td>\n",
              "      <td>0.515708</td>\n",
              "      <td>0.315129</td>\n",
              "      <td>0.038701</td>\n",
              "      <td>0</td>\n",
              "      <td>0.809511</td>\n",
              "      <td>0.009606</td>\n",
              "      <td>0.617664</td>\n",
              "      <td>0.620894</td>\n",
              "      <td>0.841954</td>\n",
              "      <td>0.288393</td>\n",
              "      <td>0.027092</td>\n",
              "      <td>0.566275</td>\n",
              "      <td>1</td>\n",
              "      <td>0.017292</td>\n",
              "    </tr>\n",
              "    <tr>\n",
              "      <th>2490</th>\n",
              "      <td>0</td>\n",
              "      <td>0.412178</td>\n",
              "      <td>0.474270</td>\n",
              "      <td>0.457733</td>\n",
              "      <td>0.000000</td>\n",
              "      <td>0.000000</td>\n",
              "      <td>0.988045</td>\n",
              "      <td>0.784312</td>\n",
              "      <td>0.796607</td>\n",
              "      <td>0.303526</td>\n",
              "      <td>0.767874</td>\n",
              "      <td>0.001407</td>\n",
              "      <td>0.0</td>\n",
              "      <td>0.000000</td>\n",
              "      <td>3.450345e-04</td>\n",
              "      <td>0.000000</td>\n",
              "      <td>0.199444</td>\n",
              "      <td>0.199444</td>\n",
              "      <td>0.199444</td>\n",
              "      <td>0.198733</td>\n",
              "      <td>0.314600</td>\n",
              "      <td>0.000257</td>\n",
              "      <td>0.082078</td>\n",
              "      <td>0.156737</td>\n",
              "      <td>0.021601</td>\n",
              "      <td>0.847191</td>\n",
              "      <td>0.683591</td>\n",
              "      <td>0.683591</td>\n",
              "      <td>0.216859</td>\n",
              "      <td>8.580000e+09</td>\n",
              "      <td>5.201741e-04</td>\n",
              "      <td>0.262968</td>\n",
              "      <td>0.372238</td>\n",
              "      <td>1.000000</td>\n",
              "      <td>1.000000</td>\n",
              "      <td>0.630605</td>\n",
              "      <td>4.740000e+08</td>\n",
              "      <td>0.001512</td>\n",
              "      <td>0.998488</td>\n",
              "      <td>0.004716</td>\n",
              "      <td>...</td>\n",
              "      <td>0.242417</td>\n",
              "      <td>0.000904</td>\n",
              "      <td>1.000000e+00</td>\n",
              "      <td>0.010062</td>\n",
              "      <td>0.000000</td>\n",
              "      <td>0.231268</td>\n",
              "      <td>0.276975</td>\n",
              "      <td>0.000000</td>\n",
              "      <td>0.063817</td>\n",
              "      <td>0.734745</td>\n",
              "      <td>0.326175</td>\n",
              "      <td>0.0</td>\n",
              "      <td>0.931764</td>\n",
              "      <td>0.000000</td>\n",
              "      <td>0.002266</td>\n",
              "      <td>7.307076e-03</td>\n",
              "      <td>7.655675e-03</td>\n",
              "      <td>0.598915</td>\n",
              "      <td>6.880000e+09</td>\n",
              "      <td>0.670041</td>\n",
              "      <td>0.000000</td>\n",
              "      <td>0.063817</td>\n",
              "      <td>0.326175</td>\n",
              "      <td>0.110933</td>\n",
              "      <td>0.616908</td>\n",
              "      <td>0.343844</td>\n",
              "      <td>0.544180</td>\n",
              "      <td>0.312115</td>\n",
              "      <td>0.000000</td>\n",
              "      <td>0</td>\n",
              "      <td>0.766285</td>\n",
              "      <td>0.002466</td>\n",
              "      <td>0.626786</td>\n",
              "      <td>0.000000</td>\n",
              "      <td>0.838652</td>\n",
              "      <td>0.274813</td>\n",
              "      <td>0.026789</td>\n",
              "      <td>0.565148</td>\n",
              "      <td>1</td>\n",
              "      <td>0.743588</td>\n",
              "    </tr>\n",
              "    <tr>\n",
              "      <th>2735</th>\n",
              "      <td>0</td>\n",
              "      <td>0.436894</td>\n",
              "      <td>0.453718</td>\n",
              "      <td>0.479522</td>\n",
              "      <td>0.585062</td>\n",
              "      <td>0.585062</td>\n",
              "      <td>0.998495</td>\n",
              "      <td>0.796770</td>\n",
              "      <td>0.808785</td>\n",
              "      <td>0.303434</td>\n",
              "      <td>0.781002</td>\n",
              "      <td>0.000337</td>\n",
              "      <td>0.0</td>\n",
              "      <td>0.459881</td>\n",
              "      <td>9.800000e+08</td>\n",
              "      <td>0.000000</td>\n",
              "      <td>0.121613</td>\n",
              "      <td>0.121613</td>\n",
              "      <td>0.121613</td>\n",
              "      <td>0.188617</td>\n",
              "      <td>0.311594</td>\n",
              "      <td>0.010285</td>\n",
              "      <td>0.072877</td>\n",
              "      <td>0.147322</td>\n",
              "      <td>0.022216</td>\n",
              "      <td>0.848101</td>\n",
              "      <td>0.689567</td>\n",
              "      <td>0.689567</td>\n",
              "      <td>0.217613</td>\n",
              "      <td>5.860000e+08</td>\n",
              "      <td>1.350000e+09</td>\n",
              "      <td>0.265399</td>\n",
              "      <td>0.319493</td>\n",
              "      <td>0.000000</td>\n",
              "      <td>0.000165</td>\n",
              "      <td>0.630437</td>\n",
              "      <td>1.945349e-01</td>\n",
              "      <td>0.312755</td>\n",
              "      <td>0.687245</td>\n",
              "      <td>0.004700</td>\n",
              "      <td>...</td>\n",
              "      <td>0.044384</td>\n",
              "      <td>0.031474</td>\n",
              "      <td>7.540000e+09</td>\n",
              "      <td>0.000516</td>\n",
              "      <td>0.323917</td>\n",
              "      <td>0.336138</td>\n",
              "      <td>0.276969</td>\n",
              "      <td>0.000165</td>\n",
              "      <td>0.999817</td>\n",
              "      <td>0.961070</td>\n",
              "      <td>0.153811</td>\n",
              "      <td>0.0</td>\n",
              "      <td>0.863099</td>\n",
              "      <td>0.001892</td>\n",
              "      <td>0.024552</td>\n",
              "      <td>2.270000e+09</td>\n",
              "      <td>2.160000e+09</td>\n",
              "      <td>0.593406</td>\n",
              "      <td>6.010000e+09</td>\n",
              "      <td>0.671582</td>\n",
              "      <td>0.882981</td>\n",
              "      <td>0.999817</td>\n",
              "      <td>0.153811</td>\n",
              "      <td>0.110933</td>\n",
              "      <td>0.649341</td>\n",
              "      <td>0.459805</td>\n",
              "      <td>0.519647</td>\n",
              "      <td>0.302513</td>\n",
              "      <td>1.000000</td>\n",
              "      <td>1</td>\n",
              "      <td>0.747290</td>\n",
              "      <td>0.000420</td>\n",
              "      <td>0.557613</td>\n",
              "      <td>0.585059</td>\n",
              "      <td>0.885473</td>\n",
              "      <td>0.133503</td>\n",
              "      <td>0.026744</td>\n",
              "      <td>0.564922</td>\n",
              "      <td>1</td>\n",
              "      <td>0.009546</td>\n",
              "    </tr>\n",
              "  </tbody>\n",
              "</table>\n",
              "<p>4 rows × 96 columns</p>\n",
              "</div>\n",
              "      <button class=\"colab-df-convert\" onclick=\"convertToInteractive('df-f4c78f5c-3fd1-4a64-9422-1a046078fd42')\"\n",
              "              title=\"Convert this dataframe to an interactive table.\"\n",
              "              style=\"display:none;\">\n",
              "        \n",
              "  <svg xmlns=\"http://www.w3.org/2000/svg\" height=\"24px\"viewBox=\"0 0 24 24\"\n",
              "       width=\"24px\">\n",
              "    <path d=\"M0 0h24v24H0V0z\" fill=\"none\"/>\n",
              "    <path d=\"M18.56 5.44l.94 2.06.94-2.06 2.06-.94-2.06-.94-.94-2.06-.94 2.06-2.06.94zm-11 1L8.5 8.5l.94-2.06 2.06-.94-2.06-.94L8.5 2.5l-.94 2.06-2.06.94zm10 10l.94 2.06.94-2.06 2.06-.94-2.06-.94-.94-2.06-.94 2.06-2.06.94z\"/><path d=\"M17.41 7.96l-1.37-1.37c-.4-.4-.92-.59-1.43-.59-.52 0-1.04.2-1.43.59L10.3 9.45l-7.72 7.72c-.78.78-.78 2.05 0 2.83L4 21.41c.39.39.9.59 1.41.59.51 0 1.02-.2 1.41-.59l7.78-7.78 2.81-2.81c.8-.78.8-2.07 0-2.86zM5.41 20L4 18.59l7.72-7.72 1.47 1.35L5.41 20z\"/>\n",
              "  </svg>\n",
              "      </button>\n",
              "      \n",
              "  <style>\n",
              "    .colab-df-container {\n",
              "      display:flex;\n",
              "      flex-wrap:wrap;\n",
              "      gap: 12px;\n",
              "    }\n",
              "\n",
              "    .colab-df-convert {\n",
              "      background-color: #E8F0FE;\n",
              "      border: none;\n",
              "      border-radius: 50%;\n",
              "      cursor: pointer;\n",
              "      display: none;\n",
              "      fill: #1967D2;\n",
              "      height: 32px;\n",
              "      padding: 0 0 0 0;\n",
              "      width: 32px;\n",
              "    }\n",
              "\n",
              "    .colab-df-convert:hover {\n",
              "      background-color: #E2EBFA;\n",
              "      box-shadow: 0px 1px 2px rgba(60, 64, 67, 0.3), 0px 1px 3px 1px rgba(60, 64, 67, 0.15);\n",
              "      fill: #174EA6;\n",
              "    }\n",
              "\n",
              "    [theme=dark] .colab-df-convert {\n",
              "      background-color: #3B4455;\n",
              "      fill: #D2E3FC;\n",
              "    }\n",
              "\n",
              "    [theme=dark] .colab-df-convert:hover {\n",
              "      background-color: #434B5C;\n",
              "      box-shadow: 0px 1px 3px 1px rgba(0, 0, 0, 0.15);\n",
              "      filter: drop-shadow(0px 1px 2px rgba(0, 0, 0, 0.3));\n",
              "      fill: #FFFFFF;\n",
              "    }\n",
              "  </style>\n",
              "\n",
              "      <script>\n",
              "        const buttonEl =\n",
              "          document.querySelector('#df-f4c78f5c-3fd1-4a64-9422-1a046078fd42 button.colab-df-convert');\n",
              "        buttonEl.style.display =\n",
              "          google.colab.kernel.accessAllowed ? 'block' : 'none';\n",
              "\n",
              "        async function convertToInteractive(key) {\n",
              "          const element = document.querySelector('#df-f4c78f5c-3fd1-4a64-9422-1a046078fd42');\n",
              "          const dataTable =\n",
              "            await google.colab.kernel.invokeFunction('convertToInteractive',\n",
              "                                                     [key], {});\n",
              "          if (!dataTable) return;\n",
              "\n",
              "          const docLinkHtml = 'Like what you see? Visit the ' +\n",
              "            '<a target=\"_blank\" href=https://colab.research.google.com/notebooks/data_table.ipynb>data table notebook</a>'\n",
              "            + ' to learn more about interactive tables.';\n",
              "          element.innerHTML = '';\n",
              "          dataTable['output_type'] = 'display_data';\n",
              "          await google.colab.output.renderOutput(dataTable, element);\n",
              "          const docLink = document.createElement('div');\n",
              "          docLink.innerHTML = docLinkHtml;\n",
              "          element.appendChild(docLink);\n",
              "        }\n",
              "      </script>\n",
              "    </div>\n",
              "  </div>\n",
              "  "
            ],
            "text/plain": [
              "      Bankrupt?  ...   Equity to Liability\n",
              "2063          0  ...              0.026120\n",
              "2168          0  ...              0.017292\n",
              "2490          0  ...              0.743588\n",
              "2735          0  ...              0.009546\n",
              "\n",
              "[4 rows x 96 columns]"
            ]
          },
          "metadata": {},
          "execution_count": 9
        }
      ]
    },
    {
      "cell_type": "code",
      "source": [
        "# Look at rows with Cash/Current Liability\n",
        "# 15 rows have Bankrupt = 1\n",
        "\n",
        "cash_liab1 = df[df[' Cash/Current Liability'] >=1]\n",
        "cash_liab1"
      ],
      "metadata": {
        "id": "uuaGymg0u-IA"
      },
      "execution_count": null,
      "outputs": []
    },
    {
      "cell_type": "code",
      "source": [
        "#Look at rows with Long-term Liability to Current Assets>1\n",
        "#Majority of the rows have Bankrupt? value of 0, only 2 instances of Bankrupt? =1. Ok to remove these values from dataset as it shouldn't affect the distribution of the Bankrupt? values too much.\n",
        "\n",
        "long_liab1 = df[df[' Long-term Liability to Current Assets'] >=1]\n",
        "long_liab1"
      ],
      "metadata": {
        "id": "VFEhxCsnu-O9"
      },
      "execution_count": null,
      "outputs": []
    },
    {
      "cell_type": "markdown",
      "source": [
        "Exploring features related to Profitability and Solvency with high correlation to Bankruptcy"
      ],
      "metadata": {
        "id": "OQzU3EEXzEaK"
      }
    },
    {
      "cell_type": "code",
      "source": [
        "#Persistent EPS in the Last Four Seasons Histogram indicates that EPS <0.17 yields higher probability of bankruptcy\n",
        "\n",
        "histfunc = \"avg\"\n",
        "fig = px.histogram(df,\n",
        "                   x=' Persistent EPS in the Last Four Seasons',\n",
        "                   y=\"Bankrupt?\",\n",
        "                   histfunc=histfunc,\n",
        "                   title=f\"histfunc = {histfunc}\")\n",
        "fig.show()"
      ],
      "metadata": {
        "colab": {
          "base_uri": "https://localhost:8080/",
          "height": 542
        },
        "id": "Ch6EJAWqzLEI",
        "outputId": "fc9a46ec-01f7-41bf-aafd-25f41c2f8767"
      },
      "execution_count": 12,
      "outputs": [
        {
          "output_type": "display_data",
          "data": {
            "text/html": [
              "<html>\n",
              "<head><meta charset=\"utf-8\" /></head>\n",
              "<body>\n",
              "    <div>            <script src=\"https://cdnjs.cloudflare.com/ajax/libs/mathjax/2.7.5/MathJax.js?config=TeX-AMS-MML_SVG\"></script><script type=\"text/javascript\">if (window.MathJax) {MathJax.Hub.Config({SVG: {font: \"STIX-Web\"}});}</script>                <script type=\"text/javascript\">window.PlotlyConfig = {MathJaxConfig: 'local'};</script>\n",
              "        <script src=\"https://cdn.plot.ly/plotly-2.8.3.min.js\"></script>                <div id=\"dbfa3c25-763d-44be-a79f-caece0deb7f6\" class=\"plotly-graph-div\" style=\"height:525px; width:100%;\"></div>            <script type=\"text/javascript\">                                    window.PLOTLYENV=window.PLOTLYENV || {};                                    if (document.getElementById(\"dbfa3c25-763d-44be-a79f-caece0deb7f6\")) {                    Plotly.newPlot(                        \"dbfa3c25-763d-44be-a79f-caece0deb7f6\",                        [{\"alignmentgroup\":\"True\",\"bingroup\":\"x\",\"histfunc\":\"avg\",\"hovertemplate\":\" Persistent EPS in the Last Four Seasons=%{x}<br>avg of Bankrupt?=%{y}<extra></extra>\",\"legendgroup\":\"\",\"marker\":{\"color\":\"#636efa\",\"pattern\":{\"shape\":\"\"}},\"name\":\"\",\"offsetgroup\":\"\",\"orientation\":\"v\",\"showlegend\":false,\"x\":[0.16914058806845003,0.2089439349532,0.18058050486905605,0.19372222747470896,0.21253663609719198,0.174435095017491,0.161482461945731,0.22520563486810996,0.21839841164791501,0.21783114304623197,0.21896568024959803,0.20468942044057897,0.219343859317387,0.212914815164981,0.226434716838423,0.223787463363903,0.220194762219911,0.23305285052472302,0.220005672686017,0.21745296397844396,0.219343859317387,0.225394724402004,0.22322019476222002,0.21896568024959803,0.22189656802495997,0.20355488323721302,0.224260187198639,0.228420156944313,0.22057294128770003,0.17783870662758802,0.202514890800794,0.211023919826038,0.225394724402004,0.21820932211402103,0.21868204594875698,0.21357662853361103,0.209794837855725,0.21499480003781798,0.21537297910560602,0.212253001796351,0.22161293372411803,0.220667486054647,0.22548926916895104,0.22832561217736602,0.22284201569443102,0.22057294128770003,0.22284201569443102,0.225772903469793,0.219532948851281,0.21849295641486202,0.212442091330245,0.22388200813085002,0.22161293372411803,0.22189656802495997,0.20015127162711496,0.20601304717783897,0.0842393873499102,0.17500236361917404,0.21565661340644798,0.22095112035548803,0.21508934480476502,0.218871135482651,0.21055119599130198,0.21698024014370798,0.210645740758249,0.215751158173395,0.208849390186253,0.22255838139359002,0.21811477734707396,0.220100217452964,0.234943745863666,0.225772903469793,0.21981658315212302,0.236078283067032,0.227569254041789,0.21858750118181,0.226907440673159,0.21688569537676103,0.232485581923041,0.223598373830008,0.22369291859695603,0.19835492105512,0.21650751630897197,0.21896568024959803,0.215467523872554,0.211118464592985,0.22085657558854102,0.21584570294034197,0.211402098893826,0.21442753143613502,0.209983927389619,0.22889288077904898,0.22917651507989,0.218871135482651,0.227096530207053,0.232485581923041,0.21499480003781798,0.224165642431691,0.22955469414767898,0.22369291859695603,0.228609246478207,0.219343859317387,0.231351044719675,0.220100217452964,0.22180202325801301,0.22511109010116298,0.21461662097002898,0.23759099933818698,0.25243452774888897,0.208093032050676,0.20109671929658698,0.22038385175380498,0.211496643660773,0.216129337241184,0.23059468658409804,0.217074784910655,0.21594024770728898,0.216696605842867,0.21783114304623197,0.18143140777157998,0.20828212158457,0.20487850997447302,0.21877659071570396,0.22104566512243498,0.22180202325801301,0.24723456556679602,0.241278245249125,0.229081970312943,0.23116195518578,0.226623806372317,0.23778008887208105,0.212442091330245,0.20780939774983498,0.243830953956698,0.237023730736504,0.217074784910655,0.212063912262456,0.226718351139264,0.22104566512243498,0.21130755412687902,0.21991112791907003,0.24184551385080802,0.204783965207526,0.22028930698685797,0.22161293372411803,0.21499480003781798,0.24279096152027999,0.20922756925404198,0.224071097664744,0.21802023258012698,0.21461662097002898,0.248558192304056,0.21764205351233804,0.22700198544010602,0.230689231351045,0.233336484825565,0.236078283067032,0.219060225016545,0.209794837855725,0.264630802685071,0.259619930036872,0.21537297910560602,0.20185307743216396,0.22955469414767898,0.224260187198639,0.21660206107591898,0.21045665122435503,0.23229649238914601,0.21896568024959803,0.22322019476222002,0.22548926916895104,0.20922756925404198,0.235605559232296,0.232485581923041,0.22236929185969603,0.21896568024959803,0.21849295641486202,0.276448898553465,0.21726387444454898,0.227285619740947,0.223503829063061,0.233620119126406,0.237118275503451,0.22681289590621198,0.203743972771107,0.205729412876997,0.20100217452964,0.22369291859695603,0.20922756925404198,0.21263118086413899,0.206580315779522,0.19693674955091198,0.21584570294034197,0.20487850997447302,0.21263118086413899,0.21716932967760197,0.22634017207147603,0.21537297910560602,0.21159118842771998,0.21830386688096803,0.22038385175380498,0.208376666351517,0.223125649995273,0.248463647537109,0.213009359931928,0.20667486054646897,0.21130755412687902,0.219343859317387,0.19419495130944503,0.21518388957171203,0.226907440673159,0.227380164507894,0.22189656802495997,0.22548926916895104,0.22123475465632997,0.22511109010116298,0.219060225016545,0.25177271438025894,0.23957643944407697,0.220762030821594,0.23097286565188602,0.225394724402004,0.219438404084334,0.21972203838517498,0.210173016923513,0.23116195518578,0.236361917367874,0.226623806372317,0.217074784910655,0.22615108253758198,0.19693674955091198,0.19410040654249802,0.16715514796256,0.216223882008131,0.195424033279758,0.16743878226340198,0.19967854779238,0.21518388957171203,0.20629668147868,0.202514890800794,0.20100217452964,0.20128580883048103,0.194384040843339,0.20648577101257398,0.20450033090668399,0.211213009359932,0.21745296397844396,0.22983832844852,0.21839841164791501,0.21272572563108605,0.20988938262267198,0.202136711733006,0.21660206107591898,0.21404935236834602,0.210740285525196,0.236551006901768,0.20459487567363102,0.18965680249598196,0.21802023258012698,0.21480571050392397,0.205445778576156,0.21471116573697602,0.215562068639501,0.22123475465632997,0.21518388957171203,0.22369291859695603,0.21858750118181,0.22227474709274803,0.21754750874539103,0.211118464592985,0.20289306986858302,0.25508178122340897,0.23239103715609302,0.20128580883048103,0.227758343575683,0.22520563486810996,0.216696605842867,0.212158457029403,0.19939491349153798,0.22700198544010602,0.227191074974,0.23220194762219898,0.20468942044057897,0.223598373830008,0.22586744823674001,0.22095112035548803,0.216412971542025,0.21159118842771998,0.21319844946582198,0.21130755412687902,0.20856575588541199,0.212347546563298,0.20431124137279,0.21367117330055804,0.22104566512243498,0.21981658315212302,0.215562068639501,0.21868204594875698,0.20667486054646897,0.21329299423276898,0.21092937505908999,0.20468942044057897,0.212253001796351,0.24335823012196303,0.21764205351233804,0.18540228798336,0.216412971542025,0.22615108253758198,0.21395480760139898,0.21802023258012698,0.216129337241184,0.211118464592985,0.23021650751630898,0.21745296397844396,0.223787463363903,0.21565661340644798,0.212442091330245,0.21452207620308203,0.221423844190224,0.255554505058145,0.23031105228325602,0.198260376288172,0.223409284296114,0.261416280608868,0.22567835870284603,0.211023919826038,0.205918502410892,0.220100217452964,0.21594024770728898,0.236078283067032,0.24997636380826302,0.215278434338659,0.22520563486810996,0.214900255270871,0.21442753143613502,0.208849390186253,0.211213009359932,0.211402098893826,0.21357662853361103,0.20563486811005,0.21329299423276898,0.21338753899971602,0.220100217452964,0.21660206107591898,0.219060225016545,0.205729412876997,0.21319844946582198,0.212347546563298,0.21660206107591898,0.211685733194668,0.24212914815165,0.215278434338659,0.21518388957171203,0.21792568781317997,0.220005672686017,0.213482083766663,0.21764205351233804,0.19561312281365198,0.21130755412687902,0.22567835870284603,0.215751158173395,0.226623806372317,0.21461662097002898,0.21508934480476502,0.209416658787936,0.215278434338659,0.269263496265482,0.22652926160537,0.17698780372506398,0.227285619740947,0.266427153257067,0.22388200813085002,0.20554032334310302,0.19797674198733103,0.22085657558854102,0.19882764488985502,0.22983832844852,0.25129999054552304,0.21735841921149698,0.203838517538054,0.237401909804292,0.212442091330245,0.21395480760139898,0.21159118842771998,0.211780277961615,0.212914815164981,0.20431124137279,0.213482083766663,0.21508934480476502,0.21159118842771998,0.22293656046137802,0.215562068639501,0.21764205351233804,0.20629668147868,0.212347546563298,0.21319844946582198,0.21442753143613502,0.22255838139359002,0.234281932495036,0.21414389713529397,0.200529450694904,0.21480571050392397,0.225583813935899,0.20525668904226102,0.21877659071570396,0.21849295641486202,0.223314739529167,0.219438404084334,0.216696605842867,0.224449276732533,0.209794837855725,0.20866030065235897,0.20988938262267198,0.207053039614257,0.259147206202137,0.227758343575683,0.16611515552614198,0.235416469698402,0.26169991490971,0.22586744823674001,0.210740285525196,0.20828212158457,0.21783114304623197,0.21518388957171203,0.23220194762219898,0.235605559232296,0.208849390186253,0.143708045759667,0.234092842961142,0.21461662097002898,0.21187482272856198,0.20109671929658698,0.201191264063534,0.212253001796351,0.198544010589014,0.20260943556774103,0.22189656802495997,0.212158457029403,0.227191074974,0.21319844946582198,0.21650751630897197,0.207242129148152,0.200529450694904,0.21414389713529397,0.19268223503829102,0.216412971542025,0.22785288834263,0.213482083766663,0.18379502694525898,0.21404935236834602,0.211780277961615,0.211023919826038,0.208093032050676,0.215751158173395,0.21471116573697602,0.213009359931928,0.22322019476222002,0.22548926916895104,0.21471116573697602,0.211496643660773,0.21471116573697602,0.201758532665217,0.256121773659828,0.22255838139359002,0.17916233336484802,0.235416469698402,0.259903564337714,0.225300179635057,0.20875484541930606,0.210173016923513,0.223125649995273,0.20185307743216396,0.229365604613785,0.22388200813085002,0.219060225016545,0.205729412876997,0.204783965207526,0.23853644700765803,0.21802023258012698,0.21423844190224103,0.21518388957171203,0.216223882008131,0.214900255270871,0.21423844190224103,0.203271248936371,0.21584570294034197,0.22274747092748395,0.233620119126406,0.215278434338659,0.224732911033374,0.20260943556774103,0.21868204594875698,0.21650751630897197,0.22199111279190697,0.219060225016545,0.227474709274842,0.21565661340644798,0.219532948851281,0.21518388957171203,0.21802023258012698,0.21395480760139898,0.221423844190224,0.216129337241184,0.21026756169046,0.21660206107591898,0.223598373830008,0.21508934480476502,0.21092937505908999,0.21471116573697602,0.21319844946582198,0.199584003025433,0.252529072515836,0.22038385175380498,0.185496832750307,0.232107402855252,0.286943367684599,0.226245627304529,0.220194762219911,0.21830386688096803,0.22435473196558603,0.20799848728372897,0.233147395291671,0.21991112791907003,0.21745296397844396,0.257823579464877,0.177271438025905,0.196085846648388,0.18946771296208803,0.223125649995273,0.21404935236834602,0.214900255270871,0.20402760707194897,0.20450033090668399,0.210173016923513,0.21716932967760197,0.183133213576629,0.21537297910560602,0.202514890800794,0.230405597050203,0.21754750874539103,0.21404935236834602,0.206863950080363,0.210078472156566,0.216223882008131,0.21480571050392397,0.183511392644417,0.206769405313416,0.215562068639501,0.223503829063061,0.215751158173395,0.19334404840692102,0.206863950080363,0.204783965207526,0.203082159402477,0.202798525101636,0.20667486054646897,0.220100217452964,0.205067599508367,0.20497305474142,0.212158457029403,0.220667486054647,0.192020421669661,0.22511109010116298,0.21404935236834602,0.19126406353408298,0.226434716838423,0.23352557435945898,0.227096530207053,0.212347546563298,0.20402760707194897,0.22293656046137802,0.1774605275598,0.22605653777063395,0.225583813935899,0.195424033279758,0.252339982981942,0.153446156755224,0.21981658315212302,0.21660206107591898,0.203838517538054,0.226434716838423,0.21924931455044,0.210834830292143,0.23059468658409804,0.223314739529167,0.22652926160537,0.214900255270871,0.227947433109577,0.228420156944313,0.22615108253758198,0.23466011156282499,0.224260187198639,0.23447102202893105,0.227474709274842,0.22652926160537,0.267278056159592,0.229743783681573,0.222463836626643,0.23834735747376398,0.267750779994327,0.228798336012102,0.225772903469793,0.229743783681573,0.22898742554599602,0.248558192304056,0.200529450694904,0.23796917840597498,0.21461662097002898,0.200056726860168,0.219060225016545,0.21584570294034197,0.22454382149948002,0.24732911033374302,0.227758343575683,0.22369291859695603,0.21452207620308203,0.23456556679587803,0.22284201569443102,0.21565661340644798,0.1906967949324,0.22832561217736602,0.23229649238914601,0.221707478491065,0.21735841921149698,0.22520563486810996,0.22652926160537,0.23371466389335302,0.20762030821594,0.212914815164981,0.255270870757304,0.244303677791434,0.214900255270871,0.225583813935899,0.226245627304529,0.21868204594875698,0.21518388957171203,0.24260187198638603,0.21962749361822798,0.23031105228325602,0.20828212158457,0.21991112791907003,0.21716932967760197,0.22435473196558603,0.222463836626643,0.219532948851281,0.210740285525196,0.223598373830008,0.21319844946582198,0.22028930698685797,0.21858750118181,0.21991112791907003,0.21187482272856198,0.20289306986858302,0.22511109010116298,0.21981658315212302,0.186442280419779,0.212347546563298,0.22511109010116298,0.233620119126406,0.21915476978349202,0.20780939774983498,0.21650751630897197,0.229271059846837,0.21187482272856198,0.253474520185308,0.226907440673159,0.219532948851281,0.245816394062589,0.25375815448614897,0.22615108253758198,0.22388200813085002,0.24449276732532896,0.21877659071570396,0.23863099177460503,0.22123475465632997,0.24657275219816602,0.22132929942327698,0.251678169613312,0.221140209889383,0.22369291859695603,0.227191074974,0.235605559232296,0.235132835397561,0.21688569537676103,0.21698024014370798,0.215467523872554,0.21716932967760197,0.22388200813085002,0.22151838895717102,0.194478585610286,0.22454382149948002,0.23021650751630898,0.243074595821121,0.22236929185969603,0.223976552897797,0.230027417982415,0.224071097664744,0.227191074974,0.224071097664744,0.240521887113548,0.25186725914720604,0.224260187198639,0.22388200813085002,0.220194762219911,0.216696605842867,0.24298005105417397,0.22255838139359002,0.251205445778576,0.22851470171126,0.24156187954996697,0.22161293372411803,0.228041977876525,0.18587501181809601,0.227191074974,0.229081970312943,0.179256878131795,0.223976552897797,0.215278434338659,0.212158457029403,0.227096530207053,0.21858750118181,0.228703791245155,0.213482083766663,0.22180202325801301,0.21518388957171203,0.21754750874539103,0.21802023258012698,0.24666729696511303,0.24165642431691398,0.236929185969557,0.22151838895717102,0.24468185685922303,0.21187482272856198,0.264819892218966,0.21915476978349202,0.251583624846365,0.253096341117519,0.231351044719675,0.214900255270871,0.22586744823674001,0.231445589486622,0.241940058617755,0.21972203838517498,0.22511109010116298,0.22964923891462602,0.22482745580032104,0.264819892218966,0.253474520185308,0.220762030821594,0.22993287321546801,0.272194384040843,0.230027417982415,0.251583624846365,0.239860073744918,0.24487094639311702,0.240994610948284,0.22681289590621198,0.22898742554599602,0.229743783681573,0.30547414200624,0.277394346222937,0.22511109010116298,0.224922000567269,0.21924931455044,0.227474709274842,0.21839841164791501,0.22303110522832603,0.250165453342158,0.256027228892881,0.234754656329772,0.22851470171126,0.224260187198639,0.21499480003781798,0.22501654533421603,0.224165642431691,0.230689231351045,0.273328921244209,0.20128580883048103,0.23059468658409804,0.22785288834263,0.22511109010116298,0.292616053701428,0.23239103715609302,0.270019854401059,0.233431029592512,0.21187482272856198,0.229743783681573,0.24004916327881304,0.24402004349059303,0.24553275976174696,0.22766379880873602,0.260754467240238,0.22180202325801301,0.227191074974,0.22047839652075302,0.21565661340644798,0.228041977876525,0.221140209889383,0.236740096435662,0.21745296397844396,0.207053039614257,0.21442753143613502,0.220194762219911,0.220762030821594,0.24354731965585702,0.211213009359932,0.224732911033374,0.222652926160537,0.23976552897797102,0.19636948094922896,0.26718351139264396,0.22454382149948002,0.26897986196464,0.24364186442280397,0.224260187198639,0.22511109010116298,0.24288550628722697,0.21802023258012698,0.25186725914720604,0.203838517538054,0.23229649238914601,0.2089439349532,0.243830953956698,0.252529072515836,0.23352557435945898,0.21849295641486202,0.26302354164697,0.255649049825092,0.226623806372317,0.243169140588068,0.22189656802495997,0.24137279001607298,0.250449087642999,0.216696605842867,0.244587312092276,0.241940058617755,0.235038290630614,0.22095112035548803,0.28902335255743605,0.227285619740947,0.21839841164791501,0.221707478491065,0.20015127162711496,0.220100217452964,0.24666729696511303,0.254136333553938,0.22889288077904898,0.22615108253758198,0.21839841164791501,0.20062399546185103,0.235132835397561,0.23286376099082898,0.20856575588541199,0.25772903469792896,0.22615108253758198,0.22095112035548803,0.21480571050392397,0.20336579370331798,0.31436135009927196,0.23097286565188602,0.2842015694431311,0.239860073744918,0.196558570483124,0.22889288077904898,0.233147395291671,0.274747092748416,0.24335823012196303,0.226623806372317,0.23872553654155199,0.230405597050203,0.21395480760139898,0.23286376099082898,0.224638366266427,0.20856575588541199,0.225300179635057,0.21754750874539103,0.23286376099082898,0.21745296397844396,0.209133024487095,0.214900255270871,0.21915476978349202,0.227758343575683,0.229460149380732,0.21868204594875698,0.227096530207053,0.22161293372411803,0.23286376099082898,0.209511203554883,0.252812706816678,0.235227380164508,0.277299801455989,0.23021650751630898,0.24723456556679602,0.23050014181715,0.233809208660301,0.227474709274842,0.206863950080363,0.215751158173395,0.2520563486811,0.215751158173395,0.269452585799376,0.264819892218966,0.228609246478207,0.209794837855725,0.231351044719675,0.22274747092748395,0.239860073744918,0.223314739529167,0.24515458069395898,0.264819892218966,0.254609057388674,0.19769310768649,0.24364186442280397,0.254987236456462,0.18379502694525898,0.233620119126406,0.26103810154108,0.221140209889383,0.20620213671173301,0.22028930698685797,0.21508934480476502,0.234092842961142,0.21471116573697602,0.24874728183795,0.230405597050203,0.224922000567269,0.21480571050392397,0.222463836626643,0.22047839652075302,0.232580126689988,0.203743972771107,0.248274558003214,0.227380164507894,0.21896568024959803,0.207714852982887,0.194478585610286,0.29242696416753305,0.23447102202893105,0.27701616715514804,0.24572184929564103,0.21839841164791501,0.241278245249125,0.24212914815165,0.279852510163562,0.25139453531247,0.23059468658409804,0.24808546846932,0.19930036872459098,0.209133024487095,0.233336484825565,0.224732911033374,0.20601304717783897,0.232769216223882,0.22104566512243498,0.22898742554599602,0.21745296397844396,0.20648577101257398,0.191642242601872,0.220194762219911,0.24477640162617,0.232769216223882,0.230027417982415,0.22104566512243498,0.21849295641486202,0.231256499952728,0.209416658787936,0.257918124231824,0.22983832844852,0.27625980901957103,0.23730736503734498,0.235227380164508,0.23778008887208105,0.229460149380732,0.24657275219816602,0.18095868393684397,0.225300179635057,0.25375815448614897,0.225300179635057,0.25129999054552304,0.247612744634584,0.22218020232580102,0.21745296397844396,0.226907440673159,0.221140209889383,0.22322019476222002,0.25073272194384,0.27654344332041203,0.247518199867637,0.23929280514323498,0.22208565755885395,0.258296303299612,0.25328543065141296,0.19173678736881897,0.22605653777063395,0.244965491160064,0.223976552897797,0.209794837855725,0.223314739529167,0.21716932967760197,0.23768554410513398,0.212063912262456,0.24940909520657997,0.22388200813085002,0.22964923891462602,0.220762030821594,0.21471116573697602,0.224732911033374,0.241183700482178,0.19967854779238,0.26113264630802696,0.22236929185969603,0.22832561217736602,0.220667486054647,0.193533137940815,0.3098232012858089,0.234281932495036,0.27994705493051,0.24723456556679602,0.22057294128770003,0.245249125460906,0.23957643944407697,0.273990734612839,0.25716176609624697,0.23182376855441,0.256027228892881,0.199867637326274,0.162427909615203,0.22851470171126,0.226718351139264,0.20402760707194897,0.235038290630614,0.212914815164981,0.22605653777063395,0.20714758438120398,0.19239860073744897,0.16696605842866596,0.22303110522832603,0.24572184929564103,0.22180202325801301,0.222463836626643,0.23163467902051602,0.21716932967760197,0.230405597050203,0.215562068639501,0.23929280514323498,0.21820932211402103,0.255365415524251,0.226718351139264,0.21650751630897197,0.248369102770162,0.207903942516782,0.220100217452964,0.155526141628061,0.209038479720147,0.25328543065141296,0.219438404084334,0.24799092370237302,0.226623806372317,0.20922756925404198,0.21395480760139898,0.20185307743216396,0.22511109010116298,0.25139453531247,0.25971447480382,0.23418738772808897,0.228136522643472,0.215467523872554,0.219532948851281,0.21726387444454898,0.25262361728278304,0.243830953956698,0.16620970029308899,0.22482745580032104,0.24222369291859697,0.220762030821594,0.226245627304529,0.22208565755885395,0.22132929942327698,0.21754750874539103,0.221140209889383,0.216791150609814,0.24023825281270703,0.224449276732533,0.228798336012102,0.200718540228798,0.205918502410892,0.209700293088778,0.22567835870284603,0.20450033090668399,0.256783587028458,0.23305285052472302,0.22047839652075302,0.21452207620308203,0.18587501181809601,0.270208943934953,0.217074784910655,0.250638177176893,0.234281932495036,0.219532948851281,0.23759099933818698,0.250354542876052,0.236361917367874,0.22832561217736602,0.176893258958117,0.209700293088778,0.20223125649995302,0.22303110522832603,0.22634017207147603,0.21896568024959803,0.21471116573697602,0.21820932211402103,0.21452207620308203,0.219060225016545,0.206391226245627,0.219532948851281,0.231729223787463,0.21868204594875698,0.22104566512243498,0.18511865368251898,0.20468942044057897,0.215751158173395,0.20695849484731,0.21461662097002898,0.21404935236834602,0.21698024014370798,0.20856575588541199,0.21924931455044,0.207242129148152,0.209511203554883,0.22785288834263,0.21783114304623197,0.22180202325801301,0.178405975229271,0.21745296397844396,0.17878415429706,0.219060225016545,0.22047839652075302,0.22236929185969603,0.223409284296114,0.22511109010116298,0.23087832088493898,0.219060225016545,0.22132929942327698,0.21518388957171203,0.21688569537676103,0.228231067410419,0.21896568024959803,0.21924931455044,0.21773659827928502,0.191169518767136,0.21660206107591898,0.219532948851281,0.21461662097002898,0.22255838139359002,0.224165642431691,0.226623806372317,0.230405597050203,0.207431218682046,0.21811477734707396,0.215278434338659,0.21896568024959803,0.20090762976269302,0.227285619740947,0.22766379880873602,0.21915476978349202,0.219343859317387,0.19636948094922896,0.22955469414767898,0.20355488323721302,0.215278434338659,0.209794837855725,0.209416658787936,0.226907440673159,0.22615108253758198,0.21981658315212302,0.218871135482651,0.193533137940815,0.21631842677507798,0.226623806372317,0.16620970029308899,0.22293656046137802,0.23154013425356898,0.21026756169046,0.22199111279190697,0.22189656802495997,0.20667486054646897,0.22993287321546801,0.220667486054647,0.207903942516782,0.21820932211402103,0.18890044436040498,0.231729223787463,0.22785288834263,0.22454382149948002,0.229743783681573,0.22274747092748395,0.226718351139264,0.21508934480476502,0.22085657558854102,0.21319844946582198,0.196464025716177,0.208187576817623,0.224260187198639,0.232958305757776,0.227758343575683,0.226718351139264,0.221423844190224,0.233620119126406,0.22123475465632997,0.223598373830008,0.21442753143613502,0.19967854779238,0.226623806372317,0.198733100122908,0.22274747092748395,0.197220383851754,0.224922000567269,0.23447102202893105,0.22208565755885395,0.220100217452964,0.22038385175380498,0.199584003025433,0.22681289590621198,0.21991112791907003,0.207525763448993,0.222463836626643,0.203082159402477,0.211780277961615,0.228609246478207,0.227096530207053,0.21802023258012698,0.22615108253758198,0.21282027039803303,0.225772903469793,0.215467523872554,0.21924931455044,0.198733100122908,0.20194762219911103,0.214900255270871,0.224260187198639,0.232485581923041,0.236929185969557,0.22681289590621198,0.22634017207147603,0.221423844190224,0.22454382149948002,0.21849295641486202,0.20497305474142,0.224732911033374,0.21792568781317997,0.20922756925404198,0.206107591944786,0.21792568781317997,0.211118464592985,0.227191074974,0.21792568781317997,0.211213009359932,0.22028930698685797,0.19769310768649,0.21461662097002898,0.22293656046137802,0.218871135482651,0.21792568781317997,0.21820932211402103,0.220667486054647,0.21386026283445198,0.21452207620308203,0.224071097664744,0.20497305474142,0.21745296397844396,0.215751158173395,0.21499480003781798,0.21792568781317997,0.23551101446534897,0.22274747092748395,0.225583813935899,0.23031105228325602,0.20185307743216396,0.21452207620308203,0.22038385175380498,0.235132835397561,0.25139453531247,0.22132929942327698,0.219060225016545,0.233431029592512,0.21792568781317997,0.21773659827928502,0.236929185969557,0.223125649995273,0.23371466389335302,0.22634017207147603,0.22161293372411803,0.251205445778576,0.232107402855252,0.248841826604897,0.231067410418833,0.217074784910655,0.228798336012102,0.22596199300368697,0.232012858088305,0.23097286565188602,0.230783776117992,0.22180202325801301,0.23286376099082898,0.220762030821594,0.23768554410513398,0.225394724402004,0.23220194762219898,0.21877659071570396,0.221140209889383,0.232012858088305,0.21820932211402103,0.24203460338470298,0.248274558003214,0.25451451262172603,0.234281932495036,0.226623806372317,0.22028930698685797,0.232769216223882,0.262834452113076,0.21282027039803303,0.24014370804576002,0.205067599508367,0.27937978632882693,0.255554505058145,0.258769027134348,0.237118275503451,0.257539945164035,0.21849295641486202,0.276354353786518,0.239860073744918,0.21735841921149698,0.19731492861870104,0.277772525290725,0.24175096908386104,0.24449276732532896,0.23796917840597498,0.24742365510069,0.24704547603290197,0.23683464120260897,0.23778008887208105,0.22596199300368697,0.234281932495036,0.254892691689515,0.18814408622482698,0.19769310768649,0.209700293088778,0.211402098893826,0.229271059846837,0.22851470171126,0.21319844946582198,0.223598373830008,0.223787463363903,0.22435473196558603,0.23286376099082898,0.23948189467713002,0.227096530207053,0.229365604613785,0.18162049730547397,0.19807128675427801,0.22180202325801301,0.23532192493145498,0.21338753899971602,0.20922756925404198,0.231067410418833,0.228231067410419,0.22993287321546801,0.270114399168006,0.23617282783397897,0.25262361728278304,0.25092181147773496,0.23352557435945898,0.22681289590621198,0.233903753427248,0.23957643944407697,0.27361255554505104,0.22634017207147603,0.260092653871608,0.20062399546185103,0.205918502410892,0.24628911789732397,0.207714852982887,0.34660111562825,0.214900255270871,0.197598562919542,0.21452207620308203,0.21442753143613502,0.22548926916895104,0.224165642431691,0.209511203554883,0.21395480760139898,0.240521887113548,0.23097286565188602,0.230121962749362,0.225300179635057,0.260849012007185,0.216223882008131,0.226718351139264,0.22057294128770003,0.21811477734707396,0.22293656046137802,0.20260943556774103,0.235227380164508,0.26595442942233105,0.21991112791907003,0.21404935236834602,0.22501654533421603,0.22596199300368697,0.21357662853361103,0.22095112035548803,0.256689042261511,0.219438404084334,0.241089155715231,0.20109671929658698,0.251110901011629,0.20799848728372897,0.226718351139264,0.26236172827834,0.23910371560934102,0.201380353597428,0.232485581923041,0.21820932211402103,0.21981658315212302,0.20629668147868,0.21461662097002898,0.264063534083388,0.285052472345656,0.18540228798336,0.22634017207147603,0.19287132457218498,0.20298761463553,0.190413160631559,0.23163467902051602,0.18379502694525898,0.20431124137279,0.21386026283445198,0.204405786139737,0.209038479720147,0.23815826793986897,0.228136522643472,0.198733100122908,0.19948945825848496,0.223787463363903,0.163656991585516,0.207714852982887,0.18010778103431999,0.20563486811005,0.21565661340644798,0.22284201569443102,0.23418738772808897,0.21716932967760197,0.22700198544010602,0.223503829063061,0.244587312092276,0.270019854401059,0.235132835397561,0.24354731965585702,0.25243452774888897,0.22615108253758198,0.236551006901768,0.22851470171126,0.24165642431691398,0.273518010778103,0.23163467902051602,0.256594497494564,0.21565661340644798,0.22586744823674001,0.22095112035548803,0.257918124231824,0.25508178122340897,0.22889288077904898,0.236929185969557,0.210645740758249,0.236361917367874,0.200056726860168,0.20043490592795699,0.20336579370331798,0.201758532665217,0.213765718067505,0.216129337241184,0.248558192304056,0.313604991963695,0.23116195518578,0.261983549210551,0.249881819041316,0.21839841164791501,0.22189656802495997,0.237874633639028,0.22180202325801301,0.21329299423276898,0.20393306230500102,0.207431218682046,0.223598373830008,0.239954618511865,0.22028930698685797,0.199867637326274,0.21820932211402103,0.22983832844852,0.21811477734707396,0.215278434338659,0.264914436985913,0.21849295641486202,0.22917651507989,0.22889288077904898,0.24004916327881304,0.23456556679587803,0.229743783681573,0.231729223787463,0.219438404084334,0.202703980334688,0.225300179635057,0.21726387444454898,0.209038479720147,0.22567835870284603,0.21981658315212302,0.231445589486622,0.26585988465538396,0.177365982792852,0.22501654533421603,0.24506003592701103,0.18521319844946602,0.20563486811005,0.20459487567363102,0.20554032334310302,0.216696605842867,0.202420346033847,0.158173395102581,0.20563486811005,0.21830386688096803,0.23532192493145498,0.23116195518578,0.22284201569443102,0.199111279190697,0.23815826793986897,0.199205823957644,0.212347546563298,0.240332797579654,0.202514890800794,0.228609246478207,0.228041977876525,0.207525763448993,0.28703791245154603,0.21773659827928502,0.24269641675333303,0.223787463363903,0.20109671929658698,0.222463836626643,0.21338753899971602,0.22652926160537,0.24657275219816602,0.20582395764394398,0.221707478491065,0.20355488323721302,0.237401909804292,0.22548926916895104,0.220005672686017,0.228136522643472,0.23286376099082898,0.21631842677507798,0.21698024014370798,0.21991112791907003,0.224732911033374,0.23749645457123897,0.23598373830008498,0.224449276732533,0.212253001796351,0.17424600548359603,0.210740285525196,0.173489647348019,0.23749645457123897,0.233431029592512,0.19778765245343696,0.22274747092748395,0.24146733478302,0.18899498912735196,0.24345277488891,0.19060225016545299,0.194951309445022,0.202798525101636,0.21395480760139898,0.206580315779522,0.0785667013330812,0.186536825186726,0.222652926160537,0.18937316819514002,0.225772903469793,0.218871135482651,0.21972203838517498,0.215467523872554,0.209322114020989,0.21414389713529397,0.213765718067505,0.19882764488985502,0.21518388957171203,0.19343859317386802,0.297910560650468,0.223314739529167,0.21650751630897197,0.19173678736881897,0.215751158173395,0.210834830292143,0.20147489836437502,0.220100217452964,0.22917651507989,0.21537297910560602,0.21461662097002898,0.22303110522832603,0.21461662097002898,0.195140398978917,0.23437647726198396,0.20601304717783897,0.21735841921149698,0.20601304717783897,0.20468942044057897,0.207525763448993,0.215278434338659,0.214900255270871,0.229460149380732,0.20090762976269302,0.260943556774133,0.21036210645740802,0.21263118086413899,0.226907440673159,0.208376666351517,0.18700954902146202,0.207714852982887,0.21991112791907003,0.21660206107591898,0.22208565755885395,0.214900255270871,0.167060603195613,0.190224071097665,0.21688569537676103,0.231729223787463,0.22095112035548803,0.228136522643472,0.192020421669661,0.21565661340644798,0.195802212347547,0.185969556585043,0.169518767136239,0.19627493618228198,0.225772903469793,0.240616431880495,0.216129337241184,0.275787085184835,0.210645740758249,0.237401909804292,0.233147395291671,0.22548926916895104,0.228609246478207,0.21499480003781798,0.20582395764394398,0.255554505058145,0.213103904698875,0.21754750874539103,0.22189656802495997,0.220100217452964,0.19060225016545299,0.221707478491065,0.224260187198639,0.184929564148624,0.24250732721943802,0.227947433109577,0.224449276732533,0.219532948851281,0.22388200813085002,0.23182376855441,0.21962749361822798,0.223787463363903,0.236078283067032,0.23948189467713002,0.219532948851281,0.228231067410419,0.232107402855252,0.243074595821121,0.20128580883048103,0.22511109010116298,0.225300179635057,0.183322303110523,0.22322019476222002,0.249125460905739,0.23182376855441,0.22151838895717102,0.187198638555356,0.258296303299612,0.18379502694525898,0.198544010589014,0.18767136239009197,0.23768554410513398,0.205445778576156,0.21811477734707396,0.20185307743216396,0.208471211118465,0.225583813935899,0.14011534461567599,0.21868204594875698,0.21423844190224103,0.19599130188144104,0.195234943745864,0.2023258012669,0.21357662853361103,0.227191074974,0.227285619740947,0.22028930698685797,0.22567835870284603,0.21508934480476502,0.227096530207053,0.21282027039803303,0.22123475465632997,0.234281932495036,0.21849295641486202,0.220100217452964,0.189278623428193,0.210078472156566,0.210645740758249,0.212914815164981,0.212442091330245,0.235038290630614,0.21584570294034197,0.207242129148152,0.19599130188144104,0.22057294128770003,0.20667486054646897,0.220194762219911,0.223503829063061,0.21660206107591898,0.21442753143613502,0.22236929185969603,0.21594024770728898,0.224638366266427,0.21660206107591898,0.21783114304623197,0.19627493618228198,0.259903564337714,0.223409284296114,0.20166398789827,0.220762030821594,0.200529450694904,0.21433298666918804,0.20648577101257398,0.20450033090668399,0.213103904698875,0.21811477734707396,0.209983927389619,0.19731492861870104,0.21272572563108605,0.204405786139737,0.223409284296114,0.231351044719675,0.231918313321358,0.19220951120355498,0.18965680249598196,0.12234092842961099,0.177365982792852,0.136806277772525,0.19457313037723395,0.13775172544199699,0.192020421669661,0.20100217452964,0.19192587690271304,0.218871135482651,0.223125649995273,0.21508934480476502,0.205729412876997,0.24449276732532896,0.23768554410513398,0.228231067410419,0.237212820270398,0.21962749361822798,0.203271248936371,0.290819703129432,0.21594024770728898,0.21452207620308203,0.20582395764394398,0.21471116573697602,0.189940436796823,0.19372222747470896,0.224165642431691,0.210078472156566,0.21830386688096803,0.21650751630897197,0.22388200813085002,0.21745296397844396,0.223598373830008,0.224449276732533,0.21849295641486202,0.23929280514323498,0.21130755412687902,0.25905266143519,0.22369291859695603,0.22303110522832603,0.228609246478207,0.24562730452869397,0.240994610948284,0.18682045948756698,0.235700103999244,0.23976552897797102,0.202798525101636,0.22454382149948002,0.232958305757776,0.247518199867637,0.22596199300368697,0.24241278245249104,0.252529072515836,0.18256594497494602,0.20260943556774103,0.194478585610286,0.235700103999244,0.21518388957171203,0.247140020799849,0.226623806372317,0.20525668904226102,0.23730736503734498,0.21537297910560602,0.20128580883048103,0.20535123380920897,0.227569254041789,0.18379502694525898,0.22293656046137802,0.21565661340644798,0.21603479247423701,0.20431124137279,0.200056726860168,0.233336484825565,0.211496643660773,0.20364942800416,0.206863950080363,0.220194762219911,0.14956982131039,0.20090762976269302,0.193154958873026,0.190413160631559,0.14351895622577301,0.22151838895717102,0.221707478491065,0.19561312281365198,0.21433298666918804,0.19324950363997304,0.219060225016545,0.21187482272856198,0.18908953389429897,0.215467523872554,0.20364942800416,0.227096530207053,0.227380164507894,0.126217263874445,0.22236929185969603,0.20799848728372897,0.229365604613785,0.22199111279190697,0.22057294128770003,0.22161293372411803,0.21868204594875698,0.2089439349532,0.232580126689988,0.21896568024959803,0.208471211118465,0.237023730736504,0.23097286565188602,0.18767136239009197,0.17897324383095398,0.19239860073744897,0.19031861586461202,0.20336579370331798,0.10182471400208,0.211118464592985,0.18606410135199,0.21594024770728898,0.115060981374681,0.0,0.162049730547414,0.17103148340739302,0.17292237874633598,0.21253663609719198,0.228798336012102,0.21537297910560602,0.192114966436608,0.23116195518578,0.235227380164508,0.201191264063534,0.231067410418833,0.210834830292143,0.30604141060792306,0.22785288834263,0.22227474709274803,0.18379502694525898,0.21858750118181,0.224071097664744,0.20554032334310302,0.209794837855725,0.21735841921149698,0.204783965207526,0.21972203838517498,0.235038290630614,0.215467523872554,0.280703413066087,0.218871135482651,0.235227380164508,0.232012858088305,0.21404935236834602,0.22832561217736602,0.21508934480476502,0.226718351139264,0.22303110522832603,0.228703791245155,0.21480571050392397,0.24014370804576002,0.178689609530112,0.213482083766663,0.200245816394063,0.22482745580032104,0.25867448236740104,0.21820932211402103,0.223787463363903,0.24260187198638603,0.221707478491065,0.20516214427531398,0.21159118842771998,0.22482745580032104,0.223976552897797,0.21716932967760197,0.211402098893826,0.228420156944313,0.22596199300368697,0.22095112035548803,0.19769310768649,0.223314739529167,0.22104566512243498,0.19060225016545299,0.21026756169046,0.20081308499574502,0.184267750779994,0.220194762219911,0.19410040654249802,0.183133213576629,0.21499480003781798,0.20100217452964,0.16743878226340198,0.23437647726198396,0.210173016923513,0.22322019476222002,0.20714758438120398,0.21452207620308203,0.20355488323721302,0.20364942800416,0.229365604613785,0.23834735747376398,0.146733478301976,0.169235132835398,0.236078283067032,0.143991680060509,0.220667486054647,0.20081308499574502,0.21584570294034197,0.16119882764489002,0.21811477734707396,0.240616431880495,0.21820932211402103,0.22917651507989,0.20090762976269302,0.259241750969084,0.198733100122908,0.21991112791907003,0.20468942044057897,0.209983927389619,0.191642242601872,0.133497210929375,0.20922756925404198,0.17122057294128798,0.22964923891462602,0.21896568024959803,0.19882764488985502,0.176231445589487,0.22284201569443102,0.20298761463553,0.19391131700860395,0.257445400397088,0.23834735747376398,0.21991112791907003,0.227380164507894,0.20081308499574502,0.228041977876525,0.227285619740947,0.21849295641486202,0.22199111279190697,0.197220383851754,0.19674766001701802,0.20034036116101,0.21584570294034197,0.19797674198733103,0.19154769783492498,0.19324950363997304,0.230689231351045,0.216223882008131,0.197598562919542,0.197598562919542,0.21565661340644798,0.22955469414767898,0.22482745580032104,0.153067977687435,0.190224071097665,0.2089439349532,0.20100217452964,0.187198638555356,0.16932967760234502,0.22274747092748395,0.216129337241184,0.21924931455044,0.15987520090763,0.19835492105512,0.23305285052472302,0.227096530207053,0.22605653777063395,0.21386026283445198,0.216791150609814,0.20582395764394398,0.211780277961615,0.23598373830008498,0.21849295641486202,0.226623806372317,0.21972203838517498,0.19400586177555104,0.213009359931928,0.158173395102581,0.20421669660584302,0.163656991585516,0.189845892029876,0.171409662475182,0.22615108253758198,0.209322114020989,0.21924931455044,0.227947433109577,0.225583813935899,0.223409284296114,0.224449276732533,0.220100217452964,0.23229649238914601,0.21603479247423701,0.21858750118181,0.213765718067505,0.21508934480476502,0.212253001796351,0.18672591472062,0.172449654911601,0.20185307743216396,0.21688569537676103,0.21461662097002898,0.21915476978349202,0.21045665122435503,0.206580315779522,0.21423844190224103,0.216696605842867,0.206863950080363,0.23286376099082898,0.195896757114494,0.20185307743216396,0.19807128675427801,0.230783776117992,0.19939491349153798,0.226718351139264,0.221423844190224,0.23352557435945898,0.230027417982415,0.22785288834263,0.2388200813085,0.24004916327881304,0.212914815164981,0.21792568781317997,0.253474520185308,0.228798336012102,0.219343859317387,0.22435473196558603,0.247518199867637,0.221707478491065,0.226245627304529,0.21480571050392397,0.229460149380732,0.21858750118181,0.24865273707100302,0.22369291859695603,0.243736409189751,0.223976552897797,0.22189656802495997,0.25867448236740104,0.225300179635057,0.252339982981942,0.22766379880873602,0.19268223503829102,0.22993287321546801,0.235416469698402,0.21263118086413899,0.23163467902051602,0.210078472156566,0.20459487567363102,0.252529072515836,0.21253663609719198,0.21461662097002898,0.210645740758249,0.127540890611705,0.22388200813085002,0.20289306986858302,0.219438404084334,0.210645740758249,0.21508934480476502,0.20856575588541199,0.205067599508367,0.208187576817623,0.22454382149948002,0.19882764488985502,0.20516214427531398,0.213765718067505,0.203743972771107,0.20336579370331798,0.21849295641486202,0.22161293372411803,0.22369291859695603,0.22180202325801301,0.225300179635057,0.23154013425356898,0.26538716082064895,0.22199111279190697,0.21962749361822798,0.27994705493051,0.20563486811005,0.21594024770728898,0.21896568024959803,0.22057294128770003,0.225300179635057,0.212063912262456,0.212914815164981,0.224449276732533,0.21055119599130198,0.24506003592701103,0.197125839084807,0.228609246478207,0.21896568024959803,0.220194762219911,0.249125460905739,0.23050014181715,0.23532192493145498,0.223314739529167,0.22766379880873602,0.21773659827928502,0.22047839652075302,0.21565661340644798,0.22284201569443102,0.192020421669661,0.19306041410607896,0.197125839084807,0.214900255270871,0.21130755412687902,0.20450033090668399,0.21338753899971602,0.209038479720147,0.214900255270871,0.201758532665217,0.21868204594875698,0.19788219722038397,0.21187482272856198,0.19930036872459098,0.211213009359932,0.209416658787936,0.198733100122908,0.20185307743216396,0.21924931455044,0.20988938262267198,0.223125649995273,0.23229649238914601,0.237118275503451,0.2089439349532,0.21461662097002898,0.24222369291859697,0.779521603479247,0.20355488323721302,0.211402098893826,0.216412971542025,0.21263118086413899,0.21820932211402103,0.22832561217736602,0.21423844190224103,0.21868204594875698,0.191169518767136,0.233620119126406,0.199773092559327,0.220005672686017,0.20648577101257398,0.221140209889383,0.236740096435662,0.237118275503451,0.21924931455044,0.22605653777063395,0.231445589486622,0.220100217452964,0.224732911033374,0.21461662097002898,0.222652926160537,0.20799848728372897,0.19258769027134304,0.212253001796351,0.20828212158457,0.21357662853361103,0.19183133213576603,0.21868204594875698,0.21480571050392397,0.21537297910560602,0.211213009359932,0.232580126689988,0.226718351139264,0.20431124137279,0.211969367495509,0.21849295641486202,0.21499480003781798,0.22208565755885395,0.224922000567269,0.223976552897797,0.21442753143613502,0.21537297910560602,0.226434716838423,0.215562068639501,0.220667486054647,0.21650751630897197,0.24893637137184502,0.21764205351233804,0.224732911033374,0.216412971542025,0.21480571050392397,0.21792568781317997,0.22851470171126,0.207431218682046,0.21603479247423701,0.21631842677507798,0.22028930698685797,0.23466011156282499,0.228136522643472,0.232107402855252,0.21820932211402103,0.19740947338564802,0.23371466389335302,0.22047839652075302,0.22681289590621198,0.19334404840692102,0.28193249503640005,0.219532948851281,0.22520563486810996,0.186536825186726,0.22596199300368697,0.21433298666918804,0.21386026283445198,0.219343859317387,0.22180202325801301,0.225772903469793,0.21660206107591898,0.214900255270871,0.21395480760139898,0.286092464782074,0.232958305757776,0.19532948851281098,0.213103904698875,0.22634017207147603,0.235605559232296,0.229460149380732,0.22369291859695603,0.24922000567268598,0.19135860830103,0.23778008887208105,0.24392549872364602,0.243830953956698,0.24014370804576002,0.211213009359932,0.20695849484731,0.257067221329299,0.202703980334688,0.283728845608396,0.22038385175380498,0.21962749361822798,0.22596199300368697,0.229365604613785,0.197125839084807,0.24420913302448702,0.24137279001607298,0.23305285052472302,0.23031105228325602,0.252529072515836,0.266899877091803,0.22293656046137802,0.253474520185308,0.21452207620308203,0.18861681005956304,0.20535123380920897,0.288077904887964,0.220194762219911,0.229743783681573,0.17774416186064101,0.208849390186253,0.121206391226246,0.21404935236834602,0.21499480003781798,0.22369291859695603,0.22605653777063395,0.22652926160537,0.21811477734707396,0.20015127162711496,0.21745296397844396,0.251205445778576,0.224638366266427,0.21783114304623197,0.223314739529167,0.223976552897797,0.24184551385080802,0.23437647726198396,0.224638366266427,0.26377989978254696,0.227474709274842,0.226718351139264,0.283728845608396,0.250259998109105,0.21991112791907003,0.251016356244682,0.209416658787936,0.180202325801267,0.23749645457123897,0.235889193533138,0.28193249503640005,0.22520563486810996,0.225394724402004,0.227569254041789,0.231351044719675,0.232674671456935,0.289401531625225,0.22038385175380498,0.234092842961142,0.23466011156282499,0.24940909520657997,0.258012668998771,0.233620119126406,0.26869622766379897,0.211118464592985,0.200245816394063,0.16507516308972303,0.24449276732532896,0.223125649995273,0.21452207620308203,0.20421669660584302,0.211023919826038,0.21499480003781798,0.219532948851281,0.218871135482651,0.24071097664744298,0.21783114304623197,0.21716932967760197,0.216696605842867,0.22095112035548803,0.23778008887208105,0.225300179635057,0.218871135482651,0.255649049825092,0.229271059846837,0.254419967854779,0.252812706816678,0.22104566512243498,0.27673253285430605,0.22634017207147603,0.23371466389335302,0.31436135009927196,0.22993287321546801,0.23929280514323498,0.22596199300368697,0.227758343575683,0.195896757114494,0.21442753143613502,0.24411458825754,0.29318332230311,0.234092842961142,0.221423844190224,0.220100217452964,0.23447102202893105,0.22199111279190697,0.24175096908386104,0.224071097664744,0.275976174718729,0.23352557435945898,0.24402004349059303,0.271816204973055,0.245816394062589,0.279757965396615,0.215562068639501,0.215467523872554,0.203838517538054,0.201380353597428,0.21735841921149698,0.201758532665217,0.18634773565283203,0.211023919826038,0.21660206107591898,0.21764205351233804,0.2388200813085,0.211969367495509,0.215562068639501,0.219438404084334,0.223598373830008,0.23532192493145498,0.21716932967760197,0.22567835870284603,0.21754750874539103,0.23021650751630898,0.26680533232485604,0.24666729696511303,0.20648577101257398,0.24335823012196303,0.22284201569443102,0.21820932211402103,0.313510447196748,0.21820932211402103,0.258296303299612,0.24411458825754,0.23239103715609302,0.212442091330245,0.21499480003781798,0.23437647726198396,0.28552519618039096,0.228420156944313,0.219343859317387,0.227096530207053,0.232012858088305,0.21802023258012698,0.229460149380732,0.210740285525196,0.276637988087359,0.20960574832183,0.232674671456935,0.232580126689988,0.233431029592512,0.28457974851092,0.227474709274842,0.193627682707762,0.20166398789827,0.219438404084334,0.214900255270871,0.209133024487095,0.112319183133214,0.10182471400208,0.19674766001701802,0.21868204594875698,0.21537297910560602,0.21329299423276898,0.211496643660773,0.227285619740947,0.21565661340644798,0.21962749361822798,0.223314739529167,0.22104566512243498,0.225300179635057,0.216129337241184,0.23239103715609302,0.21433298666918804,0.21849295641486202,0.21499480003781798,0.20468942044057897,0.248180013236267,0.211685733194668,0.21792568781317997,0.21858750118181,0.222652926160537,0.237023730736504,0.21915476978349202,0.23220194762219898,0.21811477734707396,0.18587501181809601,0.21461662097002898,0.173300557814125,0.244398222558381,0.24345277488891,0.279096152027985,0.313604991963695,0.221140209889383,0.207053039614257,0.231256499952728,0.207431218682046,0.21858750118181,0.299612366455517,0.225300179635057,0.232769216223882,0.246478207431219,0.206769405313416,0.21735841921149698,0.23050014181715,0.216791150609814,0.209416658787936,0.227569254041789,0.198733100122908,0.26444171315117704,0.23730736503734498,0.252718162049731,0.20393306230500102,0.21480571050392397,0.17131511770823496,0.304717783870663,0.22303110522832603,0.25980901957076696,0.330906684315023,0.22293656046137802,0.21924931455044,0.21499480003781798,0.193627682707762,0.22274747092748395,0.374586366644606,0.20922756925404198,0.227947433109577,0.28864517348964697,0.190224071097665,0.21849295641486202,0.241089155715231,0.24619457313037696,0.216791150609814,0.220005672686017,0.230027417982415,0.22652926160537,0.324194005861775,0.232674671456935,0.276637988087359,0.20336579370331798,0.211402098893826,0.210645740758249,0.22369291859695603,0.21395480760139898,0.212063912262456,0.215278434338659,0.23768554410513398,0.224165642431691,0.19173678736881897,0.219060225016545,0.21972203838517498,0.22501654533421603,0.22180202325801301,0.220762030821594,0.19807128675427801,0.19031861586461202,0.216412971542025,0.224449276732533,0.21735841921149698,0.21849295641486202,0.23059468658409804,0.23031105228325602,0.2023258012669,0.24288550628722697,0.20468942044057897,0.18228231067410397,0.21764205351233804,0.21868204594875698,0.22095112035548803,0.238063723172922,0.211402098893826,0.289590621159119,0.256972676562352,0.21962749361822798,0.19996218209322103,0.21518388957171203,0.209511203554883,0.220762030821594,0.225394724402004,0.23352557435945898,0.22586744823674001,0.206391226245627,0.24628911789732397,0.210740285525196,0.210173016923513,0.22303110522832603,0.21537297910560602,0.23759099933818698,0.24742365510069,0.230689231351045,0.26756169046043304,0.35870284579748496,0.24203460338470298,0.22596199300368697,0.19239860073744897,0.216791150609814,0.21631842677507798,0.236929185969557,0.22038385175380498,0.20960574832183,0.22047839652075302,0.233147395291671,0.220005672686017,0.20629668147868,0.22199111279190697,0.23437647726198396,0.21991112791907003,0.20156944313132302,0.22615108253758198,0.219438404084334,0.21518388957171203,0.163467902051621,0.21924931455044,0.22189656802495997,0.228703791245155,0.270019854401059,0.22293656046137802,0.220762030821594,0.223409284296114,0.26718351139264396,0.236361917367874,0.22218020232580102,0.21282027039803303,0.20355488323721302,0.25215089344804803,0.22369291859695603,0.21735841921149698,0.234754656329772,0.167722416564243,0.22700198544010602,0.24411458825754,0.24420913302448702,0.223314739529167,0.23825281270681697,0.22388200813085002,0.230783776117992,0.228703791245155,0.22369291859695603,0.22652926160537,0.226434716838423,0.235038290630614,0.248463647537109,0.22567835870284603,0.254041788786991,0.24023825281270703,0.224165642431691,0.253474520185308,0.25640540796066896,0.27625980901957103,0.24345277488891,0.19561312281365198,0.21263118086413899,0.21452207620308203,0.252718162049731,0.229460149380732,0.216129337241184,0.22293656046137802,0.33497210929375104,0.10957738489174601,0.207903942516782,0.25215089344804803,0.21858750118181,0.21159118842771998,0.221140209889383,0.19948945825848496,0.219438404084334,0.227380164507894,0.21868204594875698,0.23097286565188602,0.224165642431691,0.21338753899971602,0.20856575588541199,0.21877659071570396,0.17831143046232398,0.214900255270871,0.19788219722038397,0.22274747092748395,0.224165642431691,0.23437647726198396,0.249125460905739,0.232674671456935,0.21896568024959803,0.21962749361822798,0.23352557435945898,0.226623806372317,0.22501654533421603,0.21754750874539103,0.20128580883048103,0.233336484825565,0.22255838139359002,0.213103904698875,0.23664555166871498,0.205729412876997,0.22548926916895104,0.24789637893542601,0.23683464120260897,0.22180202325801301,0.24392549872364602,0.222652926160537,0.232674671456935,0.22151838895717102,0.21688569537676103,0.22785288834263,0.227569254041789,0.231067410418833,0.24402004349059303,0.223598373830008,0.243074595821121,0.243074595821121,0.22889288077904898,0.256878131795405,0.23957643944407697,0.252529072515836,0.24543821499479998,0.19807128675427801,0.21092937505908999,0.21650751630897197,0.24203460338470298,0.23768554410513398,0.217074784910655,0.253096341117519,0.23976552897797102,0.21660206107591898,0.211213009359932,0.251678169613312,0.22208565755885395,0.20714758438120398,0.22236929185969603,0.22983832844852,0.211969367495509,0.21433298666918804,0.23466011156282499,0.212442091330245,0.22511109010116298,0.23418738772808897,0.21253663609719198,0.224165642431691,0.206391226245627,0.21480571050392397,0.19674766001701802,0.18578046705114898,0.23031105228325602,0.21442753143613502,0.22634017207147603,0.261416280608868,0.233431029592512,0.21414389713529397,0.227569254041789,0.231445589486622,0.24269641675333303,0.25082726671078803,0.21962749361822798,0.222652926160537,0.18861681005956304,0.235605559232296,0.22057294128770003,0.211969367495509,0.23853644700765803,0.21603479247423701,0.20554032334310302,0.24742365510069,0.267088966625697,0.221423844190224,0.233809208660301,0.24619457313037696,0.228798336012102,0.23456556679587803,0.212063912262456,0.22208565755885395,0.22236929185969603,0.226718351139264,0.256216318426775,0.21896568024959803,0.231729223787463,0.23229649238914601,0.226718351139264,0.250638177176893,0.24080552141439002,0.233620119126406,0.230027417982415,0.20043490592795699,0.21584570294034197,0.21972203838517498,0.236267372600927,0.228136522643472,0.20355488323721302,0.22293656046137802,0.24685638649900696,0.29705965774794396,0.19485676467807503,0.21036210645740802,0.248274558003214,0.21811477734707396,0.210740285525196,0.199867637326274,0.232769216223882,0.22454382149948002,0.19334404840692102,0.243736409189751,0.21991112791907003,0.236456462134821,0.228420156944313,0.21329299423276898,0.224638366266427,0.20015127162711496,0.216696605842867,0.215751158173395,0.192114966436608,0.21745296397844396,0.209133024487095,0.227191074974,0.26169991490971,0.227947433109577,0.22983832844852,0.220194762219911,0.251489080079418,0.243830953956698,0.277299801455989,0.21991112791907003,0.22303110522832603,0.219060225016545,0.24014370804576002,0.22501654533421603,0.215467523872554,0.24184551385080802,0.18294412404273397,0.221707478491065,0.256310863193722,0.23768554410513398,0.22218020232580102,0.23957643944407697,0.23286376099082898,0.22964923891462602,0.231445589486622,0.20402760707194897,0.21508934480476502,0.224638366266427,0.22605653777063395,0.25867448236740104,0.22586744823674001,0.235700103999244,0.24260187198638603,0.254987236456462,0.23976552897797102,0.245816394062589,0.236740096435662,0.233147395291671,0.207525763448993,0.21404935236834602,0.21924931455044,0.21839841164791501,0.24080552141439002,0.223598373830008,0.23466011156282499,0.255649049825092,0.25054363240994604,0.21442753143613502,0.170747849106552,0.21518388957171203,0.27588162995178195,0.216223882008131,0.22567835870284603,0.21792568781317997,0.23598373830008498,0.23021650751630898,0.215751158173395,0.251961803914153,0.212063912262456,0.232107402855252,0.239387349910182,0.223125649995273,0.212253001796351,0.228136522643472,0.267088966625697,0.21688569537676103,0.224732911033374,0.20043490592795699,0.22180202325801301,0.212914815164981,0.21962749361822798,0.26377989978254696,0.228703791245155,0.224260187198639,0.19769310768649,0.256310863193722,0.237874633639028,0.308405029781602,0.22898742554599602,0.224165642431691,0.22898742554599602,0.24666729696511303,0.227474709274842,0.21783114304623197,0.24146733478302,0.209416658787936,0.225583813935899,0.25971447480382,0.23976552897797102,0.224732911033374,0.252529072515836,0.23872553654155199,0.23087832088493898,0.23352557435945898,0.210173016923513,0.20601304717783897,0.22889288077904898,0.226434716838423,0.22700198544010602,0.23484920109671897,0.229271059846837,0.243169140588068,0.26812895906211603,0.244398222558381,0.24770728940153197,0.226245627304529,0.233431029592512,0.20875484541930606,0.21442753143613502,0.21584570294034197,0.22236929185969603,0.227947433109577,0.232012858088305,0.233431029592512,0.27711071192209497,0.23371466389335302,0.197598562919542,0.201191264063534,0.20856575588541199,0.21055119599130198,0.254798146922568,0.234754656329772,0.24241278245249104,0.23239103715609302,0.22123475465632997,0.227569254041789,0.23976552897797102,0.23948189467713002,0.235700103999244,0.24402004349059303,0.19636948094922896,0.241089155715231,0.24231823768554397,0.213765718067505,0.200245816394063,0.22766379880873602,0.261983549210551,0.216412971542025,0.220005672686017,0.173016923513284,0.21471116573697602,0.21055119599130198,0.22548926916895104,0.281365226434717,0.195896757114494,0.221707478491065,0.20090762976269302,0.223976552897797,0.248841826604897,0.28732154675238697,0.227569254041789,0.227758343575683,0.223125649995273,0.23900917084239398,0.229271059846837,0.220667486054647,0.239860073744918,0.22303110522832603,0.23484920109671897,0.25262361728278304,0.24165642431691398,0.22586744823674001,0.252907251583625,0.240332797579654,0.232012858088305,0.256783587028458,0.196558570483124,0.20762030821594,0.239387349910182,0.222463836626643,0.236551006901768,0.233620119126406,0.233241940058618,0.23929280514323498,0.273896189845892,0.250638177176893,0.256594497494564,0.227191074974,0.228136522643472,0.21783114304623197,0.216223882008131,0.234281932495036,0.226434716838423,0.235038290630614,0.27115439160442495,0.204405786139737,0.22255838139359002,0.22284201569443102,0.22161293372411803,0.221707478491065,0.21858750118181,0.212914815164981,0.22293656046137802,0.21688569537676103,0.232012858088305,0.21433298666918804,0.207525763448993,0.248180013236267,0.21537297910560602,0.21631842677507798,0.24922000567268598,0.223409284296114,0.225300179635057,0.222463836626643,0.24789637893542601,0.21433298666918804,0.22548926916895104,0.226623806372317,0.228136522643472,0.219343859317387,0.208187576817623,0.20015127162711496,0.20090762976269302,0.22454382149948002,0.18748227285619698,0.22634017207147603,0.224165642431691,0.220667486054647,0.234943745863666,0.224922000567269,0.22028930698685797,0.227758343575683,0.23976552897797102,0.226245627304529,0.228798336012102,0.19731492861870104,0.230121962749362,0.21764205351233804,0.21820932211402103,0.25328543065141296,0.222463836626643,0.21820932211402103,0.21660206107591898,0.211023919826038,0.234092842961142,0.21329299423276898,0.228231067410419,0.266143518956226,0.19258769027134304,0.236929185969557,0.26056537770634397,0.225394724402004,0.221140209889383,0.207903942516782,0.234092842961142,0.24477640162617,0.229365604613785,0.207903942516782,0.256027228892881,0.22501654533421603,0.24543821499479998,0.26359081024865305,0.24770728940153197,0.21263118086413899,0.19674766001701802,0.207903942516782,0.22123475465632997,0.22548926916895104,0.228136522643472,0.22917651507989,0.220667486054647,0.224732911033374,0.253190885884466,0.229743783681573,0.253569064952255,0.221140209889383,0.23778008887208105,0.224071097664744,0.163656991585516,0.24657275219816602,0.21480571050392397,0.216223882008131,0.233903753427248,0.227380164507894,0.26359081024865305,0.22057294128770003,0.23872553654155199,0.224165642431691,0.279096152027985,0.22227474709274803,0.214900255270871,0.231351044719675,0.209038479720147,0.350477451073083,0.211402098893826,0.198544010589014,0.234943745863666,0.19863855535596103,0.206863950080363,0.23872553654155199,0.243169140588068,0.24468185685922303,0.196085846648388,0.21480571050392397,0.2023258012669,0.204122151838896,0.199867637326274,0.22605653777063395,0.21660206107591898,0.233620119126406,0.22520563486810996,0.255649049825092,0.24071097664744298,0.22057294128770003,0.20298761463553,0.235227380164508,0.221423844190224,0.21745296397844396,0.227096530207053,0.21036210645740802,0.24269641675333303,0.22388200813085002,0.24619457313037696,0.237212820270398,0.22274747092748395,0.21092937505908999,0.229365604613785,0.22435473196558603,0.20393306230500102,0.223409284296114,0.21414389713529397,0.19031861586461202,0.21962749361822798,0.21792568781317997,0.31473952916706105,0.22208565755885395,0.227285619740947,0.234092842961142,0.231067410418833,0.23163467902051602,0.21395480760139898,0.259525385269925,0.22208565755885395,0.24288550628722697,0.230405597050203,0.21830386688096803,0.23371466389335302,0.20866030065235897,0.219060225016545,0.233620119126406,0.256216318426775,0.23116195518578,0.2388200813085,0.23730736503734498,0.22652926160537,0.226718351139264,0.24023825281270703,0.200245816394063,0.228420156944313,0.216791150609814,0.24742365510069,0.24468185685922303,0.24014370804576002,0.235605559232296,0.253569064952255,0.20582395764394398,0.22293656046137802,0.21830386688096803,0.220100217452964,0.223787463363903,0.21036210645740802,0.258201758532665,0.244303677791434,0.23352557435945898,0.23031105228325602,0.23466011156282499,0.24090006618133702,0.216696605842867,0.205067599508367,0.20667486054646897,0.215562068639501,0.21130755412687902,0.21716932967760197,0.21055119599130198,0.22057294128770003,0.26897986196464,0.231445589486622,0.21404935236834602,0.20166398789827,0.216412971542025,0.202420346033847,0.20799848728372897,0.209322114020989,0.21055119599130198,0.214900255270871,0.320506759950837,0.21896568024959803,0.317103148340739,0.253096341117519,0.212158457029403,0.232012858088305,0.19476221991112802,0.17982414673347802,0.211213009359932,0.182187765907157,0.21452207620308203,0.214900255270871,0.21660206107591898,0.22511109010116298,0.184929564148624,0.228041977876525,0.204122151838896,0.21263118086413899,0.19268223503829102,0.199867637326274,0.26765623522738,0.21386026283445198,0.23957643944407697,0.22161293372411803,0.193627682707762,0.21735841921149698,0.23239103715609302,0.23929280514323498,0.20497305474142,0.20733667391509902,0.26500898175286,0.466483880117236,0.23154013425356898,0.250354542876052,0.227191074974,0.29148151649806203,0.22832561217736602,0.221140209889383,0.249314550439633,0.25186725914720604,0.24279096152027999,0.27342346601115597,0.233620119126406,0.21868204594875698,0.22104566512243498,0.186631369953673,0.17093693864044598,0.19627493618228198,0.179067788597901,0.21981658315212302,0.212158457029403,0.223976552897797,0.244398222558381,0.220194762219911,0.22161293372411803,0.21735841921149698,0.209416658787936,0.284296114210078,0.30027417982414695,0.21414389713529397,0.221140209889383,0.22435473196558603,0.22681289590621198,0.269736220100217,0.247518199867637,0.29705965774794396,0.21924931455044,0.20762030821594,0.18502410891557197,0.194478585610286,0.19930036872459098,0.21698024014370798,0.233241940058618,0.20260943556774103,0.19948945825848496,0.225300179635057,0.207242129148152,0.19599130188144104,0.17774416186064101,0.194478585610286,0.22369291859695603,0.199584003025433,0.19239860073744897,0.19797674198733103,0.259903564337714,0.219438404084334,0.228420156944313,0.270208943934953,0.26869622766379897,0.24146733478302,0.20516214427531398,0.208849390186253,0.24212914815165,0.23087832088493898,0.258107213765718,0.24685638649900696,0.25772903469792896,0.27937978632882693,0.22189656802495997,0.22964923891462602,0.237212820270398,0.271721660206108,0.22369291859695603,0.23778008887208105,0.27994705493051,0.21603479247423701,0.227947433109577,0.249314550439633,0.211213009359932,0.19031861586461202,0.21660206107591898,0.21981658315212302,0.22057294128770003,0.236361917367874,0.18852226529261604,0.256310863193722,0.19750401815259502,0.21518388957171203,0.209983927389619,0.220667486054647,0.203460338470266,0.19476221991112802,0.200245816394063,0.21981658315212302,0.226245627304529,0.235605559232296,0.21433298666918804,0.17434055025054399,0.19230405597050199,0.214900255270871,0.212914815164981,0.20431124137279,0.246383662664272,0.250259998109105,0.20128580883048103,0.232674671456935,0.208187576817623,0.230405597050203,0.22057294128770003,0.21263118086413899,0.23031105228325602,0.203743972771107,0.23815826793986897,0.220100217452964,0.20629668147868,0.21877659071570396,0.21735841921149698,0.259430840502978,0.248558192304056,0.22993287321546801,0.256972676562352,0.41571334026661605,0.22293656046137802,0.256499952727617,0.21499480003781798,0.22104566512243498,0.236267372600927,0.21868204594875698,0.329772147111657,0.26292899688002297,0.23910371560934102,0.202703980334688,0.23466011156282499,0.220100217452964,0.21773659827928502,0.20497305474142,0.227947433109577,0.220762030821594,0.18937316819514002,0.20043490592795699,0.23749645457123897,0.276070719485676,0.289590621159119,0.214900255270871,0.24137279001607298,0.317954051243264,0.23863099177460503,0.22548926916895104,0.232012858088305,0.257067221329299,0.232580126689988,0.23229649238914601,0.225772903469793,0.21386026283445198,0.230783776117992,0.216791150609814,0.26444171315117704,0.187293183322303,0.20960574832183,0.29450694904037106,0.225772903469793,0.236740096435662,0.239954618511865,0.23305285052472302,0.263118086413917,0.206863950080363,0.25375815448614897,0.233903753427248,0.291292426964168,0.23815826793986897,0.281837950269453,0.30944502221802006,0.24922000567268598,0.21508934480476502,0.227380164507894,0.25215089344804803,0.211496643660773,0.221423844190224,0.18578046705114898,0.315779521603479,0.256594497494564,0.21045665122435503,0.209794837855725,0.21499480003781798,0.24250732721943802,0.195896757114494,0.16053701427626002,0.19391131700860395,0.19901673442375,0.22038385175380498,0.22681289590621198,0.21716932967760197,0.20355488323721302,0.21026756169046,0.230405597050203,0.220762030821594,0.200718540228798,0.235038290630614,0.19703129431785896,0.25394724402004304,0.22511109010116298,0.22132929942327698,0.226245627304529,0.230121962749362,0.24014370804576002,0.25177271438025894,0.231256499952728,0.19901673442375,0.255365415524251,0.26245627304528696,0.22898742554599602,0.227191074974,0.276070719485676,0.29781601588352097,0.24279096152027999,0.22851470171126,0.266143518956226,0.224165642431691,0.259619930036872,0.27540890611704605,0.186631369953673,0.24023825281270703,0.296303299612366,0.230027417982415,0.23229649238914601,0.273990734612839,0.227947433109577,0.33421575115817304,0.21991112791907003,0.220005672686017,0.18700954902146202,0.226718351139264,0.20525668904226102,0.24515458069395898,0.20081308499574502,0.22189656802495997,0.21868204594875698,0.21858750118181,0.24042734234660101,0.209322114020989,0.230783776117992,0.231729223787463,0.17651507989032802,0.228703791245155,0.186442280419779,0.21783114304623197,0.251110901011629,0.258579937600454,0.261510825375815,0.22057294128770003,0.231256499952728,0.220100217452964,0.24288550628722697,0.215751158173395,0.22047839652075302,0.244587312092276,0.206107591944786,0.24212914815165,0.257634489930982,0.218871135482651,0.21735841921149698,0.21783114304623197,0.26538716082064895,0.25262361728278304,0.23910371560934102,0.281837950269453,0.43632409946109496,0.22208565755885395,0.24657275219816602,0.23154013425356898,0.23220194762219898,0.23551101446534897,0.24222369291859697,0.32665216980240097,0.258012668998771,0.22955469414767898,0.210645740758249,0.226623806372317,0.22454382149948002,0.227947433109577,0.226718351139264,0.215278434338659,0.220762030821594,0.21698024014370798,0.20421669660584302,0.234754656329772,0.309634111751915,0.347830197598563,0.232485581923041,0.245249125460906,0.320790394251678,0.24231823768554397,0.232674671456935,0.219532948851281,0.19948945825848496,0.235794648766191,0.21594024770728898,0.275314361350099,0.22236929185969603,0.23844190224071105,0.239860073744918,0.228703791245155,0.20166398789827,0.22634017207147603,0.325328543065141,0.234754656329772,0.262078093977498,0.233147395291671,0.232580126689988,0.254230878320885,0.282027039803347,0.32031767041694204,0.23844190224071105,0.24231823768554397,0.240994610948284,0.293088777536163,0.30537959723929303,0.23059468658409804,0.249314550439633,0.24335823012196303,0.241278245249125,0.241940058617755,0.216129337241184,0.24780183416847895,0.291670606031956,0.250449087642999,0.339604802874161,0.232580126689988,0.252245438214995,0.234943745863666,0.22218020232580102,0.21820932211402103,0.212914815164981,0.227380164507894,0.163656991585516,0.19835492105512,0.231256499952728,0.20667486054646897,0.23182376855441,0.219060225016545,0.23239103715609302,0.23447102202893105,0.223598373830008,0.24241278245249104,0.197220383851754,0.26103810154108,0.256972676562352,0.226623806372317,0.223976552897797,0.223503829063061,0.230121962749362,0.234943745863666,0.2520563486811,0.202798525101636,0.260470832939397,0.27947433109577396,0.23863099177460503,0.216791150609814,0.282972487472818,0.311525007090858,0.254703602155621,0.234754656329772,0.290063344993855,0.246383662664272,0.24392549872364602,0.330623050014182,0.195234943745864,0.215562068639501,0.28713245721849295,0.247612744634584,0.236361917367874,0.260943556774133,0.233998298194195,0.317859506476317,0.189184078661246,0.21773659827928502,0.221707478491065,0.23087832088493898,0.216696605842867,0.24260187198638603,0.222652926160537,0.23844190224071105,0.21471116573697602,0.20922756925404198,0.23050014181715,0.233336484825565,0.233336484825565,0.20695849484731,0.20431124137279,0.13207903942516802,0.22615108253758198,0.160347924742366,0.20582395764394398,0.22293656046137802,0.194384040843339,0.22208565755885395,0.236078283067032,0.262172638744445,0.254892691689515,0.22955469414767898,0.22681289590621198,0.198922189656802,0.240616431880495,0.20156944313132302,0.22293656046137802,0.253569064952255,0.17566417698780404,0.241183700482178,0.19532948851281098,0.191453153067978,0.220194762219911,0.224449276732533,0.26538716082064895,0.23116195518578,0.230405597050203,0.280136144464404,0.522548926916895,0.22993287321546801,0.24420913302448702,0.227380164507894,0.24657275219816602,0.26037628817245,0.22548926916895104,0.34338659355204704,0.261983549210551,0.236361917367874,0.21471116573697602,0.20922756925404198,0.21991112791907003,0.23352557435945898,0.223125649995273,0.243736409189751,0.19372222747470896,0.228798336012102,0.23286376099082898,0.19996218209322103,0.233431029592512,0.298005105417415,0.345088399357096,0.24326368535501602,0.20960574832183,0.22322019476222002,0.23834735747376398,0.224071097664744,0.216412971542025,0.21754750874539103,0.23834735747376398,0.23872553654155199,0.282216129337241,0.22917651507989,0.23050014181715,0.236551006901768,0.212158457029403,0.24137279001607298,0.22274747092748395,0.297437836815732,0.274463458447575,0.21565661340644798,0.24562730452869397,0.22454382149948002,0.282499763638083,0.336390280797958,0.24610002836342998,0.21858750118181,0.276070719485676,0.325612177365983,0.26236172827834,0.23872553654155199,0.28571428571428603,0.191453153067978,0.24742365510069,0.24042734234660101,0.22236929185969603,0.22501654533421603,0.260470832939397,0.21896568024959803,0.285619740947339,0.22388200813085002,0.27503072704925796,0.24666729696511303,0.358230121962749,0.345750212725726,0.24959818474047502,0.22501654533421603,0.259241750969084,0.23456556679587803,0.238063723172922,0.25007090857520997,0.24685638649900696,0.138697173111468,0.271816204973055,0.20866030065235897,0.23305285052472302,0.21688569537676103,0.231445589486622,0.226245627304529,0.24685638649900696,0.223976552897797,0.233620119126406,0.23825281270681697,0.210834830292143,0.265103526519807,0.29573603101068396,0.22917651507989,0.23371466389335302,0.21849295641486202,0.244965491160064,0.247140020799849,0.269830764867165,0.216791150609814,0.251489080079418,0.27701616715514804,0.23087832088493898,0.22227474709274803,0.27654344332041203,0.32400491632788103,0.26680533232485604,0.23305285052472302,0.281365226434717,0.26273990734612807,0.35435378651791605,0.214900255270871,0.21962749361822798,0.279568875862721,0.251678169613312,0.22889288077904898,0.25082726671078803,0.23059468658409804,0.328637609908292,0.224449276732533,0.21319844946582198,0.21329299423276898,0.23305285052472302,0.221707478491065,0.25139453531247,0.22681289590621198,0.22454382149948002,0.21594024770728898,0.215562068639501,0.23220194762219898,0.186536825186726,0.18842772052566897,0.22104566512243498,0.154391604424695,0.203082159402477,0.20081308499574502,0.206769405313416,0.22511109010116298,0.24146733478302,0.251678169613312,0.228041977876525,0.220667486054647,0.19400586177555104,0.22104566512243498,0.21357662853361103,0.22227474709274803,0.232485581923041,0.189278623428193,0.210173016923513,0.14295168762409,0.200056726860168,0.20866030065235897,0.22151838895717102,0.24543821499479998,0.21518388957171203,0.21877659071570396,0.26841259336295703,0.389997163656992,0.221707478491065,0.23352557435945898,0.21849295641486202,0.21631842677507798,0.23371466389335302,0.21036210645740802,0.27115439160442495,0.233241940058618,0.22218020232580102,0.21858750118181,0.194384040843339,0.22132929942327698,0.22123475465632997,0.223314739529167,0.225772903469793,0.200529450694904,0.205918502410892,0.23976552897797102,0.21461662097002898,0.167249692729507,0.21433298666918804,0.26056537770634397,0.319277677980524,0.21471116573697602,0.227569254041789,0.18852226529261604,0.10721376571806801,0.23815826793986897,0.21811477734707396,0.197598562919542,0.228420156944313,0.22964923891462602,0.227096530207053,0.216223882008131,0.223314739529167,0.215751158173395,0.21858750118181,0.18143140777157998,0.27796161482461895,0.27077621253663603,0.15429705965774804,0.23447102202893105,0.21972203838517498,0.342441145882575,0.29705965774794396,0.24723456556679602,0.20015127162711496,0.23872553654155199,0.276448898553465,0.225394724402004,0.232769216223882,0.23021650751630898,0.21915476978349202,0.231067410418833,0.23352557435945898,0.21981658315212302,0.167911506098137,0.21868204594875698,0.195896757114494,0.346884749929091,0.24004916327881304,0.261983549210551,0.4112697362201,0.278623428193249,0.22047839652075302,0.236456462134821,0.25980901957076696,0.266238063723173,0.184267750779994,0.23551101446534897,0.23182376855441,0.187293183322303,0.218871135482651,0.220194762219911,0.19135860830103,0.26453625791812396,0.234281932495036,0.241278245249125,0.19693674955091198,0.224260187198639,0.249030916138792,0.190885884466295,0.19750401815259502,0.22047839652075302,0.209511203554883,0.204783965207526,0.229081970312943,0.193816772241656,0.21792568781317997,0.21726387444454898,0.210740285525196,0.202420346033847,0.257256310863194,0.286943367684599,0.225394724402004,0.21565661340644798,0.216223882008131,0.22454382149948002,0.22104566512243498,0.25508178122340897,0.18946771296208803,0.23967098421102398,0.24799092370237302,0.22227474709274803,0.21442753143613502,0.24260187198638603,0.320223125649995,0.224449276732533,0.223976552897797,0.27096530207053,0.255838139358986,0.30745958211213,0.20714758438120398,0.21026756169046,0.260754467240238,0.232580126689988,0.216129337241184,0.235038290630614,0.225583813935899,0.275692540417888,0.197598562919542,0.224732911033374,0.20260943556774103,0.21594024770728898,0.19863855535596103,0.235700103999244,0.214900255270871,0.211023919826038,0.196464025716177,0.215562068639501,0.22511109010116298,0.21858750118181,0.15543159686111402,0.207903942516782,0.19126406353408298,0.21518388957171203,0.21480571050392397,0.21688569537676103,0.22634017207147603,0.235227380164508,0.24676184173206,0.23059468658409804,0.21858750118181,0.196085846648388,0.23021650751630898,0.22123475465632997,0.221140209889383,0.254798146922568,0.171126028174341,0.21263118086413899,0.15647158929753197,0.227285619740947,0.207525763448993,0.22047839652075302,0.24023825281270703,0.206391226245627,0.30755412687907696,0.5347452018530771,0.224165642431691,0.22766379880873602,0.21849295641486202,0.21981658315212302,0.23532192493145498,0.20535123380920897,0.282877942705871,0.23418738772808897,0.24449276732532896,0.22567835870284603,0.20289306986858302,0.21820932211402103,0.22955469414767898,0.222652926160537,0.22085657558854102,0.20866030065235897,0.21508934480476502,0.23418738772808897,0.195140398978917,0.179351422898743,0.20563486811005,0.25508178122340897,0.27711071192209497,0.19684220478396502,0.22964923891462602,0.21896568024959803,0.307648671646024,0.22293656046137802,0.21698024014370798,0.20525668904226102,0.232674671456935,0.233998298194195,0.21631842677507798,0.20875484541930606,0.21508934480476502,0.21433298666918804,0.20875484541930606,0.167722416564243,0.24260187198638603,0.24392549872364602,0.18786045192398604,0.251489080079418,0.202514890800794,0.21461662097002898,0.268885317197693,0.24420913302448702,0.20185307743216396,0.20629668147868,0.25186725914720604,0.216696605842867,0.235889193533138,0.267845324761274,0.22085657558854102,0.237212820270398,0.223314739529167,0.224638366266427,0.19230405597050199,0.22047839652075302,0.21092937505908999,0.274368913680628,0.264725347452018,0.452207620308216,0.267278056159592,0.28457974851092,0.263874444549494,0.21924931455044,0.22095112035548803,0.19230405597050199,0.23730736503734498,0.233998298194195,0.207242129148152,0.22038385175380498,0.233903753427248,0.256121773659828,0.222652926160537,0.24657275219816602,0.240332797579654,0.23863099177460503,0.21584570294034197,0.24959818474047502,0.23154013425356898,0.24042734234660101,0.21915476978349202,0.21272572563108605,0.21792568781317997,0.195896757114494,0.21594024770728898,0.206863950080363,0.20714758438120398,0.21263118086413899,0.19570766758059902,0.226434716838423,0.21584570294034197,0.212914815164981,0.16904604330150302,0.19882764488985502,0.202514890800794,0.256878131795405,0.224165642431691,0.227947433109577,0.20960574832183,0.21858750118181,0.22548926916895104,0.223314739529167,0.206769405313416,0.200529450694904,0.240521887113548,0.21187482272856198,0.21830386688096803,0.21253663609719198,0.23116195518578,0.29176515079890303,0.232485581923041,0.229743783681573,0.25451451262172603,0.24628911789732397,0.31606315590432105,0.20156944313132302,0.20062399546185103,0.251961803914153,0.227380164507894,0.21650751630897197,0.23617282783397897,0.232958305757776,0.28788881535407,0.209322114020989,0.21802023258012698,0.210740285525196,0.21830386688096803,0.22454382149948002,0.22482745580032104,0.20109671929658698,0.224260187198639,0.19476221991112802,0.20336579370331798,0.225394724402004,0.240332797579654,0.275219816583152,0.232485581923041,0.170558759572658,0.24534367022785297,0.20128580883048103,0.231256499952728,0.25073272194384,0.28996880022690696,0.227380164507894,0.237212820270398,0.24628911789732397,0.239387349910182,0.30831048501465397,0.204122151838896,0.20402760707194897,0.18871135482651002,0.237118275503451,0.28590337524818,0.28259430840503,0.27928524156188,0.262078093977498,0.232958305757776,0.22293656046137802,0.264630802685071,0.239860073744918,0.18767136239009197,0.211969367495509,0.22851470171126,0.226718351139264,0.23466011156282499,0.23551101446534897,0.237023730736504,0.24940909520657997,0.239198260376288,0.22435473196558603,0.248558192304056,0.23087832088493898,0.23967098421102398,0.27313983171031503,0.269074406731587,0.225394724402004,0.232769216223882,0.236551006901768,0.230121962749362,0.23059468658409804,0.34121206391226194,0.230121962749362,0.435851375626359,0.223598373830008,0.22236929185969603,0.236740096435662,0.225300179635057,0.22028930698685797,0.24742365510069,0.23239103715609302,0.25772903469792896,0.23532192493145498,0.22047839652075302,0.268223503829063,0.25082726671078803,0.272478018341685,0.243830953956698,0.234281932495036,0.254987236456462,0.230027417982415,0.231445589486622,0.293372411837005,0.239387349910182,0.218871135482651,0.212158457029403,0.24553275976174696,0.231067410418833,0.26359081024865305,0.22567835870284603,0.21026756169046,0.26500898175286,0.291008792663326,0.20554032334310302,0.268601682896852,0.21915476978349202,0.190413160631559,0.216412971542025,0.23910371560934102,0.207525763448993,0.19230405597050199,0.2023258012669,0.252529072515836,0.24269641675333303,0.20185307743216396,0.255838139358986,0.237023730736504,0.22104566512243498,0.223503829063061,0.18908953389429897,0.230405597050203,0.227947433109577,0.262078093977498,0.18861681005956304,0.20629668147868,0.19778765245343696,0.24392549872364602,0.233147395291671,0.22851470171126,0.24279096152027999,0.247140020799849,0.229365604613785,0.243736409189751,0.262172638744445,0.24572184929564103,0.22993287321546801,0.21924931455044,0.241940058617755,0.20289306986858302,0.21802023258012698,0.22482745580032104,0.19485676467807503,0.34187387728089197,0.233809208660301,0.23664555166871498,0.21698024014370798,0.21499480003781798,0.24364186442280397,0.166776968894772,0.21603479247423701,0.25451451262172603,0.22681289590621198,0.227569254041789,0.243074595821121,0.21688569537676103,0.25508178122340897,0.227191074974,0.29034697929469605,0.298761463552992,0.23021650751630898,0.23976552897797102,0.21660206107591898,0.246478207431219,0.24628911789732397,0.25186725914720604,0.220100217452964,0.22889288077904898,0.263118086413917,0.232107402855252,0.25999810910466103,0.274179824146733,0.249881819041316,0.243830953956698,0.231918313321358,0.47395291670606005,0.267372600926539,0.224638366266427,0.233431029592512,0.22652926160537,0.235794648766191,0.186631369953673,0.224071097664744,0.26680533232485604,0.21896568024959803,0.142384419022407,0.22227474709274803,0.246478207431219,0.216791150609814,0.21745296397844396,0.21282027039803303,0.24354731965585702,0.267088966625697,0.22482745580032104,0.29053606882859,0.22435473196558603,0.223409284296114,0.189940436796823,0.28117613690082205,0.232012858088305,0.249125460905739,0.22851470171126,0.267278056159592,0.201191264063534,0.263496265481706,0.187576817623145,0.190507705398506,0.24345277488891,0.224638366266427,0.278623428193249,0.24260187198638603,0.255270870757304,0.259903564337714,0.273707100311998,0.303583246667297,0.225772903469793,0.234281932495036,0.231729223787463,0.224638366266427,0.22199111279190697,0.320695849484731,0.1840786612461,0.17850051999621802,0.24657275219816602,0.24222369291859697,0.214900255270871,0.256121773659828,0.236078283067032,0.203838517538054,0.228041977876525,0.10702467618417301,0.24666729696511303,0.23834735747376398,0.267278056159592,0.19948945825848496,0.20289306986858302,0.194289496076392,0.24695093126595397,0.216791150609814,0.227947433109577,0.230405597050203,0.244398222558381,0.249030916138792,0.23863099177460503,0.27191074974000196,0.258958116668242,0.229081970312943,0.216129337241184,0.24250732721943802,0.20260943556774103,0.22038385175380498,0.236740096435662,0.18209322114020998,0.361444644038952,0.23456556679587803,0.22548926916895104,0.22227474709274803,0.199584003025433,0.24666729696511303,0.18474047461473,0.21508934480476502,0.263307175947811,0.22322019476222002,0.23031105228325602,0.26160537014276297,0.22104566512243498,0.217074784910655,0.220762030821594,0.26869622766379897,0.29724874728183803,0.223787463363903,0.254325423087832,0.276637988087359,0.224638366266427,0.25716176609624697,0.24354731965585702,0.198260376288172,0.22435473196558603,0.272761652642526,0.224260187198639,0.24298005105417397,0.281743405502505,0.244587312092276,0.24298005105417397,0.223787463363903,0.440673158740664,0.26964167533327,0.258012668998771,0.26585988465538396,0.24468185685922303,0.24156187954996697,0.231445589486622,0.21981658315212302,0.21972203838517498,0.263968989316441,0.210078472156566,0.161671551479626,0.23154013425356898,0.25716176609624697,0.19740947338564802,0.21508934480476502,0.2636853550156,0.24657275219816602,0.28410702467618393,0.224165642431691,0.29564148624373604,0.230783776117992,0.244587312092276,0.17963505719958398,0.26567079512149,0.230027417982415,0.24326368535501602,0.19220951120355498,0.255459960291198,0.209416658787936,0.278528883426302,0.18294412404273397,0.22199111279190697,0.232485581923041,0.21811477734707396,0.294885128108159,0.23853644700765803,0.228609246478207,0.266616242790961,0.305285052472346,0.294601493807318,0.252339982981942,0.23749645457123897,0.243830953956698,0.21735841921149698,0.228609246478207,0.353502883615392,0.21433298666918804,0.21508934480476502,0.163656991585516,0.229460149380732,0.24922000567268598,0.21471116573697602,0.251678169613312,0.25007090857520997,0.220667486054647,0.21367117330055804,0.254609057388674,0.237118275503451,0.28439065897702603,0.197598562919542,0.22501654533421603,0.21282027039803303,0.259430840502978,0.233998298194195,0.24326368535501602,0.225772903469793,0.26377989978254696,0.269263496265482,0.24203460338470298,0.26633260849011997,0.263118086413917,0.2388200813085,0.21688569537676103,0.25848539283350697,0.18842772052566897,0.21896568024959803,0.257918124231824,0.208849390186253,0.33941571334026693,0.233998298194195,0.235132835397561,0.22151838895717102,0.236929185969557,0.250259998109105,0.19532948851281098,0.21868204594875698,0.25262361728278304,0.16781696133119,0.228136522643472,0.254419967854779,0.208471211118465,0.20298761463553,0.21698024014370798,0.306703223976553,0.301030537959724,0.233431029592512,0.259430840502978,0.22681289590621198,0.224449276732533,0.27796161482461895,0.248274558003214,0.223976552897797,0.226907440673159,0.27313983171031503,0.258863571901295,0.299328732154675,0.259336295736031,0.22567835870284603,0.21877659071570396,0.3691027701616721,0.23976552897797102,0.28457974851092,0.232674671456935,0.24250732721943802,0.249787274274369,0.231351044719675,0.228609246478207,0.245816394062589,0.38281176136900796,0.21282027039803303,0.23371466389335302,0.32967760234471,0.219060225016545,0.262078093977498,0.210740285525196,0.181715042072421,0.230689231351045,0.250638177176893,0.219343859317387,0.20960574832183,0.24279096152027999,0.244303677791434,0.262834452113076,0.21830386688096803,0.305757776307081,0.235227380164508,0.231918313321358,0.236267372600927,0.26964167533327,0.225300179635057,0.24922000567268598,0.19807128675427801,0.26160537014276297,0.21471116573697602,0.295263307175948,0.207903942516782,0.21868204594875698,0.24411458825754,0.21452207620308203,0.274085279379786,0.23466011156282499,0.233998298194195,0.28457974851092,0.378557246856386,0.293939680438688,0.260092653871608,0.23900917084239398,0.254892691689515,0.21594024770728898,0.230405597050203,0.34442658598846504,0.22955469414767898,0.23059468658409804,0.21594024770728898,0.16318426775078002,0.233903753427248,0.20525668904226102,0.220762030821594,0.22993287321546801,0.227474709274842,0.24789637893542601,0.220005672686017,0.248463647537109,0.220667486054647,0.219343859317387,0.25867448236740104,0.211118464592985,0.21726387444454898,0.224449276732533,0.227569254041789,0.33535028836153896,0.234754656329772,0.319750401815259,0.24231823768554397,0.253569064952255,0.24335823012196303,0.226245627304529,0.236929185969557,0.26321263118086397,0.235132835397561,0.232580126689988,0.228231067410419,0.22095112035548803,0.21480571050392397,0.21924931455044,0.211023919826038,0.20535123380920897,0.20421669660584302,0.24742365510069,0.24250732721943802,0.23286376099082898,0.23929280514323498,0.310485014654439,0.236456462134821,0.2023258012669,0.27493618228231104,0.216223882008131,0.223409284296114,0.24723456556679602,0.26245627304528696,0.20336579370331798,0.23834735747376398,0.228420156944313,0.228703791245155,0.206391226245627,0.21518388957171203,0.228041977876525,0.208849390186253,0.21045665122435503,0.24534367022785297,0.216129337241184,0.225772903469793,0.240994610948284,0.274368913680628,0.23305285052472302,0.21631842677507798,0.2520563486811,0.25848539283350697,0.28703791245154603,0.253001796350572,0.21858750118181,0.269263496265482,0.278245249125461,0.244587312092276,0.205445778576156,0.23532192493145498,0.193627682707762,0.24165642431691398,0.214900255270871,0.22615108253758198,0.23778008887208105,0.227474709274842,0.23825281270681697,0.33941571334026693,0.19882764488985502,0.24137279001607298,0.21735841921149698,0.20856575588541199,0.243074595821121,0.232674671456935,0.217074784910655,0.25007090857520997,0.26897986196464,0.195140398978917,0.21764205351233804,0.19750401815259502,0.20128580883048103,0.21811477734707396,0.265576250354543,0.250638177176893,0.21338753899971602,0.267845324761274,0.21688569537676103,0.20667486054646897,0.25716176609624697,0.219060225016545,0.22284201569443102,0.21820932211402103,0.23087832088493898,0.301692351328354,0.257067221329299,0.33005578141249897,0.23239103715609302,0.246383662664272,0.23456556679587803,0.230027417982415,0.22851470171126,0.23447102202893105,0.23456556679587803,0.23239103715609302,0.24770728940153197,0.230405597050203,0.18776590715703897,0.223314739529167,0.20336579370331798,0.237023730736504,0.26831804859601,0.227285619740947,0.24666729696511303,0.232769216223882,0.292994232769216,0.23815826793986897,0.207431218682046,0.438120450033091,0.19665311525007104,0.235038290630614,0.29895055308688695,0.258863571901295,0.25508178122340897,0.262078093977498,0.29885600831993897,0.20156944313132302,0.253569064952255,0.233147395291671,0.287794270587123,0.27077621253663603,0.226245627304529,0.18294412404273397,0.345844757492673,0.7275219816583149,0.21650751630897197,0.19419495130944503,0.23229649238914601,0.18587501181809601,0.26567079512149,0.22095112035548803,0.224732911033374,0.256783587028458,0.21868204594875698,0.263496265481706,0.23371466389335302,0.27134348113831896,0.241089155715231,0.21461662097002898,0.233620119126406,0.300746903658882,0.29696511298099604,0.210740285525196,0.215467523872554,0.309350477451073,0.323626737260093,0.22208565755885395,0.241089155715231,0.235605559232296,0.216129337241184,0.24364186442280397,0.21972203838517498,0.22700198544010602,0.257445400397088,0.254703602155621,0.237401909804292,0.325139453531247,0.21603479247423701,0.24023825281270703,0.23286376099082898,0.23447102202893105,0.237212820270398,0.228703791245155,0.23551101446534897,0.227096530207053,0.29384513567174103,0.19835492105512,0.1840786612461,0.215562068639501,0.20875484541930606,0.203838517538054,0.237401909804292,0.274274368913681,0.25980901957076696,0.19306041410607896,0.23957643944407697,0.21716932967760197,0.20468942044057897,0.233809208660301,0.21924931455044,0.231256499952728,0.216223882008131,0.223976552897797,0.358041032428855,0.229365604613785,0.328543065141344,0.241089155715231,0.239954618511865,0.236361917367874,0.20421669660584302,0.20535123380920897,0.28363430084144803,0.20364942800416,0.23551101446534897,0.268223503829063,0.236929185969557,0.19807128675427801,0.22303110522832603,0.203460338470266,0.256783587028458,0.26633260849011997,0.224071097664744,0.22596199300368697,0.20988938262267198,0.29450694904037106,0.232107402855252,0.21565661340644798,0.349815637704453,0.17424600548359603,0.231067410418833,0.231729223787463,0.24137279001607298,0.331190318615865,0.27796161482461895,0.26585988465538396,0.27096530207053,0.22548926916895104,0.247518199867637,0.322492200056727,0.234281932495036,0.27616526425262394,0.5153635246289121,0.29980145598941105,0.19173678736881897,0.202420346033847,0.273518010778103,0.22964923891462602,0.254136333553938,0.23021650751630898,0.23551101446534897,0.215562068639501,0.21442753143613502,0.208849390186253,0.227285619740947,0.240994610948284,0.220667486054647,0.20780939774983498,0.23891462607544697,0.211213009359932,0.233620119126406,0.24231823768554397,0.199205823957644,0.261794459676657,0.260470832939397,0.269263496265482,0.216791150609814,0.220005672686017,0.22511109010116298,0.28325612177365994,0.275219816583152,0.16620970029308899,0.21962749361822798,0.319750401815259,0.34471022028930703,0.19287132457218498,0.244587312092276,0.267372600926539,0.20393306230500102,0.220667486054647,0.220005672686017,0.21159118842771998,0.25640540796066896,0.210834830292143,0.190885884466295,0.34272478018341695,0.18852226529261604,0.205067599508367,0.24402004349059303,0.232485581923041,0.235416469698402,0.224449276732533,0.21811477734707396,0.15505341779332502,0.346884749929091,0.17698780372506398,0.195424033279758,0.207714852982887,0.23220194762219898,0.21130755412687902,0.264914436985913,0.21991112791907003,0.269830764867165,0.172827833979389,0.28117613690082205,0.22652926160537,0.214900255270871,0.243074595821121,0.22520563486810996,0.24704547603290197,0.24676184173206,0.21783114304623197,0.40947338564810404,0.261794459676657,0.29564148624373604,0.21962749361822798,0.245816394062589,0.21433298666918804,0.21253663609719198,0.21896568024959803,0.26812895906211603,0.22085657558854102,0.20402760707194897,0.261227191074974,0.240994610948284,0.22199111279190697,0.24014370804576002,0.202042166966058,0.22964923891462602,0.255743594592039,0.235227380164508,0.209038479720147,0.3497210929375061,0.19750401815259502,0.255743594592039,0.170747849106552,0.20393306230500102,0.23551101446534897,0.20034036116101,0.224165642431691,0.305190507705398,0.24770728940153197,0.241940058617755,0.20733667391509902,0.249692729507422,0.248369102770162,0.254325423087832,0.24354731965585702,0.21754750874539103,0.24175096908386104,0.29951782168857,0.26037628817245,0.243074595821121,0.24137279001607298,0.231067410418833,0.19391131700860395,0.221140209889383,0.28127068166777003,0.24420913302448702,0.22511109010116298,0.24723456556679602,0.19098042923324202,0.23305285052472302,0.23031105228325602,0.21130755412687902,0.267372600926539,0.29866691878604495,0.251016356244682,0.24685638649900696,0.26415807885033604,0.234943745863666,0.26595442942233105,0.24704547603290197,0.24326368535501602,0.17027512527181599,0.224922000567269,0.223125649995273,0.24071097664744298,0.26841259336295703,0.21811477734707396,0.23730736503734498,0.219060225016545,0.187954996690933,0.3933062305001421,0.20298761463553,0.349153824335823,0.20364942800416,0.243074595821121,0.203838517538054,0.201191264063534,0.17812234092843,0.21480571050392397,0.19788219722038397,0.244965491160064,0.23021650751630898,0.209322114020989,0.257823579464877,0.24203460338470298,0.180013236267373,0.23087832088493898,0.231351044719675,0.26113264630802696,0.232958305757776,0.22132929942327698,0.224165642431691,0.22766379880873602,0.327219438404084,0.199205823957644,0.22586744823674001,0.27994705493051,0.21650751630897197,0.21849295641486202,0.21442753143613502,0.236078283067032,0.23371466389335302,0.184362295546941,0.343764772619835,0.198544010589014,0.20450033090668399,0.236456462134821,0.224260187198639,0.222463836626643,0.233336484825565,0.24335823012196303,0.24411458825754,0.19731492861870104,0.13226812895906198,0.19504585421196902,0.196085846648388,0.22104566512243498,0.189562257729035,0.24610002836342998,0.194289496076392,0.24799092370237302,0.21092937505908999,0.234281932495036,0.21735841921149698,0.207053039614257,0.214900255270871,0.212158457029403,0.23759099933818698,0.232580126689988,0.209322114020989,0.450316724969273,0.199584003025433,0.251961803914153,0.21272572563108605,0.229365604613785,0.202798525101636,0.223409284296114,0.19967854779238,0.266143518956226,0.21603479247423701,0.189278623428193,0.232012858088305,0.226245627304529,0.20402760707194897,0.20960574832183,0.20866030065235897,0.223976552897797,0.229081970312943,0.22889288077904898,0.21594024770728898,0.33232485581923,0.19882764488985502,0.24487094639311702,0.13935898648009803,0.191169518767136,0.21773659827928502,0.16866786423371502,0.22851470171126,0.309066843150232,0.232107402855252,0.230027417982415,0.19627493618228198,0.25867448236740104,0.247140020799849,0.268885317197693,0.335539377895433,0.207525763448993,0.18379502694525898,0.22303110522832603,0.229460149380732,0.22832561217736602,0.26377989978254696,0.20875484541930606,0.233903753427248,0.203176704169424,0.21868204594875698,0.22322019476222002,0.248274558003214,0.212158457029403,0.22180202325801301,0.19098042923324202,0.22511109010116298,0.227947433109577,0.210173016923513,0.244303677791434,0.16176609624657298,0.20450033090668399,0.24269641675333303,0.24364186442280397,0.18946771296208803,0.27503072704925796,0.21565661340644798,0.239387349910182,0.222463836626643,0.21820932211402103,0.260092653871608,0.319750401815259,0.237874633639028,0.21868204594875698,0.220762030821594,0.24468185685922303,0.21461662097002898,0.21537297910560602,0.28769972582017606,0.19561312281365198,0.26793986952822196,0.21830386688096803,0.22322019476222002,0.228609246478207,0.21471116573697602,0.21159118842771998,0.22993287321546801,0.15250070908575197,0.24004916327881304,0.26538716082064895,0.296586933913208,0.21830386688096803,0.20090762976269302,0.21802023258012698,0.21877659071570396,0.20866030065235897,0.21631842677507798,0.22955469414767898,0.19306041410607896,0.229081970312943,0.220762030821594,0.19665311525007104,0.20554032334310302,0.15458069395858898,0.24326368535501602,0.19816583152122502,0.22161293372411803,0.231351044719675,0.20090762976269302,0.256972676562352,0.232674671456935,0.175569632220857,0.223503829063061,0.228231067410419,0.24685638649900696,0.21480571050392397,0.20762030821594,0.220194762219911,0.215562068639501,0.301597806561407,0.184929564148624,0.20431124137279,0.25905266143519,0.22454382149948002,0.18095868393684397,0.21338753899971602,0.19268223503829102,0.24222369291859697,0.20194762219911103,0.19419495130944503,0.325328543065141,0.113926444171315,0.20525668904226102,0.222463836626643,0.23664555166871498,0.197220383851754,0.22785288834263,0.18114777347073802,0.219532948851281,0.179256878131795,0.151744350950175,0.21726387444454898,0.221423844190224,0.24326368535501602,0.202798525101636,0.266710787557909,0.255176325990356,0.263401720714758,0.205729412876997,0.22785288834263,0.262078093977498,0.185969556585043,0.21783114304623197,0.182471400207998,0.223787463363903,0.34830292143329905,0.212347546563298,0.22917651507989,0.24676184173206,0.21055119599130198,0.23532192493145498,0.19665311525007104,0.2520563486811,0.21660206107591898,0.21962749361822798,0.232769216223882,0.183511392644417,0.21130755412687902,0.23853644700765803,0.21282027039803303,0.198260376288172,0.24137279001607298,0.24014370804576002,0.295074217642053,0.235416469698402,0.215467523872554,0.240332797579654,0.235038290630614,0.23967098421102398,0.267088966625697,0.299234187387728,0.24137279001607298,0.224638366266427,0.329204878509974,0.187198638555356,0.18143140777157998,0.24940909520657997,0.209416658787936,0.288361539188806,0.20289306986858302,0.253379975418361,0.198449465822067,0.20582395764394398,0.247140020799849,0.20866030065235897,0.24780183416847895,0.238063723172922,0.22369291859695603,0.24591093882953602,0.191169518767136,0.23872553654155199,0.207053039614257,0.26812895906211603,0.248841826604897,0.24572184929564103,0.263496265481706,0.25092181147773496,0.256027228892881,0.196558570483124,0.230121962749362,0.216223882008131,0.212914815164981,0.198260376288172,0.259430840502978,0.21915476978349202,0.234943745863666,0.19797674198733103,0.231067410418833,0.215278434338659,0.22388200813085002,0.226907440673159,0.250354542876052,0.20856575588541199,0.24004916327881304,0.24326368535501602,0.257918124231824,0.21802023258012698,0.23116195518578,0.264630802685071,0.20563486811005,0.22615108253758198,0.23182376855441,0.24515458069395898,0.762692634962655,0.22615108253758198,0.22964923891462602,0.247518199867637,0.228041977876525,0.226245627304529,0.220194762219911,0.27153257067221304,0.19948945825848496,0.22038385175380498,0.272950742176421,0.21442753143613502,0.21480571050392397,0.259619930036872,0.21603479247423701,0.21820932211402103,0.19258769027134304,0.21404935236834602,0.28722700198544,0.222652926160537,0.215467523872554,0.24184551385080802,0.21726387444454898,0.23683464120260897,0.243736409189751,0.255270870757304,0.255459960291198,0.23967098421102398,0.26160537014276297,0.257634489930982,0.226245627304529,0.253096341117519,0.217074784910655,0.247140020799849,0.225583813935899,0.25328543065141296,0.26916895149853504,0.254136333553938,0.194951309445022,0.21858750118181,0.24042734234660101,0.21868204594875698,0.227947433109577,0.23116195518578,0.237023730736504,0.21508934480476502,0.21754750874539103,0.23447102202893105,0.232580126689988,0.22964923891462602,0.24808546846932,0.221140209889383,0.254230878320885,0.233903753427248,0.282405218871135,0.22028930698685797,0.224922000567269,0.21565661340644798,0.22255838139359002,0.21698024014370798,0.310012290819703,0.205445778576156,0.230689231351045,0.223976552897797,0.229460149380732,0.17604235605559196,0.213482083766663,0.195802212347547,0.22189656802495997,0.226623806372317,0.21253663609719198,0.223409284296114,0.257256310863194,0.22567835870284603,0.247612744634584,0.200529450694904,0.252812706816678,0.237401909804292,0.24770728940153197,0.485487378273613,0.22104566512243498,0.22123475465632997,0.26321263118086397,0.21773659827928502,0.226907440673159,0.24666729696511303,0.209416658787936,0.206391226245627,0.27266710787557896,0.21508934480476502,0.20875484541930606,0.22085657558854102,0.220667486054647,0.207053039614257,0.22085657558854102,0.212063912262456,0.283067032239765,0.213009359931928,0.224260187198639,0.229460149380732,0.215278434338659,0.203082159402477,0.240994610948284,0.24326368535501602,0.21858750118181,0.215562068639501,0.24071097664744298,0.259525385269925,0.20828212158457,0.243074595821121,0.184173206013047,0.22038385175380498,0.227569254041789,0.243074595821121,0.21754750874539103,0.24203460338470298,0.21045665122435503,0.237118275503451,0.236456462134821,0.247612744634584,0.22520563486810996,0.209038479720147,0.214900255270871,0.225583813935899,0.21159118842771998,0.228136522643472,0.22274747092748395,0.253190885884466,0.236740096435662,0.22567835870284603,0.210078472156566,0.225394724402004,0.230689231351045,0.223976552897797,0.21603479247423701,0.235889193533138,0.20260943556774103,0.24572184929564103,0.24354731965585702,0.20535123380920897,0.211118464592985,0.22520563486810996,0.23447102202893105,0.226623806372317,0.18814408622482698,0.209794837855725,0.214900255270871,0.22567835870284603,0.21263118086413899,0.20194762219911103,0.18502410891557197,0.24940909520657997,0.24789637893542601,0.224449276732533,0.23437647726198396,0.24203460338470298,0.30849957454854904,0.254325423087832,0.205729412876997,0.226245627304529,0.21329299423276898,0.233809208660301,0.233336484825565,0.22274747092748395,0.22898742554599602,0.216791150609814,0.227096530207053,0.261794459676657,0.21282027039803303,0.22293656046137802,0.23305285052472302,0.22057294128770003,0.235889193533138,0.21092937505908999,0.223787463363903,0.213482083766663,0.22955469414767898,0.22766379880873602,0.220194762219911,0.23976552897797102,0.22435473196558603,0.235700103999244,0.22274747092748395,0.20856575588541199,0.23154013425356898,0.228041977876525,0.225772903469793,0.223598373830008,0.224260187198639,0.22785288834263,0.241183700482178,0.21991112791907003,0.261227191074974,0.255270870757304,0.25177271438025894,0.22766379880873602,0.23967098421102398,0.22964923891462602,0.256499952727617,0.207053039614257,0.24354731965585702,0.232012858088305,0.241183700482178,0.19948945825848496,0.240616431880495,0.233998298194195,0.203176704169424,0.210645740758249,0.224638366266427,0.24222369291859697,0.22586744823674001,0.22199111279190697,0.23021650751630898,0.249881819041316,0.24023825281270703,0.225583813935899,0.20336579370331798,0.250354542876052,0.27134348113831896,0.24808546846932,0.26756169046043304,0.223976552897797,0.24487094639311702,0.216696605842867,0.23437647726198396,0.26831804859601,0.22482745580032104,0.26434716838423,0.22189656802495997,0.22615108253758198,0.320506759950837,0.255554505058145,0.273990734612839,0.253852699253096,0.23484920109671897,0.22303110522832603,0.239387349910182,0.24354731965585702,0.27228892880779004,0.30604141060792306,0.23239103715609302,0.253001796350572,0.23097286565188602,0.259147206202137,0.256027228892881,0.20336579370331798,0.22785288834263,0.227285619740947,0.254987236456462,0.23097286565188602,0.24335823012196303,0.21726387444454898,0.22180202325801301,0.21868204594875698,0.209700293088778,0.178689609530112,0.232012858088305,0.22057294128770003,0.213009359931928,0.21783114304623197,0.22832561217736602,0.20081308499574502,0.22123475465632997,0.21603479247423701,0.227474709274842,0.235132835397561,0.24723456556679602,0.251583624846365,0.18615864611893698,0.254798146922568,0.21603479247423701,0.228420156944313,0.23087832088493898,0.19532948851281098,0.24742365510069,0.243830953956698,0.22596199300368697,0.22634017207147603,0.215562068639501,0.229081970312943,0.22435473196558603,0.24080552141439002,0.26056537770634397,0.24487094639311702,0.238063723172922,0.22132929942327698,0.21773659827928502,0.21962749361822798,0.24799092370237302,0.256216318426775,0.268601682896852,0.22511109010116298,0.24468185685922303,0.24770728940153197,0.252812706816678,0.24732911033374302,0.195802212347547,0.252245438214995,0.23957643944407697,0.205918502410892,0.200529450694904,0.237874633639028,0.21858750118181,0.256121773659828,0.239954618511865,0.243074595821121,0.22501654533421603,0.243830953956698,0.249692729507422,0.24515458069395898,0.24468185685922303,0.23182376855441,0.229365604613785,0.20762030821594,0.216129337241184,0.25716176609624697,0.23163467902051602,0.24014370804576002,0.226245627304529,0.219343859317387,0.235794648766191,0.235794648766191,0.23778008887208105,0.23759099933818698,0.249314550439633,0.231256499952728,0.183322303110523,0.23418738772808897,0.214900255270871,0.219532948851281,0.22964923891462602,0.233809208660301,0.273896189845892,0.25735085563014104,0.226907440673159,0.230027417982415,0.203271248936371,0.200056726860168,0.14351895622577301,0.251016356244682,0.256027228892881,0.23466011156282499,0.253096341117519,0.24279096152027999,0.30244870946393104,0.252812706816678,0.216129337241184,0.216791150609814,0.215751158173395,0.233147395291671,0.235132835397561,0.21735841921149698,0.234943745863666,0.21319844946582198,0.223125649995273,0.26415807885033604,0.20497305474142,0.21802023258012698,0.237401909804292,0.219343859317387,0.22161293372411803,0.22085657558854102,0.220005672686017,0.194478585610286,0.232769216223882,0.22993287321546801,0.230689231351045,0.226434716838423,0.231067410418833,0.23730736503734498,0.23163467902051602,0.214900255270871,0.236929185969557,0.229743783681573,0.231256499952728,0.22889288077904898,0.227569254041789,0.226623806372317,0.22917651507989,0.22955469414767898,0.24808546846932,0.24808546846932,0.255932684125934,0.236361917367874,0.244398222558381,0.23929280514323498,0.27673253285430605,0.220005672686017,0.233903753427248,0.22293656046137802,0.25735085563014104,0.223787463363903,0.233147395291671,0.235132835397561,0.196464025716177,0.21820932211402103,0.24893637137184502,0.22851470171126,0.249692729507422,0.23456556679587803,0.22189656802495997,0.248274558003214,0.24354731965585702,0.217074784910655,0.23371466389335302,0.20081308499574502,0.25243452774888897,0.254230878320885,0.26699442185875,0.224260187198639,0.24865273707100302,0.20695849484731,0.229460149380732,0.323626737260093,0.226718351139264,0.256499952727617,0.21981658315212302,0.22208565755885395,0.263118086413917,0.299706911222464,0.29677602344710197,0.256216318426775,0.23286376099082898,0.241183700482178,0.229081970312943,0.24146733478302,0.24298005105417397,0.275125271816205,0.233903753427248,0.26803441429516894,0.23759099933818698,0.266143518956226,0.25129999054552304,0.24411458825754,0.249030916138792,0.25716176609624697,0.278245249125461,0.236361917367874,0.23484920109671897,0.269074406731587,0.24657275219816602,0.23286376099082898,0.287510636286282,0.237401909804292,0.22605653777063395,0.224449276732533,0.336012101730169,0.25716176609624697,0.24600548359648297,0.20554032334310302,0.220194762219911,0.223125649995273,0.20535123380920897,0.211213009359932,0.215467523872554,0.219438404084334,0.209416658787936,0.21480571050392397,0.208187576817623,0.23844190224071105,0.22964923891462602,0.229743783681573,0.252907251583625,0.24487094639311702,0.21461662097002898,0.21263118086413899,0.23853644700765803,0.22274747092748395,0.22851470171126,0.22132929942327698,0.19750401815259502,0.237401909804292,0.24402004349059303,0.249692729507422,0.236929185969557,0.211685733194668,0.23220194762219898,0.233809208660301,0.237874633639028,0.23929280514323498,0.24014370804576002,0.26273990734612807,0.21839841164791501,0.209322114020989,0.212253001796351,0.24619457313037696,0.27162711543916,0.29015788976080203,0.24080552141439002,0.24260187198638603,0.24685638649900696,0.227758343575683,0.23059468658409804,0.213482083766663,0.22435473196558603,0.229460149380732,0.202703980334688,0.224922000567269,0.23551101446534897,0.150231634679021,0.280230689231351,0.216129337241184,0.19599130188144104,0.233903753427248,0.228703791245155,0.24477640162617,0.223409284296114,0.25735085563014104,0.23834735747376398,0.223976552897797,0.20289306986858302,0.19306041410607896,0.260754467240238,0.232107402855252,0.24354731965585702,0.287416091519334,0.22634017207147603,0.233809208660301,0.233998298194195,0.23910371560934102,0.227569254041789,0.24959818474047502,0.229743783681573,0.22274747092748395,0.232485581923041,0.244303677791434,0.22681289590621198,0.236456462134821,0.256310863193722,0.275787085184835,0.24326368535501602,0.224260187198639,0.21820932211402103,0.19996218209322103,0.185307743216413,0.219343859317387,0.27228892880779004,0.21026756169046,0.316724969272951,0.24269641675333303,0.293561501370899,0.268790772430746,0.224922000567269,0.194384040843339,0.22274747092748395,0.229743783681573,0.23749645457123897,0.241940058617755,0.23768554410513398,0.20194762219911103,0.230027417982415,0.275219816583152,0.21858750118181,0.21839841164791501,0.240616431880495,0.227474709274842,0.236929185969557,0.21092937505908999,0.21442753143613502,0.209794837855725,0.24449276732532896,0.232674671456935,0.231256499952728,0.255270870757304,0.22889288077904898,0.239954618511865,0.22700198544010602,0.21499480003781798,0.244398222558381,0.232580126689988,0.230689231351045,0.231256499952728,0.24014370804576002,0.21924931455044,0.23929280514323498,0.22047839652075302,0.245816394062589,0.255459960291198,0.256216318426775,0.233809208660301,0.254419967854779,0.253852699253096,0.292143329866692,0.228231067410419,0.229271059846837,0.21839841164791501,0.262078093977498,0.24770728940153197,0.234092842961142,0.220194762219911,0.21433298666918804,0.22605653777063395,0.253379975418361,0.24364186442280397,0.238063723172922,0.241278245249125,0.22255838139359002,0.24959818474047502,0.22983832844852,0.229081970312943,0.20828212158457,0.20535123380920897,0.2388200813085,0.252812706816678,0.257067221329299,0.222652926160537,0.24269641675333303,0.22199111279190697,0.23050014181715,0.269358041032429,0.22785288834263,0.27153257067221304,0.215751158173395,0.251489080079418,0.22785288834263,0.31596861113737396,0.30216507516309005,0.230405597050203,0.20828212158457,0.252529072515836,0.220100217452964,0.24506003592701103,0.220100217452964,0.268790772430746,0.220667486054647,0.31039046988749197,0.233809208660301,0.267088966625697,0.24241278245249104,0.24231823768554397,0.241940058617755,0.253663609719202,0.227191074974,0.249030916138792,0.23418738772808897,0.29885600831993897,0.28647064384986304,0.23976552897797102,0.296114210078472,0.224165642431691,0.23031105228325602,0.211023919826038,0.294696038574265,0.26056537770634397,0.253001796350572,0.216696605842867,0.22993287321546801,0.223598373830008,0.202136711733006,0.24893637137184502,0.20714758438120398,0.22596199300368697,0.211780277961615,0.21745296397844396,0.19532948851281098,0.20620213671173301,0.220762030821594,0.215467523872554,0.21386026283445198,0.24685638649900696,0.21584570294034197,0.22917651507989,0.239387349910182,0.245816394062589,0.224638366266427,0.22548926916895104,0.245249125460906,0.248180013236267,0.23551101446534897,0.225300179635057,0.19324950363997304,0.22567835870284603,0.25186725914720604,0.23418738772808897,0.239198260376288,0.223787463363903,0.235132835397561,0.237212820270398,0.25092181147773496,0.23447102202893105,0.241278245249125,0.24165642431691398,0.21650751630897197,0.21830386688096803,0.204783965207526,0.226245627304529,0.26756169046043304,0.27030348870189996,0.255649049825092,0.24260187198638603,0.244587312092276,0.24874728183795,0.23551101446534897,0.22151838895717102,0.22123475465632997,0.247140020799849,0.21698024014370798,0.226907440673159,0.23900917084239398,0.20364942800416,0.260659922473291,0.22681289590621198,0.210078472156566,0.234943745863666,0.235605559232296,0.243074595821121,0.19277677980523802,0.263401720714758,0.218871135482651,0.22898742554599602,0.20128580883048103,0.20364942800416,0.244398222558381,0.240616431880495,0.241183700482178,0.37430273234376504,0.20988938262267198,0.227947433109577,0.236267372600927,0.23749645457123897,0.24345277488891,0.251961803914153,0.251678169613312,0.23437647726198396,0.22047839652075302,0.279001607261038,0.227474709274842,0.239198260376288,0.254798146922568,0.254136333553938,0.23286376099082898,0.232769216223882,0.21773659827928502,0.223409284296114,0.21055119599130198,0.18890044436040498,0.22615108253758198,0.170747849106552,0.21735841921149698,0.24997636380826302,0.21584570294034197,0.29951782168857,0.23229649238914601,0.293466956603952,0.280419778765245,0.21972203838517498,0.21263118086413899,0.21783114304623197,0.23730736503734498,0.254703602155621,0.24780183416847895,0.23967098421102398,0.210834830292143,0.22832561217736602,0.26500898175286,0.22482745580032104,0.222652926160537,0.237118275503451,0.22501654533421603,0.24392549872364602,0.207242129148152,0.244303677791434,0.22189656802495997,0.251110901011629,0.230405597050203,0.230405597050203,0.24619457313037696,0.231256499952728,0.228231067410419,0.21584570294034197,0.243736409189751,0.224732911033374,0.22567835870284603,0.224071097664744,0.235700103999244,0.224260187198639,0.23286376099082898,0.21404935236834602,0.250165453342158,0.24780183416847895,0.254136333553938,0.236929185969557,0.264725347452018,0.25971447480382,0.30244870946393104,0.225583813935899,0.23229649238914601,0.21631842677507798,0.25215089344804803,0.241940058617755,0.232580126689988,0.21272572563108605,0.20620213671173301,0.225772903469793,0.275976174718729,0.22634017207147603,0.234754656329772,0.22681289590621198,0.22208565755885395,0.21858750118181,0.220667486054647,0.22615108253758198,0.21565661340644798,0.22766379880873602,0.245249125460906,0.24468185685922303,0.255270870757304,0.23163467902051602,0.254798146922568,0.198922189656802,0.230027417982415,0.20828212158457,0.253852699253096,0.269263496265482,0.224165642431691,0.248274558003214,0.21698024014370798,0.317859506476317,0.31275408906116997,0.22766379880873602,0.20487850997447302,0.24222369291859697,0.22369291859695603,0.24808546846932,0.21461662097002898,0.254703602155621,0.212253001796351,0.260943556774133,0.22634017207147603,0.25867448236740104,0.232958305757776,0.226434716838423,0.231067410418833,0.273234376477262,0.248180013236267,0.255365415524251,0.19674766001701802,0.29545239670984197,0.254609057388674,0.21773659827928502,0.28259430840503,0.22700198544010602,0.23097286565188602,0.209038479720147,0.285052472345656,0.303866880968138,0.24732911033374302,0.264819892218966,0.23371466389335302,0.24269641675333303,0.221423844190224,0.21461662097002898,0.23551101446534897,0.274368913680628,0.240616431880495,0.662191547697835,0.24950363997352698,0.227474709274842,0.233431029592512,0.206580315779522,0.227474709274842,0.21480571050392397,0.21404935236834602,0.18322775834357602,0.20535123380920897,0.21820932211402103,0.21452207620308203,0.21442753143613502,0.23853644700765803,0.19636948094922896,0.223976552897797,0.2520563486811,0.252812706816678,0.221423844190224,0.20450033090668399,0.22369291859695603,0.225300179635057,0.21754750874539103,0.21962749361822798,0.20620213671173301,0.239954618511865,0.256689042261511,0.223314739529167,0.23778008887208105,0.220100217452964,0.230783776117992,0.26245627304528696,0.254892691689515,0.224922000567269,0.24260187198638603,0.248369102770162,0.20393306230500102,0.227191074974,0.21187482272856198,0.23352557435945898,0.259241750969084,0.272478018341685,0.308405029781602,0.24628911789732397,0.262267183511393,0.232958305757776,0.226434716838423,0.232674671456935,0.22095112035548803,0.25215089344804803,0.208471211118465,0.22303110522832603,0.24298005105417397,0.181336863004633,0.256878131795405,0.232012858088305,0.21896568024959803,0.22993287321546801,0.231729223787463,0.24789637893542601,0.22889288077904898,0.261510825375815,0.21319844946582198,0.23220194762219898,0.199205823957644,0.208471211118465,0.233431029592512,0.228420156944313,0.24231823768554397,0.344521130755413,0.215751158173395,0.21357662853361103,0.24203460338470298,0.240332797579654,0.23617282783397897,0.261794459676657,0.2520563486811,0.24808546846932,0.223314739529167,0.273234376477262,0.244965491160064,0.267278056159592,0.251678169613312,0.23976552897797102,0.229271059846837,0.21442753143613502,0.225394724402004,0.18946771296208803,0.138886262645363,0.226907440673159,0.202136711733006,0.23815826793986897,0.274558003214522,0.21783114304623197,0.309728656518862,0.258201758532665,0.216129337241184,0.21159118842771998,0.215278434338659,0.228231067410419,0.229081970312943,0.221707478491065,0.220762030821594,0.18908953389429897,0.219060225016545,0.255176325990356,0.211685733194668,0.21745296397844396,0.226623806372317,0.219343859317387,0.235605559232296,0.207903942516782,0.24420913302448702,0.18814408622482698,0.250449087642999,0.22227474709274803,0.22322019476222002,0.235227380164508,0.235794648766191,0.226907440673159,0.206107591944786,0.231067410418833,0.229081970312943,0.218871135482651,0.22104566512243498,0.205918502410892,0.222652926160537,0.222463836626643,0.210834830292143,0.24241278245249104,0.21783114304623197,0.23948189467713002,0.222652926160537,0.235794648766191,0.247140020799849,0.27191074974000196,0.22303110522832603,0.223503829063061,0.20109671929658698,0.237212820270398,0.22454382149948002,0.224449276732533,0.20336579370331798,0.21594024770728898,0.22132929942327698,0.24269641675333303,0.19930036872459098,0.22255838139359002,0.219343859317387,0.20733667391509902,0.19457313037723395,0.224260187198639,0.21423844190224103,0.202136711733006,0.195140398978917,0.216696605842867,0.21660206107591898,0.231067410418833,0.227285619740947,0.22898742554599602,0.199773092559327,0.194384040843339,0.181904131606316,0.23154013425356898,0.26169991490971,0.19192587690271304,0.251961803914153,0.22123475465632997,0.307081403044342,0.261794459676657,0.22454382149948002,0.20468942044057897,0.23456556679587803,0.198449465822067,0.24789637893542601,0.220194762219911,0.24619457313037696,0.194384040843339,0.118370048217831,0.224449276732533,0.26236172827834,0.196085846648388,0.22199111279190697,0.20450033090668399,0.265198071286754,0.24676184173206,0.23598373830008498,0.244587312092276,0.21329299423276898,0.21896568024959803,0.201191264063534,0.20497305474142,0.21565661340644798,0.294317859506476,0.282405218871135,0.22634017207147603,0.231729223787463,0.24231823768554397,0.22227474709274803,0.212063912262456,0.21603479247423701,0.26699442185875,0.22955469414767898,0.289779710693013,0.250259998109105,0.23749645457123897,0.21792568781317997,0.21594024770728898,0.254892691689515,0.22501654533421603,0.197220383851754,0.17415146071664903,0.261794459676657,0.20487850997447302,0.22132929942327698,0.21386026283445198,0.210834830292143,0.157795216034792,0.21972203838517498,0.20364942800416,0.20856575588541199,0.21130755412687902,0.223125649995273,0.180013236267373,0.223976552897797,0.24657275219816602,0.23484920109671897,0.193154958873026,0.194289496076392,0.19003498156377,0.20648577101257398,0.221423844190224,0.19258769027134304,0.21036210645740802,0.231445589486622,0.256310863193722,0.207714852982887,0.226907440673159,0.21537297910560602,0.21839841164791501,0.246478207431219,0.232485581923041,0.21433298666918804,0.23967098421102398,0.243736409189751,0.200718540228798,0.222463836626643,0.20875484541930606,0.226434716838423,0.227191074974,0.251016356244682,0.281837950269453,0.233336484825565,0.23437647726198396,0.224638366266427,0.22218020232580102,0.22832561217736602,0.229460149380732,0.23239103715609302,0.21055119599130198,0.20762030821594,0.23825281270681697,0.19126406353408298,0.236551006901768,0.215751158173395,0.23900917084239398,0.21584570294034197,0.21962749361822798,0.237401909804292,0.231256499952728,0.220100217452964,0.22964923891462602,0.20421669660584302,0.202798525101636,0.22766379880873602,0.24080552141439002,0.227096530207053,0.317103148340739,0.21820932211402103,0.22057294128770003,0.232012858088305,0.24402004349059303,0.21915476978349202,0.245816394062589,0.253190885884466,0.22038385175380498,0.216129337241184,0.23683464120260897,0.236078283067032,0.25082726671078803,0.21773659827928502,0.23437647726198396,0.227380164507894,0.21338753899971602,0.21263118086413899,0.20090762976269302,0.241940058617755,0.20733667391509902,0.234943745863666,0.225772903469793,0.263401720714758,0.250259998109105,0.264819892218966,0.219343859317387,0.23087832088493898,0.23778008887208105,0.23664555166871498,0.20128580883048103,0.24279096152027999,0.263401720714758,0.24004916327881304,0.22993287321546801,0.22047839652075302,0.22615108253758198,0.22652926160537,0.19457313037723395,0.237401909804292,0.24799092370237302,0.23220194762219898,0.225772903469793,0.24090006618133702,0.24071097664744298,0.237118275503451,0.236078283067032,0.258107213765718,0.21962749361822798,0.178595064763165,0.23891462607544697,0.153351611988276,0.246478207431219,0.23447102202893105,0.22652926160537,0.259241750969084,0.258201758532665,0.200245816394063,0.22151838895717102,0.272950742176421,0.248841826604897,0.231729223787463,0.220762030821594,0.174813274085279,0.33033941571334,0.223787463363903,0.23551101446534897,0.205918502410892,0.24146733478302,0.215467523872554,0.237874633639028,0.22567835870284603,0.230689231351045,0.232107402855252,0.248274558003214,0.22322019476222002,0.22322019476222002,0.22766379880873602,0.22095112035548803,0.216223882008131,0.229365604613785,0.235416469698402,0.19410040654249802,0.194951309445022,0.212063912262456,0.203176704169424,0.21187482272856198,0.24288550628722697,0.21735841921149698,0.22700198544010602,0.224260187198639,0.223787463363903,0.233620119126406,0.246383662664272,0.21452207620308203,0.226434716838423,0.236929185969557,0.22255838139359002,0.19419495130944503,0.21745296397844396,0.21858750118181,0.205918502410892,0.23976552897797102,0.21726387444454898,0.22964923891462602,0.22454382149948002,0.206769405313416,0.22227474709274803,0.23815826793986897,0.24345277488891,0.223503829063061,0.212914815164981,0.194478585610286,0.26756169046043304,0.223787463363903,0.21282027039803303,0.16932967760234502,0.198544010589014,0.22189656802495997,0.23305285052472302,0.21735841921149698,0.21820932211402103,0.21698024014370798,0.233336484825565,0.218871135482651,0.176893258958117,0.294790583341212,0.221140209889383,0.24666729696511303,0.224922000567269,0.32031767041694204,0.265481705587596,0.223598373830008,0.20459487567363102,0.199773092559327,0.208187576817623,0.280892502599981,0.20421669660584302,0.216696605842867,0.23768554410513398,0.23759099933818698,0.23456556679587803,0.181053228703791,0.29289968800226895,0.21745296397844396,0.216129337241184,0.20034036116101,0.139264441713151,0.19939491349153798,0.22322019476222002,0.28278339793892404,0.21565661340644798,0.20828212158457,0.21442753143613502,0.21962749361822798,0.22766379880873602,0.245816394062589,0.23484920109671897,0.21631842677507798,0.158173395102581,0.216791150609814,0.23352557435945898,0.21764205351233804,0.219343859317387,0.21924931455044,0.23097286565188602,0.216791150609814,0.191642242601872,0.21981658315212302,0.22851470171126,0.21414389713529397,0.235700103999244,0.313699536730642,0.281837950269453,0.22615108253758198,0.222652926160537,0.19740947338564802,0.206107591944786,0.19457313037723395,0.21745296397844396,0.27711071192209497,0.22227474709274803,0.215278434338659,0.223314739529167,0.22917651507989,0.235416469698402,0.20289306986858302,0.25328543065141296,0.22085657558854102,0.216223882008131,0.19296586933913198,0.21698024014370798,0.228041977876525,0.22208565755885395,0.270681667769689,0.21924931455044,0.17500236361917404,0.181904131606316,0.21924931455044,0.22889288077904898,0.240616431880495,0.23286376099082898,0.21584570294034197,0.169424222369292,0.170842393873499,0.189278623428193,0.21461662097002898,0.23957643944407697,0.209511203554883,0.227569254041789,0.21924931455044,0.227285619740947,0.21480571050392397,0.232769216223882,0.26765623522738,0.232580126689988,0.215751158173395,0.209416658787936,0.29885600831993897,0.328448520374397,0.22454382149948002,0.22993287321546801,0.288077904887964,0.223314739529167,0.247140020799849,0.20629668147868,0.21404935236834602,0.294696038574265,0.23825281270681697,0.21849295641486202,0.23239103715609302,0.235889193533138,0.227474709274842,0.21603479247423701,0.24345277488891,0.223503829063061,0.228231067410419,0.21735841921149698,0.22482745580032104,0.24420913302448702,0.22218020232580102,0.24893637137184502,0.223787463363903,0.216791150609814,0.200056726860168,0.22180202325801301,0.18143140777157998,0.24250732721943802,0.24269641675333303,0.21442753143613502,0.18672591472062,0.19391131700860395,0.216223882008131,0.22161293372411803,0.208471211118465,0.228136522643472,0.216412971542025,0.206580315779522,0.283350666540607,0.23031105228325602,0.197598562919542,0.23220194762219898,0.282310674104188,0.384229932873215,0.22520563486810996,0.23418738772808897,0.274274368913681,0.23352557435945898,0.247140020799849,0.283067032239765,0.357190129526331,0.21849295641486202,0.216696605842867,0.304906873404557,0.23087832088493898,0.21896568024959803,0.23957643944407697,0.22785288834263,0.228041977876525,0.21698024014370798,0.280230689231351,0.23352557435945898,0.22605653777063395,0.214900255270871,0.221707478491065,0.23759099933818698,0.22218020232580102,0.24203460338470298,0.228041977876525,0.22652926160537,0.202703980334688,0.232674671456935,0.191169518767136,0.235889193533138,0.24487094639311702,0.216129337241184,0.19797674198733103,0.21423844190224103,0.21650751630897197,0.223125649995273,0.215278434338659,0.231918313321358,0.21896568024959803,0.21962749361822798,0.293372411837005,0.21594024770728898,0.215278434338659,0.21735841921149698,0.28127068166777003,0.34404840692067695,0.227569254041789,0.269452585799376,0.209794837855725,0.24071097664744298,0.24241278245249104,1.0,0.2388200813085,0.22983832844852,0.18029687056821397,0.21981658315212302,0.21924931455044,0.30348870190035,0.23437647726198396,0.209133024487095,0.23730736503734498,0.22388200813085002,0.227947433109577,0.216129337241184,0.289779710693013,0.228703791245155,0.21811477734707396,0.205918502410892,0.254419967854779,0.22993287321546801,0.22189656802495997,0.19466767514418104,0.22236929185969603,0.251583624846365,0.204405786139737,0.230027417982415,0.23229649238914601,0.23910371560934102,0.225394724402004,0.21858750118181,0.22652926160537,0.0795121490025527,0.16479152878888198,0.15429705965774804,0.264063534083388,0.21839841164791501,0.32296492389146303,0.22898742554599602,0.248274558003214,0.19693674955091198,0.223787463363903,0.221423844190224,0.23749645457123897,0.236551006901768,0.23749645457123897,0.232580126689988,0.22851470171126,0.25716176609624697,0.22520563486810996,0.226907440673159,0.231351044719675,0.258390848066559,0.21518388957171203,0.23778008887208105,0.25848539283350697,0.23229649238914601,0.21461662097002898,0.24212914815165,0.22993287321546801,0.27937978632882693,0.198733100122908,0.249125460905739,0.22047839652075302,0.26538716082064895,0.24808546846932,0.273328921244209,0.20866030065235897,0.20090762976269302,0.212347546563298,0.259430840502978,0.257634489930982,0.24997636380826302,0.228041977876525,0.257918124231824,0.253569064952255,0.231918313321358,0.294034225205635,0.246478207431219,0.316346790205162,0.259525385269925,0.281459771201664,0.235700103999244,0.24212914815165,0.247612744634584,0.226623806372317,0.24080552141439002,0.23437647726198396,0.231256499952728,0.231445589486622,0.227758343575683,0.24676184173206,0.18228231067410397,0.231067410418833,0.22236929185969603,0.24345277488891,0.254703602155621,0.20128580883048103,0.26264536257918103,0.21461662097002898,0.24676184173206,0.23352557435945898,0.219532948851281,0.22511109010116298,0.25716176609624697,0.24042734234660101,0.254041788786991,0.24222369291859697,0.231918313321358,0.22293656046137802,0.22482745580032104,0.217074784910655,0.259619930036872,0.215562068639501,0.228609246478207,0.22274747092748395,0.21660206107591898,0.256594497494564,0.215278434338659,0.228420156944313,0.21773659827928502,0.264914436985913,0.21820932211402103,0.29053606882859,0.261983549210551,0.20733667391509902,0.23730736503734498,0.20762030821594,0.25716176609624697,0.23239103715609302,0.23456556679587803,0.21773659827928502,0.245816394062589,0.220667486054647,0.217074784910655,0.22454382149948002,0.23097286565188602,0.22218020232580102,0.256878131795405,0.24657275219816602,0.224638366266427,0.181336863004633,0.237023730736504,0.29195424033279804,0.198260376288172,0.315212253001796,0.234281932495036,0.22766379880873602,0.191642242601872,0.18634773565283203,0.24742365510069,0.197125839084807,0.223503829063061,0.19154769783492498,0.223787463363903,0.23059468658409804,0.309634111751915,0.20780939774983498,0.23664555166871498,0.21991112791907003,0.216791150609814,0.268790772430746,0.19627493618228198,0.223598373830008,0.255743594592039,0.24780183416847895,0.24562730452869397,0.27285619740947303,0.24146733478302,0.21773659827928502,0.215751158173395,0.23484920109671897,0.259430840502978,0.348113831899404,0.23437647726198396,0.23021650751630898,0.23418738772808897,0.21631842677507798,0.22293656046137802,0.21631842677507798,0.197598562919542,0.167627871797296,0.20988938262267198,0.22511109010116298,0.223314739529167,0.23967098421102398,0.254136333553938,0.37846270208943894,0.24402004349059303,0.2089439349532,0.27191074974000196,0.23768554410513398,0.20629668147868,0.24600548359648297,0.265198071286754,0.21915476978349202,0.21991112791907003,0.23815826793986897,0.227758343575683,0.224732911033374,0.222463836626643,0.208093032050676,0.27153257067221304,0.232012858088305,0.21868204594875698,0.21329299423276898,0.21660206107591898,0.216696605842867,0.21092937505908999,0.22832561217736602,0.227758343575683],\"xaxis\":\"x\",\"y\":[1,1,1,1,1,1,0,0,0,0,0,0,0,0,0,0,0,0,0,0,0,0,0,0,0,0,0,0,0,1,1,0,0,0,0,0,0,0,0,0,0,0,0,0,0,0,0,0,0,0,0,0,0,0,1,1,1,1,0,0,0,0,0,0,0,0,0,0,0,0,0,0,0,0,0,0,0,0,0,0,0,1,0,0,0,0,0,0,0,0,0,0,0,0,0,0,0,0,0,0,0,0,0,0,0,1,1,0,0,0,0,0,0,0,0,0,0,0,0,0,0,0,0,0,0,0,0,0,0,0,0,0,1,0,0,0,0,0,0,0,0,0,0,0,0,0,0,0,0,0,0,0,0,0,0,0,0,0,1,0,0,0,0,0,0,0,0,0,0,0,0,0,0,0,0,0,0,0,0,0,0,0,0,0,1,1,1,0,0,0,0,0,0,0,0,0,0,0,0,0,0,0,0,0,0,0,0,0,0,0,0,0,0,0,0,0,0,0,0,0,0,0,0,0,0,0,0,0,0,0,1,1,1,1,1,1,1,0,0,0,0,0,0,0,0,0,0,0,0,0,0,0,0,0,0,0,0,0,0,0,0,0,0,0,0,0,0,0,0,0,0,0,0,0,0,0,0,0,0,0,0,0,0,0,1,0,0,0,0,0,0,0,0,0,0,0,0,0,0,0,0,0,0,0,0,0,0,0,0,0,0,0,0,0,0,0,0,0,0,0,0,0,0,0,0,0,0,0,0,0,0,0,0,0,0,0,0,0,0,0,0,0,0,0,0,0,0,0,0,0,0,0,0,0,0,0,0,0,0,0,0,0,0,0,0,0,0,0,0,0,0,0,0,0,0,0,0,0,0,1,0,0,0,0,0,0,0,0,0,0,0,0,0,0,0,0,0,0,0,0,0,0,0,0,0,0,0,0,0,0,0,0,0,0,0,0,0,0,0,0,0,0,0,0,0,0,0,1,0,0,0,0,0,0,0,0,0,0,0,0,0,0,0,0,0,0,0,0,0,0,0,0,0,0,0,0,0,0,0,0,0,0,0,0,0,0,0,0,0,0,0,0,0,0,0,0,1,0,0,0,0,0,0,0,0,0,0,0,0,0,0,0,0,0,0,0,0,0,0,0,0,0,0,0,0,0,0,0,0,0,0,0,0,0,0,0,0,0,0,0,0,0,0,0,0,1,1,1,0,0,0,0,0,0,0,0,0,0,0,0,0,0,0,0,0,0,0,0,0,0,0,0,0,0,0,0,0,0,0,0,0,0,0,0,0,0,0,0,0,0,0,0,0,0,0,0,1,0,0,0,0,0,0,0,0,0,0,0,0,0,0,0,0,0,0,0,0,0,0,0,0,0,0,0,0,0,0,0,0,0,0,0,0,0,0,0,0,0,0,0,0,0,0,0,0,0,0,0,0,0,0,0,0,0,0,0,0,0,0,0,0,0,0,0,0,1,0,0,0,0,0,0,0,0,0,0,0,0,0,0,0,0,0,0,0,0,0,0,0,0,0,0,0,0,0,0,0,0,0,0,0,0,0,0,0,0,0,0,0,0,0,0,0,0,0,0,0,0,0,0,0,0,0,0,0,0,0,0,0,0,0,0,0,0,0,1,0,0,0,0,0,0,0,0,0,0,0,0,0,0,0,0,0,0,0,0,0,0,0,0,0,0,0,0,0,0,0,0,0,0,0,0,0,0,0,0,0,0,0,0,0,0,0,0,0,0,0,0,0,0,0,0,0,0,0,0,0,0,0,0,0,0,0,0,0,0,0,0,0,0,0,0,1,0,0,0,0,0,0,0,0,0,0,0,0,0,0,0,0,0,0,0,0,0,0,0,0,0,0,0,0,0,0,0,0,0,0,0,0,0,0,0,0,0,0,0,0,0,0,0,0,0,0,0,0,0,0,0,0,0,0,0,0,0,0,0,0,0,0,0,0,0,0,0,0,0,0,0,0,1,1,0,0,0,0,0,0,0,0,0,0,0,0,0,0,0,0,0,0,0,0,0,0,0,0,0,0,0,0,0,0,0,0,0,0,0,0,0,0,0,0,0,0,0,0,0,0,0,0,0,0,0,0,0,0,0,0,0,0,0,0,0,0,0,0,0,0,0,0,0,0,0,0,0,0,0,0,1,1,0,0,0,0,0,0,0,0,0,0,0,0,0,0,0,0,0,0,0,0,0,0,0,0,0,0,0,0,0,0,0,0,0,0,0,0,0,0,0,0,0,0,0,0,0,0,0,0,0,0,0,0,0,0,0,0,0,0,0,0,0,0,0,0,0,0,0,0,0,0,0,0,0,0,0,0,1,1,0,0,0,0,0,0,0,0,0,0,0,0,0,0,0,0,0,0,0,0,0,0,0,0,0,0,0,0,0,0,0,0,0,0,0,0,0,0,0,0,0,0,0,0,0,0,0,0,0,0,0,0,0,0,0,0,0,0,0,0,0,0,0,0,0,0,0,0,0,0,0,0,0,0,0,0,0,1,0,0,0,0,0,0,0,0,0,0,0,0,0,1,0,0,0,0,0,0,0,0,0,0,0,0,0,1,0,0,0,0,0,0,0,0,0,0,0,0,0,0,1,0,0,0,0,0,0,0,0,0,0,0,0,0,0,0,0,0,0,1,0,0,0,0,1,0,0,0,0,1,1,1,1,0,0,0,0,0,0,0,0,0,0,0,0,0,0,0,0,0,0,0,0,0,0,0,0,0,0,0,0,0,0,1,1,1,1,1,1,0,0,0,0,0,0,0,0,0,0,0,0,0,0,0,0,0,0,0,0,0,0,0,0,0,0,0,0,0,0,0,1,0,0,0,0,0,0,0,0,0,0,0,0,0,0,0,0,0,0,0,0,0,0,0,0,0,0,0,0,0,0,0,1,0,0,0,0,0,0,0,0,0,0,0,0,0,0,0,0,0,0,0,0,0,0,0,0,0,0,0,0,0,0,0,1,0,0,0,0,0,0,0,0,0,0,0,0,0,0,0,0,0,0,0,0,0,0,0,0,0,0,0,0,0,0,0,0,1,0,0,0,0,0,0,0,0,0,0,0,0,0,1,1,0,0,0,0,0,0,0,0,0,0,0,0,0,0,0,0,0,0,0,0,0,0,0,0,0,0,0,0,0,0,0,0,0,0,0,0,0,0,0,0,0,0,0,0,0,0,0,0,0,0,0,0,0,0,0,0,0,0,0,0,0,0,0,0,0,0,0,0,0,0,0,0,0,0,0,0,0,0,0,0,0,1,1,1,1,1,1,1,0,0,0,0,0,0,0,0,0,0,0,0,0,0,0,0,0,0,0,0,0,0,0,0,0,0,0,0,0,0,0,0,0,0,0,0,0,0,0,0,0,0,0,0,0,0,0,0,0,0,0,0,0,0,0,0,0,0,0,0,0,0,0,0,0,0,0,0,0,0,0,0,0,0,0,0,0,0,0,0,0,0,0,0,0,0,1,1,0,0,0,0,0,0,0,0,0,0,0,0,0,0,0,0,0,0,0,0,0,0,0,0,0,0,0,0,0,0,0,0,0,0,0,0,0,0,0,0,0,0,0,0,0,0,0,0,0,0,0,0,0,0,0,0,0,0,0,0,0,0,0,0,0,0,0,0,0,0,0,0,0,0,0,0,0,0,0,0,0,0,0,0,0,0,0,0,0,0,0,0,0,0,0,0,0,0,0,0,0,0,1,1,1,0,0,0,0,0,0,0,0,0,0,0,0,0,0,0,0,0,0,0,0,0,0,0,0,0,0,0,0,0,0,0,0,0,0,0,0,0,0,0,0,0,0,0,0,0,0,0,0,0,0,0,0,0,0,0,0,0,0,0,0,0,0,0,0,0,0,0,0,0,0,0,0,0,0,0,0,0,0,0,0,0,0,0,0,0,0,0,0,0,0,0,0,0,0,0,0,0,0,0,0,0,0,0,0,0,0,0,0,0,1,1,1,1,1,1,1,1,1,1,0,0,0,0,0,0,0,0,0,0,0,0,0,0,0,0,0,0,0,0,0,0,0,0,0,0,0,0,0,0,0,0,0,0,0,0,0,0,0,0,0,0,0,0,0,0,0,0,0,0,0,0,0,0,0,0,0,0,0,0,0,0,0,0,0,0,0,0,0,0,0,0,0,0,0,0,0,0,0,0,0,0,0,0,0,0,0,0,0,0,0,0,0,0,0,0,0,0,0,0,1,1,1,1,1,1,1,1,1,1,1,1,1,0,0,0,0,0,0,0,0,0,0,0,0,0,0,0,0,0,0,0,0,0,0,0,0,0,0,0,0,0,0,0,0,0,0,0,0,0,0,0,0,0,0,0,0,0,0,0,0,0,0,0,0,0,0,0,0,0,0,0,0,0,0,0,0,0,0,0,0,0,0,0,0,0,0,0,1,1,1,1,1,1,1,0,0,0,0,0,0,0,0,0,0,0,0,0,0,0,0,0,0,0,0,0,0,0,0,0,0,0,0,0,0,0,0,0,0,0,0,0,0,0,0,0,0,0,0,0,1,1,1,1,1,0,0,0,0,0,0,0,0,0,0,0,0,0,0,0,0,0,1,1,1,1,1,1,0,0,0,0,0,0,0,0,0,0,0,0,0,1,1,1,1,1,1,0,0,0,0,0,0,0,0,0,0,0,0,0,0,0,0,0,0,0,0,0,0,0,0,0,0,0,0,0,0,0,0,0,0,0,0,0,0,0,0,0,0,0,0,0,0,1,1,1,1,1,1,1,1,0,0,0,0,0,0,0,0,0,0,0,0,0,0,0,0,0,0,0,0,0,0,0,0,0,0,0,0,0,0,0,0,0,0,0,0,0,0,0,0,0,0,0,0,0,0,1,1,1,0,0,0,0,0,0,0,0,0,0,0,0,0,0,0,0,0,0,0,0,0,0,0,0,0,0,0,0,0,0,0,0,0,0,0,0,0,0,0,0,0,0,0,0,0,0,0,1,1,0,0,0,0,0,0,0,0,0,0,0,0,0,0,0,0,0,0,0,0,0,0,0,0,0,0,0,0,0,0,0,0,0,0,0,0,0,0,0,0,0,0,0,0,0,0,1,1,0,0,0,0,0,0,0,0,0,0,0,0,0,0,0,0,0,0,0,0,0,0,0,0,0,0,0,0,0,0,0,0,0,0,0,0,0,0,0,0,0,0,0,0,0,0,1,1,1,0,0,0,0,0,0,0,0,0,0,0,0,0,0,0,0,0,0,0,0,0,0,0,0,0,0,0,0,0,0,0,0,0,0,0,0,0,0,0,0,0,0,0,0,0,0,0,1,1,0,0,0,0,0,0,0,0,0,0,0,0,0,0,0,0,0,0,0,0,0,0,0,0,0,0,0,0,0,0,0,0,0,0,0,0,0,0,0,0,0,0,0,0,0,0,0,1,0,0,0,0,0,0,0,0,0,0,0,0,0,0,0,0,0,0,0,0,0,0,0,0,0,0,0,0,0,0,0,0,0,0,0,0,0,0,0,0,0,0,0,0,0,0,0,1,1,0,0,0,0,0,0,0,0,0,0,0,0,0,0,0,0,0,0,0,0,0,0,0,0,0,0,0,0,1,0,0,0,0,0,0,0,0,0,0,0,0,0,0,0,0,0,0,0,0,0,0,0,0,0,1,0,0,0,0,0,0,0,0,0,0,0,0,0,0,0,0,0,0,0,0,0,0,0,0,0,0,1,0,0,0,0,0,0,0,0,0,0,0,0,1,1,0,0,0,0,0,0,0,0,0,0,0,0,0,0,0,0,0,0,1,0,0,0,0,0,0,0,0,0,0,0,0,0,0,0,0,0,0,0,1,1,0,0,0,0,0,0,0,0,0,0,0,0,0,0,0,0,0,0,0,0,0,0,0,0,0,0,0,0,0,0,0,0,0,0,0,0,0,0,0,0,0,0,0,0,0,0,0,0,0,0,0,0,0,0,0,0,0,0,0,0,0,0,1,0,0,0,0,0,0,0,0,0,0,0,0,0,0,0,0,0,0,0,0,0,0,0,0,0,0,0,0,0,0,0,0,0,0,0,0,0,0,0,0,0,0,0,0,0,0,0,0,0,0,0,0,0,0,0,0,0,0,0,0,0,0,0,1,0,0,0,0,0,0,0,0,0,0,0,0,0,0,0,0,0,0,0,0,0,0,0,0,0,0,0,0,0,0,0,0,0,0,0,0,0,0,0,0,0,0,0,0,0,0,0,0,0,0,0,0,0,0,0,0,0,0,0,0,0,0,0,0,0,0,1,0,0,0,0,0,0,0,0,0,0,0,0,0,0,0,0,0,0,0,0,0,0,0,0,0,0,0,0,0,0,0,0,0,0,0,0,0,0,0,0,0,0,0,0,0,0,0,0,0,0,0,0,0,0,0,0,0,0,0,0,0,0,0,0,0,0,1,1,0,0,0,0,0,0,0,0,0,0,0,0,0,0,0,0,0,0,0,0,0,0,0,0,0,0,0,0,0,0,0,0,0,0,0,0,0,0,0,0,0,0,0,0,0,0,0,0,0,0,0,0,0,0,0,0,0,0,0,0,0,0,0,0,0,0,0,1,1,1,0,0,0,0,0,0,0,0,0,0,0,0,0,0,0,0,0,0,0,0,0,0,0,0,0,0,0,0,0,0,0,0,0,0,0,0,0,0,0,0,0,0,0,0,0,0,0,0,0,0,0,0,0,0,0,0,0,0,0,0,0,0,0,0,0,0,1,0,0,0,0,0,0,0,0,0,0,0,0,0,0,0,0,0,0,0,0,0,0,0,0,0,0,0,0,0,0,0,0,0,0,0,0,0,0,0,1,0,0,0,0,0,0,0,0,0,0,0,0,0,0,0,0,0,0,0,0,0,0,0,0,0,0,0,0,0,0,0,0,0,0,0,0,0,0,0,0,0,0,1,0,0,0,0,0,0,0,0,0,0,0,0,0,0,0,0,0,0,0,0,0,0,0,0,0,0,0,0,0,0,0,0,0,0,0,0,0,0,0,0,0,0,0,0,0,0,0,0,0,0,0,0,0,0,1,0,0,0,0,0,0,0,0,0,0,0,0,0,0,0,0,0,0,0,0,0,0,0,0,0,0,0,0,0,0,0,0,0,0,0,0,0,0,0,0,0,0,0,0,0,0,0,0,0,0,0,0,0,0,0,0,0,0,0,0,0,0,0,0,0,0,0,0,1,0,0,0,0,0,0,0,0,0,0,0,0,0,0,0,0,0,0,0,0,0,0,0,0,0,0,0,0,0,0,0,0,0,0,0,0,0,0,0,0,0,0,0,0,0,0,0,0,0,0,0,0,0,0,0,0,0,0,0,0,0,0,0,0,0,0,0,0,0,0,0,0,0,0,0,0,0,0,0,0,0,0,0,0,0,0,0,0,0,0,0,0,0,0,0,0,0,0,0,0,0,0,0,0,0,0,0,0,0,0,0,0,0,0,0,0,0,0,0,1,0,0,0,0,0,0,0,0,0,0,0,0,0,0,0,0,0,0,0,0,0,0,0,0,0,0,0,0,0,0,0,0,0,0,0,0,0,0,0,0,0,0,0,0,0,0,0,0,0,0,0,0,0,0,0,0,0,0,0,0,0,0,0,0,0,0,0,0,0,0,0,0,0,0,0,0,0,0,0,0,0,0,0,0,0,0,0,0,0,0,0,0,0,0,0,0,0,0,0,0,0,0,0,0,0,0,0,0,0,0,0,0,0,0,0,0,0,0,0,0,0,0,0,0,0,0,0,0,0,0,0,0,0,0,0,0,0,0,0,0,0,0,0,0,1,0,0,0,0,0,0,0,0,0,0,0,0,0,0,0,0,0,0,0,0,0,0,0,0,0,0,0,0,0,0,0,0,0,0,0,0,0,0,0,0,0,0,0,0,0,0,0,0,0,0,0,0,0,0,0,0,0,0,0,0,0,0,0,0,0,0,0,0,0,0,0,0,0,0,0,0,0,0,0,0,0,0,0,0,0,0,0,0,0,0,0,0,0,0,0,0,0,0,0,0,0,0,0,0,0,0,0,0,0,0,0,0,0,0,0,0,0,0,0,0,0,0,0,0,0,0,0,0,0,0,0,0,0,0,0,0,0,0,0,0,0,0,0,0,0,1,1,1,1,1,0,0,0,0,0,0,0,0,0,0,0,0,0,0,0,0,0,0,0,0,0,0,0,0,0,0,0,0,0,0,0,0,0,0,0,0,0,0,0,0,0,0,0,0,0,0,0,0,0,0,0,0,0,0,0,0,0,0,0,0,0,0,0,0,0,0,0,0,0,0,0,0,0,0,0,0,0,0,0,0,0,0,0,0,0,0,0,0,0,0,0,0,0,0,0,0,0,0,0,0,0,0,0,0,0,0,0,0,0,0,0,0,0,0,0,0,0,0,0,0,0,0,0,0,0,0,0,0,0,0,0,0,0,0,0,0,0,0,0,0,0,0,0,0,0,0,0,0,0,0,1,0,0,0,0,0,0,0,0,0,0,0,0,0,0,0,0,0,0,0,0,0,0,0,0,0,0,0,0,0,0,0,0,0,0,0,0,0,0,0,0,0,0,0,0,0,0,0,0,0,0,0,0,0,0,0,0,0,0,0,0,0,0,0,0,0,0,0,0,0,0,0,0,0,0,0,0,0,0,0,0,0,0,0,0,0,0,0,0,0,0,0,0,0,0,0,0,0,0,0,0,0,0,0,0,0,0,0,0,0,0,0,0,0,0,0,0,0,0,0,0,0,0,0,0,0,0,0,0,0,0,0,0,0,0,0,0,0,0,0,0,0,0,0,0,0,0,0,0,0,0,0,0,0,0,0,0,0,0,1,0,0,0,0,0,0,0,0,0,0,0,0,0,0,0,0,0,0,0,0,0,0,0,0,0,0,0,0,0,0,0,0,0,0,0,0,0,0,0,0,0,0,0,0,0,0,0,0,0,0,0,0,0,0,0,0,0,0,0,0,0,0,0,0,0,0,0,0,0,0,0,0,0,0,0,0,0,0,0,0,0,0,0,0,0,0,0,0,0,0,0,0,0,0,0,0,0,0,0,0,0,0,0,0,0,0,0,0,0,0,0,0,0,0,0,0,0,0,0,0,0,0,0,0,0,0,0,0,0,0,0,0,0,0,0,0,0,0,0,0,0,0,0,0,0,0,0,0,0,0,0,0,0,0,0,0,0,0,0,0,0,0,1,0,0,0,0,0,0,0,0,0,0,0,0,0,0,0,0,0,0,0,0,0,0,0,0,0,0,0,0,0,0,0,0,0,0,0,0,0,0,0,0,0,0,0,0,0,0,0,0,0,0,0,0,0,0,0,0,0,0,0,0,0,0,0,0,0,0,0,0,0,0,0,0,0,0,0,0,0,0,0,0,0,0,1,0,0,0,0,0,0,0,0,0,0,0,0,0,0,0,0,0,0,0,0,0,0,0,0,0,0,0,0,0,0,0,0,0,0,0,0,0,0,0,0,0,0,0,0,0,0,0,0,0,0,0,0,0,0,0,0,0,0,0,0,0,0,0,0,0,0,0,0,0,0,0,0,0,0,0,0,0,0,0,0,0,0,0,0,0,0,0,0,0,0,0,0,0,0,0,0,0,0,0,0,0,0,0,0,0,0,0,0,0,1,0,0,0,0,0,0,0,0,0,0,0,0,0,0,0,0,0,0,0,0,0,0,0,0,0,0,0,0,0,0,0,0,0,0,0,0,0,0,0,0,0,0,0,0,0,0,0,0,0,0,0,0,0,0,0,0,0,0,0,0,0,0,0,0,0,0,0,0,0,0,0,0,0,0,0,0,0,0,0,0,0,0,0,0,0,0,0,0,0,0,0,0,0,0,0,0,0,0,0,0,0,0,0,0,0,0,0,0,0,0,1,1,0,0,0,0,0,0,0,0,0,0,0,0,0,0,0,0,0,0,0,0,0,0,0,0,0,0,0,0,0,0,0,0,0,0,0,0,0,0,0,0,0,0,0,0,0,0,0,0,0,0,0,0,0,0,0,0,0,0,0,0,0,0,0,0,0,0,0,0,0,0,0,0,0,0,0,0,0,0,0,0,0,0,0,0,0,0,0,0,0,0,0,0,0,0,0,0,0,0,0,0,0,0,0,0,0,0,0,0,0,0,0,0,0,0,1,1,0,0,0,0,0,0,0,0,0,0,0,0,0,0,0,0,0,0,0,0,0,0,0,0,0,0,0,0,0,0,0,0,0,0,0,0,0,0,0,0,0,0,0,0,0,0,0,0,0,0,0,0,0,0,0,0,0,0,0,0,0,0,0,0,0,0,0,0,0,0,0,0,0,0,0,0,0,0,0,0,0,0,0,0,0,0,0,0,1,0,0,0,0,0,0,0,0,0,0,0,0,0,0,0,0,0,0,0,0,0,0,0,0,0,0,0,0,0,0,0,0,0,0,0,0,0,0,0,0,0,0,0,0,0,0,0,0,0,0,0,0,0,0,0,0,0,0,0,0,0,0,0,0,0,0,0,0,0,0,0,0,0,0,0,0,0,0,0,0,0,0,0,0,0,0,0,0,0,0,0,0,0,0,0,0,0,1,1,0,0,0,0,0,0,0,0,0,0,0,0,0,0,0,0,0,0,0,0,0,0,0,0,0,0,0,0,0,0,0,0,0,0,0,0,0,0,0,0,0,0,0,0,0,0,0,0,0,0,0,0,0,0,0,0,0,0,0,0,0,0,0,0,0,0,0,0,0,0,0,0,0,0,0,0,0,0,0,0,0,0,0,0,0,0,0,0,0,0,0,0,0,0,0,0,0,0,0,0,0,0,0,0,0,0,1,1,0,0,0,0,0,0,0,0,0,0,0,0,0,0,0,0,0,0,0,0,0,0,0,0,0,0,0,0,0,0,0,0,0,0,0,0,0,0,0,0,0,0,0,0,0,0,0,0,0,0,0,0,0,0,0,0,0,0,0,0,0,0,0,0,0,0,0,0,0,0,0,0,0,0,0,0,0,0,0,0,0,0,0,0,0,0,0,0,0,0,0,0,0,0,0,0,0,0,0,0,0,0,0,0,0,0,0,0,0,0,0,0,0,0,0,0,0,0,0,0,0,0,0,0,0,0,0,0,1,1,0,0,0,0,0,0,0,0,0,0,0,0,0,0,0,0,0,0,0,0,0,0,0,0,0,0,0,0,0,0,0,0,0,0,0,0,0,0,0,0,0,0,0,0,0,0,0,0,0,0,0,0,0,0,0,0,0,0,0,0,0,0,0,0,0,0,0,0,0,0,0,0,0,0,0,0,0,0,0,0,0,0,0,0,0,0,0,0,0,0,0,0,0,0,0,0,0,0,0,0,0,0,0,0,0,0,0,0,0,0,0,0,0,0,0,0,0,0,0,0,0,0,0,0,0,0,0,0,0,0,0,0,0,0,0,0,0,0,0,0,0,0,0,0,0,0,0,0,0,0,1,1,0,0,0,0,0,0,0,0,0,0,0,0,0,0,0,0,0,0,0,0,0,0,0,0,0,0,0,0,0,0,0,0,0,0,0,0,0,0,0,0,0,0,0,0,0,0,0,0,0,0,0,0,0,0,0,0,0,0,0,0,0,0,0,0,0,0,0,0,0,0,0,0,0,0,0,0,0,1,0,0,0,0,0,0,0,0,0,0,0,0,0,0,0,0,0,0,0,0,0,0,0,0,0,0,0,0,0,0,0,0,0,0,0,0,0,0,0,0,0,0,0,0,0,0,0,0,0,0,0,0,0,0,0,0,0,0,0,0,0,0,0,0,0,0,0,0,0,0,0,0,0,0,0,0,0,0,0,1,0,0,0,0,0,0,0,0,0,0,0,0,0,0,0,0,0,0,0,0,0,0,0,0,0,0,0,0,0,0,0,0,0,0,0,0,0,0,0,0,0,0,0,0,0,0,0,0,0,0,0,0,0,0,0,0,0,0,0,0,0,0,0,0,0,0,0,0,0,0,0,0,0,0,0,0,0,0,0,0,0,0,0,1,1,0,0,0,0,0,0,0,0,0,0,0,0,0,0,0,0,0,0,0,0,0,0,0,0,0,0,0,0,0,0,0,0,0,0,0,0,0,0,0,0,0,0,0,0,0,0,0,0,0,0,0,0,0,0,0,0,0,0,0,0,0,0,0,0,0,0,0,0,0,0,0,0,0,0,0,0,0,0,0,0,0,0,0,0,0,0,0,0,0,0,0,0,0,0,0,0,0,0,0,0,0,0,0,0,0,0,0,0,0,0,0,0,0,0,0,0,0,0,0,0,0,0,0,0,0,0,0,0,0,0,0,0,0,0,0,0,0,0,0,0,0,0,0,0,0,0,0,0,0,0,0,0,0,0,0,0,0,0,0,0,0,0,0,0,0,0,0,0,0,0,0,0,0,0,0,0,0,0,0,0,0,0,0,0,0,0,1,1,0,0,0,0,0,0,0,0,0,0,0,0,0,0,0,0,0,0,0,0,0,0,0,0,0,0,0,0,0,0,0,0,0,0,0,0,0,0,0,0,0,0,0,0,0,0,0,0,0,0,0,0,0,0,0,0,0,0,0,0,0,0,0,0,0,0,0,0,0,0,0,0,0,0,0,0,0,0,0,0,0,0,0,0,0,0,0,0,0,0,0,0,0,0,0,0,0,0,0,0,0,0,0,0,0,0,0,0,0,0,0,0,0,0,0,0,0,0,0,0,0,0,0,0,0,0,0,0,0,0,0,0,0,0,0,0,0,0,0,0,0,0,0,0,0,0,0,0,0,0,0,0,0,0,0,0,0,0,0,0,0,0,0,0,0,0,0,0,0,0,0,0,0,0,0,0,0,0,0,0,0,0,0,0,0,0,0,0,0,0,0,0,0,0,0,1,0,0,0,0,0,0,0,0,0,0,0,0,0,0,0,0,0,0,0,0,0,0,0,0,0,0,0,0,0,0,0,0,0,0,0,0,0,0,0,0,0,0,0,0,0,0,0,0,0,0,0,0,0,0,0,0,0,0,0,0,0,0,0,0,0,0,0,0,0,0,0,0,0,0,0,0,0,0,0,0,0,0,0,0,0,0,0,0,0,0,0,0,0,0,0,0,0,0,0,0,0,0,0,0,0,0,0,0,0,0,0,0,0,0,0,0,0,0,0,0,0,0,0,0,0,0,0,0,0,0,0,0,0,0,0,0,0,0,0,0,0,0,0,0,0,0,0,0,0,0,0,0,0,0,0,0,0,0,0,0,0,0,0,0,0,0,0,0,0,0,0,0,0,0,0,0,0,0,0,0,0,0,0,0,0,0,0,0,0,0,0,0,0,0,0,0,0,0,0,1,1,1,1,0,0,0,0,0,0,0,0,0,0,0,0,0,0,0,0,0,0,0,0,0,0,0,0,0,0,0,0,0,0,0,0,0,0,0,0,0,0,0,0,0,0,0,0,0,0,0,0,0,0,0,0,0,0,0,0,0,0,0,0,0,0,0,0,0,0,0,0,0,0,0,0,0,0,0,0,0,0,0,0,0,0,0,0,0,0,0,0,0,0,0,0,0,0,0,0,0,0,0,0,0,0,0,0,0,0,0,0,0,0,0,0,0,0,0,0,0,0,0,0,0,0,0,0,0,0,0,0,0,0,0,0,0,0,0,0,0,0,0,0,0,0,0,0,0,0,0,0,0,0,0,0,0,0,0,0,0,0,0,0,0,0,0,0,0,0,0,0,0,0,0,0,0,0,0,0,0,0,0,0,0,0,0,0,0,0,0,0,0,0,0,0,0,0,0,0,0,0,0,0,0,0,0,0,1,0,0,0,0,0,0,0,0,0,0,0,0,0,0,0,0,0,0,0,0,0,0,0,0,0,0,0,0,0,0,0,0,0,0,0,0,0,0,0,0,0,0,0,0,0,0,0,0,0,0,0,0,0,0,0,0,0,0,0,0,0,0,0,0,0,0,0,0,0,0,0,0,0,0,0,0,0,0,0,0,0,0,0,0,0,0,0,0,0,0,0,0,0,0,0,0,0,0,0,0,0,0,0,0,0,0,0,0,0,0,0,0,0,0,0,0,0,0,0,0,0,0,0,0,0,0,0,0,0,0,0,0,0,0,0,0,0,0,0,0,0,0,0,0,0,0,0,0,0,0,0,0,0,0,0,0,0,0,0,0,0,0,0,0,0,0,0,0,0,0,0,0,0,0,0,0,0,0,0,0,0,0,0,0,0,0,0,0,0,0,0,0,0,0,0,0,0,0,0,0,0,0,0,0,0,0,0,1,0,0,0,0,0,0,0,0,0,0,0,0,0,0,0,0,0,0,0,0,0,0,0,0,0,0,0,0,0,0,0,0,0,0,0,0,0,0,0,0,0,0,0,0,0,0,0,0,1,0,0,0,0,0,0,0,0,0,0,0,0,0,0,0,0,0,0,0,0,0,0,0,0,0,0,0,0,0,0,0,0,0,0,0,0,0,0,0,0,0,0,0,0,0,0,0,0,1,1,0,0,0,0,0,0,0,0,0,0,0,0,0,0,0,0,0,0,0,0,0,0,0,0,0,0,0,0,0,0,0,0,0,0,0,0,0,0,0,0,0,1,0,0,0,0,0,0,0,0,0,0,0,0,0,0,0,0,0,0,0,0,0,0,0,0,0,0,0,0,0,0,0,0,0,0,0,0,0,0,0,0,0,0,0,1,1,1,0,0,0,0,0,0,0,0,0,0,0,0,0,0,0,0,0,0,0,0,0,0,0,0,0,0,0,0,0,0,0,0,0,0,0,0,0,0,0,0,0,0,0,0,1,0,0,0,0,0,0,0,0,0,0,0,0,0,0,0,0,0,0,0,0,0,0,0,0,0,0,0,0,0,0,0,0,0,0,0,0,0,0,0,0,0,0,0,0,0,1,0,0,0,0,0,0,0,0,0,0,0,0,0,0,0,0,0,0,0,0,0,0,0,0,0,0,0,0,0,0,0,0,0,0,0,0,0,0,0,0,0,0,0,0,0,0,0,0,1,1,1,0,0,0,0,0,0,0,0,0,0,0,0,0,0,0,0,0,0,0,0,0,0,0,0,0,0,0,0,0,0,0,0,0,0,0,0,0,0,0,0,0,0,0,0,0,0,0,0,0,0,0,0,0,0,0,0,0,0,0,0,0,0,0,0,0,0,0,0,0,0,0,0,0,0,0,0,0,0,0,0,0,0,0,0,0,1,0,0,0,0,0,0,0,0,0,0,0,0,0,0,0,0,0,0,0,0,0,0,0,0,0,0,0,0,0,0,0,0,0,0,0,0,0,0,0,0,0,0,0,0,0,0,0,0,0,0,0,0,0,0,0,0,0,0,0,0,0,0,0,0,0,0,0,0,0,0,0,0,0,0,0,0,0,0,0,0,0,0,0,0,0,0,0,0,0,0],\"yaxis\":\"y\",\"type\":\"histogram\"}],                        {\"template\":{\"data\":{\"bar\":[{\"error_x\":{\"color\":\"#2a3f5f\"},\"error_y\":{\"color\":\"#2a3f5f\"},\"marker\":{\"line\":{\"color\":\"#E5ECF6\",\"width\":0.5},\"pattern\":{\"fillmode\":\"overlay\",\"size\":10,\"solidity\":0.2}},\"type\":\"bar\"}],\"barpolar\":[{\"marker\":{\"line\":{\"color\":\"#E5ECF6\",\"width\":0.5},\"pattern\":{\"fillmode\":\"overlay\",\"size\":10,\"solidity\":0.2}},\"type\":\"barpolar\"}],\"carpet\":[{\"aaxis\":{\"endlinecolor\":\"#2a3f5f\",\"gridcolor\":\"white\",\"linecolor\":\"white\",\"minorgridcolor\":\"white\",\"startlinecolor\":\"#2a3f5f\"},\"baxis\":{\"endlinecolor\":\"#2a3f5f\",\"gridcolor\":\"white\",\"linecolor\":\"white\",\"minorgridcolor\":\"white\",\"startlinecolor\":\"#2a3f5f\"},\"type\":\"carpet\"}],\"choropleth\":[{\"colorbar\":{\"outlinewidth\":0,\"ticks\":\"\"},\"type\":\"choropleth\"}],\"contour\":[{\"colorbar\":{\"outlinewidth\":0,\"ticks\":\"\"},\"colorscale\":[[0.0,\"#0d0887\"],[0.1111111111111111,\"#46039f\"],[0.2222222222222222,\"#7201a8\"],[0.3333333333333333,\"#9c179e\"],[0.4444444444444444,\"#bd3786\"],[0.5555555555555556,\"#d8576b\"],[0.6666666666666666,\"#ed7953\"],[0.7777777777777778,\"#fb9f3a\"],[0.8888888888888888,\"#fdca26\"],[1.0,\"#f0f921\"]],\"type\":\"contour\"}],\"contourcarpet\":[{\"colorbar\":{\"outlinewidth\":0,\"ticks\":\"\"},\"type\":\"contourcarpet\"}],\"heatmap\":[{\"colorbar\":{\"outlinewidth\":0,\"ticks\":\"\"},\"colorscale\":[[0.0,\"#0d0887\"],[0.1111111111111111,\"#46039f\"],[0.2222222222222222,\"#7201a8\"],[0.3333333333333333,\"#9c179e\"],[0.4444444444444444,\"#bd3786\"],[0.5555555555555556,\"#d8576b\"],[0.6666666666666666,\"#ed7953\"],[0.7777777777777778,\"#fb9f3a\"],[0.8888888888888888,\"#fdca26\"],[1.0,\"#f0f921\"]],\"type\":\"heatmap\"}],\"heatmapgl\":[{\"colorbar\":{\"outlinewidth\":0,\"ticks\":\"\"},\"colorscale\":[[0.0,\"#0d0887\"],[0.1111111111111111,\"#46039f\"],[0.2222222222222222,\"#7201a8\"],[0.3333333333333333,\"#9c179e\"],[0.4444444444444444,\"#bd3786\"],[0.5555555555555556,\"#d8576b\"],[0.6666666666666666,\"#ed7953\"],[0.7777777777777778,\"#fb9f3a\"],[0.8888888888888888,\"#fdca26\"],[1.0,\"#f0f921\"]],\"type\":\"heatmapgl\"}],\"histogram\":[{\"marker\":{\"pattern\":{\"fillmode\":\"overlay\",\"size\":10,\"solidity\":0.2}},\"type\":\"histogram\"}],\"histogram2d\":[{\"colorbar\":{\"outlinewidth\":0,\"ticks\":\"\"},\"colorscale\":[[0.0,\"#0d0887\"],[0.1111111111111111,\"#46039f\"],[0.2222222222222222,\"#7201a8\"],[0.3333333333333333,\"#9c179e\"],[0.4444444444444444,\"#bd3786\"],[0.5555555555555556,\"#d8576b\"],[0.6666666666666666,\"#ed7953\"],[0.7777777777777778,\"#fb9f3a\"],[0.8888888888888888,\"#fdca26\"],[1.0,\"#f0f921\"]],\"type\":\"histogram2d\"}],\"histogram2dcontour\":[{\"colorbar\":{\"outlinewidth\":0,\"ticks\":\"\"},\"colorscale\":[[0.0,\"#0d0887\"],[0.1111111111111111,\"#46039f\"],[0.2222222222222222,\"#7201a8\"],[0.3333333333333333,\"#9c179e\"],[0.4444444444444444,\"#bd3786\"],[0.5555555555555556,\"#d8576b\"],[0.6666666666666666,\"#ed7953\"],[0.7777777777777778,\"#fb9f3a\"],[0.8888888888888888,\"#fdca26\"],[1.0,\"#f0f921\"]],\"type\":\"histogram2dcontour\"}],\"mesh3d\":[{\"colorbar\":{\"outlinewidth\":0,\"ticks\":\"\"},\"type\":\"mesh3d\"}],\"parcoords\":[{\"line\":{\"colorbar\":{\"outlinewidth\":0,\"ticks\":\"\"}},\"type\":\"parcoords\"}],\"pie\":[{\"automargin\":true,\"type\":\"pie\"}],\"scatter\":[{\"marker\":{\"colorbar\":{\"outlinewidth\":0,\"ticks\":\"\"}},\"type\":\"scatter\"}],\"scatter3d\":[{\"line\":{\"colorbar\":{\"outlinewidth\":0,\"ticks\":\"\"}},\"marker\":{\"colorbar\":{\"outlinewidth\":0,\"ticks\":\"\"}},\"type\":\"scatter3d\"}],\"scattercarpet\":[{\"marker\":{\"colorbar\":{\"outlinewidth\":0,\"ticks\":\"\"}},\"type\":\"scattercarpet\"}],\"scattergeo\":[{\"marker\":{\"colorbar\":{\"outlinewidth\":0,\"ticks\":\"\"}},\"type\":\"scattergeo\"}],\"scattergl\":[{\"marker\":{\"colorbar\":{\"outlinewidth\":0,\"ticks\":\"\"}},\"type\":\"scattergl\"}],\"scattermapbox\":[{\"marker\":{\"colorbar\":{\"outlinewidth\":0,\"ticks\":\"\"}},\"type\":\"scattermapbox\"}],\"scatterpolar\":[{\"marker\":{\"colorbar\":{\"outlinewidth\":0,\"ticks\":\"\"}},\"type\":\"scatterpolar\"}],\"scatterpolargl\":[{\"marker\":{\"colorbar\":{\"outlinewidth\":0,\"ticks\":\"\"}},\"type\":\"scatterpolargl\"}],\"scatterternary\":[{\"marker\":{\"colorbar\":{\"outlinewidth\":0,\"ticks\":\"\"}},\"type\":\"scatterternary\"}],\"surface\":[{\"colorbar\":{\"outlinewidth\":0,\"ticks\":\"\"},\"colorscale\":[[0.0,\"#0d0887\"],[0.1111111111111111,\"#46039f\"],[0.2222222222222222,\"#7201a8\"],[0.3333333333333333,\"#9c179e\"],[0.4444444444444444,\"#bd3786\"],[0.5555555555555556,\"#d8576b\"],[0.6666666666666666,\"#ed7953\"],[0.7777777777777778,\"#fb9f3a\"],[0.8888888888888888,\"#fdca26\"],[1.0,\"#f0f921\"]],\"type\":\"surface\"}],\"table\":[{\"cells\":{\"fill\":{\"color\":\"#EBF0F8\"},\"line\":{\"color\":\"white\"}},\"header\":{\"fill\":{\"color\":\"#C8D4E3\"},\"line\":{\"color\":\"white\"}},\"type\":\"table\"}]},\"layout\":{\"annotationdefaults\":{\"arrowcolor\":\"#2a3f5f\",\"arrowhead\":0,\"arrowwidth\":1},\"autotypenumbers\":\"strict\",\"coloraxis\":{\"colorbar\":{\"outlinewidth\":0,\"ticks\":\"\"}},\"colorscale\":{\"diverging\":[[0,\"#8e0152\"],[0.1,\"#c51b7d\"],[0.2,\"#de77ae\"],[0.3,\"#f1b6da\"],[0.4,\"#fde0ef\"],[0.5,\"#f7f7f7\"],[0.6,\"#e6f5d0\"],[0.7,\"#b8e186\"],[0.8,\"#7fbc41\"],[0.9,\"#4d9221\"],[1,\"#276419\"]],\"sequential\":[[0.0,\"#0d0887\"],[0.1111111111111111,\"#46039f\"],[0.2222222222222222,\"#7201a8\"],[0.3333333333333333,\"#9c179e\"],[0.4444444444444444,\"#bd3786\"],[0.5555555555555556,\"#d8576b\"],[0.6666666666666666,\"#ed7953\"],[0.7777777777777778,\"#fb9f3a\"],[0.8888888888888888,\"#fdca26\"],[1.0,\"#f0f921\"]],\"sequentialminus\":[[0.0,\"#0d0887\"],[0.1111111111111111,\"#46039f\"],[0.2222222222222222,\"#7201a8\"],[0.3333333333333333,\"#9c179e\"],[0.4444444444444444,\"#bd3786\"],[0.5555555555555556,\"#d8576b\"],[0.6666666666666666,\"#ed7953\"],[0.7777777777777778,\"#fb9f3a\"],[0.8888888888888888,\"#fdca26\"],[1.0,\"#f0f921\"]]},\"colorway\":[\"#636efa\",\"#EF553B\",\"#00cc96\",\"#ab63fa\",\"#FFA15A\",\"#19d3f3\",\"#FF6692\",\"#B6E880\",\"#FF97FF\",\"#FECB52\"],\"font\":{\"color\":\"#2a3f5f\"},\"geo\":{\"bgcolor\":\"white\",\"lakecolor\":\"white\",\"landcolor\":\"#E5ECF6\",\"showlakes\":true,\"showland\":true,\"subunitcolor\":\"white\"},\"hoverlabel\":{\"align\":\"left\"},\"hovermode\":\"closest\",\"mapbox\":{\"style\":\"light\"},\"paper_bgcolor\":\"white\",\"plot_bgcolor\":\"#E5ECF6\",\"polar\":{\"angularaxis\":{\"gridcolor\":\"white\",\"linecolor\":\"white\",\"ticks\":\"\"},\"bgcolor\":\"#E5ECF6\",\"radialaxis\":{\"gridcolor\":\"white\",\"linecolor\":\"white\",\"ticks\":\"\"}},\"scene\":{\"xaxis\":{\"backgroundcolor\":\"#E5ECF6\",\"gridcolor\":\"white\",\"gridwidth\":2,\"linecolor\":\"white\",\"showbackground\":true,\"ticks\":\"\",\"zerolinecolor\":\"white\"},\"yaxis\":{\"backgroundcolor\":\"#E5ECF6\",\"gridcolor\":\"white\",\"gridwidth\":2,\"linecolor\":\"white\",\"showbackground\":true,\"ticks\":\"\",\"zerolinecolor\":\"white\"},\"zaxis\":{\"backgroundcolor\":\"#E5ECF6\",\"gridcolor\":\"white\",\"gridwidth\":2,\"linecolor\":\"white\",\"showbackground\":true,\"ticks\":\"\",\"zerolinecolor\":\"white\"}},\"shapedefaults\":{\"line\":{\"color\":\"#2a3f5f\"}},\"ternary\":{\"aaxis\":{\"gridcolor\":\"white\",\"linecolor\":\"white\",\"ticks\":\"\"},\"baxis\":{\"gridcolor\":\"white\",\"linecolor\":\"white\",\"ticks\":\"\"},\"bgcolor\":\"#E5ECF6\",\"caxis\":{\"gridcolor\":\"white\",\"linecolor\":\"white\",\"ticks\":\"\"}},\"title\":{\"x\":0.05},\"xaxis\":{\"automargin\":true,\"gridcolor\":\"white\",\"linecolor\":\"white\",\"ticks\":\"\",\"title\":{\"standoff\":15},\"zerolinecolor\":\"white\",\"zerolinewidth\":2},\"yaxis\":{\"automargin\":true,\"gridcolor\":\"white\",\"linecolor\":\"white\",\"ticks\":\"\",\"title\":{\"standoff\":15},\"zerolinecolor\":\"white\",\"zerolinewidth\":2}}},\"xaxis\":{\"anchor\":\"y\",\"domain\":[0.0,1.0],\"title\":{\"text\":\" Persistent EPS in the Last Four Seasons\"}},\"yaxis\":{\"anchor\":\"x\",\"domain\":[0.0,1.0],\"title\":{\"text\":\"avg of Bankrupt?\"}},\"legend\":{\"tracegroupgap\":0},\"title\":{\"text\":\"histfunc = avg\"},\"barmode\":\"relative\"},                        {\"responsive\": true}                    ).then(function(){\n",
              "                            \n",
              "var gd = document.getElementById('dbfa3c25-763d-44be-a79f-caece0deb7f6');\n",
              "var x = new MutationObserver(function (mutations, observer) {{\n",
              "        var display = window.getComputedStyle(gd).display;\n",
              "        if (!display || display === 'none') {{\n",
              "            console.log([gd, 'removed!']);\n",
              "            Plotly.purge(gd);\n",
              "            observer.disconnect();\n",
              "        }}\n",
              "}});\n",
              "\n",
              "// Listen for the removal of the full notebook cells\n",
              "var notebookContainer = gd.closest('#notebook-container');\n",
              "if (notebookContainer) {{\n",
              "    x.observe(notebookContainer, {childList: true});\n",
              "}}\n",
              "\n",
              "// Listen for the clearing of the current output cell\n",
              "var outputEl = gd.closest('.output');\n",
              "if (outputEl) {{\n",
              "    x.observe(outputEl, {childList: true});\n",
              "}}\n",
              "\n",
              "                        })                };                            </script>        </div>\n",
              "</body>\n",
              "</html>"
            ]
          },
          "metadata": {}
        }
      ]
    },
    {
      "cell_type": "code",
      "source": [
        "#Histogram of Current Liability to Assets shows that rows with Current Liability to Assets >0.3 tend to have higher probability of bankruptcy\n",
        "\n",
        "histfunc = \"avg\"\n",
        "fig = px.histogram(df,\n",
        "                   x=' Current Liability to Assets',\n",
        "                   y=\"Bankrupt?\",\n",
        "                   histfunc=histfunc,\n",
        "                   title=f\"histfunc = {histfunc}\")\n",
        "fig.show()"
      ],
      "metadata": {
        "id": "gAXfIkAKzuz4"
      },
      "execution_count": null,
      "outputs": []
    },
    {
      "cell_type": "code",
      "source": [
        "#Limiting dataset to Features related to Profitability and Solvency\n",
        "\n",
        "df1 = df.copy(deep = True)\n"
      ],
      "metadata": {
        "id": "To-BgO3R0vLz"
      },
      "execution_count": 13,
      "outputs": []
    },
    {
      "cell_type": "code",
      "source": [
        "#Limiting dataset to Features related to Profitability and Solvency\n",
        "\n",
        "df1 = df1[['Bankrupt?', ' ROA(C) before interest and depreciation before interest', ' ROA(A) before interest and % after tax', ' ROA(B) before interest and depreciation after tax', ' Realized Sales Gross Margin', ' Gross Profit to Sales',\n",
        "           ' Operating Profit Rate', ' Persistent EPS in the Last Four Seasons', ' Interest-bearing debt interest rate', ' Cash Reinvestment %', ' Current Ratio', ' Quick Ratio', ' Interest Expense Ratio', ' Current Liability to Assets',\n",
        "           ' Operating Funds to Liability', ' Inventory/Working Capital', ' Current Liabilities/Liability', ' Working Capital/Equity', ' Current Liabilities/Equity',  ' Long-term Liability to Current Assets',\n",
        "           ' Quick Assets/Total Assets', ' Current Assets/Total Assets', ' Cash/Total Assets', ' Quick Assets/Current Liability', ' Cash/Current Liability', ' Equity to Liability' ]]\n",
        "\n",
        "df1.shape"
      ],
      "metadata": {
        "colab": {
          "base_uri": "https://localhost:8080/"
        },
        "id": "CGv4Kjvc2CYa",
        "outputId": "15080873-f27a-4b61-db22-e6feeb1f381d"
      },
      "execution_count": 14,
      "outputs": [
        {
          "output_type": "execute_result",
          "data": {
            "text/plain": [
              "(6819, 26)"
            ]
          },
          "metadata": {},
          "execution_count": 14
        }
      ]
    },
    {
      "cell_type": "code",
      "source": [
        "#Dropping rows with Outliers\n",
        "\n",
        "df1.drop(df1[df1[' Quick Ratio'] >= 1].index, inplace = True)\n",
        "df1.shape"
      ],
      "metadata": {
        "colab": {
          "base_uri": "https://localhost:8080/"
        },
        "id": "nJzEofsB2Sjv",
        "outputId": "0b411656-1125-4ef9-9891-20ecb568791b"
      },
      "execution_count": 15,
      "outputs": [
        {
          "output_type": "execute_result",
          "data": {
            "text/plain": [
              "(6809, 26)"
            ]
          },
          "metadata": {},
          "execution_count": 15
        }
      ]
    },
    {
      "cell_type": "code",
      "source": [
        "df1.drop(df1[df1[' Long-term Liability to Current Assets'] >= 1].index, inplace = True)\n",
        "df1.shape"
      ],
      "metadata": {
        "colab": {
          "base_uri": "https://localhost:8080/"
        },
        "id": "ELyRcp1Z2e0y",
        "outputId": "03036ffe-f703-4ce3-97be-d5fcb157eff5"
      },
      "execution_count": 16,
      "outputs": [
        {
          "output_type": "execute_result",
          "data": {
            "text/plain": [
              "(6699, 26)"
            ]
          },
          "metadata": {},
          "execution_count": 16
        }
      ]
    },
    {
      "cell_type": "code",
      "source": [
        "df1.drop(df1[df1[' Interest-bearing debt interest rate'] >= 1].index, inplace = True)\n",
        "df1.shape"
      ],
      "metadata": {
        "colab": {
          "base_uri": "https://localhost:8080/"
        },
        "id": "En9743tP2j6I",
        "outputId": "eb5f6ce4-ff3f-44c5-dcad-cb2916ab5c0e"
      },
      "execution_count": 17,
      "outputs": [
        {
          "output_type": "execute_result",
          "data": {
            "text/plain": [
              "(6480, 26)"
            ]
          },
          "metadata": {},
          "execution_count": 17
        }
      ]
    },
    {
      "cell_type": "code",
      "source": [
        "df1.drop(df1[df1[' Cash/Current Liability'] >= 1].index, inplace = True)\n",
        "df1.shape"
      ],
      "metadata": {
        "colab": {
          "base_uri": "https://localhost:8080/"
        },
        "id": "rrMiUw-W2qmO",
        "outputId": "1a44b0bd-4f7d-4369-f601-672fb49a811a"
      },
      "execution_count": 19,
      "outputs": [
        {
          "output_type": "execute_result",
          "data": {
            "text/plain": [
              "(6439, 26)"
            ]
          },
          "metadata": {},
          "execution_count": 19
        }
      ]
    },
    {
      "cell_type": "code",
      "source": [
        "df1.drop(df1[df1[' Quick Assets/Current Liability'] >= 1].index, inplace = True)\n",
        "df1.shape"
      ],
      "metadata": {
        "colab": {
          "base_uri": "https://localhost:8080/"
        },
        "id": "DggM3Frh20Iv",
        "outputId": "a84d2b0a-1051-4d10-9c95-01e5f5f373ee"
      },
      "execution_count": 20,
      "outputs": [
        {
          "output_type": "execute_result",
          "data": {
            "text/plain": [
              "(6438, 26)"
            ]
          },
          "metadata": {},
          "execution_count": 20
        }
      ]
    },
    {
      "cell_type": "code",
      "source": [
        "df1.drop(df1[df1[' Current Ratio'] > 1].index, inplace = True)\n",
        "df1.shape"
      ],
      "metadata": {
        "colab": {
          "base_uri": "https://localhost:8080/"
        },
        "id": "mK7bqudJ252m",
        "outputId": "3f3a3891-fed1-4619-f16a-eeb2854d1f71"
      },
      "execution_count": 21,
      "outputs": [
        {
          "output_type": "execute_result",
          "data": {
            "text/plain": [
              "(6437, 26)"
            ]
          },
          "metadata": {},
          "execution_count": 21
        }
      ]
    },
    {
      "cell_type": "code",
      "source": [
        "df2 = df1.copy(deep = True)"
      ],
      "metadata": {
        "id": "LKyLIZQw3V3C"
      },
      "execution_count": 22,
      "outputs": []
    },
    {
      "cell_type": "code",
      "source": [
        ""
      ],
      "metadata": {
        "id": "vEW1ilub3aL2"
      },
      "execution_count": null,
      "outputs": []
    },
    {
      "cell_type": "markdown",
      "source": [
        "# Dummy Classifier Model"
      ],
      "metadata": {
        "id": "cDVXz8uc3gDO"
      }
    },
    {
      "cell_type": "markdown",
      "source": [
        "I ran a dummy classifier model to look at the occurrence of Bankrupt vs. Not Bankrupt within the edited dataset."
      ],
      "metadata": {
        "id": "QDx7giga3p7f"
      }
    },
    {
      "cell_type": "code",
      "source": [
        "#split df into test and train\n",
        "Xd = df2.drop(columns = ['Bankrupt?'])\n",
        "yd = df2['Bankrupt?']\n",
        "\n",
        "\n",
        "X_traind, X_testd, y_traind, y_testd = train_test_split(Xd,yd, test_size = 0.2, random_state = 10)"
      ],
      "metadata": {
        "id": "eNa1HJ3n38IG"
      },
      "execution_count": 23,
      "outputs": []
    },
    {
      "cell_type": "code",
      "source": [
        "dummy_classifier = DummyClassifier(strategy=\"most_frequent\")\n",
        "dummy_classifier.fit(X_traind,y_traind)\n",
        "pred_dum= dummy_classifier.predict(X_testd)\n",
        "accuracy_score(y_testd, pred_dum)"
      ],
      "metadata": {
        "colab": {
          "base_uri": "https://localhost:8080/"
        },
        "id": "3xQJ0JOa3onP",
        "outputId": "860b58c7-64ab-4f46-94f6-23836f953807"
      },
      "execution_count": 24,
      "outputs": [
        {
          "output_type": "execute_result",
          "data": {
            "text/plain": [
              "0.9627329192546584"
            ]
          },
          "metadata": {},
          "execution_count": 24
        }
      ]
    },
    {
      "cell_type": "markdown",
      "source": [
        "# Naive Bayes Classifier - Baseline"
      ],
      "metadata": {
        "id": "yLuXq6LQ3ks-"
      }
    },
    {
      "cell_type": "code",
      "source": [
        "#split into test and train\n",
        "Xnb = df2.drop(columns = ['Bankrupt?'])\n",
        "ynb = df2['Bankrupt?']\n",
        "\n",
        "\n",
        "X_trainnb, X_testnb, y_trainnb, y_testnb = train_test_split(Xnb,ynb, test_size = 0.2, random_state = 10)"
      ],
      "metadata": {
        "id": "bRYyftuE4yP-"
      },
      "execution_count": 27,
      "outputs": []
    },
    {
      "cell_type": "code",
      "source": [
        "gnb = GaussianNB()\n",
        "\n",
        "gnb_mod = gnb.fit(X_trainnb, y_trainnb)"
      ],
      "metadata": {
        "id": "oO-W60uD4-X2"
      },
      "execution_count": 28,
      "outputs": []
    },
    {
      "cell_type": "code",
      "source": [
        "gnb_pred = gnb_mod.predict(X_testnb)"
      ],
      "metadata": {
        "id": "CASVFdlp5Adf"
      },
      "execution_count": 29,
      "outputs": []
    },
    {
      "cell_type": "code",
      "source": [
        ""
      ],
      "metadata": {
        "id": "M8oVwK-5U9NR"
      },
      "execution_count": null,
      "outputs": []
    },
    {
      "cell_type": "markdown",
      "source": [
        "Goodness of Fit and Performance metrics on Test set: Naive Bayes"
      ],
      "metadata": {
        "id": "vc3gN1uQ5FdE"
      }
    },
    {
      "cell_type": "code",
      "source": [
        "acc_score = accuracy_score(y_testnb, gnb_pred)\n",
        "acc_score"
      ],
      "metadata": {
        "colab": {
          "base_uri": "https://localhost:8080/"
        },
        "id": "Lp0nqT-M5CZF",
        "outputId": "1b75eed0-02b6-4c09-8599-bc42185c338f"
      },
      "execution_count": 30,
      "outputs": [
        {
          "output_type": "execute_result",
          "data": {
            "text/plain": [
              "0.8183229813664596"
            ]
          },
          "metadata": {},
          "execution_count": 30
        }
      ]
    },
    {
      "cell_type": "code",
      "source": [
        "#naive bayes confusion matrix\n",
        "\n",
        "cm_nb = confusion_matrix(y_testnb, gnb_pred)\n",
        "\n",
        "print('Confusion Matrix\\n\\n', cm_nb)\n",
        "\n",
        "print('\\nTrue Negatives Not-Bankrupt(TN) = ', cm_nb[0,0])\n",
        "\n",
        "print('\\nTrue Positive Bankrupt (TP) = ', cm_nb[1,1])\n",
        "\n",
        "print('\\nFalse Positive False Bankrupt, Actual Not Bankrupt (FP) = ' , cm_nb[0,1])\n",
        "\n",
        "print('\\nFalse Negative False Not Bankrupt, Actual Bankrupt (FN) = ' , cm_nb[1,0])"
      ],
      "metadata": {
        "colab": {
          "base_uri": "https://localhost:8080/"
        },
        "id": "a1R9hOka5WTx",
        "outputId": "f4fa3101-f7ad-43ca-9299-3a9415e31582"
      },
      "execution_count": 31,
      "outputs": [
        {
          "output_type": "stream",
          "name": "stdout",
          "text": [
            "Confusion Matrix\n",
            "\n",
            " [[1015  225]\n",
            " [   9   39]]\n",
            "\n",
            "True Negatives Not-Bankrupt(TN) =  1015\n",
            "\n",
            "True Positive Bankrupt (TP) =  39\n",
            "\n",
            "False Positive False Bankrupt, Actual Not Bankrupt (FP) =  225\n",
            "\n",
            "False Negative False Not Bankrupt, Actual Bankrupt (FN) =  9\n"
          ]
        }
      ]
    },
    {
      "cell_type": "code",
      "source": [
        "#TRUE POSITIVE RATE AND RECALL NAIVE BAYES Test\n",
        "\n",
        "\n",
        "recall_nb1 = recall_score(y_testnb, gnb_pred)\n",
        "recall_nb1"
      ],
      "metadata": {
        "colab": {
          "base_uri": "https://localhost:8080/"
        },
        "id": "eBJjOzV8UhhW",
        "outputId": "d2c53f2c-11ee-45e4-d3a4-fc68206ca908"
      },
      "execution_count": 40,
      "outputs": [
        {
          "output_type": "execute_result",
          "data": {
            "text/plain": [
              "0.8125"
            ]
          },
          "metadata": {},
          "execution_count": 40
        }
      ]
    },
    {
      "cell_type": "code",
      "source": [
        "#Precision Naive Bayes Test\n",
        "precision_nb1 = precision_score(y_testnb, gnb_pred)\n",
        "precision_nb1"
      ],
      "metadata": {
        "colab": {
          "base_uri": "https://localhost:8080/"
        },
        "id": "SWHkZC3fUkfp",
        "outputId": "a6af9b01-f365-4acc-9ff8-6f93e263659a"
      },
      "execution_count": 39,
      "outputs": [
        {
          "output_type": "execute_result",
          "data": {
            "text/plain": [
              "0.14772727272727273"
            ]
          },
          "metadata": {},
          "execution_count": 39
        }
      ]
    },
    {
      "cell_type": "code",
      "source": [
        "#False Positive Rate Naive Bayes Test\n",
        "\n",
        "fpr_nb = cm_nb[0,1]/(cm_nb[0,1] + cm_nb[0,0])\n",
        "print(\"False Positive Rate:\", fpr_nb)\n"
      ],
      "metadata": {
        "colab": {
          "base_uri": "https://localhost:8080/"
        },
        "id": "RZPqj6g0U02P",
        "outputId": "16a435c4-1375-4c2b-959d-35a4bc4742f5"
      },
      "execution_count": 42,
      "outputs": [
        {
          "output_type": "stream",
          "name": "stdout",
          "text": [
            "False Positive Rate: 0.1814516129032258\n"
          ]
        }
      ]
    },
    {
      "cell_type": "code",
      "source": [
        "#F1 SCORE NAIVE BAYES\n",
        "\n",
        "f1_nb = f1_score(y_testnb, gnb_pred)\n",
        "print(\"F1 NB\", f1_nb)"
      ],
      "metadata": {
        "colab": {
          "base_uri": "https://localhost:8080/"
        },
        "id": "ItvrgotcWs6A",
        "outputId": "eb098772-6055-4e93-bbc1-4ded1cf2ef27"
      },
      "execution_count": 36,
      "outputs": [
        {
          "output_type": "stream",
          "name": "stdout",
          "text": [
            "F1 NB 0.25000000000000006\n"
          ]
        }
      ]
    },
    {
      "cell_type": "code",
      "source": [
        "#ROC CURVE NAIVE BAYES\n",
        "\n",
        "nb_pred_proba = gnb.predict_proba(X_testnb)[::,1]\n",
        "fpr,tpr,_ = roc_curve(y_testnb, nb_pred_proba)\n",
        "\n",
        "plt.plot(fpr,tpr)\n",
        "plt.plot([0,1], [0,1], linestyle = '--', color = 'r')\n",
        "plt.ylabel('True Positive Rate')\n",
        "plt.xlabel('False Positive Rate')\n",
        "plt.title('Naive Bayes ROC Curve')\n",
        "plt.show()"
      ],
      "metadata": {
        "colab": {
          "base_uri": "https://localhost:8080/",
          "height": 294
        },
        "id": "BH6gmWe9WtBU",
        "outputId": "c5f1ff3f-d669-422d-e168-109a501ca003"
      },
      "execution_count": 37,
      "outputs": [
        {
          "output_type": "display_data",
          "data": {
            "image/png": "[encoded data removed]",
            "text/plain": [
              "<Figure size 432x288 with 1 Axes>"
            ]
          },
          "metadata": {
            "needs_background": "light"
          }
        }
      ]
    },
    {
      "cell_type": "code",
      "source": [
        "#Precision Recall Naive Bayes\n",
        "\n",
        "PrecisionRecallDisplay.from_estimator(gnb, X_testnb, y_testnb)\n",
        "plt.title(\"Precision-Recall Curve Naive Bayes\")\n",
        "plt.show()"
      ],
      "metadata": {
        "colab": {
          "base_uri": "https://localhost:8080/",
          "height": 294
        },
        "id": "9tPW6-haW1AF",
        "outputId": "796d9472-31f3-42d5-b19d-2cef75bf4964"
      },
      "execution_count": 38,
      "outputs": [
        {
          "output_type": "display_data",
          "data": {
            "image/png": "[encoded data removed]",
            "text/plain": [
              "<Figure size 432x288 with 1 Axes>"
            ]
          },
          "metadata": {
            "needs_background": "light"
          }
        }
      ]
    },
    {
      "cell_type": "markdown",
      "source": [
        "Goodness of Fit and Performance metrics on Train set: Naive Bayes"
      ],
      "metadata": {
        "id": "IW2tXCoBXB7-"
      }
    },
    {
      "cell_type": "code",
      "source": [
        "#NB Predictions TRAIN\n",
        "\n",
        "gnbpred_train = gnb_mod.predict(X_trainnb)"
      ],
      "metadata": {
        "id": "tc5XFQWrXD3X"
      },
      "execution_count": 43,
      "outputs": []
    },
    {
      "cell_type": "code",
      "source": [
        "#Accuracy Naive Bayes TRAIN\n",
        "\n",
        "nb_trainacc_score = accuracy_score(y_trainnb, gnbpred_train)\n",
        "nb_trainacc_score"
      ],
      "metadata": {
        "colab": {
          "base_uri": "https://localhost:8080/"
        },
        "id": "SPCGagvIX5ZV",
        "outputId": "3c660d35-0ffc-4c9e-d2b1-9a53dd4a2f52"
      },
      "execution_count": 44,
      "outputs": [
        {
          "output_type": "execute_result",
          "data": {
            "text/plain": [
              "0.8252087784035735"
            ]
          },
          "metadata": {},
          "execution_count": 44
        }
      ]
    },
    {
      "cell_type": "code",
      "source": [
        "#naive bayes confusion matrix train\n",
        "\n",
        "cm_nbtrain = confusion_matrix(y_trainnb, gnbpred_train)\n",
        "\n",
        "print('Confusion Matrix\\n\\n', cm_nbtrain)\n",
        "\n",
        "print('\\nTrue Negatives Not-Bankrupt(TN) = ', cm_nbtrain[0,0])\n",
        "\n",
        "print('\\nTrue Positive Bankrupt (TP) = ', cm_nbtrain[1,1])\n",
        "\n",
        "print('\\nFalse Positive False Bankrupt, Actual Not Bankrupt (FP) = ' , cm_nbtrain[0,1])\n",
        "\n",
        "print('\\nFalse Negative False Not Bankrupt, Actual Bankrupt (FN) = ' , cm_nbtrain[1,0])"
      ],
      "metadata": {
        "colab": {
          "base_uri": "https://localhost:8080/"
        },
        "id": "8NavR45YX9RV",
        "outputId": "5951934c-9d62-4120-8cf1-d8443a304d97"
      },
      "execution_count": 45,
      "outputs": [
        {
          "output_type": "stream",
          "name": "stdout",
          "text": [
            "Confusion Matrix\n",
            "\n",
            " [[4129  869]\n",
            " [  31  120]]\n",
            "\n",
            "True Negatives Not-Bankrupt(TN) =  4129\n",
            "\n",
            "True Positive Bankrupt (TP) =  120\n",
            "\n",
            "False Positive False Bankrupt, Actual Not Bankrupt (FP) =  869\n",
            "\n",
            "False Negative False Not Bankrupt, Actual Bankrupt (FN) =  31\n"
          ]
        }
      ]
    },
    {
      "cell_type": "code",
      "source": [
        "#Precision TRAIN NB\n",
        "precision_nbtrain = precision_score(y_trainnb, gnbpred_train)\n",
        "precision_nbtrain"
      ],
      "metadata": {
        "colab": {
          "base_uri": "https://localhost:8080/"
        },
        "id": "qnAs79vPX_ld",
        "outputId": "50d75ca8-1762-452b-80bc-663c985935f5"
      },
      "execution_count": 46,
      "outputs": [
        {
          "output_type": "execute_result",
          "data": {
            "text/plain": [
              "0.12133468149646107"
            ]
          },
          "metadata": {},
          "execution_count": 46
        }
      ]
    },
    {
      "cell_type": "code",
      "source": [
        "#True Positive Rate and recall TRAIN NB\n",
        "recall_nbtrain = recall_score(y_trainnb, gnbpred_train)\n",
        "recall_nbtrain"
      ],
      "metadata": {
        "colab": {
          "base_uri": "https://localhost:8080/"
        },
        "id": "nc7F5AVmX_r0",
        "outputId": "db0afd89-8029-4c77-b195-f617a63fd529"
      },
      "execution_count": 47,
      "outputs": [
        {
          "output_type": "execute_result",
          "data": {
            "text/plain": [
              "0.7947019867549668"
            ]
          },
          "metadata": {},
          "execution_count": 47
        }
      ]
    },
    {
      "cell_type": "code",
      "source": [
        "#False Positive Rate Train Naive Bayes\n",
        "\n",
        "fpr_nbtrain = cm_nbtrain[0,1]/(cm_nbtrain[0,1] + cm_nbtrain[0,0])\n",
        "print(\"False Positive Rate:\", fpr_nbtrain)\n"
      ],
      "metadata": {
        "colab": {
          "base_uri": "https://localhost:8080/"
        },
        "id": "aRT5stD5X_zk",
        "outputId": "2c2153c0-12ec-4af3-e6e6-fc17dc9c53de"
      },
      "execution_count": 49,
      "outputs": [
        {
          "output_type": "stream",
          "name": "stdout",
          "text": [
            "False Positive Rate: 0.17386954781912764\n"
          ]
        }
      ]
    },
    {
      "cell_type": "code",
      "source": [
        ""
      ],
      "metadata": {
        "id": "hTC1sxO7YlhE"
      },
      "execution_count": null,
      "outputs": []
    },
    {
      "cell_type": "markdown",
      "source": [
        "# Logistic Regression"
      ],
      "metadata": {
        "id": "awQG2h52YmAF"
      }
    },
    {
      "cell_type": "code",
      "source": [
        "#split into test and train\n",
        "Xlog = df2.drop(columns = ['Bankrupt?'])\n",
        "ylog = df2['Bankrupt?']\n",
        "\n",
        "\n",
        "X_trainlog, X_testlog, y_trainlog, y_testlog = train_test_split(Xlog,ylog, test_size = 0.2, random_state = 10)"
      ],
      "metadata": {
        "id": "up_Bx-3qYomu"
      },
      "execution_count": 50,
      "outputs": []
    },
    {
      "cell_type": "code",
      "source": [
        "logreg = LogisticRegression()\n",
        "\n",
        "mod_log = logreg.fit(X_trainlog, y_trainlog)"
      ],
      "metadata": {
        "id": "SstrApgiYtk8"
      },
      "execution_count": 51,
      "outputs": []
    },
    {
      "cell_type": "markdown",
      "source": [
        "Goodness of Fit and Performance metrics on Test set: Logistic Regression"
      ],
      "metadata": {
        "id": "NFmaC6UlZd7V"
      }
    },
    {
      "cell_type": "code",
      "source": [
        "log_pred = logreg.predict(X_testlog)"
      ],
      "metadata": {
        "id": "rEDK_gd3Ytnd"
      },
      "execution_count": 52,
      "outputs": []
    },
    {
      "cell_type": "code",
      "source": [
        "#Logistic Confusion Matrix TEST\n",
        "\n",
        "conmat_log = confusion_matrix(y_testlog, log_pred)\n",
        "\n",
        "print('Confusion Matrix\\n\\n', conmat_log)\n",
        "\n",
        "print('\\nTrue Negatives Not-Bankrupt(TN) = ', conmat_log[0,0])\n",
        "\n",
        "print('\\nTrue Positive Bankrupt (TP) = ', conmat_log[1,1])\n",
        "\n",
        "print('\\nFalse Positive False Bankrupt, Actual Not Bankrupt (FP) = ' , conmat_log[0,1])\n",
        "\n",
        "print('\\nFalse Negative False Not Bankrupt, Actual Bankrupt (FN) = ' , conmat_log[1,0])"
      ],
      "metadata": {
        "colab": {
          "base_uri": "https://localhost:8080/"
        },
        "id": "hEUiho39Ytql",
        "outputId": "1f82403c-52a9-42eb-c738-d65ed2fa799c"
      },
      "execution_count": 53,
      "outputs": [
        {
          "output_type": "stream",
          "name": "stdout",
          "text": [
            "Confusion Matrix\n",
            "\n",
            " [[1239    1]\n",
            " [  47    1]]\n",
            "\n",
            "True Negatives Not-Bankrupt(TN) =  1239\n",
            "\n",
            "True Positive Bankrupt (TP) =  1\n",
            "\n",
            "False Positive False Bankrupt, Actual Not Bankrupt (FP) =  1\n",
            "\n",
            "False Negative False Not Bankrupt, Actual Bankrupt (FN) =  47\n"
          ]
        }
      ]
    },
    {
      "cell_type": "code",
      "source": [
        "#Precision Logistic test\n",
        "precision_log = precision_score(y_testlog, log_pred)\n",
        "precision_log"
      ],
      "metadata": {
        "colab": {
          "base_uri": "https://localhost:8080/"
        },
        "id": "MYrwjDTVYts_",
        "outputId": "2196cb5a-e7e2-4517-99dd-5d24bd08fddd"
      },
      "execution_count": 54,
      "outputs": [
        {
          "output_type": "execute_result",
          "data": {
            "text/plain": [
              "0.5"
            ]
          },
          "metadata": {},
          "execution_count": 54
        }
      ]
    },
    {
      "cell_type": "code",
      "source": [
        "#recall Logistic test\n",
        "recall_log = recall_score(y_testlog, log_pred)\n",
        "recall_log"
      ],
      "metadata": {
        "colab": {
          "base_uri": "https://localhost:8080/"
        },
        "id": "IY9PRK1tYtwH",
        "outputId": "4b364e90-a2e5-4550-eb59-6f886eb6f21f"
      },
      "execution_count": 55,
      "outputs": [
        {
          "output_type": "execute_result",
          "data": {
            "text/plain": [
              "0.020833333333333332"
            ]
          },
          "metadata": {},
          "execution_count": 55
        }
      ]
    },
    {
      "cell_type": "code",
      "source": [
        "#Accuracy Logistic test\n",
        "log_acc_score = accuracy_score(y_testlog, log_pred)\n",
        "log_acc_score"
      ],
      "metadata": {
        "colab": {
          "base_uri": "https://localhost:8080/"
        },
        "id": "AP2HCSvnYtyh",
        "outputId": "b623c79c-b253-430b-989b-b182b92dc800"
      },
      "execution_count": 56,
      "outputs": [
        {
          "output_type": "execute_result",
          "data": {
            "text/plain": [
              "0.9627329192546584"
            ]
          },
          "metadata": {},
          "execution_count": 56
        }
      ]
    },
    {
      "cell_type": "code",
      "source": [
        "#False Positive Rate Logistic Regression Test\n",
        "\n",
        "fpr_logtest = conmat_log[0,1]/(conmat_log[0,1] + conmat_log[0,0])\n",
        "print(\"False Positive Rate:\", fpr_logtest)\n"
      ],
      "metadata": {
        "colab": {
          "base_uri": "https://localhost:8080/"
        },
        "id": "c-b0FZSBZpnb",
        "outputId": "ca1e7289-369f-4b02-f5c8-1a2559ff416d"
      },
      "execution_count": 57,
      "outputs": [
        {
          "output_type": "stream",
          "name": "stdout",
          "text": [
            "False Positive Rate: 0.0008064516129032258\n"
          ]
        }
      ]
    },
    {
      "cell_type": "code",
      "source": [
        "#F1 SCORE Logistic test\n",
        "\n",
        "f1_log = f1_score(y_testlog, log_pred)\n",
        "print(\"F1 Logistic\", f1_log)"
      ],
      "metadata": {
        "colab": {
          "base_uri": "https://localhost:8080/"
        },
        "id": "EPrNHbGAZpqT",
        "outputId": "17e08761-f5f7-4771-916b-9769008f5575"
      },
      "execution_count": 58,
      "outputs": [
        {
          "output_type": "stream",
          "name": "stdout",
          "text": [
            "F1 Logistic 0.039999999999999994\n"
          ]
        }
      ]
    },
    {
      "cell_type": "code",
      "source": [
        "#ROC CURVE Logistic test\n",
        "\n",
        "log_pred_proba = logreg.predict_proba(X_testlog)[::,1]\n",
        "fpr,tpr,_ = roc_curve(y_testlog, log_pred_proba)\n",
        "\n",
        "plt.plot(fpr,tpr)\n",
        "plt.plot([0,1], [0,1], linestyle = '--', color = 'r')\n",
        "plt.ylabel('True Positive Rate')\n",
        "plt.xlabel('False Positive Rate')\n",
        "plt.title('Logistic Regression ROC Curve')\n",
        "plt.show()"
      ],
      "metadata": {
        "colab": {
          "base_uri": "https://localhost:8080/",
          "height": 294
        },
        "id": "B8a6pVA9Zps0",
        "outputId": "2ee0fee3-4c7d-4f5d-ab29-db036774a3d6"
      },
      "execution_count": 59,
      "outputs": [
        {
          "output_type": "display_data",
          "data": {
            "image/png": "[encoded data removed]",
            "text/plain": [
              "<Figure size 432x288 with 1 Axes>"
            ]
          },
          "metadata": {
            "needs_background": "light"
          }
        }
      ]
    },
    {
      "cell_type": "code",
      "source": [
        "#Precision Recall Logistic test\n",
        "\n",
        "PrecisionRecallDisplay.from_estimator(logreg, X_testlog, y_testlog)\n",
        "plt.title(\"Precision-Recall Curve: Logistic Regression\")\n",
        "plt.show()"
      ],
      "metadata": {
        "colab": {
          "base_uri": "https://localhost:8080/",
          "height": 294
        },
        "id": "Epan_V_vZpvV",
        "outputId": "ad86d1dc-d1c4-4e42-98b3-6aea31975ebb"
      },
      "execution_count": 60,
      "outputs": [
        {
          "output_type": "display_data",
          "data": {
            "image/png": "[encoded data removed]",
            "text/plain": [
              "<Figure size 432x288 with 1 Axes>"
            ]
          },
          "metadata": {
            "needs_background": "light"
          }
        }
      ]
    },
    {
      "cell_type": "markdown",
      "source": [
        "Goodness of Fit and Performance metrics on Train set: Logistic Regression"
      ],
      "metadata": {
        "id": "KpNvufIxaIED"
      }
    },
    {
      "cell_type": "code",
      "source": [
        "log_predtrain = logreg.predict(X_trainlog)"
      ],
      "metadata": {
        "id": "h2Tv0AwXaJwj"
      },
      "execution_count": 61,
      "outputs": []
    },
    {
      "cell_type": "code",
      "source": [
        "#Logistic Confusion Matrix TRAIN\n",
        "\n",
        "conmat_logtrain = confusion_matrix(y_trainlog, log_predtrain)\n",
        "\n",
        "print('Confusion Matrix\\n\\n', conmat_logtrain)\n",
        "\n",
        "print('\\nTrue Negatives Not-Bankrupt(TN) = ', conmat_logtrain[0,0])\n",
        "\n",
        "print('\\nTrue Positive Bankrupt (TP) = ', conmat_logtrain[1,1])\n",
        "\n",
        "print('\\nFalse Positive False Bankrupt, Actual Not Bankrupt (FP) = ' , conmat_logtrain[0,1])\n",
        "\n",
        "print('\\nFalse Negative False Not Bankrupt, Actual Bankrupt (FN) = ' , conmat_logtrain[1,0])"
      ],
      "metadata": {
        "colab": {
          "base_uri": "https://localhost:8080/"
        },
        "id": "vCYrbw_oaJzR",
        "outputId": "50052f6a-8526-4598-c1be-efc06f01d092"
      },
      "execution_count": 62,
      "outputs": [
        {
          "output_type": "stream",
          "name": "stdout",
          "text": [
            "Confusion Matrix\n",
            "\n",
            " [[4993    5]\n",
            " [ 140   11]]\n",
            "\n",
            "True Negatives Not-Bankrupt(TN) =  4993\n",
            "\n",
            "True Positive Bankrupt (TP) =  11\n",
            "\n",
            "False Positive False Bankrupt, Actual Not Bankrupt (FP) =  5\n",
            "\n",
            "False Negative False Not Bankrupt, Actual Bankrupt (FN) =  140\n"
          ]
        }
      ]
    },
    {
      "cell_type": "code",
      "source": [
        "#Precision Logistic TRAIN\n",
        "precision_logtrain = precision_score(y_trainlog, log_predtrain)\n",
        "precision_logtrain"
      ],
      "metadata": {
        "colab": {
          "base_uri": "https://localhost:8080/"
        },
        "id": "VizmVagUaJ2X",
        "outputId": "7e7eda7f-33f8-4351-8b91-898fd2368d37"
      },
      "execution_count": 63,
      "outputs": [
        {
          "output_type": "execute_result",
          "data": {
            "text/plain": [
              "0.6875"
            ]
          },
          "metadata": {},
          "execution_count": 63
        }
      ]
    },
    {
      "cell_type": "code",
      "source": [
        "#recall Logistic train\n",
        "recall_logtrain = recall_score(y_trainlog, log_predtrain)\n",
        "recall_logtrain"
      ],
      "metadata": {
        "colab": {
          "base_uri": "https://localhost:8080/"
        },
        "id": "u1uY0qKyaJ4k",
        "outputId": "f682256b-ce35-4a00-c7ac-ae2b1734cb30"
      },
      "execution_count": 64,
      "outputs": [
        {
          "output_type": "execute_result",
          "data": {
            "text/plain": [
              "0.0728476821192053"
            ]
          },
          "metadata": {},
          "execution_count": 64
        }
      ]
    },
    {
      "cell_type": "code",
      "source": [
        "#Accuracy train\n",
        "log_acc_scoretrain = accuracy_score(y_trainlog, log_predtrain)\n",
        "log_acc_scoretrain"
      ],
      "metadata": {
        "colab": {
          "base_uri": "https://localhost:8080/"
        },
        "id": "AYoNaeutaJ7b",
        "outputId": "5e96d3ea-e85a-4292-ed5c-1b767d7fa171"
      },
      "execution_count": 65,
      "outputs": [
        {
          "output_type": "execute_result",
          "data": {
            "text/plain": [
              "0.9718391920761313"
            ]
          },
          "metadata": {},
          "execution_count": 65
        }
      ]
    },
    {
      "cell_type": "code",
      "source": [
        "#False Positive Rate Logistic Regression Train\n",
        "\n",
        "fpr_logtrain = conmat_logtrain[0,1]/(conmat_logtrain[0,1] + conmat_logtrain[0,0])\n",
        "print(\"False Positive Rate:\", fpr_logtrain)"
      ],
      "metadata": {
        "colab": {
          "base_uri": "https://localhost:8080/"
        },
        "id": "NyeAMCy9aKCe",
        "outputId": "6ff1ac37-ffbc-4bac-cfd2-3f1353490369"
      },
      "execution_count": 66,
      "outputs": [
        {
          "output_type": "stream",
          "name": "stdout",
          "text": [
            "False Positive Rate: 0.0010004001600640256\n"
          ]
        }
      ]
    },
    {
      "cell_type": "code",
      "source": [
        ""
      ],
      "metadata": {
        "id": "xaW3BU0oapaK"
      },
      "execution_count": null,
      "outputs": []
    },
    {
      "cell_type": "markdown",
      "source": [
        "# SVM: SVC with Linear kernel,default C and gamma"
      ],
      "metadata": {
        "id": "1-_hhXxJapxy"
      }
    },
    {
      "cell_type": "code",
      "source": [
        "#split into test and train\n",
        "Xsvc = df2.drop(columns = ['Bankrupt?'])\n",
        "ysvc = df2['Bankrupt?']\n",
        "\n",
        "\n",
        "X_trainsvc, X_testsvc, y_trainsvc, y_testsvc = train_test_split(Xsvc,ysvc, test_size = 0.2, random_state = 10)"
      ],
      "metadata": {
        "id": "l5L2se0NbwMS"
      },
      "execution_count": 67,
      "outputs": []
    },
    {
      "cell_type": "code",
      "source": [
        "msvc = SVC(kernel='linear')\n",
        "\n",
        "mod_svc = msvc.fit(X_trainsvc, y_trainsvc)"
      ],
      "metadata": {
        "id": "Jls17b-fbwPI"
      },
      "execution_count": 68,
      "outputs": []
    },
    {
      "cell_type": "markdown",
      "source": [
        "Goodness of Fit and Performance metrics on Test set: SVC with Linear kernel and defaults"
      ],
      "metadata": {
        "id": "pbdeI3JCdakr"
      }
    },
    {
      "cell_type": "code",
      "source": [
        "msvc_pred_test = msvc.predict(X_testsvc)"
      ],
      "metadata": {
        "id": "4HfACCJubwR8"
      },
      "execution_count": 69,
      "outputs": []
    },
    {
      "cell_type": "code",
      "source": [
        "#Accuracy TEST\n",
        "msvc_acc_scoretest = accuracy_score(y_testsvc, msvc_pred_test)\n",
        "msvc_acc_scoretest"
      ],
      "metadata": {
        "colab": {
          "base_uri": "https://localhost:8080/"
        },
        "id": "ZYREhyCJbwUs",
        "outputId": "9e4ee2b8-6888-4547-d933-2e58167d42cb"
      },
      "execution_count": 70,
      "outputs": [
        {
          "output_type": "execute_result",
          "data": {
            "text/plain": [
              "0.9627329192546584"
            ]
          },
          "metadata": {},
          "execution_count": 70
        }
      ]
    },
    {
      "cell_type": "code",
      "source": [
        "#MSVC Confusion Matrix TEST\n",
        "\n",
        "conmat_msvctest = confusion_matrix(y_testsvc, msvc_pred_test)\n",
        "\n",
        "print('Confusion Matrix\\n\\n', conmat_msvctest)\n",
        "\n",
        "print('\\nTrue Negatives Not-Bankrupt(TN) = ', conmat_msvctest[0,0])\n",
        "\n",
        "print('\\nTrue Positive Bankrupt (TP) = ', conmat_msvctest[1,1])\n",
        "\n",
        "print('\\nFalse Positive False Bankrupt, Actual Not Bankrupt (FP) = ' , conmat_msvctest[0,1])\n",
        "\n",
        "print('\\nFalse Negative False Not Bankrupt, Actual Bankrupt (FN) = ' , conmat_msvctest[1,0])"
      ],
      "metadata": {
        "colab": {
          "base_uri": "https://localhost:8080/"
        },
        "id": "50gwZQKfcD36",
        "outputId": "629ae470-4005-4ccf-c66c-7b5f4c0ba5b3"
      },
      "execution_count": 71,
      "outputs": [
        {
          "output_type": "stream",
          "name": "stdout",
          "text": [
            "Confusion Matrix\n",
            "\n",
            " [[1240    0]\n",
            " [  48    0]]\n",
            "\n",
            "True Negatives Not-Bankrupt(TN) =  1240\n",
            "\n",
            "True Positive Bankrupt (TP) =  0\n",
            "\n",
            "False Positive False Bankrupt, Actual Not Bankrupt (FP) =  0\n",
            "\n",
            "False Negative False Not Bankrupt, Actual Bankrupt (FN) =  48\n"
          ]
        }
      ]
    },
    {
      "cell_type": "code",
      "source": [
        "#Precision MSVC TEST\n",
        "precision_msvctest = precision_score(y_testsvc, msvc_pred_test)\n",
        "precision_msvctest"
      ],
      "metadata": {
        "colab": {
          "base_uri": "https://localhost:8080/"
        },
        "id": "UGFci4tKcD6i",
        "outputId": "31cc7955-76ed-4c37-a394-b340f0f841b6"
      },
      "execution_count": 72,
      "outputs": [
        {
          "output_type": "stream",
          "name": "stderr",
          "text": [
            "/usr/local/lib/python3.7/dist-packages/sklearn/metrics/_classification.py:1318: UndefinedMetricWarning:\n",
            "\n",
            "Precision is ill-defined and being set to 0.0 due to no predicted samples. Use `zero_division` parameter to control this behavior.\n",
            "\n"
          ]
        },
        {
          "output_type": "execute_result",
          "data": {
            "text/plain": [
              "0.0"
            ]
          },
          "metadata": {},
          "execution_count": 72
        }
      ]
    },
    {
      "cell_type": "code",
      "source": [
        "#recall MSVC TEST\n",
        "recall_msvctest = recall_score(y_testsvc, msvc_pred_test)\n",
        "recall_msvctest"
      ],
      "metadata": {
        "colab": {
          "base_uri": "https://localhost:8080/"
        },
        "id": "QZ9ZSQwucD9M",
        "outputId": "655a80fb-759f-4603-b45b-64112875ca85"
      },
      "execution_count": 73,
      "outputs": [
        {
          "output_type": "execute_result",
          "data": {
            "text/plain": [
              "0.0"
            ]
          },
          "metadata": {},
          "execution_count": 73
        }
      ]
    },
    {
      "cell_type": "code",
      "source": [
        "#False Positive Rate SVM Linear Kernel default Test\n",
        "\n",
        "fpr_msvctest = conmat_msvctest[0,1]/(conmat_msvctest[0,1] + conmat_msvctest[0,0])\n",
        "print(\"False Positive Rate:\", fpr_msvctest)"
      ],
      "metadata": {
        "colab": {
          "base_uri": "https://localhost:8080/"
        },
        "id": "L3wAixolcEAH",
        "outputId": "bdfa443d-e4f3-4300-a996-2fb6bfbcb5bf"
      },
      "execution_count": 74,
      "outputs": [
        {
          "output_type": "stream",
          "name": "stdout",
          "text": [
            "False Positive Rate: 0.0\n"
          ]
        }
      ]
    },
    {
      "cell_type": "code",
      "source": [
        "#F1 SCORE MSVC test\n",
        "\n",
        "f1_msvc = f1_score(y_testsvc, msvc_pred_test)\n",
        "print(\"F1 MSVC\", f1_msvc)"
      ],
      "metadata": {
        "colab": {
          "base_uri": "https://localhost:8080/"
        },
        "id": "6CP5mFErcECc",
        "outputId": "1d4e40d4-d683-4f03-fd7f-37bc06e07eb2"
      },
      "execution_count": 75,
      "outputs": [
        {
          "output_type": "stream",
          "name": "stdout",
          "text": [
            "F1 MSVC 0.0\n"
          ]
        }
      ]
    },
    {
      "cell_type": "code",
      "source": [
        "#ROC CURVE MSVC test\n",
        "#ROC Curve not possible when 0 Positive values were predicted\n",
        "\n",
        "msvc_pred_proba = msvc.predict_proba(X_testsvc)[::,1]\n",
        "fpr,tpr,_ = roc_curve(y_testsvc, msvc_pred_proba)\n",
        "\n",
        "plt.plot(fpr,tpr)\n",
        "plt.plot([0,1], [0,1], linestyle = '--', color = 'r')\n",
        "plt.ylabel('True Positive Rate')\n",
        "plt.xlabel('False Positive Rate')\n",
        "plt.title('SVC Linear Kernel ROC Curve')\n",
        "plt.show()"
      ],
      "metadata": {
        "colab": {
          "base_uri": "https://localhost:8080/",
          "height": 398
        },
        "id": "jJs7b4vDcEFK",
        "outputId": "c591f4a6-259a-43fe-8834-1da35ac037fc"
      },
      "execution_count": 76,
      "outputs": [
        {
          "output_type": "error",
          "ename": "AttributeError",
          "evalue": "ignored",
          "traceback": [
            "\u001b[0;31m---------------------------------------------------------------------------\u001b[0m",
            "\u001b[0;31mAttributeError\u001b[0m                            Traceback (most recent call last)",
            "\u001b[0;32m<ipython-input-76-9f3f0a936267>\u001b[0m in \u001b[0;36m<module>\u001b[0;34m()\u001b[0m\n\u001b[1;32m      1\u001b[0m \u001b[0;31m#ROC CURVE MSVC test\u001b[0m\u001b[0;34m\u001b[0m\u001b[0;34m\u001b[0m\u001b[0;34m\u001b[0m\u001b[0m\n\u001b[1;32m      2\u001b[0m \u001b[0;34m\u001b[0m\u001b[0m\n\u001b[0;32m----> 3\u001b[0;31m \u001b[0mmsvc_pred_proba\u001b[0m \u001b[0;34m=\u001b[0m \u001b[0mmsvc\u001b[0m\u001b[0;34m.\u001b[0m\u001b[0mpredict_proba\u001b[0m\u001b[0;34m(\u001b[0m\u001b[0mX_testsvc\u001b[0m\u001b[0;34m)\u001b[0m\u001b[0;34m[\u001b[0m\u001b[0;34m:\u001b[0m\u001b[0;34m:\u001b[0m\u001b[0;34m,\u001b[0m\u001b[0;36m1\u001b[0m\u001b[0;34m]\u001b[0m\u001b[0;34m\u001b[0m\u001b[0;34m\u001b[0m\u001b[0m\n\u001b[0m\u001b[1;32m      4\u001b[0m \u001b[0mfpr\u001b[0m\u001b[0;34m,\u001b[0m\u001b[0mtpr\u001b[0m\u001b[0;34m,\u001b[0m\u001b[0m_\u001b[0m \u001b[0;34m=\u001b[0m \u001b[0mroc_curve\u001b[0m\u001b[0;34m(\u001b[0m\u001b[0my_testsvc\u001b[0m\u001b[0;34m,\u001b[0m \u001b[0mmsvc_pred_proba\u001b[0m\u001b[0;34m)\u001b[0m\u001b[0;34m\u001b[0m\u001b[0;34m\u001b[0m\u001b[0m\n\u001b[1;32m      5\u001b[0m \u001b[0;34m\u001b[0m\u001b[0m\n",
            "\u001b[0;32m/usr/local/lib/python3.7/dist-packages/sklearn/utils/metaestimators.py\u001b[0m in \u001b[0;36m__get__\u001b[0;34m(self, obj, owner)\u001b[0m\n\u001b[1;32m    107\u001b[0m             \u001b[0;31m# delegate only on instances, not the classes.\u001b[0m\u001b[0;34m\u001b[0m\u001b[0;34m\u001b[0m\u001b[0;34m\u001b[0m\u001b[0m\n\u001b[1;32m    108\u001b[0m             \u001b[0;31m# this is to allow access to the docstrings.\u001b[0m\u001b[0;34m\u001b[0m\u001b[0;34m\u001b[0m\u001b[0;34m\u001b[0m\u001b[0m\n\u001b[0;32m--> 109\u001b[0;31m             \u001b[0;32mif\u001b[0m \u001b[0;32mnot\u001b[0m \u001b[0mself\u001b[0m\u001b[0;34m.\u001b[0m\u001b[0mcheck\u001b[0m\u001b[0;34m(\u001b[0m\u001b[0mobj\u001b[0m\u001b[0;34m)\u001b[0m\u001b[0;34m:\u001b[0m\u001b[0;34m\u001b[0m\u001b[0;34m\u001b[0m\u001b[0m\n\u001b[0m\u001b[1;32m    110\u001b[0m                 \u001b[0;32mraise\u001b[0m \u001b[0mattr_err\u001b[0m\u001b[0;34m\u001b[0m\u001b[0;34m\u001b[0m\u001b[0m\n\u001b[1;32m    111\u001b[0m \u001b[0;34m\u001b[0m\u001b[0m\n",
            "\u001b[0;32m/usr/local/lib/python3.7/dist-packages/sklearn/svm/_base.py\u001b[0m in \u001b[0;36m_check_proba\u001b[0;34m(self)\u001b[0m\n\u001b[1;32m    799\u001b[0m         \u001b[0;32mif\u001b[0m \u001b[0;32mnot\u001b[0m \u001b[0mself\u001b[0m\u001b[0;34m.\u001b[0m\u001b[0mprobability\u001b[0m\u001b[0;34m:\u001b[0m\u001b[0;34m\u001b[0m\u001b[0;34m\u001b[0m\u001b[0m\n\u001b[1;32m    800\u001b[0m             raise AttributeError(\n\u001b[0;32m--> 801\u001b[0;31m                 \u001b[0;34m\"predict_proba is not available when  probability=False\"\u001b[0m\u001b[0;34m\u001b[0m\u001b[0;34m\u001b[0m\u001b[0m\n\u001b[0m\u001b[1;32m    802\u001b[0m             )\n\u001b[1;32m    803\u001b[0m         \u001b[0;32mif\u001b[0m \u001b[0mself\u001b[0m\u001b[0;34m.\u001b[0m\u001b[0m_impl\u001b[0m \u001b[0;32mnot\u001b[0m \u001b[0;32min\u001b[0m \u001b[0;34m(\u001b[0m\u001b[0;34m\"c_svc\"\u001b[0m\u001b[0;34m,\u001b[0m \u001b[0;34m\"nu_svc\"\u001b[0m\u001b[0;34m)\u001b[0m\u001b[0;34m:\u001b[0m\u001b[0;34m\u001b[0m\u001b[0;34m\u001b[0m\u001b[0m\n",
            "\u001b[0;31mAttributeError\u001b[0m: predict_proba is not available when  probability=False"
          ]
        }
      ]
    },
    {
      "cell_type": "code",
      "source": [
        "#Precision Recall MSVC test\n",
        "\n",
        "PrecisionRecallDisplay.from_estimator(msvc, X_testsvc, y_testsvc)\n",
        "plt.title(\"Precision-Recall Curve: SVC with Linear Kernel\")\n",
        "plt.show()"
      ],
      "metadata": {
        "colab": {
          "base_uri": "https://localhost:8080/",
          "height": 294
        },
        "id": "ptgvB_a8cEHw",
        "outputId": "91c6f911-f9b3-41c0-aa1c-92b64a7d5c45"
      },
      "execution_count": 77,
      "outputs": [
        {
          "output_type": "display_data",
          "data": {
            "image/png": "[encoded data removed]",
            "text/plain": [
              "<Figure size 432x288 with 1 Axes>"
            ]
          },
          "metadata": {
            "needs_background": "light"
          }
        }
      ]
    },
    {
      "cell_type": "code",
      "source": [
        ""
      ],
      "metadata": {
        "id": "cS06a20OdWfp"
      },
      "execution_count": null,
      "outputs": []
    },
    {
      "cell_type": "markdown",
      "source": [
        "Goodness of Fit and Performance metrics on Train set: SVC with Linear kernel and defaults"
      ],
      "metadata": {
        "id": "3uewXWIsdjpB"
      }
    },
    {
      "cell_type": "code",
      "source": [
        "msvc_pred_train = msvc.predict(X_trainsvc)"
      ],
      "metadata": {
        "id": "cZJ3PEbodWmR"
      },
      "execution_count": 78,
      "outputs": []
    },
    {
      "cell_type": "code",
      "source": [
        "#Accuracy TRAIN MSVC\n",
        "msvc_acc_scoretrain = accuracy_score(y_trainsvc, msvc_pred_train)\n",
        "msvc_acc_scoretrain"
      ],
      "metadata": {
        "colab": {
          "base_uri": "https://localhost:8080/"
        },
        "id": "VcfYroiHdWpH",
        "outputId": "7512eb41-10e6-440d-db9a-1fdd1cc42777"
      },
      "execution_count": 79,
      "outputs": [
        {
          "output_type": "execute_result",
          "data": {
            "text/plain": [
              "0.9706739172654885"
            ]
          },
          "metadata": {},
          "execution_count": 79
        }
      ]
    },
    {
      "cell_type": "code",
      "source": [
        "#MSVC Confusion Matrix TRAIN\n",
        "\n",
        "conmat_msvctrain = confusion_matrix(y_trainsvc, msvc_pred_train)\n",
        "\n",
        "print('Confusion Matrix\\n\\n', conmat_msvctrain)\n",
        "\n",
        "print('\\nTrue Negatives Not-Bankrupt(TN) = ', conmat_msvctrain[0,0])\n",
        "\n",
        "print('\\nTrue Positive Bankrupt (TP) = ', conmat_msvctrain[1,1])\n",
        "\n",
        "print('\\nFalse Positive False Bankrupt, Actual Not Bankrupt (FP) = ' , conmat_msvctrain[0,1])\n",
        "\n",
        "print('\\nFalse Negative False Not Bankrupt, Actual Bankrupt (FN) = ' , conmat_msvctrain[1,0])"
      ],
      "metadata": {
        "colab": {
          "base_uri": "https://localhost:8080/"
        },
        "id": "h3BVrfvSdnLC",
        "outputId": "9145e3f6-2944-4a7a-e8dd-e81362471ba0"
      },
      "execution_count": 80,
      "outputs": [
        {
          "output_type": "stream",
          "name": "stdout",
          "text": [
            "Confusion Matrix\n",
            "\n",
            " [[4998    0]\n",
            " [ 151    0]]\n",
            "\n",
            "True Negatives Not-Bankrupt(TN) =  4998\n",
            "\n",
            "True Positive Bankrupt (TP) =  0\n",
            "\n",
            "False Positive False Bankrupt, Actual Not Bankrupt (FP) =  0\n",
            "\n",
            "False Negative False Not Bankrupt, Actual Bankrupt (FN) =  151\n"
          ]
        }
      ]
    },
    {
      "cell_type": "code",
      "source": [
        "#Precision MSVC Train\n",
        "precision_msvctrain = precision_score(y_trainsvc, msvc_pred_train)\n",
        "precision_msvctrain"
      ],
      "metadata": {
        "colab": {
          "base_uri": "https://localhost:8080/"
        },
        "id": "CSOP0i21dnNp",
        "outputId": "33722af7-c807-47cc-9ea4-1bbbe0d54909"
      },
      "execution_count": 81,
      "outputs": [
        {
          "output_type": "stream",
          "name": "stderr",
          "text": [
            "/usr/local/lib/python3.7/dist-packages/sklearn/metrics/_classification.py:1318: UndefinedMetricWarning:\n",
            "\n",
            "Precision is ill-defined and being set to 0.0 due to no predicted samples. Use `zero_division` parameter to control this behavior.\n",
            "\n"
          ]
        },
        {
          "output_type": "execute_result",
          "data": {
            "text/plain": [
              "0.0"
            ]
          },
          "metadata": {},
          "execution_count": 81
        }
      ]
    },
    {
      "cell_type": "code",
      "source": [
        "#recall MSVC Train\n",
        "recall_msvctrain = recall_score(y_trainsvc, msvc_pred_train)\n",
        "recall_msvctrain"
      ],
      "metadata": {
        "colab": {
          "base_uri": "https://localhost:8080/"
        },
        "id": "1sKFHNsHdseY",
        "outputId": "3c97b704-cda5-41f7-b02b-cde6138dca1c"
      },
      "execution_count": 82,
      "outputs": [
        {
          "output_type": "execute_result",
          "data": {
            "text/plain": [
              "0.0"
            ]
          },
          "metadata": {},
          "execution_count": 82
        }
      ]
    },
    {
      "cell_type": "code",
      "source": [
        "#False Positive Rate SVM Linear Kernel default Train\n",
        "\n",
        "fpr_msvctrain = conmat_msvctrain[0,1]/(conmat_msvctrain[0,1] + conmat_msvctrain[0,0])\n",
        "print(\"False Positive Rate:\", fpr_msvctrain)"
      ],
      "metadata": {
        "colab": {
          "base_uri": "https://localhost:8080/"
        },
        "id": "JdX2UkR5dsg6",
        "outputId": "facfc454-87f1-4521-fc0e-c418813d8397"
      },
      "execution_count": 83,
      "outputs": [
        {
          "output_type": "stream",
          "name": "stdout",
          "text": [
            "False Positive Rate: 0.0\n"
          ]
        }
      ]
    },
    {
      "cell_type": "markdown",
      "source": [
        "# SVM: SVC with Linear kernel and hyperparameter tuning with Randomized Search CV"
      ],
      "metadata": {
        "id": "qIU5_YiVeFPb"
      }
    },
    {
      "cell_type": "code",
      "source": [
        "#split into test and train\n",
        "Xsvct = df2.drop(columns = ['Bankrupt?'])\n",
        "ysvct = df2['Bankrupt?']\n",
        "\n",
        "\n",
        "X_trainsvct, X_testsvct, y_trainsvct, y_testsvct = train_test_split(Xsvct,ysvct, test_size = 0.2, random_state = 10)"
      ],
      "metadata": {
        "id": "qURY5f1RdnQl"
      },
      "execution_count": 84,
      "outputs": []
    },
    {
      "cell_type": "code",
      "source": [
        "msvct = SVC(kernel='linear')\n",
        "\n",
        "#mod_svct = msvct.fit(X_trainsvct, y_trainsvct)\n",
        "\n",
        "param_distributions = {\"gamma\": reciprocal(0.001, 0.1), \"C\": uniform(1, 10)}\n",
        "\n",
        "clf = RandomizedSearchCV(msvct, param_distributions, random_state=0)\n",
        "search = clf.fit(X_trainsvct, y_trainsvct)\n",
        "search.best_params_"
      ],
      "metadata": {
        "colab": {
          "base_uri": "https://localhost:8080/"
        },
        "id": "0H8noJMVdWsN",
        "outputId": "05db495f-7e4b-437a-cba2-615dee83ef8f"
      },
      "execution_count": 85,
      "outputs": [
        {
          "output_type": "execute_result",
          "data": {
            "text/plain": [
              "{'C': 6.4881350392732475, 'gamma': 0.026938830192854094}"
            ]
          },
          "metadata": {},
          "execution_count": 85
        }
      ]
    },
    {
      "cell_type": "code",
      "source": [
        "#Trying SVC with best params\n",
        "\n",
        "msvc2 = SVC(C = 6.4881350392732475, kernel = \"linear\", gamma = 0.026938830192854094)\n",
        "\n",
        "mod_msvc2 = msvc2.fit(X_trainsvct, y_trainsvct)"
      ],
      "metadata": {
        "id": "ahp4JE3Webd3"
      },
      "execution_count": 86,
      "outputs": []
    },
    {
      "cell_type": "markdown",
      "source": [
        "Goodness of Fit and Performance metrics on Test set: SVC with Linear kernel, C: 6.488, Gamma: 0.269"
      ],
      "metadata": {
        "id": "X29VPw09exZJ"
      }
    },
    {
      "cell_type": "code",
      "source": [
        "msvc2_pred_test = msvc2.predict(X_testsvct)"
      ],
      "metadata": {
        "id": "xxIDcvLGeu0p"
      },
      "execution_count": 87,
      "outputs": []
    },
    {
      "cell_type": "code",
      "source": [
        "#Accuracy Test MSVC2\n",
        "msvc2_acc_scoretest = accuracy_score(y_testsvct, msvc2_pred_test)\n",
        "msvc2_acc_scoretest"
      ],
      "metadata": {
        "colab": {
          "base_uri": "https://localhost:8080/"
        },
        "id": "p6vClECreu3X",
        "outputId": "04fc5378-390c-4c9e-b94b-3e1636a33b44"
      },
      "execution_count": 88,
      "outputs": [
        {
          "output_type": "execute_result",
          "data": {
            "text/plain": [
              "0.9627329192546584"
            ]
          },
          "metadata": {},
          "execution_count": 88
        }
      ]
    },
    {
      "cell_type": "code",
      "source": [
        "#MSVC2 Confusion Matrix TEST\n",
        "\n",
        "conmat_msvc2test = confusion_matrix(y_testsvct, msvc2_pred_test)\n",
        "\n",
        "print('Confusion Matrix\\n\\n', conmat_msvc2test)\n",
        "\n",
        "print('\\nTrue Negatives Not-Bankrupt(TN) = ', conmat_msvc2test[0,0])\n",
        "\n",
        "print('\\nTrue Positive Bankrupt (TP) = ', conmat_msvc2test[1,1])\n",
        "\n",
        "print('\\nFalse Positive False Bankrupt, Actual Not Bankrupt (FP) = ' , conmat_msvc2test[0,1])\n",
        "\n",
        "print('\\nFalse Negative False Not Bankrupt, Actual Bankrupt (FN) = ' , conmat_msvc2test[1,0])"
      ],
      "metadata": {
        "colab": {
          "base_uri": "https://localhost:8080/"
        },
        "id": "COtN5Kgieu6g",
        "outputId": "9dd45208-c8ea-4ef1-eaeb-2101a86f77cd"
      },
      "execution_count": 89,
      "outputs": [
        {
          "output_type": "stream",
          "name": "stdout",
          "text": [
            "Confusion Matrix\n",
            "\n",
            " [[1240    0]\n",
            " [  48    0]]\n",
            "\n",
            "True Negatives Not-Bankrupt(TN) =  1240\n",
            "\n",
            "True Positive Bankrupt (TP) =  0\n",
            "\n",
            "False Positive False Bankrupt, Actual Not Bankrupt (FP) =  0\n",
            "\n",
            "False Negative False Not Bankrupt, Actual Bankrupt (FN) =  48\n"
          ]
        }
      ]
    },
    {
      "cell_type": "code",
      "source": [
        "#Precision MSVC Test svc2\n",
        "precision_msvctest2 = precision_score(y_testsvct, msvc2_pred_test)\n",
        "precision_msvctest2"
      ],
      "metadata": {
        "colab": {
          "base_uri": "https://localhost:8080/"
        },
        "id": "p2Hf_ZKleu8x",
        "outputId": "906d4b81-85fd-4b99-c000-85a99d59bf43"
      },
      "execution_count": 90,
      "outputs": [
        {
          "output_type": "stream",
          "name": "stderr",
          "text": [
            "/usr/local/lib/python3.7/dist-packages/sklearn/metrics/_classification.py:1318: UndefinedMetricWarning:\n",
            "\n",
            "Precision is ill-defined and being set to 0.0 due to no predicted samples. Use `zero_division` parameter to control this behavior.\n",
            "\n"
          ]
        },
        {
          "output_type": "execute_result",
          "data": {
            "text/plain": [
              "0.0"
            ]
          },
          "metadata": {},
          "execution_count": 90
        }
      ]
    },
    {
      "cell_type": "code",
      "source": [
        "#recall Test svc2\n",
        "recall_msvctest2 = recall_score(y_testsvct, msvc2_pred_test)\n",
        "recall_msvctest2"
      ],
      "metadata": {
        "colab": {
          "base_uri": "https://localhost:8080/"
        },
        "id": "sUTOb1XVfDb4",
        "outputId": "e6d4c678-ed7f-4167-a037-3aa2d2a0d0e8"
      },
      "execution_count": 91,
      "outputs": [
        {
          "output_type": "execute_result",
          "data": {
            "text/plain": [
              "0.0"
            ]
          },
          "metadata": {},
          "execution_count": 91
        }
      ]
    },
    {
      "cell_type": "code",
      "source": [
        "#False Positive Rate SVM Linear Kernel Tuned Test\n",
        "\n",
        "fpr_msvc2test = conmat_msvc2test[0,1]/(conmat_msvc2test[0,1] + conmat_msvc2test[0,0])\n",
        "print(\"False Positive Rate:\", fpr_msvc2test)"
      ],
      "metadata": {
        "colab": {
          "base_uri": "https://localhost:8080/"
        },
        "id": "e4gpP-2kfDei",
        "outputId": "51ec8c84-79c4-4148-d62d-fb8bd7deae64"
      },
      "execution_count": 92,
      "outputs": [
        {
          "output_type": "stream",
          "name": "stdout",
          "text": [
            "False Positive Rate: 0.0\n"
          ]
        }
      ]
    },
    {
      "cell_type": "code",
      "source": [
        "#F1 SCORE MSVC test\n",
        "\n",
        "f1_msvc2 = f1_score(y_testsvct, msvc2_pred_test)\n",
        "print(\"F1 MSVC2\", f1_msvc2)"
      ],
      "metadata": {
        "colab": {
          "base_uri": "https://localhost:8080/"
        },
        "id": "-rTrp3rRfDhH",
        "outputId": "6f35fcfa-94e0-44b9-cc12-8f45c84c3dc8"
      },
      "execution_count": 93,
      "outputs": [
        {
          "output_type": "stream",
          "name": "stdout",
          "text": [
            "F1 MSVC2 0.0\n"
          ]
        }
      ]
    },
    {
      "cell_type": "code",
      "source": [
        "#ROC CURVE MSVC2 test\n",
        "#ROC Curve not possible when 0 Positive values were predicted\n",
        "\n",
        "msvc2_pred_proba = msvc2.predict_proba(X_testsvct)[::,1]\n",
        "fpr,tpr,_ = roc_curve(y_testsvct, msvc2_pred_proba)\n",
        "\n",
        "plt.plot(fpr,tpr)\n",
        "plt.plot([0,1], [0,1], linestyle = '--', color = 'r')\n",
        "plt.ylabel('True Positive Rate')\n",
        "plt.xlabel('False Positive Rate')\n",
        "plt.title('SVC2 Linear Kernel C: 6.488, Gamma: 0.027 ROC Curve')\n",
        "plt.show()"
      ],
      "metadata": {
        "colab": {
          "base_uri": "https://localhost:8080/",
          "height": 398
        },
        "id": "Bjn6vXPXfDkB",
        "outputId": "0bf1176b-13f1-429c-ba8f-bf9adfda34f1"
      },
      "execution_count": 94,
      "outputs": [
        {
          "output_type": "error",
          "ename": "AttributeError",
          "evalue": "ignored",
          "traceback": [
            "\u001b[0;31m---------------------------------------------------------------------------\u001b[0m",
            "\u001b[0;31mAttributeError\u001b[0m                            Traceback (most recent call last)",
            "\u001b[0;32m<ipython-input-94-d47244af69db>\u001b[0m in \u001b[0;36m<module>\u001b[0;34m()\u001b[0m\n\u001b[1;32m      1\u001b[0m \u001b[0;31m#ROC CURVE MSVC2 test\u001b[0m\u001b[0;34m\u001b[0m\u001b[0;34m\u001b[0m\u001b[0;34m\u001b[0m\u001b[0m\n\u001b[1;32m      2\u001b[0m \u001b[0;34m\u001b[0m\u001b[0m\n\u001b[0;32m----> 3\u001b[0;31m \u001b[0mmsvc2_pred_proba\u001b[0m \u001b[0;34m=\u001b[0m \u001b[0mmsvc2\u001b[0m\u001b[0;34m.\u001b[0m\u001b[0mpredict_proba\u001b[0m\u001b[0;34m(\u001b[0m\u001b[0mX_testsvct\u001b[0m\u001b[0;34m)\u001b[0m\u001b[0;34m[\u001b[0m\u001b[0;34m:\u001b[0m\u001b[0;34m:\u001b[0m\u001b[0;34m,\u001b[0m\u001b[0;36m1\u001b[0m\u001b[0;34m]\u001b[0m\u001b[0;34m\u001b[0m\u001b[0;34m\u001b[0m\u001b[0m\n\u001b[0m\u001b[1;32m      4\u001b[0m \u001b[0mfpr\u001b[0m\u001b[0;34m,\u001b[0m\u001b[0mtpr\u001b[0m\u001b[0;34m,\u001b[0m\u001b[0m_\u001b[0m \u001b[0;34m=\u001b[0m \u001b[0mroc_curve\u001b[0m\u001b[0;34m(\u001b[0m\u001b[0my_testsvct\u001b[0m\u001b[0;34m,\u001b[0m \u001b[0mmsvc2_pred_proba\u001b[0m\u001b[0;34m)\u001b[0m\u001b[0;34m\u001b[0m\u001b[0;34m\u001b[0m\u001b[0m\n\u001b[1;32m      5\u001b[0m \u001b[0;34m\u001b[0m\u001b[0m\n",
            "\u001b[0;32m/usr/local/lib/python3.7/dist-packages/sklearn/utils/metaestimators.py\u001b[0m in \u001b[0;36m__get__\u001b[0;34m(self, obj, owner)\u001b[0m\n\u001b[1;32m    107\u001b[0m             \u001b[0;31m# delegate only on instances, not the classes.\u001b[0m\u001b[0;34m\u001b[0m\u001b[0;34m\u001b[0m\u001b[0;34m\u001b[0m\u001b[0m\n\u001b[1;32m    108\u001b[0m             \u001b[0;31m# this is to allow access to the docstrings.\u001b[0m\u001b[0;34m\u001b[0m\u001b[0;34m\u001b[0m\u001b[0;34m\u001b[0m\u001b[0m\n\u001b[0;32m--> 109\u001b[0;31m             \u001b[0;32mif\u001b[0m \u001b[0;32mnot\u001b[0m \u001b[0mself\u001b[0m\u001b[0;34m.\u001b[0m\u001b[0mcheck\u001b[0m\u001b[0;34m(\u001b[0m\u001b[0mobj\u001b[0m\u001b[0;34m)\u001b[0m\u001b[0;34m:\u001b[0m\u001b[0;34m\u001b[0m\u001b[0;34m\u001b[0m\u001b[0m\n\u001b[0m\u001b[1;32m    110\u001b[0m                 \u001b[0;32mraise\u001b[0m \u001b[0mattr_err\u001b[0m\u001b[0;34m\u001b[0m\u001b[0;34m\u001b[0m\u001b[0m\n\u001b[1;32m    111\u001b[0m \u001b[0;34m\u001b[0m\u001b[0m\n",
            "\u001b[0;32m/usr/local/lib/python3.7/dist-packages/sklearn/svm/_base.py\u001b[0m in \u001b[0;36m_check_proba\u001b[0;34m(self)\u001b[0m\n\u001b[1;32m    799\u001b[0m         \u001b[0;32mif\u001b[0m \u001b[0;32mnot\u001b[0m \u001b[0mself\u001b[0m\u001b[0;34m.\u001b[0m\u001b[0mprobability\u001b[0m\u001b[0;34m:\u001b[0m\u001b[0;34m\u001b[0m\u001b[0;34m\u001b[0m\u001b[0m\n\u001b[1;32m    800\u001b[0m             raise AttributeError(\n\u001b[0;32m--> 801\u001b[0;31m                 \u001b[0;34m\"predict_proba is not available when  probability=False\"\u001b[0m\u001b[0;34m\u001b[0m\u001b[0;34m\u001b[0m\u001b[0m\n\u001b[0m\u001b[1;32m    802\u001b[0m             )\n\u001b[1;32m    803\u001b[0m         \u001b[0;32mif\u001b[0m \u001b[0mself\u001b[0m\u001b[0;34m.\u001b[0m\u001b[0m_impl\u001b[0m \u001b[0;32mnot\u001b[0m \u001b[0;32min\u001b[0m \u001b[0;34m(\u001b[0m\u001b[0;34m\"c_svc\"\u001b[0m\u001b[0;34m,\u001b[0m \u001b[0;34m\"nu_svc\"\u001b[0m\u001b[0;34m)\u001b[0m\u001b[0;34m:\u001b[0m\u001b[0;34m\u001b[0m\u001b[0;34m\u001b[0m\u001b[0m\n",
            "\u001b[0;31mAttributeError\u001b[0m: predict_proba is not available when  probability=False"
          ]
        }
      ]
    },
    {
      "cell_type": "code",
      "source": [
        "#Precision Recall MSVC2 test\n",
        "\n",
        "PrecisionRecallDisplay.from_estimator(msvc2, X_testsvct, y_testsvct)\n",
        "plt.title(\"Precision-Recall Curve: SVC with Linear Kernel, C: 6.488, Gamma: 0.027 \")\n",
        "plt.show()"
      ],
      "metadata": {
        "colab": {
          "base_uri": "https://localhost:8080/",
          "height": 294
        },
        "id": "0b8l0GMAfa8_",
        "outputId": "d0159967-b0cf-4e37-9707-87496c330637"
      },
      "execution_count": 95,
      "outputs": [
        {
          "output_type": "display_data",
          "data": {
            "image/png": "[encoded data removed]",
            "text/plain": [
              "<Figure size 432x288 with 1 Axes>"
            ]
          },
          "metadata": {
            "needs_background": "light"
          }
        }
      ]
    },
    {
      "cell_type": "markdown",
      "source": [
        "Goodness of Fit and Performance metrics on train set: SVC with Linear kernel, C: 6.488, Gamma: 0.269"
      ],
      "metadata": {
        "id": "neosYT27fyDw"
      }
    },
    {
      "cell_type": "code",
      "source": [
        "#Train SVC2 Predictions\n",
        "\n",
        "msvc2_pred_train = msvc2.predict(X_trainsvct)"
      ],
      "metadata": {
        "id": "wfJoU8sdfbCa"
      },
      "execution_count": 96,
      "outputs": []
    },
    {
      "cell_type": "code",
      "source": [
        "#Accuracy Train MSVC2\n",
        "msvc2_acc_scoretrain = accuracy_score(y_trainsvct, msvc2_pred_train)\n",
        "msvc2_acc_scoretrain"
      ],
      "metadata": {
        "colab": {
          "base_uri": "https://localhost:8080/"
        },
        "id": "wkeK3hNcfbFP",
        "outputId": "915a17ae-5e75-4362-aaaa-97f557252adf"
      },
      "execution_count": 97,
      "outputs": [
        {
          "output_type": "execute_result",
          "data": {
            "text/plain": [
              "0.9708681297339289"
            ]
          },
          "metadata": {},
          "execution_count": 97
        }
      ]
    },
    {
      "cell_type": "code",
      "source": [
        "#MSVC2 Confusion Matrix TRAIN\n",
        "\n",
        "conmat_msvc2train = confusion_matrix(y_trainsvct, msvc2_pred_train)\n",
        "\n",
        "print('Confusion Matrix\\n\\n', conmat_msvc2train)\n",
        "\n",
        "print('\\nTrue Negatives Not-Bankrupt(TN) = ', conmat_msvc2train[0,0])\n",
        "\n",
        "print('\\nTrue Positive Bankrupt (TP) = ', conmat_msvc2train[1,1])\n",
        "\n",
        "print('\\nFalse Positive False Bankrupt, Actual Not Bankrupt (FP) = ' , conmat_msvc2train[0,1])\n",
        "\n",
        "print('\\nFalse Negative False Not Bankrupt, Actual Bankrupt (FN) = ' , conmat_msvc2train[1,0])"
      ],
      "metadata": {
        "colab": {
          "base_uri": "https://localhost:8080/"
        },
        "id": "H9ucxlmOf26S",
        "outputId": "3b899ae2-c3ab-4f7e-fe05-ce10c0cbe917"
      },
      "execution_count": 98,
      "outputs": [
        {
          "output_type": "stream",
          "name": "stdout",
          "text": [
            "Confusion Matrix\n",
            "\n",
            " [[4998    0]\n",
            " [ 150    1]]\n",
            "\n",
            "True Negatives Not-Bankrupt(TN) =  4998\n",
            "\n",
            "True Positive Bankrupt (TP) =  1\n",
            "\n",
            "False Positive False Bankrupt, Actual Not Bankrupt (FP) =  0\n",
            "\n",
            "False Negative False Not Bankrupt, Actual Bankrupt (FN) =  150\n"
          ]
        }
      ]
    },
    {
      "cell_type": "code",
      "source": [
        "#Precision MSVC Train svc2\n",
        "precision_msvctrain2 = precision_score(y_trainsvct, msvc2_pred_train)\n",
        "precision_msvctrain2"
      ],
      "metadata": {
        "colab": {
          "base_uri": "https://localhost:8080/"
        },
        "id": "ittGS3-ef282",
        "outputId": "6517d73b-c2d4-4bee-b96c-3e47110fc991"
      },
      "execution_count": 99,
      "outputs": [
        {
          "output_type": "execute_result",
          "data": {
            "text/plain": [
              "1.0"
            ]
          },
          "metadata": {},
          "execution_count": 99
        }
      ]
    },
    {
      "cell_type": "code",
      "source": [
        "#recall Train svc2\n",
        "recall_msvctrain2 = recall_score(y_trainsvct, msvc2_pred_train)\n",
        "recall_msvctrain2"
      ],
      "metadata": {
        "colab": {
          "base_uri": "https://localhost:8080/"
        },
        "id": "WWtdy_ySf7bg",
        "outputId": "5a411529-5fc7-40d1-e6ef-19752379f986"
      },
      "execution_count": 100,
      "outputs": [
        {
          "output_type": "execute_result",
          "data": {
            "text/plain": [
              "0.006622516556291391"
            ]
          },
          "metadata": {},
          "execution_count": 100
        }
      ]
    },
    {
      "cell_type": "code",
      "source": [
        "#False Positive Rate SVM Linear Kernel Tuned Train\n",
        "\n",
        "fpr_msvc2train = conmat_msvc2train[0,1]/(conmat_msvc2train[0,1] + conmat_msvc2train[0,0])\n",
        "print(\"False Positive Rate:\", fpr_msvc2train)"
      ],
      "metadata": {
        "colab": {
          "base_uri": "https://localhost:8080/"
        },
        "id": "f2AId0nRf7eS",
        "outputId": "1398a333-b9c9-46d9-ab4a-88b1ba68379b"
      },
      "execution_count": 101,
      "outputs": [
        {
          "output_type": "stream",
          "name": "stdout",
          "text": [
            "False Positive Rate: 0.0\n"
          ]
        }
      ]
    },
    {
      "cell_type": "code",
      "source": [
        ""
      ],
      "metadata": {
        "id": "qVWPVptrf7gf"
      },
      "execution_count": null,
      "outputs": []
    },
    {
      "cell_type": "markdown",
      "source": [
        "# Conclusion"
      ],
      "metadata": {
        "id": "u0jk0xCe5R9Q"
      }
    },
    {
      "cell_type": "markdown",
      "source": [
        "The goodness of fit metrics Accuracy and the Precision-Recall curves showed that the Logistic Regression and SVM SVC models produced the highest accuracy on the test set at 96.3%. The Precision-Recall curves showed that the tuned SVM SVC model had the highest balance of precision and recall with precision at under 60% and recall at 30%.\n",
        "\n",
        "The performance metric F1 score provided comparison between the models, with the Naive Bayes model scoring the highest at 0.25. The other models produced low F1 scores due to predicting 0 or 1 occurrences of bankruptcy. The data was imbalanced, with very low occurrences of bankruptcy in the data set. Future model exploration could include resampling strategies to mitigate data imbalance."
      ],
      "metadata": {
        "id": "zBx0zOPV5oSA"
      }
    }
  ]
}